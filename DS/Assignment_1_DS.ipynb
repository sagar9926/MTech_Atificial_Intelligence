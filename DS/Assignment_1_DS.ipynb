{
  "nbformat": 4,
  "nbformat_minor": 0,
  "metadata": {
    "colab": {
      "name": "Assignment 1 DS.ipynb",
      "provenance": [],
      "authorship_tag": "ABX9TyP6gJ2spYLssdPmHG40fmpt",
      "include_colab_link": true
    },
    "kernelspec": {
      "name": "python3",
      "display_name": "Python 3"
    },
    "accelerator": "GPU"
  },
  "cells": [
    {
      "cell_type": "markdown",
      "metadata": {
        "id": "view-in-github",
        "colab_type": "text"
      },
      "source": [
        "<a href=\"https://colab.research.google.com/github/sagar9926/MTech_Atificial_Intelligence/blob/main/DS/Assignment_1_DS.ipynb\" target=\"_parent\"><img src=\"https://colab.research.google.com/assets/colab-badge.svg\" alt=\"Open In Colab\"/></a>"
      ]
    },
    {
      "cell_type": "markdown",
      "metadata": {
        "id": "9R7jEuMwYayg"
      },
      "source": [
        "### Question1 : \r\n",
        "#### Q1. Alice has some cards with numbers written on them. She arranges the cards in decreasing order. She challenges Bob to pick out the card containing number 120 by turning over as few cards as possible. Write a recursive function to help Bob locate the card containing number 120. Show assumptions and actions step by step. The numbers on card are as below.\r\n",
        "\r\n",
        "#### 10 34 48 59 63 74 85 120 140\r\n",
        "\r\n",
        "#### Write an algorithm or programming code in any preferable language (using C/C++/Java/Python) and also give dry run for the same (Take any example of your choice for dry run).\r\n",
        "\r\n",
        "### Assumption : \r\n",
        "\r\n",
        "As provided in the question cards are arranged in decreasing order\r\n",
        "\r\n",
        "### Steps : \r\n",
        "\r\n",
        "In case of sorted array (either ascending or descending) we use Binary saerch algorith to get efficient results\r\n",
        "\r\n",
        "Step 1 - Fetch element to be searched in array from user.\r\n",
        "\r\n",
        "Step 2 - Calculate the middle index of array using formula mid = (low + high)/2 where low is the lowest index value of array and high denotes the highest index value.\r\n",
        "\r\n",
        "Step 3 - Compare the search element provided by the user with the value at middle index of the array.\r\n",
        "\r\n",
        "Step 4 - If Search element and middle index element in array are same then return \"Element found at index mid\"\r\n",
        "\r\n",
        "Step 5 - If Search element and middle index element in array are not same, then check whether the search element is smaller or larger than the middle index element.\r\n",
        "\r\n",
        "Step 6 - If the search element is smaller than the element at middle index, repeat steps 2, 3, 4 and 5 for the right sublist of the middle element.\r\n",
        "\r\n",
        "Step 7 - If the search element is larger than the element at middle index, repeat steps 2, 3, 4 and 5 for the left sublist of the middle element.\r\n",
        "\r\n",
        "Step 8 - Repeat the same process until we find the search element in the list or low becomes greater than high.\r\n",
        "\r\n",
        "Step 9 - If search element is not found, then display \"Sorry! the element not found \" and terminate the function."
      ]
    },
    {
      "cell_type": "code",
      "metadata": {
        "id": "RV0YHDNjUjca",
        "colab": {
          "base_uri": "https://localhost:8080/"
        },
        "outputId": "25a262d4-f009-4571-d2e8-867f185339f4"
      },
      "source": [
        "step = 0\r\n",
        "\r\n",
        "def BinarySearch(array , low , high , key):\r\n",
        "  global step\r\n",
        "  step += 1\r\n",
        "  mid = (low + high) // 2\r\n",
        "\r\n",
        "  if array[mid] == key :\r\n",
        "    print(f\"{key} Element found at index {mid} after {step} steps \")\r\n",
        "  \r\n",
        "  if low > high :\r\n",
        "    print(\"Sorry! the element not found \")\r\n",
        "\r\n",
        "  elif key < array[mid]:\r\n",
        "    low = mid + 1\r\n",
        "    BinarySearch(array , low , high , key)\r\n",
        "\r\n",
        "  elif key > array[mid]:\r\n",
        "    high = mid - 1\r\n",
        "    BinarySearch(array , low , high , key)\r\n",
        "\r\n",
        "array = [140,120,85,74,63,59,48,34,10]\r\n",
        "BinarySearch(array , low = 0 , high = len(array) - 1 , key = 34)\r\n"
      ],
      "execution_count": null,
      "outputs": [
        {
          "output_type": "stream",
          "text": [
            "34 Element found at index 7 after 3 steps \n"
          ],
          "name": "stdout"
        }
      ]
    },
    {
      "cell_type": "markdown",
      "metadata": {
        "id": "-ceXKrGNYnTG"
      },
      "source": [
        "#### Modify Binary Search such that integer overflow problem during calculation of mid=(high+low)/2 does not occur.\r\n",
        "\r\n",
        "#### Solution :\r\n",
        "\r\n",
        "Since mid is an instance of numeric type, so when the summation of (high + low)/2 crosses the upper limit value that mid can hold, it gives wrong result and is known as integer overflow issue. \r\n",
        "\r\n",
        "To address this mid is calculated as low + (high - low) / 2 to avoid overflow.  This will never overflow for legal values of high and low and will always give the desired result.\r\n",
        "\r\n",
        "Reference :\r\n",
        "https://www.quora.com/Why-do-people-use-mid-low+-high-low-2-instead-of-low+high-2"
      ]
    },
    {
      "cell_type": "code",
      "metadata": {
        "colab": {
          "base_uri": "https://localhost:8080/"
        },
        "id": "5DTi4A94fxDg",
        "outputId": "94335cbc-ac6c-49a9-9f6f-c0d15549d21e"
      },
      "source": [
        "## To avoid integer overflow \r\n",
        "## Reference : https://www.quora.com/Why-do-people-use-mid-low+-high-low-2-instead-of-low+high-2\r\n",
        "\r\n",
        "def BinarySearch(array , low , high , key):\r\n",
        "\r\n",
        "  mid = low + (high - low) // 2\r\n",
        "\r\n",
        "  if array[mid] == key :\r\n",
        "    print(f\"{key} Element found at index {mid} after {step} steps \")\r\n",
        "  \r\n",
        "  if low > high :\r\n",
        "    print(\"Sorry! the element not found \")\r\n",
        "\r\n",
        "  elif key < array[mid]:\r\n",
        "    low = mid + 1\r\n",
        "    BinarySearch(array , low , high , key)\r\n",
        "\r\n",
        "  elif key > array[mid]:\r\n",
        "    high = mid - 1\r\n",
        "    BinarySearch(array , low , high , key)\r\n",
        "\r\n",
        "array = [140,120,85,74,63,59,48,34,10]\r\n",
        "BinarySearch(array , low = 0 , high = len(array) - 1 , key = 120)\r\n"
      ],
      "execution_count": null,
      "outputs": [
        {
          "output_type": "stream",
          "text": [
            "Element found at index 1\n"
          ],
          "name": "stdout"
        }
      ]
    },
    {
      "cell_type": "markdown",
      "metadata": {
        "id": "nwgIAKmTZBRj"
      },
      "source": [
        "#### Given a group of n (index: 0-n-1) marbles, all marbles have a specific number based on their type. These marbles are stored in an array. Find the marble type [i.e: its number] which has occurred maximum times in an array.\r\n",
        "\r\n",
        "### Solution Approach :\r\n",
        "\r\n",
        "We have sorted the array first using MergeSort (complexity O(nlog(n))) and then we count the occuracnce of element in array by linear traversal (complexity (O(n)).\r\n",
        "\r\n",
        "### Time Complexity :  max(O(nlog(n)) , O(n)) ---> O(nlog(n))"
      ]
    },
    {
      "cell_type": "code",
      "metadata": {
        "id": "KoCgKhTeTU3U",
        "colab": {
          "base_uri": "https://localhost:8080/"
        },
        "outputId": "708c030c-f893-46b3-aae5-337e5fca7d50"
      },
      "source": [
        "#Complexity nlog(n)\r\n",
        "def MergeSort(array):\r\n",
        "\r\n",
        "  if len(array) > 1 :\r\n",
        "    mid = len(array)//2\r\n",
        "    left = array[: mid]\r\n",
        "    right = array[mid :]\r\n",
        "\r\n",
        "    MergeSort(left)\r\n",
        "    MergeSort(right)\r\n",
        "\r\n",
        "    # Two iterators for traversing the two halves\r\n",
        "\r\n",
        "    i = 0\r\n",
        "    j = 0\r\n",
        "\r\n",
        "    # Iterator for main list i.e sublist version of myList\r\n",
        "    k = 0\r\n",
        "  \r\n",
        "    while i < len(left) and j < len(right):\r\n",
        "      \r\n",
        "      if left[i] < right[j]:\r\n",
        "        array[k] = left[i]\r\n",
        "        k = k + 1\r\n",
        "        i = i + 1\r\n",
        "      else :\r\n",
        "        array[k] = right[j]\r\n",
        "        k = k + 1\r\n",
        "        j = j + 1\r\n",
        "\r\n",
        "\r\n",
        "    while i < len(left) :\r\n",
        "      array[k] = left[i]\r\n",
        "      k = k + 1\r\n",
        "      i = i + 1\r\n",
        "\r\n",
        "    while j < len(right) :\r\n",
        "      array[k] = right[j]\r\n",
        "      k = k + 1\r\n",
        "      j = j + 1\r\n",
        "\r\n",
        "    return array\r\n",
        "      \r\n",
        "\r\n",
        "def Marble_highest_frequency1(array):\r\n",
        "\r\n",
        "  # Sorting the array using merge sort with time complexity nlog(n)\r\n",
        "\r\n",
        "  array = MergeSort(array) \r\n",
        "  print(\"Sorted Array :\", array)\r\n",
        "\r\n",
        "  maximum_occuring_element_freq = 1\r\n",
        "  temporary_count = 1\r\n",
        "  for i in range(0 , len(array)-1):\r\n",
        "    if(array[i] == array[i + 1]):\r\n",
        "      temporary_count += 1\r\n",
        "\r\n",
        "      if temporary_count > maximum_occuring_element_freq:\r\n",
        "        maximum_occuring_element_freq = temporary_count\r\n",
        "        maximum_occuring_element = array[i]\r\n",
        "    else :\r\n",
        "      temporary_count = 1\r\n",
        "  return(maximum_occuring_element,maximum_occuring_element_freq)\r\n",
        "\r\n",
        "array = [1, 5, 2, 1, 3, 2, 1]\r\n",
        "Result = Marble_highest_frequency1(array)\r\n",
        "print(f\" The marble type with number {Result[0]} has occurred maximum times in an array with frequency {Result[1]}. \")"
      ],
      "execution_count": null,
      "outputs": [
        {
          "output_type": "stream",
          "text": [
            "Sorted Array : [1, 1, 1, 2, 2, 3, 5]\n",
            " The marble type with number 1 has occurred maximum times in an array with frequency 3. \n"
          ],
          "name": "stdout"
        }
      ]
    },
    {
      "cell_type": "markdown",
      "metadata": {
        "id": "FXyb_btbZLiV"
      },
      "source": [
        "#### Can the above solution be solved in less than O(nlogn) time complexity. If yes provide the approach. Justify your answer.\r\n",
        "\r\n",
        "### Approach :\r\n",
        "\r\n",
        "In order to solve the above question in less than O(nlogn) time complexity we need to remove the dependency on MergeSort for finding the most frequent element in array. This can be done using hashing. \r\n",
        "\r\n",
        "For our efficient approach we create a hash table using dictionary in python in which the key denotes the element type and value denotes the frequency counts.\r\n",
        "\r\n",
        "Finally we can traverse the hash table to fetch the key with maximum value.\r\n",
        "\r\n",
        "The above solution requires two independent for loops thus:\r\n",
        "\r\n",
        "### Time complexity : O(n)"
      ]
    },
    {
      "cell_type": "code",
      "metadata": {
        "id": "CRiPBc8VtShz",
        "colab": {
          "base_uri": "https://localhost:8080/"
        },
        "outputId": "1ab8e189-578f-43d3-ecdb-70aa9af9da16"
      },
      "source": [
        "def Marble_highest_frequency2(array):\r\n",
        "\r\n",
        "\r\n",
        "  HashTable = dict()\r\n",
        "  \r\n",
        "  for i in range(0 , len(array)):\r\n",
        "    if(array[i] in HashTable.keys()):\r\n",
        "      HashTable[array[i]] += 1\r\n",
        "    else :\r\n",
        "      HashTable[array[i]] = 1\r\n",
        "\r\n",
        "  key = -1\r\n",
        "  max_count = 0\r\n",
        "  for i in HashTable.keys():\r\n",
        "    if (max_count < HashTable[i]):\r\n",
        "      max_count = HashTable[i]\r\n",
        "      key = i\r\n",
        "  return(key , max_count)\r\n",
        "\r\n",
        "array = [1, 5, 2, 1, 3, 2, 1]\r\n",
        "Result = Marble_highest_frequency2(array)\r\n",
        "print(f\" The marble type with number {Result[0]} has occurred maximum times in an array with frequency {Result[1]}. \")"
      ],
      "execution_count": null,
      "outputs": [
        {
          "output_type": "stream",
          "text": [
            " The marble type with number 1 has occurred maximum times in an array with frequency 3. \n"
          ],
          "name": "stdout"
        }
      ]
    },
    {
      "cell_type": "code",
      "metadata": {
        "id": "JwdyPUc-27wA"
      },
      "source": [
        ""
      ],
      "execution_count": null,
      "outputs": []
    }
  ]
}