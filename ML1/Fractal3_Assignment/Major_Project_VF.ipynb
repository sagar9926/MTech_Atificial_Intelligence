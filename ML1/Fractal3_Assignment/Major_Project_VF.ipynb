{
  "nbformat": 4,
  "nbformat_minor": 0,
  "metadata": {
    "colab": {
      "name": "Major_Project_VF.ipynb",
      "provenance": [],
      "collapsed_sections": [],
      "include_colab_link": true
    },
    "kernelspec": {
      "name": "python3",
      "display_name": "Python 3"
    },
    "accelerator": "GPU",
    "widgets": {
      "application/vnd.jupyter.widget-state+json": {
        "9def22e27a0d42f0bff8e9b63db6419d": {
          "model_module": "@jupyter-widgets/controls",
          "model_name": "HBoxModel",
          "state": {
            "_view_name": "HBoxView",
            "_dom_classes": [],
            "_model_name": "HBoxModel",
            "_view_module": "@jupyter-widgets/controls",
            "_model_module_version": "1.5.0",
            "_view_count": null,
            "_view_module_version": "1.5.0",
            "box_style": "",
            "layout": "IPY_MODEL_3a6bf98733034abbb04f7ff1ad2d04ff",
            "_model_module": "@jupyter-widgets/controls",
            "children": [
              "IPY_MODEL_c265587fd4eb4a31b3bf57157a152a21",
              "IPY_MODEL_06ac35f5ac064aa1b0d23ef4a1f058a6"
            ]
          }
        },
        "3a6bf98733034abbb04f7ff1ad2d04ff": {
          "model_module": "@jupyter-widgets/base",
          "model_name": "LayoutModel",
          "state": {
            "_view_name": "LayoutView",
            "grid_template_rows": null,
            "right": null,
            "justify_content": null,
            "_view_module": "@jupyter-widgets/base",
            "overflow": null,
            "_model_module_version": "1.2.0",
            "_view_count": null,
            "flex_flow": null,
            "width": null,
            "min_width": null,
            "border": null,
            "align_items": null,
            "bottom": null,
            "_model_module": "@jupyter-widgets/base",
            "top": null,
            "grid_column": null,
            "overflow_y": null,
            "overflow_x": null,
            "grid_auto_flow": null,
            "grid_area": null,
            "grid_template_columns": null,
            "flex": null,
            "_model_name": "LayoutModel",
            "justify_items": null,
            "grid_row": null,
            "max_height": null,
            "align_content": null,
            "visibility": null,
            "align_self": null,
            "height": null,
            "min_height": null,
            "padding": null,
            "grid_auto_rows": null,
            "grid_gap": null,
            "max_width": null,
            "order": null,
            "_view_module_version": "1.2.0",
            "grid_template_areas": null,
            "object_position": null,
            "object_fit": null,
            "grid_auto_columns": null,
            "margin": null,
            "display": null,
            "left": null
          }
        },
        "c265587fd4eb4a31b3bf57157a152a21": {
          "model_module": "@jupyter-widgets/controls",
          "model_name": "FloatProgressModel",
          "state": {
            "_view_name": "ProgressView",
            "style": "IPY_MODEL_8dd793054f194898ada007335bb3b9a5",
            "_dom_classes": [],
            "description": "",
            "_model_name": "FloatProgressModel",
            "bar_style": "success",
            "max": 170498071,
            "_view_module": "@jupyter-widgets/controls",
            "_model_module_version": "1.5.0",
            "value": 170498071,
            "_view_count": null,
            "_view_module_version": "1.5.0",
            "orientation": "horizontal",
            "min": 0,
            "description_tooltip": null,
            "_model_module": "@jupyter-widgets/controls",
            "layout": "IPY_MODEL_490f53da1aab4ee58b14c01824059830"
          }
        },
        "06ac35f5ac064aa1b0d23ef4a1f058a6": {
          "model_module": "@jupyter-widgets/controls",
          "model_name": "HTMLModel",
          "state": {
            "_view_name": "HTMLView",
            "style": "IPY_MODEL_55234bff81c44a79a0385d4f30118691",
            "_dom_classes": [],
            "description": "",
            "_model_name": "HTMLModel",
            "placeholder": "​",
            "_view_module": "@jupyter-widgets/controls",
            "_model_module_version": "1.5.0",
            "value": " 170499072/? [00:07&lt;00:00, 22141036.98it/s]",
            "_view_count": null,
            "_view_module_version": "1.5.0",
            "description_tooltip": null,
            "_model_module": "@jupyter-widgets/controls",
            "layout": "IPY_MODEL_43c69fed1e9941d385194b95acb95402"
          }
        },
        "8dd793054f194898ada007335bb3b9a5": {
          "model_module": "@jupyter-widgets/controls",
          "model_name": "ProgressStyleModel",
          "state": {
            "_view_name": "StyleView",
            "_model_name": "ProgressStyleModel",
            "description_width": "initial",
            "_view_module": "@jupyter-widgets/base",
            "_model_module_version": "1.5.0",
            "_view_count": null,
            "_view_module_version": "1.2.0",
            "bar_color": null,
            "_model_module": "@jupyter-widgets/controls"
          }
        },
        "490f53da1aab4ee58b14c01824059830": {
          "model_module": "@jupyter-widgets/base",
          "model_name": "LayoutModel",
          "state": {
            "_view_name": "LayoutView",
            "grid_template_rows": null,
            "right": null,
            "justify_content": null,
            "_view_module": "@jupyter-widgets/base",
            "overflow": null,
            "_model_module_version": "1.2.0",
            "_view_count": null,
            "flex_flow": null,
            "width": null,
            "min_width": null,
            "border": null,
            "align_items": null,
            "bottom": null,
            "_model_module": "@jupyter-widgets/base",
            "top": null,
            "grid_column": null,
            "overflow_y": null,
            "overflow_x": null,
            "grid_auto_flow": null,
            "grid_area": null,
            "grid_template_columns": null,
            "flex": null,
            "_model_name": "LayoutModel",
            "justify_items": null,
            "grid_row": null,
            "max_height": null,
            "align_content": null,
            "visibility": null,
            "align_self": null,
            "height": null,
            "min_height": null,
            "padding": null,
            "grid_auto_rows": null,
            "grid_gap": null,
            "max_width": null,
            "order": null,
            "_view_module_version": "1.2.0",
            "grid_template_areas": null,
            "object_position": null,
            "object_fit": null,
            "grid_auto_columns": null,
            "margin": null,
            "display": null,
            "left": null
          }
        },
        "55234bff81c44a79a0385d4f30118691": {
          "model_module": "@jupyter-widgets/controls",
          "model_name": "DescriptionStyleModel",
          "state": {
            "_view_name": "StyleView",
            "_model_name": "DescriptionStyleModel",
            "description_width": "",
            "_view_module": "@jupyter-widgets/base",
            "_model_module_version": "1.5.0",
            "_view_count": null,
            "_view_module_version": "1.2.0",
            "_model_module": "@jupyter-widgets/controls"
          }
        },
        "43c69fed1e9941d385194b95acb95402": {
          "model_module": "@jupyter-widgets/base",
          "model_name": "LayoutModel",
          "state": {
            "_view_name": "LayoutView",
            "grid_template_rows": null,
            "right": null,
            "justify_content": null,
            "_view_module": "@jupyter-widgets/base",
            "overflow": null,
            "_model_module_version": "1.2.0",
            "_view_count": null,
            "flex_flow": null,
            "width": null,
            "min_width": null,
            "border": null,
            "align_items": null,
            "bottom": null,
            "_model_module": "@jupyter-widgets/base",
            "top": null,
            "grid_column": null,
            "overflow_y": null,
            "overflow_x": null,
            "grid_auto_flow": null,
            "grid_area": null,
            "grid_template_columns": null,
            "flex": null,
            "_model_name": "LayoutModel",
            "justify_items": null,
            "grid_row": null,
            "max_height": null,
            "align_content": null,
            "visibility": null,
            "align_self": null,
            "height": null,
            "min_height": null,
            "padding": null,
            "grid_auto_rows": null,
            "grid_gap": null,
            "max_width": null,
            "order": null,
            "_view_module_version": "1.2.0",
            "grid_template_areas": null,
            "object_position": null,
            "object_fit": null,
            "grid_auto_columns": null,
            "margin": null,
            "display": null,
            "left": null
          }
        }
      }
    }
  },
  "cells": [
    {
      "cell_type": "markdown",
      "metadata": {
        "id": "view-in-github",
        "colab_type": "text"
      },
      "source": [
        "<a href=\"https://colab.research.google.com/github/sagar9926/MTech_Atificial_Intelligence/blob/main/ML1/Fractal3_Assignment/Major_Project_VF.ipynb\" target=\"_parent\"><img src=\"https://colab.research.google.com/assets/colab-badge.svg\" alt=\"Open In Colab\"/></a>"
      ]
    },
    {
      "cell_type": "code",
      "metadata": {
        "id": "qTPs33yVVlZH"
      },
      "source": [
        "# Importing the libraries\n",
        "import matplotlib.pyplot as plt\n",
        "import numpy as np\n",
        "\n",
        "import torch\n",
        "import torchvision\n",
        "import torchvision.transforms as transforms\n",
        "import torch.nn as nn\n",
        "\n",
        "\n",
        "import torch.nn.functional as F\n",
        "import torch.optim as optim\n",
        "import math\n",
        "import albumentations as A\n",
        "import copy"
      ],
      "execution_count": 1,
      "outputs": []
    },
    {
      "cell_type": "code",
      "metadata": {
        "id": "xRZWVZZNVq0_",
        "colab": {
          "base_uri": "https://localhost:8080/"
        },
        "outputId": "c128a4a7-3273-4971-bffe-764e7c26747b"
      },
      "source": [
        "device = torch.device(\"cuda:0\" if torch.cuda.is_available() else \"cpu\")\n",
        "print(device)"
      ],
      "execution_count": 2,
      "outputs": [
        {
          "output_type": "stream",
          "text": [
            "cuda:0\n"
          ],
          "name": "stdout"
        }
      ]
    },
    {
      "cell_type": "markdown",
      "metadata": {
        "id": "DCjc5GAeWAJP"
      },
      "source": [
        "## Dataset, transforms, and visualisation"
      ]
    },
    {
      "cell_type": "code",
      "metadata": {
        "id": "D25rwHjfWAl2"
      },
      "source": [
        "# Transforming train and test dataset\n",
        "\n",
        "transform_train = transforms.Compose([\n",
        "    transforms.RandomRotation((-14.0, 14.0)),\n",
        "    transforms.ToTensor(),\n",
        "    transforms.Normalize((0.4913997551666284, 0.48215855929893703, 0.4465309133731618), (0.24703225141799082, 0.24348516474564, 0.26158783926049628)),\n",
        "    transforms.RandomErasing(),\n",
        "    ])\n",
        "\n",
        "transform_test = transforms.Compose([\n",
        "    transforms.ToTensor(),\n",
        "    transforms.Normalize((0.4913997551666284, 0.48215855929893703, 0.4465309133731618), (0.24703225141799082, 0.24348516474564, 0.26158783926049628)),\n",
        "    ])"
      ],
      "execution_count": 3,
      "outputs": []
    },
    {
      "cell_type": "code",
      "metadata": {
        "id": "W6HJZgHXXF1z",
        "colab": {
          "base_uri": "https://localhost:8080/",
          "height": 119,
          "referenced_widgets": [
            "9def22e27a0d42f0bff8e9b63db6419d",
            "3a6bf98733034abbb04f7ff1ad2d04ff",
            "c265587fd4eb4a31b3bf57157a152a21",
            "06ac35f5ac064aa1b0d23ef4a1f058a6",
            "8dd793054f194898ada007335bb3b9a5",
            "490f53da1aab4ee58b14c01824059830",
            "55234bff81c44a79a0385d4f30118691",
            "43c69fed1e9941d385194b95acb95402"
          ]
        },
        "outputId": "0c27754a-8bfe-4998-f83d-1f905afc63a6"
      },
      "source": [
        "# Downloading the data\n",
        "trainset = torchvision.datasets.CIFAR10(root='./data', train=True, \n",
        "                                        download=True, \n",
        "                                        transform=transform_train)\n",
        "testset = torchvision.datasets.CIFAR10(root='./data', train=False, \n",
        "                                        download=True, \n",
        "                                        transform=transform_test)"
      ],
      "execution_count": 4,
      "outputs": [
        {
          "output_type": "stream",
          "text": [
            "Downloading https://www.cs.toronto.edu/~kriz/cifar-10-python.tar.gz to ./data/cifar-10-python.tar.gz\n"
          ],
          "name": "stdout"
        },
        {
          "output_type": "display_data",
          "data": {
            "application/vnd.jupyter.widget-view+json": {
              "model_id": "9def22e27a0d42f0bff8e9b63db6419d",
              "version_minor": 0,
              "version_major": 2
            },
            "text/plain": [
              "HBox(children=(FloatProgress(value=0.0, max=170498071.0), HTML(value='')))"
            ]
          },
          "metadata": {
            "tags": []
          }
        },
        {
          "output_type": "stream",
          "text": [
            "\n",
            "Extracting ./data/cifar-10-python.tar.gz to ./data\n",
            "Files already downloaded and verified\n"
          ],
          "name": "stdout"
        }
      ]
    },
    {
      "cell_type": "code",
      "metadata": {
        "id": "BkRISj_rXGT3"
      },
      "source": [
        "num_classes = 10\n",
        "\n",
        "batch_size = 4\n",
        "\n",
        "trainloader = torch.utils.data.DataLoader(trainset, batch_size=batch_size, shuffle=True)"
      ],
      "execution_count": 5,
      "outputs": []
    },
    {
      "cell_type": "markdown",
      "metadata": {
        "id": "iP5Ekr7ZxBm9"
      },
      "source": [
        "## Visualising Images : "
      ]
    },
    {
      "cell_type": "code",
      "metadata": {
        "id": "GwORhlamXKdT",
        "colab": {
          "base_uri": "https://localhost:8080/"
        },
        "outputId": "bb43fe2d-b47d-4794-a47b-383ab66f57ae"
      },
      "source": [
        "dataiter = iter(trainloader)\n",
        "images, labels = dataiter.next()\n",
        "\n",
        "print(images.shape)\n",
        "\n",
        "print(images[1].shape)\n",
        "print(labels[1].item())"
      ],
      "execution_count": 6,
      "outputs": [
        {
          "output_type": "stream",
          "text": [
            "torch.Size([4, 3, 32, 32])\n",
            "torch.Size([3, 32, 32])\n",
            "4\n"
          ],
          "name": "stdout"
        }
      ]
    },
    {
      "cell_type": "code",
      "metadata": {
        "id": "nhsRhWAHXPpy"
      },
      "source": [
        "def imshow(img, title):\n",
        "    npimg = img.numpy() / 2 + 0.5 # denormalising the image\n",
        "    plt.figure(figsize=(batch_size*20, 2))\n",
        "    plt.axis('off')\n",
        "    plt.imshow(np.transpose(npimg, (1, 2, 0)))\n",
        "    plt.title(title)\n",
        "    plt.show()"
      ],
      "execution_count": 7,
      "outputs": []
    },
    {
      "cell_type": "code",
      "metadata": {
        "id": "yDq09BilXtia"
      },
      "source": [
        "def show_batch_images(dataloader):\n",
        "    images, labels = next(iter(dataloader))\n",
        "    img = torchvision.utils.make_grid(images) # puts together images to form a bigger image\n",
        "    imshow(img, title=[trainset.classes[x.item()] for x in labels])"
      ],
      "execution_count": 8,
      "outputs": []
    },
    {
      "cell_type": "code",
      "metadata": {
        "id": "TNRVNTz6Xt_C",
        "colab": {
          "base_uri": "https://localhost:8080/",
          "height": 643
        },
        "outputId": "e2e1d963-2bbe-4c55-9b75-00546c20a7ad"
      },
      "source": [
        "for i in range(4):\n",
        "    show_batch_images(trainloader)"
      ],
      "execution_count": 9,
      "outputs": [
        {
          "output_type": "stream",
          "text": [
            "Clipping input data to the valid range for imshow with RGB data ([0..1] for floats or [0..255] for integers).\n"
          ],
          "name": "stderr"
        },
        {
          "output_type": "display_data",
          "data": {
            "image/png": "[encoded data removed]",
            "text/plain": [
              "<Figure size 5760x144 with 1 Axes>"
            ]
          },
          "metadata": {
            "tags": [],
            "needs_background": "light"
          }
        },
        {
          "output_type": "stream",
          "text": [
            "Clipping input data to the valid range for imshow with RGB data ([0..1] for floats or [0..255] for integers).\n"
          ],
          "name": "stderr"
        },
        {
          "output_type": "display_data",
          "data": {
            "image/png": "[encoded data removed]",
            "text/plain": [
              "<Figure size 5760x144 with 1 Axes>"
            ]
          },
          "metadata": {
            "tags": [],
            "needs_background": "light"
          }
        },
        {
          "output_type": "stream",
          "text": [
            "Clipping input data to the valid range for imshow with RGB data ([0..1] for floats or [0..255] for integers).\n"
          ],
          "name": "stderr"
        },
        {
          "output_type": "display_data",
          "data": {
            "image/png": "[encoded data removed]",
            "text/plain": [
              "<Figure size 5760x144 with 1 Axes>"
            ]
          },
          "metadata": {
            "tags": [],
            "needs_background": "light"
          }
        },
        {
          "output_type": "stream",
          "text": [
            "Clipping input data to the valid range for imshow with RGB data ([0..1] for floats or [0..255] for integers).\n"
          ],
          "name": "stderr"
        },
        {
          "output_type": "display_data",
          "data": {
            "image/png": "[encoded data removed]",
            "text/plain": [
              "<Figure size 5760x144 with 1 Axes>"
            ]
          },
          "metadata": {
            "tags": [],
            "needs_background": "light"
          }
        }
      ]
    },
    {
      "cell_type": "markdown",
      "metadata": {
        "id": "e5nVg6DejCQJ"
      },
      "source": [
        "## Custom Model Architecture"
      ]
    },
    {
      "cell_type": "code",
      "metadata": {
        "id": "r8H9s8-ra-31"
      },
      "source": [
        "class Net(nn.Module):\n",
        "    def __init__(self):\n",
        "        super(Net, self).__init__()\n",
        "        # Input Block\n",
        "        self.convblock1 = nn.Sequential(\n",
        "            nn.Conv2d(in_channels=3, out_channels=48, kernel_size=(3, 3), padding=1, bias=False),\n",
        "            nn.BatchNorm2d(48),   \n",
        "            nn.ReLU()\n",
        "         \n",
        "        ) # output_size = [N , 48 , 32 , 32]\n",
        "\n",
        "        self.convblock2 = nn.Sequential(\n",
        "            nn.Conv2d(in_channels=48, out_channels=48, kernel_size=(3, 3), padding=0, bias=False),\n",
        "            nn.BatchNorm2d(48),   \n",
        "            nn.ReLU()\n",
        "         \n",
        "        ) # output_size = [N , 48 , 30 , 30]\n",
        "\n",
        "        # pooling layer\n",
        "        self.pool1 = nn.MaxPool2d(2, 2) # output_size = [N , 48 , 15 , 15]\n",
        "\n",
        "        self.convblock3 = nn.Sequential(\n",
        "            nn.Dropout(0.25),\n",
        "            nn.Conv2d(in_channels=48, out_channels=96, kernel_size=(3, 3), padding=1, bias=False),\n",
        "            nn.BatchNorm2d(96), \n",
        "            nn.ReLU()\n",
        "        ) # output_size = [N , 96 , 15 , 15]\n",
        "\n",
        "        self.convblock4 = nn.Sequential(\n",
        "            #nn.Dropout(0.25),\n",
        "            nn.Conv2d(in_channels=96, out_channels=96, kernel_size=(3, 3), padding=0, bias=False),\n",
        "            nn.BatchNorm2d(96), \n",
        "            nn.ReLU()\n",
        "        ) # output_size = [N , 96 , 13 , 13]\n",
        "\n",
        "        # pooling layer\n",
        "        self.pool2 = nn.MaxPool2d(2, 2) # output_size = [N , 96 , 6 , 6]\n",
        "\n",
        "        self.convblock5 = nn.Sequential(\n",
        "            nn.Dropout(0.25),\n",
        "            nn.Conv2d(in_channels=96, out_channels=192, kernel_size=(3, 3), padding=1, bias=False),\n",
        "            nn.BatchNorm2d(192),\n",
        "            nn.ReLU()\n",
        "        ) # output_size = [N , 192 , 6 , 6]\n",
        "\n",
        "        self.convblock6 = nn.Sequential(\n",
        "            nn.Conv2d(in_channels=192, out_channels=192, kernel_size=(3, 3), padding=0, bias=False),\n",
        "            nn.BatchNorm2d(192),\n",
        "            nn.ReLU(),\n",
        "            nn.Dropout(0.25)\n",
        "        ) # output_size = [N , 192 , 4 , 4]\n",
        "\n",
        "        self.fc_model = nn.Sequential(\n",
        "            nn.Linear(3072*2,512),         # (N, 3072*2) -> (N, 512)\n",
        "            nn.ReLU(),\n",
        "            nn.Dropout(0.25),\n",
        "            nn.Linear(512,512),             # (N, 512) -> (N, 512)\n",
        "            nn.ReLU(),\n",
        "            nn.Dropout(0.25),\n",
        "            nn.Linear(512,256),          # (N, 512) -> (N, 256)\n",
        "            nn.Linear(256,10)            # (N, 256)  -> (N, 10)\n",
        "        )\n",
        "      \n",
        "\n",
        "    def forward(self, x):\n",
        "        img = copy.deepcopy(x)\n",
        "               \n",
        "        x = self.convblock1(x)\n",
        "        x = self.convblock2(x)\n",
        "        x = self.pool1(x)\n",
        "\n",
        "        \n",
        "        x = self.convblock3(x)\n",
        "        x = self.convblock4(x)\n",
        "        x = self.pool2(x)\n",
        "\n",
        "        x = self.convblock5(x)\n",
        "        x = self.convblock6(x)\n",
        "        x = x.view(x.size(0), -1) # (N, 16, 5, 5) -> (N, 400)\n",
        "        \n",
        "        #Skip connection feeding input image directly into Fully connected layers\n",
        "        x = torch.cat((x,img.reshape(x.size(0),-1)),dim = 1)\n",
        "        \n",
        "        x = self.fc_model(x)\n",
        "\n",
        "        return F.log_softmax(x, dim=-1)\n"
      ],
      "execution_count": 10,
      "outputs": []
    },
    {
      "cell_type": "code",
      "metadata": {
        "colab": {
          "base_uri": "https://localhost:8080/"
        },
        "id": "ulSOBGU9hqZv",
        "outputId": "1c2fa4b5-3a45-4d5d-fd18-754414b00c27"
      },
      "source": [
        "from torchsummary import summary\n",
        "net = Net().to(device)\n",
        "print(summary(net, (3, 32, 32)))\n"
      ],
      "execution_count": 11,
      "outputs": [
        {
          "output_type": "stream",
          "text": [
            "----------------------------------------------------------------\n",
            "        Layer (type)               Output Shape         Param #\n",
            "================================================================\n",
            "            Conv2d-1           [-1, 48, 32, 32]           1,296\n",
            "       BatchNorm2d-2           [-1, 48, 32, 32]              96\n",
            "              ReLU-3           [-1, 48, 32, 32]               0\n",
            "            Conv2d-4           [-1, 48, 30, 30]          20,736\n",
            "       BatchNorm2d-5           [-1, 48, 30, 30]              96\n",
            "              ReLU-6           [-1, 48, 30, 30]               0\n",
            "         MaxPool2d-7           [-1, 48, 15, 15]               0\n",
            "           Dropout-8           [-1, 48, 15, 15]               0\n",
            "            Conv2d-9           [-1, 96, 15, 15]          41,472\n",
            "      BatchNorm2d-10           [-1, 96, 15, 15]             192\n",
            "             ReLU-11           [-1, 96, 15, 15]               0\n",
            "           Conv2d-12           [-1, 96, 13, 13]          82,944\n",
            "      BatchNorm2d-13           [-1, 96, 13, 13]             192\n",
            "             ReLU-14           [-1, 96, 13, 13]               0\n",
            "        MaxPool2d-15             [-1, 96, 6, 6]               0\n",
            "          Dropout-16             [-1, 96, 6, 6]               0\n",
            "           Conv2d-17            [-1, 192, 6, 6]         165,888\n",
            "      BatchNorm2d-18            [-1, 192, 6, 6]             384\n",
            "             ReLU-19            [-1, 192, 6, 6]               0\n",
            "           Conv2d-20            [-1, 192, 4, 4]         331,776\n",
            "      BatchNorm2d-21            [-1, 192, 4, 4]             384\n",
            "             ReLU-22            [-1, 192, 4, 4]               0\n",
            "          Dropout-23            [-1, 192, 4, 4]               0\n",
            "           Linear-24                  [-1, 512]       3,146,240\n",
            "             ReLU-25                  [-1, 512]               0\n",
            "          Dropout-26                  [-1, 512]               0\n",
            "           Linear-27                  [-1, 512]         262,656\n",
            "             ReLU-28                  [-1, 512]               0\n",
            "          Dropout-29                  [-1, 512]               0\n",
            "           Linear-30                  [-1, 256]         131,328\n",
            "           Linear-31                   [-1, 10]           2,570\n",
            "================================================================\n",
            "Total params: 4,188,250\n",
            "Trainable params: 4,188,250\n",
            "Non-trainable params: 0\n",
            "----------------------------------------------------------------\n",
            "Input size (MB): 0.01\n",
            "Forward/backward pass size (MB): 3.47\n",
            "Params size (MB): 15.98\n",
            "Estimated Total Size (MB): 19.46\n",
            "----------------------------------------------------------------\n",
            "None\n"
          ],
          "name": "stdout"
        }
      ]
    },
    {
      "cell_type": "markdown",
      "metadata": {
        "id": "XW2JOD0ucQUv"
      },
      "source": [
        "## Train CIFAR10 (CNN + MLP)"
      ]
    },
    {
      "cell_type": "code",
      "metadata": {
        "id": "bacgFGD3cQrl"
      },
      "source": [
        "batch_size = 64\n",
        "\n",
        "trainloader = torch.utils.data.DataLoader(trainset,batch_size=batch_size,shuffle = True)\n",
        "testloader = torch.utils.data.DataLoader(testset, batch_size=batch_size, shuffle=False)"
      ],
      "execution_count": 12,
      "outputs": []
    },
    {
      "cell_type": "code",
      "metadata": {
        "id": "dKparHasckIz"
      },
      "source": [
        "def evaluation(dataloader,model):\n",
        "  total , correct = 0,0\n",
        "  for data in dataloader:\n",
        "    inputs,labels = data\n",
        "    inputs,labels = inputs.to(device),labels.to(device)\n",
        "    outputs = model(inputs)\n",
        "    _,pred = torch.max(outputs.data,1)\n",
        "    total += labels.size(0)\n",
        "    correct += (pred == labels).sum().item()\n",
        "  return 100 * correct / total\n"
      ],
      "execution_count": 13,
      "outputs": []
    },
    {
      "cell_type": "code",
      "metadata": {
        "id": "uwrMAbUxdrFK"
      },
      "source": [
        "# Initialise and move model to Cuda\n",
        "net = Net().to(device)\n",
        "\n",
        "#this takes into consideration that we have to differentiate through softmax layer, given softmax is not applied in our vgg\n",
        "loss_fn = nn.CrossEntropyLoss() \n",
        "opt = optim.SGD(net.parameters(), lr=0.01,momentum = 0.9)\n",
        "#scheduler = torch.optim.lr_scheduler.StepLR(opt, step_size=len(trainloader)*10, gamma=0.01)\n"
      ],
      "execution_count": 14,
      "outputs": []
    },
    {
      "cell_type": "code",
      "metadata": {
        "id": "NeCHxBL8eMwy",
        "colab": {
          "base_uri": "https://localhost:8080/"
        },
        "outputId": "a542ada5-ab0b-4b3d-e61e-1d917614df6d"
      },
      "source": [
        "# Training Loop\n",
        "\n",
        "loss_epoch_arr_CNN_MLP = []\n",
        "max_epochs = 150\n",
        "train_acc_CNN_MLP = []\n",
        "val_acc_CNN_MLP = []\n",
        "\n",
        "n_iters = np.ceil(50000/batch_size)\n",
        "\n",
        "for epoch in range(max_epochs):\n",
        "\n",
        "    for i, data in enumerate(trainloader, 0):\n",
        "\n",
        "        inputs, labels = data\n",
        "        inputs, labels = inputs.to(device), labels.to(device)\n",
        "\n",
        "        opt.zero_grad()\n",
        "\n",
        "        outputs = net(inputs)\n",
        "        loss = loss_fn(outputs, labels)\n",
        "        loss.backward()\n",
        "        opt.step()\n",
        "        #scheduler.step()\n",
        "        \n",
        "        del inputs, labels, outputs\n",
        "        torch.cuda.empty_cache()\n",
        "        \n",
        "        if i % 500 == 0:\n",
        "            print('Iteration: %d/%d, Loss: %0.2f' % (i, n_iters, loss.item()))\n",
        "        \n",
        "    loss_epoch_arr_CNN_MLP.append(loss.item())\n",
        "    train_acc_CNN_MLP.append(evaluation(trainloader, net))\n",
        "    val_acc_CNN_MLP.append(evaluation(testloader, net))\n",
        "\n",
        "        \n",
        "    print('Epoch: %d/%d, Test acc: %0.2f, Train acc: %0.2f' % (\n",
        "        epoch + 1, max_epochs, \n",
        "        evaluation(testloader, net), evaluation(trainloader, net)))"
      ],
      "execution_count": 15,
      "outputs": [
        {
          "output_type": "stream",
          "text": [
            "Iteration: 0/782, Loss: 2.31\n",
            "Iteration: 500/782, Loss: 1.28\n",
            "Epoch: 1/150, Test acc: 53.38, Train acc: 51.12\n",
            "Iteration: 0/782, Loss: 1.28\n",
            "Iteration: 500/782, Loss: 1.03\n",
            "Epoch: 2/150, Test acc: 63.01, Train acc: 60.66\n",
            "Iteration: 0/782, Loss: 1.41\n",
            "Iteration: 500/782, Loss: 0.99\n",
            "Epoch: 3/150, Test acc: 65.81, Train acc: 62.98\n",
            "Iteration: 0/782, Loss: 1.13\n",
            "Iteration: 500/782, Loss: 0.76\n",
            "Epoch: 4/150, Test acc: 70.14, Train acc: 66.98\n",
            "Iteration: 0/782, Loss: 1.12\n",
            "Iteration: 500/782, Loss: 0.92\n",
            "Epoch: 5/150, Test acc: 71.41, Train acc: 68.89\n",
            "Iteration: 0/782, Loss: 0.88\n",
            "Iteration: 500/782, Loss: 1.02\n",
            "Epoch: 6/150, Test acc: 73.66, Train acc: 70.91\n",
            "Iteration: 0/782, Loss: 0.65\n",
            "Iteration: 500/782, Loss: 0.59\n",
            "Epoch: 7/150, Test acc: 74.51, Train acc: 71.63\n",
            "Iteration: 0/782, Loss: 0.75\n",
            "Iteration: 500/782, Loss: 0.85\n",
            "Epoch: 8/150, Test acc: 76.13, Train acc: 73.53\n",
            "Iteration: 0/782, Loss: 0.96\n",
            "Iteration: 500/782, Loss: 0.56\n",
            "Epoch: 9/150, Test acc: 76.72, Train acc: 73.75\n",
            "Iteration: 0/782, Loss: 0.59\n",
            "Iteration: 500/782, Loss: 0.87\n",
            "Epoch: 10/150, Test acc: 76.89, Train acc: 74.78\n",
            "Iteration: 0/782, Loss: 0.83\n",
            "Iteration: 500/782, Loss: 0.80\n",
            "Epoch: 11/150, Test acc: 77.77, Train acc: 76.07\n",
            "Iteration: 0/782, Loss: 0.68\n",
            "Iteration: 500/782, Loss: 0.74\n",
            "Epoch: 12/150, Test acc: 78.42, Train acc: 76.86\n",
            "Iteration: 0/782, Loss: 0.80\n",
            "Iteration: 500/782, Loss: 0.58\n",
            "Epoch: 13/150, Test acc: 78.83, Train acc: 76.65\n",
            "Iteration: 0/782, Loss: 0.96\n",
            "Iteration: 500/782, Loss: 0.60\n",
            "Epoch: 14/150, Test acc: 78.96, Train acc: 78.13\n",
            "Iteration: 0/782, Loss: 0.56\n",
            "Iteration: 500/782, Loss: 0.93\n",
            "Epoch: 15/150, Test acc: 79.05, Train acc: 78.19\n",
            "Iteration: 0/782, Loss: 0.47\n",
            "Iteration: 500/782, Loss: 0.64\n",
            "Epoch: 16/150, Test acc: 79.22, Train acc: 79.25\n",
            "Iteration: 0/782, Loss: 0.73\n",
            "Iteration: 500/782, Loss: 0.54\n",
            "Epoch: 17/150, Test acc: 79.73, Train acc: 79.47\n",
            "Iteration: 0/782, Loss: 0.53\n",
            "Iteration: 500/782, Loss: 0.52\n",
            "Epoch: 18/150, Test acc: 79.62, Train acc: 80.31\n",
            "Iteration: 0/782, Loss: 0.44\n",
            "Iteration: 500/782, Loss: 0.50\n",
            "Epoch: 19/150, Test acc: 80.66, Train acc: 80.36\n",
            "Iteration: 0/782, Loss: 0.44\n",
            "Iteration: 500/782, Loss: 0.48\n",
            "Epoch: 20/150, Test acc: 80.89, Train acc: 80.73\n",
            "Iteration: 0/782, Loss: 0.55\n",
            "Iteration: 500/782, Loss: 0.59\n",
            "Epoch: 21/150, Test acc: 80.42, Train acc: 81.75\n",
            "Iteration: 0/782, Loss: 0.49\n",
            "Iteration: 500/782, Loss: 0.53\n",
            "Epoch: 22/150, Test acc: 80.96, Train acc: 81.35\n",
            "Iteration: 0/782, Loss: 0.66\n",
            "Iteration: 500/782, Loss: 0.70\n",
            "Epoch: 23/150, Test acc: 80.54, Train acc: 81.39\n",
            "Iteration: 0/782, Loss: 0.37\n",
            "Iteration: 500/782, Loss: 0.56\n",
            "Epoch: 24/150, Test acc: 81.68, Train acc: 82.75\n",
            "Iteration: 0/782, Loss: 0.52\n",
            "Iteration: 500/782, Loss: 0.43\n",
            "Epoch: 25/150, Test acc: 81.50, Train acc: 82.92\n",
            "Iteration: 0/782, Loss: 0.56\n",
            "Iteration: 500/782, Loss: 0.43\n",
            "Epoch: 26/150, Test acc: 81.46, Train acc: 83.39\n",
            "Iteration: 0/782, Loss: 0.55\n",
            "Iteration: 500/782, Loss: 0.55\n",
            "Epoch: 27/150, Test acc: 81.20, Train acc: 83.50\n",
            "Iteration: 0/782, Loss: 0.53\n",
            "Iteration: 500/782, Loss: 0.63\n",
            "Epoch: 28/150, Test acc: 80.89, Train acc: 83.26\n",
            "Iteration: 0/782, Loss: 0.44\n",
            "Iteration: 500/782, Loss: 0.66\n",
            "Epoch: 29/150, Test acc: 81.98, Train acc: 84.07\n",
            "Iteration: 0/782, Loss: 0.47\n",
            "Iteration: 500/782, Loss: 0.45\n",
            "Epoch: 30/150, Test acc: 81.07, Train acc: 83.78\n",
            "Iteration: 0/782, Loss: 0.71\n",
            "Iteration: 500/782, Loss: 0.42\n",
            "Epoch: 31/150, Test acc: 82.33, Train acc: 84.51\n",
            "Iteration: 0/782, Loss: 0.38\n",
            "Iteration: 500/782, Loss: 0.49\n",
            "Epoch: 32/150, Test acc: 82.06, Train acc: 84.51\n",
            "Iteration: 0/782, Loss: 0.35\n",
            "Iteration: 500/782, Loss: 0.27\n",
            "Epoch: 33/150, Test acc: 82.43, Train acc: 84.87\n",
            "Iteration: 0/782, Loss: 0.41\n",
            "Iteration: 500/782, Loss: 0.61\n",
            "Epoch: 34/150, Test acc: 82.99, Train acc: 85.48\n",
            "Iteration: 0/782, Loss: 0.37\n",
            "Iteration: 500/782, Loss: 0.47\n",
            "Epoch: 35/150, Test acc: 83.19, Train acc: 85.67\n",
            "Iteration: 0/782, Loss: 0.72\n",
            "Iteration: 500/782, Loss: 0.60\n",
            "Epoch: 36/150, Test acc: 82.37, Train acc: 85.52\n",
            "Iteration: 0/782, Loss: 0.48\n",
            "Iteration: 500/782, Loss: 0.61\n",
            "Epoch: 37/150, Test acc: 82.62, Train acc: 86.02\n",
            "Iteration: 0/782, Loss: 0.34\n",
            "Iteration: 500/782, Loss: 0.48\n",
            "Epoch: 38/150, Test acc: 82.40, Train acc: 85.97\n",
            "Iteration: 0/782, Loss: 0.54\n",
            "Iteration: 500/782, Loss: 0.42\n",
            "Epoch: 39/150, Test acc: 83.10, Train acc: 86.74\n",
            "Iteration: 0/782, Loss: 0.45\n",
            "Iteration: 500/782, Loss: 0.48\n",
            "Epoch: 40/150, Test acc: 82.95, Train acc: 85.77\n",
            "Iteration: 0/782, Loss: 0.26\n",
            "Iteration: 500/782, Loss: 0.17\n",
            "Epoch: 41/150, Test acc: 82.74, Train acc: 86.18\n",
            "Iteration: 0/782, Loss: 0.32\n",
            "Iteration: 500/782, Loss: 0.52\n",
            "Epoch: 42/150, Test acc: 82.70, Train acc: 86.68\n",
            "Iteration: 0/782, Loss: 0.45\n",
            "Iteration: 500/782, Loss: 0.32\n",
            "Epoch: 43/150, Test acc: 82.72, Train acc: 87.21\n",
            "Iteration: 0/782, Loss: 0.50\n",
            "Iteration: 500/782, Loss: 0.38\n",
            "Epoch: 44/150, Test acc: 83.12, Train acc: 87.25\n",
            "Iteration: 0/782, Loss: 0.21\n",
            "Iteration: 500/782, Loss: 0.46\n",
            "Epoch: 45/150, Test acc: 83.47, Train acc: 87.58\n",
            "Iteration: 0/782, Loss: 0.41\n",
            "Iteration: 500/782, Loss: 0.35\n",
            "Epoch: 46/150, Test acc: 83.51, Train acc: 87.40\n",
            "Iteration: 0/782, Loss: 0.47\n",
            "Iteration: 500/782, Loss: 0.39\n",
            "Epoch: 47/150, Test acc: 83.23, Train acc: 87.28\n",
            "Iteration: 0/782, Loss: 0.55\n",
            "Iteration: 500/782, Loss: 0.34\n",
            "Epoch: 48/150, Test acc: 83.62, Train acc: 87.60\n",
            "Iteration: 0/782, Loss: 0.40\n",
            "Iteration: 500/782, Loss: 0.39\n",
            "Epoch: 49/150, Test acc: 83.66, Train acc: 87.57\n",
            "Iteration: 0/782, Loss: 0.25\n",
            "Iteration: 500/782, Loss: 0.35\n",
            "Epoch: 50/150, Test acc: 83.72, Train acc: 87.61\n",
            "Iteration: 0/782, Loss: 0.37\n",
            "Iteration: 500/782, Loss: 0.55\n",
            "Epoch: 51/150, Test acc: 83.32, Train acc: 87.64\n",
            "Iteration: 0/782, Loss: 0.39\n",
            "Iteration: 500/782, Loss: 0.40\n",
            "Epoch: 52/150, Test acc: 83.52, Train acc: 87.49\n",
            "Iteration: 0/782, Loss: 0.33\n",
            "Iteration: 500/782, Loss: 0.56\n",
            "Epoch: 53/150, Test acc: 83.28, Train acc: 88.23\n",
            "Iteration: 0/782, Loss: 0.40\n",
            "Iteration: 500/782, Loss: 0.41\n",
            "Epoch: 54/150, Test acc: 83.56, Train acc: 88.37\n",
            "Iteration: 0/782, Loss: 0.56\n",
            "Iteration: 500/782, Loss: 0.41\n",
            "Epoch: 55/150, Test acc: 82.77, Train acc: 88.49\n",
            "Iteration: 0/782, Loss: 0.37\n",
            "Iteration: 500/782, Loss: 0.20\n",
            "Epoch: 56/150, Test acc: 83.65, Train acc: 88.71\n",
            "Iteration: 0/782, Loss: 0.33\n",
            "Iteration: 500/782, Loss: 0.36\n",
            "Epoch: 57/150, Test acc: 83.85, Train acc: 88.50\n",
            "Iteration: 0/782, Loss: 0.35\n",
            "Iteration: 500/782, Loss: 0.33\n",
            "Epoch: 58/150, Test acc: 83.38, Train acc: 88.95\n",
            "Iteration: 0/782, Loss: 0.17\n",
            "Iteration: 500/782, Loss: 0.50\n",
            "Epoch: 59/150, Test acc: 83.70, Train acc: 88.71\n",
            "Iteration: 0/782, Loss: 0.34\n",
            "Iteration: 500/782, Loss: 0.27\n",
            "Epoch: 60/150, Test acc: 83.13, Train acc: 88.69\n",
            "Iteration: 0/782, Loss: 0.39\n",
            "Iteration: 500/782, Loss: 0.22\n",
            "Epoch: 61/150, Test acc: 84.03, Train acc: 88.86\n",
            "Iteration: 0/782, Loss: 0.23\n",
            "Iteration: 500/782, Loss: 0.30\n",
            "Epoch: 62/150, Test acc: 83.22, Train acc: 89.26\n",
            "Iteration: 0/782, Loss: 0.34\n",
            "Iteration: 500/782, Loss: 0.46\n",
            "Epoch: 63/150, Test acc: 84.27, Train acc: 89.48\n",
            "Iteration: 0/782, Loss: 0.25\n",
            "Iteration: 500/782, Loss: 0.30\n",
            "Epoch: 64/150, Test acc: 84.26, Train acc: 89.56\n",
            "Iteration: 0/782, Loss: 0.27\n",
            "Iteration: 500/782, Loss: 0.41\n",
            "Epoch: 65/150, Test acc: 83.92, Train acc: 89.68\n",
            "Iteration: 0/782, Loss: 0.38\n",
            "Iteration: 500/782, Loss: 0.25\n",
            "Epoch: 66/150, Test acc: 83.81, Train acc: 89.07\n",
            "Iteration: 0/782, Loss: 0.29\n",
            "Iteration: 500/782, Loss: 0.34\n",
            "Epoch: 67/150, Test acc: 83.84, Train acc: 89.68\n",
            "Iteration: 0/782, Loss: 0.34\n",
            "Iteration: 500/782, Loss: 0.36\n",
            "Epoch: 68/150, Test acc: 84.36, Train acc: 89.64\n",
            "Iteration: 0/782, Loss: 0.59\n",
            "Iteration: 500/782, Loss: 0.25\n",
            "Epoch: 69/150, Test acc: 83.83, Train acc: 89.73\n",
            "Iteration: 0/782, Loss: 0.25\n",
            "Iteration: 500/782, Loss: 0.35\n",
            "Epoch: 70/150, Test acc: 84.14, Train acc: 89.72\n",
            "Iteration: 0/782, Loss: 0.43\n",
            "Iteration: 500/782, Loss: 0.32\n",
            "Epoch: 71/150, Test acc: 84.12, Train acc: 90.11\n",
            "Iteration: 0/782, Loss: 0.16\n",
            "Iteration: 500/782, Loss: 0.30\n",
            "Epoch: 72/150, Test acc: 83.22, Train acc: 89.59\n",
            "Iteration: 0/782, Loss: 0.43\n",
            "Iteration: 500/782, Loss: 0.32\n",
            "Epoch: 73/150, Test acc: 83.65, Train acc: 89.82\n",
            "Iteration: 0/782, Loss: 0.32\n",
            "Iteration: 500/782, Loss: 0.42\n",
            "Epoch: 74/150, Test acc: 84.07, Train acc: 90.48\n",
            "Iteration: 0/782, Loss: 0.23\n",
            "Iteration: 500/782, Loss: 0.15\n",
            "Epoch: 75/150, Test acc: 83.93, Train acc: 90.45\n",
            "Iteration: 0/782, Loss: 0.33\n",
            "Iteration: 500/782, Loss: 0.18\n",
            "Epoch: 76/150, Test acc: 83.62, Train acc: 90.08\n",
            "Iteration: 0/782, Loss: 0.32\n",
            "Iteration: 500/782, Loss: 0.58\n",
            "Epoch: 77/150, Test acc: 84.24, Train acc: 90.60\n",
            "Iteration: 0/782, Loss: 0.31\n",
            "Iteration: 500/782, Loss: 0.25\n",
            "Epoch: 78/150, Test acc: 83.93, Train acc: 90.58\n",
            "Iteration: 0/782, Loss: 0.32\n",
            "Iteration: 500/782, Loss: 0.55\n",
            "Epoch: 79/150, Test acc: 84.07, Train acc: 90.64\n",
            "Iteration: 0/782, Loss: 0.35\n",
            "Iteration: 500/782, Loss: 0.21\n",
            "Epoch: 80/150, Test acc: 84.25, Train acc: 90.51\n",
            "Iteration: 0/782, Loss: 0.47\n",
            "Iteration: 500/782, Loss: 0.43\n",
            "Epoch: 81/150, Test acc: 84.06, Train acc: 90.82\n",
            "Iteration: 0/782, Loss: 0.33\n",
            "Iteration: 500/782, Loss: 0.34\n",
            "Epoch: 82/150, Test acc: 84.00, Train acc: 90.53\n",
            "Iteration: 0/782, Loss: 0.13\n",
            "Iteration: 500/782, Loss: 0.53\n",
            "Epoch: 83/150, Test acc: 84.16, Train acc: 90.97\n",
            "Iteration: 0/782, Loss: 0.18\n",
            "Iteration: 500/782, Loss: 0.27\n",
            "Epoch: 84/150, Test acc: 83.92, Train acc: 90.82\n",
            "Iteration: 0/782, Loss: 0.39\n",
            "Iteration: 500/782, Loss: 0.44\n",
            "Epoch: 85/150, Test acc: 83.66, Train acc: 90.58\n",
            "Iteration: 0/782, Loss: 0.34\n",
            "Iteration: 500/782, Loss: 0.24\n",
            "Epoch: 86/150, Test acc: 84.15, Train acc: 90.64\n",
            "Iteration: 0/782, Loss: 0.27\n",
            "Iteration: 500/782, Loss: 0.36\n",
            "Epoch: 87/150, Test acc: 83.88, Train acc: 90.94\n",
            "Iteration: 0/782, Loss: 0.27\n",
            "Iteration: 500/782, Loss: 0.22\n",
            "Epoch: 88/150, Test acc: 84.02, Train acc: 91.09\n",
            "Iteration: 0/782, Loss: 0.11\n",
            "Iteration: 500/782, Loss: 0.23\n",
            "Epoch: 89/150, Test acc: 84.13, Train acc: 91.15\n",
            "Iteration: 0/782, Loss: 0.29\n",
            "Iteration: 500/782, Loss: 0.32\n",
            "Epoch: 90/150, Test acc: 83.78, Train acc: 90.85\n",
            "Iteration: 0/782, Loss: 0.51\n",
            "Iteration: 500/782, Loss: 0.37\n",
            "Epoch: 91/150, Test acc: 83.57, Train acc: 90.81\n",
            "Iteration: 0/782, Loss: 0.48\n",
            "Iteration: 500/782, Loss: 0.31\n",
            "Epoch: 92/150, Test acc: 84.38, Train acc: 91.41\n",
            "Iteration: 0/782, Loss: 0.15\n",
            "Iteration: 500/782, Loss: 0.35\n",
            "Epoch: 93/150, Test acc: 84.23, Train acc: 91.34\n",
            "Iteration: 0/782, Loss: 0.24\n",
            "Iteration: 500/782, Loss: 0.22\n",
            "Epoch: 94/150, Test acc: 84.18, Train acc: 91.68\n",
            "Iteration: 0/782, Loss: 0.42\n",
            "Iteration: 500/782, Loss: 0.17\n",
            "Epoch: 95/150, Test acc: 84.34, Train acc: 91.30\n",
            "Iteration: 0/782, Loss: 0.32\n",
            "Iteration: 500/782, Loss: 0.16\n",
            "Epoch: 96/150, Test acc: 84.38, Train acc: 91.35\n",
            "Iteration: 0/782, Loss: 0.24\n",
            "Iteration: 500/782, Loss: 0.24\n",
            "Epoch: 97/150, Test acc: 83.73, Train acc: 91.61\n",
            "Iteration: 0/782, Loss: 0.20\n",
            "Iteration: 500/782, Loss: 0.25\n",
            "Epoch: 98/150, Test acc: 84.08, Train acc: 91.69\n",
            "Iteration: 0/782, Loss: 0.30\n",
            "Iteration: 500/782, Loss: 0.20\n",
            "Epoch: 99/150, Test acc: 84.34, Train acc: 91.81\n",
            "Iteration: 0/782, Loss: 0.20\n",
            "Iteration: 500/782, Loss: 0.43\n",
            "Epoch: 100/150, Test acc: 83.68, Train acc: 91.43\n",
            "Iteration: 0/782, Loss: 0.39\n",
            "Iteration: 500/782, Loss: 0.22\n",
            "Epoch: 101/150, Test acc: 84.32, Train acc: 91.91\n",
            "Iteration: 0/782, Loss: 0.14\n",
            "Iteration: 500/782, Loss: 0.35\n",
            "Epoch: 102/150, Test acc: 84.08, Train acc: 91.52\n",
            "Iteration: 0/782, Loss: 0.14\n",
            "Iteration: 500/782, Loss: 0.16\n",
            "Epoch: 103/150, Test acc: 84.11, Train acc: 92.08\n",
            "Iteration: 0/782, Loss: 0.22\n",
            "Iteration: 500/782, Loss: 0.28\n",
            "Epoch: 104/150, Test acc: 83.73, Train acc: 91.99\n",
            "Iteration: 0/782, Loss: 0.10\n",
            "Iteration: 500/782, Loss: 0.21\n",
            "Epoch: 105/150, Test acc: 84.36, Train acc: 91.72\n",
            "Iteration: 0/782, Loss: 0.15\n",
            "Iteration: 500/782, Loss: 0.33\n",
            "Epoch: 106/150, Test acc: 83.91, Train acc: 91.73\n",
            "Iteration: 0/782, Loss: 0.24\n",
            "Iteration: 500/782, Loss: 0.28\n",
            "Epoch: 107/150, Test acc: 84.71, Train acc: 92.15\n",
            "Iteration: 0/782, Loss: 0.16\n",
            "Iteration: 500/782, Loss: 0.24\n",
            "Epoch: 108/150, Test acc: 84.64, Train acc: 91.88\n",
            "Iteration: 0/782, Loss: 0.23\n",
            "Iteration: 500/782, Loss: 0.35\n",
            "Epoch: 109/150, Test acc: 84.56, Train acc: 92.08\n",
            "Iteration: 0/782, Loss: 0.38\n",
            "Iteration: 500/782, Loss: 0.19\n",
            "Epoch: 110/150, Test acc: 84.78, Train acc: 92.06\n",
            "Iteration: 0/782, Loss: 0.22\n",
            "Iteration: 500/782, Loss: 0.31\n",
            "Epoch: 111/150, Test acc: 84.60, Train acc: 92.26\n",
            "Iteration: 0/782, Loss: 0.39\n",
            "Iteration: 500/782, Loss: 0.26\n",
            "Epoch: 112/150, Test acc: 84.12, Train acc: 92.32\n",
            "Iteration: 0/782, Loss: 0.27\n",
            "Iteration: 500/782, Loss: 0.20\n",
            "Epoch: 113/150, Test acc: 84.13, Train acc: 92.09\n",
            "Iteration: 0/782, Loss: 0.13\n",
            "Iteration: 500/782, Loss: 0.21\n",
            "Epoch: 114/150, Test acc: 84.69, Train acc: 92.35\n",
            "Iteration: 0/782, Loss: 0.16\n",
            "Iteration: 500/782, Loss: 0.29\n",
            "Epoch: 115/150, Test acc: 84.87, Train acc: 92.44\n",
            "Iteration: 0/782, Loss: 0.08\n",
            "Iteration: 500/782, Loss: 0.14\n",
            "Epoch: 116/150, Test acc: 84.37, Train acc: 92.50\n",
            "Iteration: 0/782, Loss: 0.24\n",
            "Iteration: 500/782, Loss: 0.49\n",
            "Epoch: 117/150, Test acc: 84.00, Train acc: 92.45\n",
            "Iteration: 0/782, Loss: 0.12\n",
            "Iteration: 500/782, Loss: 0.17\n",
            "Epoch: 118/150, Test acc: 84.65, Train acc: 92.57\n",
            "Iteration: 0/782, Loss: 0.30\n",
            "Iteration: 500/782, Loss: 0.19\n",
            "Epoch: 119/150, Test acc: 84.35, Train acc: 92.42\n",
            "Iteration: 0/782, Loss: 0.25\n",
            "Iteration: 500/782, Loss: 0.32\n",
            "Epoch: 120/150, Test acc: 84.30, Train acc: 92.17\n",
            "Iteration: 0/782, Loss: 0.23\n",
            "Iteration: 500/782, Loss: 0.16\n",
            "Epoch: 121/150, Test acc: 84.95, Train acc: 92.70\n",
            "Iteration: 0/782, Loss: 0.14\n",
            "Iteration: 500/782, Loss: 0.08\n",
            "Epoch: 122/150, Test acc: 84.08, Train acc: 92.53\n",
            "Iteration: 0/782, Loss: 0.24\n",
            "Iteration: 500/782, Loss: 0.14\n",
            "Epoch: 123/150, Test acc: 84.38, Train acc: 92.36\n",
            "Iteration: 0/782, Loss: 0.17\n",
            "Iteration: 500/782, Loss: 0.34\n",
            "Epoch: 124/150, Test acc: 84.34, Train acc: 92.62\n",
            "Iteration: 0/782, Loss: 0.15\n",
            "Iteration: 500/782, Loss: 0.21\n",
            "Epoch: 125/150, Test acc: 84.65, Train acc: 92.57\n",
            "Iteration: 0/782, Loss: 0.08\n",
            "Iteration: 500/782, Loss: 0.36\n",
            "Epoch: 126/150, Test acc: 84.23, Train acc: 92.32\n",
            "Iteration: 0/782, Loss: 0.13\n",
            "Iteration: 500/782, Loss: 0.12\n",
            "Epoch: 127/150, Test acc: 84.28, Train acc: 92.52\n",
            "Iteration: 0/782, Loss: 0.14\n",
            "Iteration: 500/782, Loss: 0.30\n",
            "Epoch: 128/150, Test acc: 84.23, Train acc: 92.83\n",
            "Iteration: 0/782, Loss: 0.35\n",
            "Iteration: 500/782, Loss: 0.17\n",
            "Epoch: 129/150, Test acc: 84.57, Train acc: 92.96\n",
            "Iteration: 0/782, Loss: 0.15\n",
            "Iteration: 500/782, Loss: 0.28\n",
            "Epoch: 130/150, Test acc: 84.07, Train acc: 93.03\n",
            "Iteration: 0/782, Loss: 0.10\n",
            "Iteration: 500/782, Loss: 0.18\n",
            "Epoch: 131/150, Test acc: 84.16, Train acc: 92.76\n",
            "Iteration: 0/782, Loss: 0.13\n",
            "Iteration: 500/782, Loss: 0.36\n",
            "Epoch: 132/150, Test acc: 84.77, Train acc: 92.84\n",
            "Iteration: 0/782, Loss: 0.12\n",
            "Iteration: 500/782, Loss: 0.35\n",
            "Epoch: 133/150, Test acc: 84.50, Train acc: 93.05\n",
            "Iteration: 0/782, Loss: 0.25\n",
            "Iteration: 500/782, Loss: 0.13\n",
            "Epoch: 134/150, Test acc: 84.73, Train acc: 93.08\n",
            "Iteration: 0/782, Loss: 0.36\n",
            "Iteration: 500/782, Loss: 0.14\n",
            "Epoch: 135/150, Test acc: 84.49, Train acc: 92.92\n",
            "Iteration: 0/782, Loss: 0.17\n",
            "Iteration: 500/782, Loss: 0.11\n",
            "Epoch: 136/150, Test acc: 84.77, Train acc: 93.23\n",
            "Iteration: 0/782, Loss: 0.14\n",
            "Iteration: 500/782, Loss: 0.17\n",
            "Epoch: 137/150, Test acc: 84.22, Train acc: 93.33\n",
            "Iteration: 0/782, Loss: 0.15\n",
            "Iteration: 500/782, Loss: 0.15\n",
            "Epoch: 138/150, Test acc: 84.39, Train acc: 93.07\n",
            "Iteration: 0/782, Loss: 0.22\n",
            "Iteration: 500/782, Loss: 0.15\n",
            "Epoch: 139/150, Test acc: 84.55, Train acc: 93.29\n",
            "Iteration: 0/782, Loss: 0.09\n",
            "Iteration: 500/782, Loss: 0.18\n",
            "Epoch: 140/150, Test acc: 84.47, Train acc: 93.03\n",
            "Iteration: 0/782, Loss: 0.21\n",
            "Iteration: 500/782, Loss: 0.13\n",
            "Epoch: 141/150, Test acc: 84.53, Train acc: 93.38\n",
            "Iteration: 0/782, Loss: 0.15\n",
            "Iteration: 500/782, Loss: 0.15\n",
            "Epoch: 142/150, Test acc: 84.92, Train acc: 93.18\n",
            "Iteration: 0/782, Loss: 0.12\n",
            "Iteration: 500/782, Loss: 0.32\n",
            "Epoch: 143/150, Test acc: 84.31, Train acc: 93.41\n",
            "Iteration: 0/782, Loss: 0.06\n",
            "Iteration: 500/782, Loss: 0.40\n",
            "Epoch: 144/150, Test acc: 83.96, Train acc: 93.25\n",
            "Iteration: 0/782, Loss: 0.24\n",
            "Iteration: 500/782, Loss: 0.23\n",
            "Epoch: 145/150, Test acc: 84.44, Train acc: 93.48\n",
            "Iteration: 0/782, Loss: 0.17\n",
            "Iteration: 500/782, Loss: 0.29\n",
            "Epoch: 146/150, Test acc: 84.19, Train acc: 93.12\n",
            "Iteration: 0/782, Loss: 0.11\n",
            "Iteration: 500/782, Loss: 0.12\n",
            "Epoch: 147/150, Test acc: 84.48, Train acc: 93.42\n",
            "Iteration: 0/782, Loss: 0.30\n",
            "Iteration: 500/782, Loss: 0.40\n",
            "Epoch: 148/150, Test acc: 84.74, Train acc: 93.37\n",
            "Iteration: 0/782, Loss: 0.13\n",
            "Iteration: 500/782, Loss: 0.22\n",
            "Epoch: 149/150, Test acc: 84.38, Train acc: 92.91\n",
            "Iteration: 0/782, Loss: 0.21\n",
            "Iteration: 500/782, Loss: 0.14\n",
            "Epoch: 150/150, Test acc: 84.58, Train acc: 93.12\n"
          ],
          "name": "stdout"
        }
      ]
    },
    {
      "cell_type": "markdown",
      "metadata": {
        "id": "EqH_R222HTqB"
      },
      "source": [
        "## Training Last 10 epochs without Random Eraser"
      ]
    },
    {
      "cell_type": "code",
      "metadata": {
        "id": "aeWokPRr6Q--",
        "colab": {
          "base_uri": "https://localhost:8080/"
        },
        "outputId": "a911a09b-b84e-4a76-d9ff-37b2f30a5ca2"
      },
      "source": [
        "transform_train = transforms.Compose([\n",
        "    transforms.RandomRotation((-14.0, 14.0)),\n",
        "    transforms.ToTensor(),\n",
        "    transforms.Normalize((0.4913997551666284, 0.48215855929893703, 0.4465309133731618), (0.24703225141799082, 0.24348516474564, 0.26158783926049628)),\n",
        "    ])\n",
        "\n",
        "transform_test = transforms.Compose([\n",
        "    transforms.ToTensor(),\n",
        "    transforms.Normalize((0.4913997551666284, 0.48215855929893703, 0.4465309133731618), (0.24703225141799082, 0.24348516474564, 0.26158783926049628)),\n",
        "    ])\n",
        "\n",
        "trainset = torchvision.datasets.CIFAR10(root='./data', train=True, \n",
        "                                        download=True, \n",
        "                                        transform=transform_train)\n",
        "testset = torchvision.datasets.CIFAR10(root='./data', train=False, \n",
        "                                        download=True, \n",
        "                                        transform=transform_test)\n",
        "\n",
        "\n",
        "trainloader = torch.utils.data.DataLoader(trainset,batch_size=batch_size,shuffle = True)\n"
      ],
      "execution_count": 16,
      "outputs": [
        {
          "output_type": "stream",
          "text": [
            "Files already downloaded and verified\n",
            "Files already downloaded and verified\n"
          ],
          "name": "stdout"
        }
      ]
    },
    {
      "cell_type": "code",
      "metadata": {
        "id": "uUsZOrgr6Q_A",
        "colab": {
          "base_uri": "https://localhost:8080/"
        },
        "outputId": "6c1f6c9f-2d14-4613-db76-74aff38df928"
      },
      "source": [
        "max_epochs = 10\n",
        "\n",
        "n_iters = np.ceil(50000/batch_size)\n",
        "\n",
        "for epoch in range(max_epochs):\n",
        "\n",
        "    for i, data in enumerate(trainloader, 0):\n",
        "\n",
        "        inputs, labels = data\n",
        "        inputs, labels = inputs.to(device), labels.to(device)\n",
        "\n",
        "        opt.zero_grad()\n",
        "\n",
        "        outputs = net(inputs)\n",
        "        loss = loss_fn(outputs, labels)\n",
        "        loss.backward()\n",
        "        opt.step()\n",
        "        #scheduler.step()\n",
        "        \n",
        "        del inputs, labels, outputs\n",
        "        torch.cuda.empty_cache()\n",
        "        \n",
        "        if i % 500 == 0:\n",
        "            print('Iteration: %d/%d, Loss: %0.2f' % (i, n_iters, loss.item()))\n",
        "        \n",
        "    loss_epoch_arr_CNN_MLP.append(loss.item())\n",
        "    train_acc_CNN_MLP.append(evaluation(trainloader, net))\n",
        "    val_acc_CNN_MLP.append(evaluation(testloader, net))\n",
        "\n",
        "        \n",
        "    print('Epoch: %d/%d, Test acc: %0.2f, Train acc: %0.2f' % (\n",
        "        epoch + 1, max_epochs, \n",
        "        evaluation(testloader, net), evaluation(trainloader, net)))\n"
      ],
      "execution_count": 17,
      "outputs": [
        {
          "output_type": "stream",
          "text": [
            "Iteration: 0/782, Loss: 0.18\n",
            "Iteration: 500/782, Loss: 0.06\n",
            "Epoch: 1/10, Test acc: 85.01, Train acc: 97.57\n",
            "Iteration: 0/782, Loss: 0.03\n",
            "Iteration: 500/782, Loss: 0.04\n",
            "Epoch: 2/10, Test acc: 84.82, Train acc: 97.74\n",
            "Iteration: 0/782, Loss: 0.03\n",
            "Iteration: 500/782, Loss: 0.21\n",
            "Epoch: 3/10, Test acc: 84.93, Train acc: 97.52\n",
            "Iteration: 0/782, Loss: 0.25\n",
            "Iteration: 500/782, Loss: 0.08\n",
            "Epoch: 4/10, Test acc: 84.37, Train acc: 97.57\n",
            "Iteration: 0/782, Loss: 0.11\n",
            "Iteration: 500/782, Loss: 0.16\n",
            "Epoch: 5/10, Test acc: 84.63, Train acc: 97.68\n",
            "Iteration: 0/782, Loss: 0.02\n",
            "Iteration: 500/782, Loss: 0.10\n",
            "Epoch: 6/10, Test acc: 85.08, Train acc: 97.82\n",
            "Iteration: 0/782, Loss: 0.01\n",
            "Iteration: 500/782, Loss: 0.02\n",
            "Epoch: 7/10, Test acc: 84.32, Train acc: 97.76\n",
            "Iteration: 0/782, Loss: 0.00\n",
            "Iteration: 500/782, Loss: 0.06\n",
            "Epoch: 8/10, Test acc: 84.70, Train acc: 97.60\n",
            "Iteration: 0/782, Loss: 0.05\n",
            "Iteration: 500/782, Loss: 0.04\n",
            "Epoch: 9/10, Test acc: 84.97, Train acc: 97.86\n",
            "Iteration: 0/782, Loss: 0.01\n",
            "Iteration: 500/782, Loss: 0.05\n",
            "Epoch: 10/10, Test acc: 84.82, Train acc: 97.94\n"
          ],
          "name": "stdout"
        }
      ]
    },
    {
      "cell_type": "code",
      "metadata": {
        "id": "6wn_r0PO8sHQ",
        "colab": {
          "base_uri": "https://localhost:8080/",
          "height": 295
        },
        "outputId": "d9457571-6447-447d-a276-fb2667079344"
      },
      "source": [
        "import matplotlib.pyplot as plt\n",
        "\n",
        "fig, ax = plt.subplots()\n",
        "\n",
        "ax.plot(train_acc_CNN_MLP,label='Train')\n",
        "ax.plot(val_acc_CNN_MLP, label='Validation')\n",
        "\n",
        "plt.title(\"Accuracy Curve(CNN + MLP)\")\n",
        "plt.xlabel(\"Epoch\")\n",
        "plt.ylabel(\"Accuracy\")\n",
        "leg = ax.legend();\n",
        "\n",
        "plt.savefig(\"Accuracy curves\")"
      ],
      "execution_count": 18,
      "outputs": [
        {
          "output_type": "display_data",
          "data": {
            "image/png": "[encoded data removed]",
            "text/plain": [
              "<Figure size 432x288 with 1 Axes>"
            ]
          },
          "metadata": {
            "tags": [],
            "needs_background": "light"
          }
        }
      ]
    },
    {
      "cell_type": "code",
      "metadata": {
        "id": "Qi4FmwCgx7LQ",
        "colab": {
          "base_uri": "https://localhost:8080/",
          "height": 295
        },
        "outputId": "3aa68e67-143b-4bc8-d558-8ab3ca2ea854"
      },
      "source": [
        "plt.plot(loss_epoch_arr_CNN_MLP)\n",
        "plt.title(\"Loss Curve(CNN + MLP)\")\n",
        "plt.xlabel(\"Epoch\")\n",
        "plt.ylabel(\"Loss\")\n",
        "\n",
        "plt.show()"
      ],
      "execution_count": 19,
      "outputs": [
        {
          "output_type": "display_data",
          "data": {
            "image/png": "[encoded data removed]",
            "text/plain": [
              "<Figure size 432x288 with 1 Axes>"
            ]
          },
          "metadata": {
            "tags": [],
            "needs_background": "light"
          }
        }
      ]
    },
    {
      "cell_type": "markdown",
      "metadata": {
        "id": "Q04WhrlF1LjI"
      },
      "source": [
        "#Testing Model on a random image"
      ]
    },
    {
      "cell_type": "code",
      "metadata": {
        "id": "WflQSEIi3wcB"
      },
      "source": [
        "testloader = torch.utils.data.DataLoader(testset, batch_size = 4, shuffle=True)\n",
        "for data in testloader:\n",
        "  image , label = data\n",
        "  break"
      ],
      "execution_count": 23,
      "outputs": []
    },
    {
      "cell_type": "code",
      "metadata": {
        "id": "6ak2MNDo1QR6",
        "colab": {
          "base_uri": "https://localhost:8080/",
          "height": 1000
        },
        "outputId": "2a6ca16c-32d3-44f8-9cca-4711ad3bf915"
      },
      "source": [
        "net = net.to('cpu')\n",
        "for img , label in zip(image , label):\n",
        "  _,prediction = torch.max(net(img.unsqueeze(0)).data,1)\n",
        "  plt.imshow(img.permute(1,2,0))\n",
        "  plt.title(f\"True Label : {trainset.classes[label.item()]} ; Predicted Label : {trainset.classes[prediction]}\")\n",
        "  plt.show()"
      ],
      "execution_count": 24,
      "outputs": [
        {
          "output_type": "stream",
          "text": [
            "Clipping input data to the valid range for imshow with RGB data ([0..1] for floats or [0..255] for integers).\n"
          ],
          "name": "stderr"
        },
        {
          "output_type": "display_data",
          "data": {
            "image/png": "[encoded data removed]",
            "text/plain": [
              "<Figure size 432x288 with 1 Axes>"
            ]
          },
          "metadata": {
            "tags": [],
            "needs_background": "light"
          }
        },
        {
          "output_type": "stream",
          "text": [
            "Clipping input data to the valid range for imshow with RGB data ([0..1] for floats or [0..255] for integers).\n"
          ],
          "name": "stderr"
        },
        {
          "output_type": "display_data",
          "data": {
            "image/png": "[encoded data removed]",
            "text/plain": [
              "<Figure size 432x288 with 1 Axes>"
            ]
          },
          "metadata": {
            "tags": [],
            "needs_background": "light"
          }
        },
        {
          "output_type": "stream",
          "text": [
            "Clipping input data to the valid range for imshow with RGB data ([0..1] for floats or [0..255] for integers).\n"
          ],
          "name": "stderr"
        },
        {
          "output_type": "display_data",
          "data": {
            "image/png": "[encoded data removed]",
            "text/plain": [
              "<Figure size 432x288 with 1 Axes>"
            ]
          },
          "metadata": {
            "tags": [],
            "needs_background": "light"
          }
        },
        {
          "output_type": "stream",
          "text": [
            "Clipping input data to the valid range for imshow with RGB data ([0..1] for floats or [0..255] for integers).\n"
          ],
          "name": "stderr"
        },
        {
          "output_type": "display_data",
          "data": {
            "image/png": "[encoded data removed]",
            "text/plain": [
              "<Figure size 432x288 with 1 Axes>"
            ]
          },
          "metadata": {
            "tags": [],
            "needs_background": "light"
          }
        }
      ]
    },
    {
      "cell_type": "markdown",
      "metadata": {
        "id": "mn8MDlDEjreo"
      },
      "source": [
        "## Train CIFAR10 (MLP)"
      ]
    },
    {
      "cell_type": "code",
      "metadata": {
        "id": "3M2YDShsjrep"
      },
      "source": [
        "import tensorflow as tf\n",
        "from sklearn.decomposition import PCA\n",
        "(x_train, y_train), (x_test, y_test)  = tf.keras.datasets.cifar10.load_data()\n",
        "x_train = x_train.reshape(50000, 32*32*3)\n",
        "x_test = x_test.reshape(10000, 32*32*3)\n",
        "x_train = x_train.astype('float32')\n",
        "x_test = x_test.astype('float32')\n",
        "x_train /= 255\n",
        "x_test /= 255"
      ],
      "execution_count": 3,
      "outputs": []
    },
    {
      "cell_type": "code",
      "metadata": {
        "id": "n0H1PnLtjreq"
      },
      "source": [
        "#pca = PCA()\n",
        "pca_result = x_train"
      ],
      "execution_count": 4,
      "outputs": []
    },
    {
      "cell_type": "code",
      "metadata": {
        "id": "Gt0wGlH2jres"
      },
      "source": [
        "PCA_train = x_train\n",
        "PCA_test = x_test"
      ],
      "execution_count": 5,
      "outputs": []
    },
    {
      "cell_type": "code",
      "metadata": {
        "id": "U8Y3OJ4Hjret"
      },
      "source": [
        "PCA_train = torch.FloatTensor(PCA_train)\n",
        "PCA_test = torch.FloatTensor(PCA_test)\n",
        "y_train = torch.LongTensor(y_train)\n",
        "y_test = torch.LongTensor(y_test)"
      ],
      "execution_count": 6,
      "outputs": []
    },
    {
      "cell_type": "code",
      "metadata": {
        "id": "mqBsAkhjjret"
      },
      "source": [
        "from torch.utils.data import TensorDataset, DataLoader\n",
        "train_dataset = TensorDataset(PCA_train,y_train) # create your datset\n",
        "test_dataset = TensorDataset(PCA_test,y_test) # create your datset\n",
        "trainloader = DataLoader(train_dataset,batch_size= 64) # create your dataloader\n",
        "testloader = DataLoader(test_dataset,batch_size= 64) # create your dataloader"
      ],
      "execution_count": 7,
      "outputs": []
    },
    {
      "cell_type": "code",
      "metadata": {
        "id": "paQQbW4sjreu"
      },
      "source": [
        "class ANN(nn.Module):\n",
        "  def __init__(self):\n",
        "      super().__init__()\n",
        "      self.fc_model = nn.Sequential(\n",
        "          nn.Linear(3072,512),         # (N, 3072*2) -> (N, 512)\n",
        "          nn.ReLU(),\n",
        "          nn.Dropout(0.25),\n",
        "          nn.Linear(512,512),             # (N, 512) -> (N, 512)\n",
        "          nn.ReLU(),\n",
        "          nn.Dropout(0.25),\n",
        "          nn.Linear(512,256),          # (N, 512) -> (N, 256)\n",
        "          nn.Linear(256,10)            # (N, 256)  -> (N, 10)\n",
        "      )\n",
        "      \n",
        "  def forward(self, x):\n",
        "      x = self.fc_model(x)\n",
        "      return x"
      ],
      "execution_count": 10,
      "outputs": []
    },
    {
      "cell_type": "code",
      "metadata": {
        "id": "An7Bdebmjrev",
        "colab": {
          "base_uri": "https://localhost:8080/"
        },
        "outputId": "740e3822-4f9e-47f4-cb77-83f942836107"
      },
      "source": [
        "net = ANN().to(device)\n",
        "net"
      ],
      "execution_count": 11,
      "outputs": [
        {
          "output_type": "execute_result",
          "data": {
            "text/plain": [
              "ANN(\n",
              "  (fc_model): Sequential(\n",
              "    (0): Linear(in_features=3072, out_features=512, bias=True)\n",
              "    (1): ReLU()\n",
              "    (2): Dropout(p=0.25, inplace=False)\n",
              "    (3): Linear(in_features=512, out_features=512, bias=True)\n",
              "    (4): ReLU()\n",
              "    (5): Dropout(p=0.25, inplace=False)\n",
              "    (6): Linear(in_features=512, out_features=256, bias=True)\n",
              "    (7): Linear(in_features=256, out_features=10, bias=True)\n",
              "  )\n",
              ")"
            ]
          },
          "metadata": {
            "tags": []
          },
          "execution_count": 11
        }
      ]
    },
    {
      "cell_type": "code",
      "metadata": {
        "id": "T4W6o1fAxkPs",
        "colab": {
          "base_uri": "https://localhost:8080/"
        },
        "outputId": "e429c4e7-039b-4df8-db92-61a9be068a00"
      },
      "source": [
        "from torchsummary import summary\n",
        "print(summary(net, (1,3072)))\n"
      ],
      "execution_count": 12,
      "outputs": [
        {
          "output_type": "stream",
          "text": [
            "----------------------------------------------------------------\n",
            "        Layer (type)               Output Shape         Param #\n",
            "================================================================\n",
            "            Linear-1               [-1, 1, 512]       1,573,376\n",
            "              ReLU-2               [-1, 1, 512]               0\n",
            "           Dropout-3               [-1, 1, 512]               0\n",
            "            Linear-4               [-1, 1, 512]         262,656\n",
            "              ReLU-5               [-1, 1, 512]               0\n",
            "           Dropout-6               [-1, 1, 512]               0\n",
            "            Linear-7               [-1, 1, 256]         131,328\n",
            "            Linear-8                [-1, 1, 10]           2,570\n",
            "================================================================\n",
            "Total params: 1,969,930\n",
            "Trainable params: 1,969,930\n",
            "Non-trainable params: 0\n",
            "----------------------------------------------------------------\n",
            "Input size (MB): 0.01\n",
            "Forward/backward pass size (MB): 0.03\n",
            "Params size (MB): 7.51\n",
            "Estimated Total Size (MB): 7.55\n",
            "----------------------------------------------------------------\n",
            "None\n"
          ],
          "name": "stdout"
        }
      ]
    },
    {
      "cell_type": "code",
      "metadata": {
        "id": "lKVWBwnJjrev"
      },
      "source": [
        "loss_fn = nn.CrossEntropyLoss()\n",
        "opt = torch.optim.SGD(net.parameters(), lr=0.01)"
      ],
      "execution_count": 13,
      "outputs": []
    },
    {
      "cell_type": "code",
      "metadata": {
        "id": "SHiHmWOkjrew"
      },
      "source": [
        "def evaluation(dataloader,model):\n",
        "  total , correct = 0,0\n",
        "  for data in dataloader:\n",
        "    inputs,labels = data\n",
        "    inputs,labels = inputs.to(device),labels.to(device)\n",
        "    outputs = model(inputs)\n",
        "    _,pred = torch.max(outputs.data,1)\n",
        "    total += labels.size(0)\n",
        "    # print(\"pred\",pred )\n",
        "    # print(\"labels\",labels.squeeze(1))\n",
        "    correct += (pred == labels.squeeze(1)).sum().item()\n",
        "  return 100 * correct / total\n"
      ],
      "execution_count": 14,
      "outputs": []
    },
    {
      "cell_type": "code",
      "metadata": {
        "id": "PFkGO1fGjrex",
        "colab": {
          "base_uri": "https://localhost:8080/"
        },
        "outputId": "f57ad5ae-be76-4b3f-8308-3533b24bb609"
      },
      "source": [
        "# Training Loop\n",
        "\n",
        "loss_epoch_arr_MLP = []\n",
        "max_epochs = 150\n",
        "train_acc_MLP = []\n",
        "val_acc_MLP = []\n",
        "batch_size = 64\n",
        "\n",
        "n_iters = np.ceil(50000/batch_size)\n",
        "\n",
        "for epoch in range(max_epochs):\n",
        "\n",
        "    for i, data in enumerate(trainloader, 0):\n",
        "\n",
        "        inputs, labels = data\n",
        "        inputs, labels = inputs.to(device), labels.to(device)\n",
        "\n",
        "        opt.zero_grad()\n",
        "\n",
        "        outputs = net(inputs)\n",
        "\n",
        "        loss = loss_fn(outputs, labels.squeeze(1))\n",
        "        loss.backward()\n",
        "        opt.step()\n",
        "\n",
        "        \n",
        "        del inputs, labels, outputs\n",
        "        torch.cuda.empty_cache()\n",
        "        \n",
        "        if i % 500 == 0:\n",
        "            print('Iteration: %d/%d, Loss: %0.2f' % (i, n_iters, loss.item()))\n",
        "        \n",
        "    loss_epoch_arr_MLP.append(loss.item())\n",
        "    train_acc_MLP.append(evaluation(trainloader, net))\n",
        "    val_acc_MLP.append(evaluation(testloader, net))\n",
        "\n",
        "        \n",
        "    print('Epoch: %d/%d, Test acc: %0.2f, Train acc: %0.2f' % (\n",
        "        epoch + 1, max_epochs, \n",
        "        evaluation(testloader, net), evaluation(trainloader, net)))"
      ],
      "execution_count": 16,
      "outputs": [
        {
          "output_type": "stream",
          "text": [
            "Iteration: 0/782, Loss: 2.29\n",
            "Iteration: 500/782, Loss: 2.11\n",
            "Epoch: 1/150, Test acc: 25.59, Train acc: 25.22\n",
            "Iteration: 0/782, Loss: 2.10\n",
            "Iteration: 500/782, Loss: 2.00\n",
            "Epoch: 2/150, Test acc: 29.97, Train acc: 30.57\n",
            "Iteration: 0/782, Loss: 2.00\n",
            "Iteration: 500/782, Loss: 1.94\n",
            "Epoch: 3/150, Test acc: 33.89, Train acc: 34.14\n",
            "Iteration: 0/782, Loss: 1.86\n",
            "Iteration: 500/782, Loss: 1.80\n",
            "Epoch: 4/150, Test acc: 36.05, Train acc: 36.36\n",
            "Iteration: 0/782, Loss: 1.76\n",
            "Iteration: 500/782, Loss: 1.84\n",
            "Epoch: 5/150, Test acc: 37.59, Train acc: 37.49\n",
            "Iteration: 0/782, Loss: 1.77\n",
            "Iteration: 500/782, Loss: 1.75\n",
            "Epoch: 6/150, Test acc: 38.94, Train acc: 38.96\n",
            "Iteration: 0/782, Loss: 1.74\n",
            "Iteration: 500/782, Loss: 1.70\n",
            "Epoch: 7/150, Test acc: 40.39, Train acc: 40.69\n",
            "Iteration: 0/782, Loss: 1.67\n",
            "Iteration: 500/782, Loss: 1.71\n",
            "Epoch: 8/150, Test acc: 40.99, Train acc: 41.21\n",
            "Iteration: 0/782, Loss: 1.66\n",
            "Iteration: 500/782, Loss: 1.73\n",
            "Epoch: 9/150, Test acc: 41.45, Train acc: 41.69\n",
            "Iteration: 0/782, Loss: 1.63\n",
            "Iteration: 500/782, Loss: 1.78\n",
            "Epoch: 10/150, Test acc: 40.47, Train acc: 41.31\n",
            "Iteration: 0/782, Loss: 1.68\n",
            "Iteration: 500/782, Loss: 1.67\n",
            "Epoch: 11/150, Test acc: 42.45, Train acc: 42.51\n",
            "Iteration: 0/782, Loss: 1.63\n",
            "Iteration: 500/782, Loss: 1.74\n",
            "Epoch: 12/150, Test acc: 42.32, Train acc: 42.54\n",
            "Iteration: 0/782, Loss: 1.65\n",
            "Iteration: 500/782, Loss: 1.69\n",
            "Epoch: 13/150, Test acc: 38.48, Train acc: 38.97\n",
            "Iteration: 0/782, Loss: 1.75\n",
            "Iteration: 500/782, Loss: 1.61\n",
            "Epoch: 14/150, Test acc: 44.46, Train acc: 45.39\n",
            "Iteration: 0/782, Loss: 1.57\n",
            "Iteration: 500/782, Loss: 1.65\n",
            "Epoch: 15/150, Test acc: 41.56, Train acc: 42.67\n",
            "Iteration: 0/782, Loss: 1.64\n",
            "Iteration: 500/782, Loss: 1.59\n",
            "Epoch: 16/150, Test acc: 43.67, Train acc: 44.56\n",
            "Iteration: 0/782, Loss: 1.57\n",
            "Iteration: 500/782, Loss: 1.57\n",
            "Epoch: 17/150, Test acc: 40.48, Train acc: 41.94\n",
            "Iteration: 0/782, Loss: 1.64\n",
            "Iteration: 500/782, Loss: 1.67\n",
            "Epoch: 18/150, Test acc: 43.93, Train acc: 45.30\n",
            "Iteration: 0/782, Loss: 1.62\n",
            "Iteration: 500/782, Loss: 1.57\n",
            "Epoch: 19/150, Test acc: 44.53, Train acc: 45.60\n",
            "Iteration: 0/782, Loss: 1.56\n",
            "Iteration: 500/782, Loss: 1.55\n",
            "Epoch: 20/150, Test acc: 44.38, Train acc: 46.03\n",
            "Iteration: 0/782, Loss: 1.59\n",
            "Iteration: 500/782, Loss: 1.57\n",
            "Epoch: 21/150, Test acc: 45.09, Train acc: 46.79\n",
            "Iteration: 0/782, Loss: 1.51\n",
            "Iteration: 500/782, Loss: 1.68\n",
            "Epoch: 22/150, Test acc: 44.19, Train acc: 46.17\n",
            "Iteration: 0/782, Loss: 1.60\n",
            "Iteration: 500/782, Loss: 1.52\n",
            "Epoch: 23/150, Test acc: 45.65, Train acc: 47.36\n",
            "Iteration: 0/782, Loss: 1.47\n",
            "Iteration: 500/782, Loss: 1.58\n",
            "Epoch: 24/150, Test acc: 44.46, Train acc: 46.31\n",
            "Iteration: 0/782, Loss: 1.56\n",
            "Iteration: 500/782, Loss: 1.53\n",
            "Epoch: 25/150, Test acc: 46.23, Train acc: 48.58\n",
            "Iteration: 0/782, Loss: 1.46\n",
            "Iteration: 500/782, Loss: 1.56\n",
            "Epoch: 26/150, Test acc: 46.42, Train acc: 49.09\n",
            "Iteration: 0/782, Loss: 1.50\n",
            "Iteration: 500/782, Loss: 1.46\n",
            "Epoch: 27/150, Test acc: 45.19, Train acc: 47.52\n",
            "Iteration: 0/782, Loss: 1.53\n",
            "Iteration: 500/782, Loss: 1.48\n",
            "Epoch: 28/150, Test acc: 47.09, Train acc: 50.00\n",
            "Iteration: 0/782, Loss: 1.37\n",
            "Iteration: 500/782, Loss: 1.50\n",
            "Epoch: 29/150, Test acc: 45.20, Train acc: 48.15\n",
            "Iteration: 0/782, Loss: 1.49\n",
            "Iteration: 500/782, Loss: 1.51\n",
            "Epoch: 30/150, Test acc: 46.30, Train acc: 50.01\n",
            "Iteration: 0/782, Loss: 1.23\n",
            "Iteration: 500/782, Loss: 1.50\n",
            "Epoch: 31/150, Test acc: 47.11, Train acc: 50.69\n",
            "Iteration: 0/782, Loss: 1.36\n",
            "Iteration: 500/782, Loss: 1.36\n",
            "Epoch: 32/150, Test acc: 48.92, Train acc: 52.50\n",
            "Iteration: 0/782, Loss: 1.26\n",
            "Iteration: 500/782, Loss: 1.41\n",
            "Epoch: 33/150, Test acc: 46.11, Train acc: 50.00\n",
            "Iteration: 0/782, Loss: 1.30\n",
            "Iteration: 500/782, Loss: 1.46\n",
            "Epoch: 34/150, Test acc: 48.51, Train acc: 52.78\n",
            "Iteration: 0/782, Loss: 1.27\n",
            "Iteration: 500/782, Loss: 1.42\n",
            "Epoch: 35/150, Test acc: 45.77, Train acc: 48.82\n",
            "Iteration: 0/782, Loss: 1.56\n",
            "Iteration: 500/782, Loss: 1.44\n",
            "Epoch: 36/150, Test acc: 48.54, Train acc: 52.41\n",
            "Iteration: 0/782, Loss: 1.25\n",
            "Iteration: 500/782, Loss: 1.43\n",
            "Epoch: 37/150, Test acc: 48.62, Train acc: 52.60\n",
            "Iteration: 0/782, Loss: 1.24\n",
            "Iteration: 500/782, Loss: 1.37\n",
            "Epoch: 38/150, Test acc: 49.47, Train acc: 54.06\n",
            "Iteration: 0/782, Loss: 1.29\n",
            "Iteration: 500/782, Loss: 1.40\n",
            "Epoch: 39/150, Test acc: 49.49, Train acc: 54.59\n",
            "Iteration: 0/782, Loss: 1.19\n",
            "Iteration: 500/782, Loss: 1.37\n",
            "Epoch: 40/150, Test acc: 48.80, Train acc: 53.46\n",
            "Iteration: 0/782, Loss: 1.20\n",
            "Iteration: 500/782, Loss: 1.35\n",
            "Epoch: 41/150, Test acc: 48.06, Train acc: 53.44\n",
            "Iteration: 0/782, Loss: 1.18\n",
            "Iteration: 500/782, Loss: 1.41\n",
            "Epoch: 42/150, Test acc: 49.14, Train acc: 54.12\n",
            "Iteration: 0/782, Loss: 1.19\n",
            "Iteration: 500/782, Loss: 1.26\n",
            "Epoch: 43/150, Test acc: 50.13, Train acc: 55.94\n",
            "Iteration: 0/782, Loss: 1.22\n",
            "Iteration: 500/782, Loss: 1.36\n",
            "Epoch: 44/150, Test acc: 49.21, Train acc: 54.80\n",
            "Iteration: 0/782, Loss: 1.23\n",
            "Iteration: 500/782, Loss: 1.36\n",
            "Epoch: 45/150, Test acc: 49.96, Train acc: 56.01\n",
            "Iteration: 0/782, Loss: 1.17\n",
            "Iteration: 500/782, Loss: 1.37\n",
            "Epoch: 46/150, Test acc: 49.25, Train acc: 54.82\n",
            "Iteration: 0/782, Loss: 1.14\n",
            "Iteration: 500/782, Loss: 1.31\n",
            "Epoch: 47/150, Test acc: 50.50, Train acc: 56.78\n",
            "Iteration: 0/782, Loss: 1.14\n",
            "Iteration: 500/782, Loss: 1.32\n",
            "Epoch: 48/150, Test acc: 49.82, Train acc: 55.84\n",
            "Iteration: 0/782, Loss: 1.01\n",
            "Iteration: 500/782, Loss: 1.36\n",
            "Epoch: 49/150, Test acc: 50.39, Train acc: 56.97\n",
            "Iteration: 0/782, Loss: 1.20\n",
            "Iteration: 500/782, Loss: 1.32\n",
            "Epoch: 50/150, Test acc: 50.18, Train acc: 56.84\n",
            "Iteration: 0/782, Loss: 1.11\n",
            "Iteration: 500/782, Loss: 1.32\n",
            "Epoch: 51/150, Test acc: 51.30, Train acc: 58.12\n",
            "Iteration: 0/782, Loss: 1.12\n",
            "Iteration: 500/782, Loss: 1.23\n",
            "Epoch: 52/150, Test acc: 50.36, Train acc: 57.60\n",
            "Iteration: 0/782, Loss: 1.11\n",
            "Iteration: 500/782, Loss: 1.27\n",
            "Epoch: 53/150, Test acc: 49.18, Train acc: 56.37\n",
            "Iteration: 0/782, Loss: 1.07\n",
            "Iteration: 500/782, Loss: 1.34\n",
            "Epoch: 54/150, Test acc: 52.03, Train acc: 59.26\n",
            "Iteration: 0/782, Loss: 1.12\n",
            "Iteration: 500/782, Loss: 1.22\n",
            "Epoch: 55/150, Test acc: 50.36, Train acc: 57.22\n",
            "Iteration: 0/782, Loss: 1.19\n",
            "Iteration: 500/782, Loss: 1.23\n",
            "Epoch: 56/150, Test acc: 51.70, Train acc: 59.63\n",
            "Iteration: 0/782, Loss: 1.04\n",
            "Iteration: 500/782, Loss: 1.21\n",
            "Epoch: 57/150, Test acc: 49.17, Train acc: 57.43\n",
            "Iteration: 0/782, Loss: 1.14\n",
            "Iteration: 500/782, Loss: 1.17\n",
            "Epoch: 58/150, Test acc: 51.17, Train acc: 59.30\n",
            "Iteration: 0/782, Loss: 0.97\n",
            "Iteration: 500/782, Loss: 1.10\n",
            "Epoch: 59/150, Test acc: 50.34, Train acc: 58.96\n",
            "Iteration: 0/782, Loss: 1.03\n",
            "Iteration: 500/782, Loss: 1.27\n",
            "Epoch: 60/150, Test acc: 51.67, Train acc: 61.00\n",
            "Iteration: 0/782, Loss: 1.01\n",
            "Iteration: 500/782, Loss: 1.28\n",
            "Epoch: 61/150, Test acc: 49.85, Train acc: 58.87\n",
            "Iteration: 0/782, Loss: 1.01\n",
            "Iteration: 500/782, Loss: 1.22\n",
            "Epoch: 62/150, Test acc: 50.96, Train acc: 60.11\n",
            "Iteration: 0/782, Loss: 1.07\n",
            "Iteration: 500/782, Loss: 1.15\n",
            "Epoch: 63/150, Test acc: 51.12, Train acc: 60.75\n",
            "Iteration: 0/782, Loss: 0.95\n",
            "Iteration: 500/782, Loss: 1.17\n",
            "Epoch: 64/150, Test acc: 52.38, Train acc: 62.67\n",
            "Iteration: 0/782, Loss: 0.98\n",
            "Iteration: 500/782, Loss: 1.22\n",
            "Epoch: 65/150, Test acc: 50.23, Train acc: 59.99\n",
            "Iteration: 0/782, Loss: 0.94\n",
            "Iteration: 500/782, Loss: 1.12\n",
            "Epoch: 66/150, Test acc: 52.40, Train acc: 62.29\n",
            "Iteration: 0/782, Loss: 0.96\n",
            "Iteration: 500/782, Loss: 1.19\n",
            "Epoch: 67/150, Test acc: 49.53, Train acc: 58.99\n",
            "Iteration: 0/782, Loss: 0.94\n",
            "Iteration: 500/782, Loss: 1.20\n",
            "Epoch: 68/150, Test acc: 52.05, Train acc: 62.25\n",
            "Iteration: 0/782, Loss: 0.86\n",
            "Iteration: 500/782, Loss: 1.16\n",
            "Epoch: 69/150, Test acc: 49.89, Train acc: 59.83\n",
            "Iteration: 0/782, Loss: 0.93\n",
            "Iteration: 500/782, Loss: 1.09\n",
            "Epoch: 70/150, Test acc: 49.58, Train acc: 58.71\n",
            "Iteration: 0/782, Loss: 0.99\n",
            "Iteration: 500/782, Loss: 1.18\n",
            "Epoch: 71/150, Test acc: 51.48, Train acc: 62.27\n",
            "Iteration: 0/782, Loss: 0.99\n",
            "Iteration: 500/782, Loss: 1.00\n",
            "Epoch: 72/150, Test acc: 52.39, Train acc: 62.88\n",
            "Iteration: 0/782, Loss: 0.95\n",
            "Iteration: 500/782, Loss: 1.05\n",
            "Epoch: 73/150, Test acc: 50.40, Train acc: 60.21\n",
            "Iteration: 0/782, Loss: 0.80\n",
            "Iteration: 500/782, Loss: 1.15\n",
            "Epoch: 74/150, Test acc: 49.98, Train acc: 60.36\n",
            "Iteration: 0/782, Loss: 0.94\n",
            "Iteration: 500/782, Loss: 1.10\n",
            "Epoch: 75/150, Test acc: 51.19, Train acc: 62.56\n",
            "Iteration: 0/782, Loss: 0.94\n",
            "Iteration: 500/782, Loss: 1.15\n",
            "Epoch: 76/150, Test acc: 51.57, Train acc: 63.42\n",
            "Iteration: 0/782, Loss: 0.98\n",
            "Iteration: 500/782, Loss: 1.07\n",
            "Epoch: 77/150, Test acc: 50.94, Train acc: 62.30\n",
            "Iteration: 0/782, Loss: 0.84\n",
            "Iteration: 500/782, Loss: 1.02\n",
            "Epoch: 78/150, Test acc: 50.49, Train acc: 60.63\n",
            "Iteration: 0/782, Loss: 0.81\n",
            "Iteration: 500/782, Loss: 1.20\n",
            "Epoch: 79/150, Test acc: 51.43, Train acc: 63.32\n",
            "Iteration: 0/782, Loss: 0.81\n",
            "Iteration: 500/782, Loss: 1.09\n",
            "Epoch: 80/150, Test acc: 52.59, Train acc: 64.98\n",
            "Iteration: 0/782, Loss: 0.84\n",
            "Iteration: 500/782, Loss: 1.22\n",
            "Epoch: 81/150, Test acc: 50.68, Train acc: 63.11\n",
            "Iteration: 0/782, Loss: 0.90\n",
            "Iteration: 500/782, Loss: 1.09\n",
            "Epoch: 82/150, Test acc: 50.53, Train acc: 62.36\n",
            "Iteration: 0/782, Loss: 0.92\n",
            "Iteration: 500/782, Loss: 1.07\n",
            "Epoch: 83/150, Test acc: 52.10, Train acc: 65.60\n",
            "Iteration: 0/782, Loss: 0.75\n",
            "Iteration: 500/782, Loss: 1.13\n",
            "Epoch: 84/150, Test acc: 51.30, Train acc: 63.53\n",
            "Iteration: 0/782, Loss: 0.95\n",
            "Iteration: 500/782, Loss: 0.94\n",
            "Epoch: 85/150, Test acc: 51.60, Train acc: 63.98\n",
            "Iteration: 0/782, Loss: 0.93\n",
            "Iteration: 500/782, Loss: 1.10\n",
            "Epoch: 86/150, Test acc: 51.88, Train acc: 65.35\n",
            "Iteration: 0/782, Loss: 0.94\n",
            "Iteration: 500/782, Loss: 1.12\n",
            "Epoch: 87/150, Test acc: 50.97, Train acc: 64.13\n",
            "Iteration: 0/782, Loss: 0.78\n",
            "Iteration: 500/782, Loss: 0.96\n",
            "Epoch: 88/150, Test acc: 51.09, Train acc: 63.43\n",
            "Iteration: 0/782, Loss: 0.83\n",
            "Iteration: 500/782, Loss: 0.96\n",
            "Epoch: 89/150, Test acc: 51.71, Train acc: 64.85\n",
            "Iteration: 0/782, Loss: 0.89\n",
            "Iteration: 500/782, Loss: 0.98\n",
            "Epoch: 90/150, Test acc: 52.74, Train acc: 66.45\n",
            "Iteration: 0/782, Loss: 0.73\n",
            "Iteration: 500/782, Loss: 1.09\n",
            "Epoch: 91/150, Test acc: 51.71, Train acc: 65.08\n",
            "Iteration: 0/782, Loss: 0.84\n",
            "Iteration: 500/782, Loss: 1.12\n",
            "Epoch: 92/150, Test acc: 50.63, Train acc: 63.23\n",
            "Iteration: 0/782, Loss: 0.82\n",
            "Iteration: 500/782, Loss: 1.04\n",
            "Epoch: 93/150, Test acc: 52.49, Train acc: 66.77\n",
            "Iteration: 0/782, Loss: 0.69\n",
            "Iteration: 500/782, Loss: 0.90\n",
            "Epoch: 94/150, Test acc: 50.90, Train acc: 66.15\n",
            "Iteration: 0/782, Loss: 0.76\n",
            "Iteration: 500/782, Loss: 1.04\n",
            "Epoch: 95/150, Test acc: 52.03, Train acc: 66.58\n",
            "Iteration: 0/782, Loss: 0.74\n",
            "Iteration: 500/782, Loss: 0.94\n",
            "Epoch: 96/150, Test acc: 52.39, Train acc: 67.33\n",
            "Iteration: 0/782, Loss: 0.72\n",
            "Iteration: 500/782, Loss: 0.97\n",
            "Epoch: 97/150, Test acc: 51.65, Train acc: 67.33\n",
            "Iteration: 0/782, Loss: 0.69\n",
            "Iteration: 500/782, Loss: 0.86\n",
            "Epoch: 98/150, Test acc: 50.40, Train acc: 64.99\n",
            "Iteration: 0/782, Loss: 0.84\n",
            "Iteration: 500/782, Loss: 0.95\n",
            "Epoch: 99/150, Test acc: 52.15, Train acc: 67.81\n",
            "Iteration: 0/782, Loss: 0.84\n",
            "Iteration: 500/782, Loss: 0.94\n",
            "Epoch: 100/150, Test acc: 52.38, Train acc: 66.47\n",
            "Iteration: 0/782, Loss: 0.79\n",
            "Iteration: 500/782, Loss: 0.92\n",
            "Epoch: 101/150, Test acc: 51.78, Train acc: 66.78\n",
            "Iteration: 0/782, Loss: 0.79\n",
            "Iteration: 500/782, Loss: 0.84\n",
            "Epoch: 102/150, Test acc: 50.78, Train acc: 66.55\n",
            "Iteration: 0/782, Loss: 0.76\n",
            "Iteration: 500/782, Loss: 0.75\n",
            "Epoch: 103/150, Test acc: 51.77, Train acc: 67.86\n",
            "Iteration: 0/782, Loss: 0.73\n",
            "Iteration: 500/782, Loss: 0.92\n",
            "Epoch: 104/150, Test acc: 51.84, Train acc: 67.71\n",
            "Iteration: 0/782, Loss: 0.75\n",
            "Iteration: 500/782, Loss: 0.93\n",
            "Epoch: 105/150, Test acc: 51.78, Train acc: 67.16\n",
            "Iteration: 0/782, Loss: 0.77\n",
            "Iteration: 500/782, Loss: 0.86\n",
            "Epoch: 106/150, Test acc: 50.22, Train acc: 65.34\n",
            "Iteration: 0/782, Loss: 0.73\n",
            "Iteration: 500/782, Loss: 0.96\n",
            "Epoch: 107/150, Test acc: 51.89, Train acc: 66.75\n",
            "Iteration: 0/782, Loss: 0.76\n",
            "Iteration: 500/782, Loss: 0.85\n",
            "Epoch: 108/150, Test acc: 49.85, Train acc: 65.40\n",
            "Iteration: 0/782, Loss: 0.84\n",
            "Iteration: 500/782, Loss: 0.81\n",
            "Epoch: 109/150, Test acc: 51.74, Train acc: 68.15\n",
            "Iteration: 0/782, Loss: 0.75\n",
            "Iteration: 500/782, Loss: 0.89\n",
            "Epoch: 110/150, Test acc: 51.21, Train acc: 68.28\n",
            "Iteration: 0/782, Loss: 0.65\n",
            "Iteration: 500/782, Loss: 0.88\n",
            "Epoch: 111/150, Test acc: 51.48, Train acc: 68.83\n",
            "Iteration: 0/782, Loss: 0.72\n",
            "Iteration: 500/782, Loss: 0.89\n",
            "Epoch: 112/150, Test acc: 51.65, Train acc: 68.38\n",
            "Iteration: 0/782, Loss: 0.74\n",
            "Iteration: 500/782, Loss: 0.76\n",
            "Epoch: 113/150, Test acc: 52.42, Train acc: 70.19\n",
            "Iteration: 0/782, Loss: 0.68\n",
            "Iteration: 500/782, Loss: 0.76\n",
            "Epoch: 114/150, Test acc: 49.58, Train acc: 66.34\n",
            "Iteration: 0/782, Loss: 0.74\n",
            "Iteration: 500/782, Loss: 0.85\n",
            "Epoch: 115/150, Test acc: 51.53, Train acc: 69.03\n",
            "Iteration: 0/782, Loss: 0.57\n",
            "Iteration: 500/782, Loss: 0.88\n",
            "Epoch: 116/150, Test acc: 50.86, Train acc: 67.71\n",
            "Iteration: 0/782, Loss: 0.66\n",
            "Iteration: 500/782, Loss: 0.79\n",
            "Epoch: 117/150, Test acc: 52.09, Train acc: 69.81\n",
            "Iteration: 0/782, Loss: 0.65\n",
            "Iteration: 500/782, Loss: 0.83\n",
            "Epoch: 118/150, Test acc: 51.71, Train acc: 69.41\n",
            "Iteration: 0/782, Loss: 0.62\n",
            "Iteration: 500/782, Loss: 0.69\n",
            "Epoch: 119/150, Test acc: 49.03, Train acc: 65.25\n",
            "Iteration: 0/782, Loss: 0.76\n",
            "Iteration: 500/782, Loss: 0.68\n",
            "Epoch: 120/150, Test acc: 49.53, Train acc: 68.29\n",
            "Iteration: 0/782, Loss: 0.68\n",
            "Iteration: 500/782, Loss: 0.73\n",
            "Epoch: 121/150, Test acc: 51.83, Train acc: 70.30\n",
            "Iteration: 0/782, Loss: 0.57\n",
            "Iteration: 500/782, Loss: 0.65\n",
            "Epoch: 122/150, Test acc: 51.67, Train acc: 70.25\n",
            "Iteration: 0/782, Loss: 0.72\n",
            "Iteration: 500/782, Loss: 0.85\n",
            "Epoch: 123/150, Test acc: 52.21, Train acc: 70.60\n",
            "Iteration: 0/782, Loss: 0.60\n",
            "Iteration: 500/782, Loss: 0.76\n",
            "Epoch: 124/150, Test acc: 51.23, Train acc: 69.80\n",
            "Iteration: 0/782, Loss: 0.66\n",
            "Iteration: 500/782, Loss: 0.69\n",
            "Epoch: 125/150, Test acc: 52.23, Train acc: 69.80\n",
            "Iteration: 0/782, Loss: 0.45\n",
            "Iteration: 500/782, Loss: 0.69\n",
            "Epoch: 126/150, Test acc: 50.63, Train acc: 70.05\n",
            "Iteration: 0/782, Loss: 0.61\n",
            "Iteration: 500/782, Loss: 0.72\n",
            "Epoch: 127/150, Test acc: 51.70, Train acc: 69.95\n",
            "Iteration: 0/782, Loss: 0.63\n",
            "Iteration: 500/782, Loss: 0.90\n",
            "Epoch: 128/150, Test acc: 50.98, Train acc: 70.23\n",
            "Iteration: 0/782, Loss: 0.60\n",
            "Iteration: 500/782, Loss: 0.76\n",
            "Epoch: 129/150, Test acc: 52.27, Train acc: 71.90\n",
            "Iteration: 0/782, Loss: 0.75\n",
            "Iteration: 500/782, Loss: 0.91\n",
            "Epoch: 130/150, Test acc: 51.52, Train acc: 69.70\n",
            "Iteration: 0/782, Loss: 0.61\n",
            "Iteration: 500/782, Loss: 0.74\n",
            "Epoch: 131/150, Test acc: 51.55, Train acc: 71.07\n",
            "Iteration: 0/782, Loss: 0.65\n",
            "Iteration: 500/782, Loss: 0.83\n",
            "Epoch: 132/150, Test acc: 51.96, Train acc: 71.58\n",
            "Iteration: 0/782, Loss: 0.55\n",
            "Iteration: 500/782, Loss: 0.73\n",
            "Epoch: 133/150, Test acc: 52.39, Train acc: 72.68\n",
            "Iteration: 0/782, Loss: 0.47\n",
            "Iteration: 500/782, Loss: 0.72\n",
            "Epoch: 134/150, Test acc: 51.13, Train acc: 71.13\n",
            "Iteration: 0/782, Loss: 0.67\n",
            "Iteration: 500/782, Loss: 0.81\n",
            "Epoch: 135/150, Test acc: 51.40, Train acc: 70.45\n",
            "Iteration: 0/782, Loss: 0.75\n",
            "Iteration: 500/782, Loss: 0.83\n",
            "Epoch: 136/150, Test acc: 52.90, Train acc: 72.25\n",
            "Iteration: 0/782, Loss: 0.53\n",
            "Iteration: 500/782, Loss: 0.66\n",
            "Epoch: 137/150, Test acc: 52.68, Train acc: 73.25\n",
            "Iteration: 0/782, Loss: 0.48\n",
            "Iteration: 500/782, Loss: 0.69\n",
            "Epoch: 138/150, Test acc: 51.29, Train acc: 72.39\n",
            "Iteration: 0/782, Loss: 0.60\n",
            "Iteration: 500/782, Loss: 0.66\n",
            "Epoch: 139/150, Test acc: 51.72, Train acc: 72.80\n",
            "Iteration: 0/782, Loss: 0.45\n",
            "Iteration: 500/782, Loss: 0.70\n",
            "Epoch: 140/150, Test acc: 52.31, Train acc: 73.29\n",
            "Iteration: 0/782, Loss: 0.43\n",
            "Iteration: 500/782, Loss: 0.68\n",
            "Epoch: 141/150, Test acc: 51.21, Train acc: 71.09\n",
            "Iteration: 0/782, Loss: 0.64\n",
            "Iteration: 500/782, Loss: 0.73\n",
            "Epoch: 142/150, Test acc: 51.57, Train acc: 70.49\n",
            "Iteration: 0/782, Loss: 0.61\n",
            "Iteration: 500/782, Loss: 0.65\n",
            "Epoch: 143/150, Test acc: 52.57, Train acc: 73.88\n",
            "Iteration: 0/782, Loss: 0.70\n",
            "Iteration: 500/782, Loss: 0.93\n",
            "Epoch: 144/150, Test acc: 50.72, Train acc: 71.23\n",
            "Iteration: 0/782, Loss: 0.63\n",
            "Iteration: 500/782, Loss: 0.70\n",
            "Epoch: 145/150, Test acc: 50.78, Train acc: 69.24\n",
            "Iteration: 0/782, Loss: 0.49\n",
            "Iteration: 500/782, Loss: 0.76\n",
            "Epoch: 146/150, Test acc: 51.43, Train acc: 71.95\n",
            "Iteration: 0/782, Loss: 0.56\n",
            "Iteration: 500/782, Loss: 0.61\n",
            "Epoch: 147/150, Test acc: 51.95, Train acc: 72.17\n",
            "Iteration: 0/782, Loss: 0.60\n",
            "Iteration: 500/782, Loss: 0.65\n",
            "Epoch: 148/150, Test acc: 52.02, Train acc: 73.73\n",
            "Iteration: 0/782, Loss: 0.66\n",
            "Iteration: 500/782, Loss: 0.56\n",
            "Epoch: 149/150, Test acc: 51.62, Train acc: 72.53\n",
            "Iteration: 0/782, Loss: 0.40\n",
            "Iteration: 500/782, Loss: 0.59\n",
            "Epoch: 150/150, Test acc: 51.60, Train acc: 74.00\n"
          ],
          "name": "stdout"
        }
      ]
    },
    {
      "cell_type": "code",
      "metadata": {
        "id": "bxgZ3wjZj2_m",
        "colab": {
          "base_uri": "https://localhost:8080/",
          "height": 295
        },
        "outputId": "68f34b0a-49e0-4495-e57a-9ac6c4cfe1f9"
      },
      "source": [
        "import matplotlib.pyplot as plt\n",
        "\n",
        "fig, ax = plt.subplots()\n",
        "\n",
        "ax.plot(train_acc_MLP,label='Train')\n",
        "ax.plot(val_acc_MLP, label='Validation')\n",
        "\n",
        "plt.title(\"Accuracy Curves (MLP)\")\n",
        "plt.xlabel(\"Epoch\")\n",
        "plt.ylabel(\"Accuracy\")\n",
        "leg = ax.legend();\n",
        "\n",
        "plt.savefig(\"Accuracy curves\")"
      ],
      "execution_count": 17,
      "outputs": [
        {
          "output_type": "display_data",
          "data": {
            "image/png": "[encoded data removed]",
            "text/plain": [
              "<Figure size 432x288 with 1 Axes>"
            ]
          },
          "metadata": {
            "tags": [],
            "needs_background": "light"
          }
        }
      ]
    },
    {
      "cell_type": "code",
      "metadata": {
        "id": "4kpYy-0Aj9i0",
        "colab": {
          "base_uri": "https://localhost:8080/",
          "height": 295
        },
        "outputId": "7b8f0c64-631e-4e6b-c6b0-eab675dfe0db"
      },
      "source": [
        "plt.plot(loss_epoch_arr_MLP)\n",
        "plt.title(\"Loss Curve (MLP)\")\n",
        "plt.xlabel(\"Epoch\")\n",
        "plt.ylabel(\"Loss\")\n",
        "\n",
        "plt.show()"
      ],
      "execution_count": 18,
      "outputs": [
        {
          "output_type": "display_data",
          "data": {
            "image/png": "[encoded data removed]",
            "text/plain": [
              "<Figure size 432x288 with 1 Axes>"
            ]
          },
          "metadata": {
            "tags": [],
            "needs_background": "light"
          }
        }
      ]
    },
    {
      "cell_type": "markdown",
      "metadata": {
        "id": "bSL_OBSVkjIS"
      },
      "source": [
        "## Train CIFAR10 PCA (90 % Variance ) + MLP"
      ]
    },
    {
      "cell_type": "code",
      "metadata": {
        "id": "0ENftHzEU-Cq"
      },
      "source": [
        "#Reducing dimension to represent 90% variance of dataset\n",
        "pca = PCA(0.9)\n",
        "pca_result = pca.fit(x_train)"
      ],
      "execution_count": 19,
      "outputs": []
    },
    {
      "cell_type": "code",
      "metadata": {
        "id": "uC5JZP2JWlji",
        "colab": {
          "base_uri": "https://localhost:8080/"
        },
        "outputId": "888b83b0-8c27-4303-b362-cfd9e28bb129"
      },
      "source": [
        "pca.n_components_"
      ],
      "execution_count": 20,
      "outputs": [
        {
          "output_type": "execute_result",
          "data": {
            "text/plain": [
              "99"
            ]
          },
          "metadata": {
            "tags": []
          },
          "execution_count": 20
        }
      ]
    },
    {
      "cell_type": "code",
      "metadata": {
        "id": "XzlxTvsXWv5c"
      },
      "source": [
        "PCA_train = pca.transform(x_train)\n",
        "PCA_test = pca.transform(x_test)"
      ],
      "execution_count": 21,
      "outputs": []
    },
    {
      "cell_type": "code",
      "metadata": {
        "id": "wH2nZ9QQW8vF"
      },
      "source": [
        "PCA_train = torch.FloatTensor(PCA_train)\n",
        "PCA_test = torch.FloatTensor(PCA_test)\n",
        "y_train = torch.LongTensor(y_train)\n",
        "y_test = torch.LongTensor(y_test)"
      ],
      "execution_count": 25,
      "outputs": []
    },
    {
      "cell_type": "code",
      "metadata": {
        "id": "khKVK9GIbRAC"
      },
      "source": [
        "from torch.utils.data import TensorDataset, DataLoader\n",
        "train_dataset = TensorDataset(PCA_train,y_train) # create your datset\n",
        "test_dataset = TensorDataset(PCA_test,y_test) # create your datset\n",
        "trainloader = DataLoader(train_dataset,batch_size= 64) # create your dataloader\n",
        "testloader = DataLoader(test_dataset,batch_size= 64) # create your dataloader"
      ],
      "execution_count": 26,
      "outputs": []
    },
    {
      "cell_type": "code",
      "metadata": {
        "id": "B5rHrTeHXjlt"
      },
      "source": [
        "class ANN(nn.Module):\n",
        "  def __init__(self):\n",
        "      super().__init__()\n",
        "      self.fc_model = nn.Sequential(\n",
        "          nn.Linear(pca.n_components_,512),         # (N, 3072*2) -> (N, 512)\n",
        "          nn.ReLU(),\n",
        "          nn.Dropout(0.25),\n",
        "          nn.Linear(512,512),             # (N, 512) -> (N, 512)\n",
        "          nn.ReLU(),\n",
        "          nn.Dropout(0.25),\n",
        "          nn.Linear(512,256),          # (N, 512) -> (N, 256)\n",
        "          nn.Linear(256,10)            # (N, 256)  -> (N, 10)\n",
        "      )\n",
        "      \n",
        "  def forward(self, x):\n",
        "      x = self.fc_model(x)\n",
        "      return x"
      ],
      "execution_count": 27,
      "outputs": []
    },
    {
      "cell_type": "code",
      "metadata": {
        "id": "NRITSHw0XrVK",
        "colab": {
          "base_uri": "https://localhost:8080/"
        },
        "outputId": "597518da-577a-41ec-8b1a-97eeea32a251"
      },
      "source": [
        "net = ANN().to(device)\n",
        "net"
      ],
      "execution_count": 28,
      "outputs": [
        {
          "output_type": "execute_result",
          "data": {
            "text/plain": [
              "ANN(\n",
              "  (fc_model): Sequential(\n",
              "    (0): Linear(in_features=99, out_features=512, bias=True)\n",
              "    (1): ReLU()\n",
              "    (2): Dropout(p=0.25, inplace=False)\n",
              "    (3): Linear(in_features=512, out_features=512, bias=True)\n",
              "    (4): ReLU()\n",
              "    (5): Dropout(p=0.25, inplace=False)\n",
              "    (6): Linear(in_features=512, out_features=256, bias=True)\n",
              "    (7): Linear(in_features=256, out_features=10, bias=True)\n",
              "  )\n",
              ")"
            ]
          },
          "metadata": {
            "tags": []
          },
          "execution_count": 28
        }
      ]
    },
    {
      "cell_type": "code",
      "metadata": {
        "id": "6f3p6pWGxoGO",
        "colab": {
          "base_uri": "https://localhost:8080/"
        },
        "outputId": "2ca04524-c526-4f2f-b600-8b292daa8fd0"
      },
      "source": [
        "from torchsummary import summary\n",
        "print(summary(net, (1,pca.n_components_)))\n"
      ],
      "execution_count": 29,
      "outputs": [
        {
          "output_type": "stream",
          "text": [
            "----------------------------------------------------------------\n",
            "        Layer (type)               Output Shape         Param #\n",
            "================================================================\n",
            "            Linear-1               [-1, 1, 512]          51,200\n",
            "              ReLU-2               [-1, 1, 512]               0\n",
            "           Dropout-3               [-1, 1, 512]               0\n",
            "            Linear-4               [-1, 1, 512]         262,656\n",
            "              ReLU-5               [-1, 1, 512]               0\n",
            "           Dropout-6               [-1, 1, 512]               0\n",
            "            Linear-7               [-1, 1, 256]         131,328\n",
            "            Linear-8                [-1, 1, 10]           2,570\n",
            "================================================================\n",
            "Total params: 447,754\n",
            "Trainable params: 447,754\n",
            "Non-trainable params: 0\n",
            "----------------------------------------------------------------\n",
            "Input size (MB): 0.00\n",
            "Forward/backward pass size (MB): 0.03\n",
            "Params size (MB): 1.71\n",
            "Estimated Total Size (MB): 1.73\n",
            "----------------------------------------------------------------\n",
            "None\n"
          ],
          "name": "stdout"
        }
      ]
    },
    {
      "cell_type": "code",
      "metadata": {
        "id": "BGplggC-Xt8d"
      },
      "source": [
        "loss_fn = nn.CrossEntropyLoss()\n",
        "opt = torch.optim.SGD(net.parameters(), lr=0.01)"
      ],
      "execution_count": 30,
      "outputs": []
    },
    {
      "cell_type": "code",
      "metadata": {
        "id": "ffBsCRGec6uv"
      },
      "source": [
        "def evaluation(dataloader,model):\n",
        "  total , correct = 0,0\n",
        "  for data in dataloader:\n",
        "    inputs,labels = data\n",
        "    inputs,labels = inputs.to(device),labels.to(device)\n",
        "    outputs = model(inputs)\n",
        "    _,pred = torch.max(outputs.data,1)\n",
        "    total += labels.size(0)\n",
        "    # print(\"pred\",pred )\n",
        "    # print(\"labels\",labels.squeeze(1))\n",
        "    correct += (pred == labels.squeeze(1)).sum().item()\n",
        "  return 100 * correct / total\n"
      ],
      "execution_count": 31,
      "outputs": []
    },
    {
      "cell_type": "code",
      "metadata": {
        "id": "pJ7r3PUwXxUh",
        "colab": {
          "base_uri": "https://localhost:8080/"
        },
        "outputId": "b104c00c-bfaf-43bd-ff01-c6bd430a1700"
      },
      "source": [
        "# Training Loop\n",
        "\n",
        "loss_epoch_arr_PCA_90_MLP = []\n",
        "max_epochs = 150\n",
        "train_acc_PCA_90_MLP = []\n",
        "val_acc_PCA_90_MLP = []\n",
        "\n",
        "n_iters = np.ceil(50000/batch_size)\n",
        "\n",
        "for epoch in range(max_epochs):\n",
        "\n",
        "    for i, data in enumerate(trainloader, 0):\n",
        "\n",
        "        inputs, labels = data\n",
        "        inputs, labels = inputs.to(device), labels.to(device)\n",
        "\n",
        "        opt.zero_grad()\n",
        "\n",
        "        outputs = net(inputs)\n",
        "\n",
        "        loss = loss_fn(outputs, labels.squeeze(1))\n",
        "        loss.backward()\n",
        "        opt.step()\n",
        "\n",
        "        \n",
        "        del inputs, labels, outputs\n",
        "        torch.cuda.empty_cache()\n",
        "        \n",
        "        if i % 500 == 0:\n",
        "            print('Iteration: %d/%d, Loss: %0.2f' % (i, n_iters, loss.item()))\n",
        "        \n",
        "    loss_epoch_arr_PCA_90_MLP.append(loss.item())\n",
        "    train_acc_PCA_90_MLP.append(evaluation(trainloader, net))\n",
        "    val_acc_PCA_90_MLP.append(evaluation(testloader, net))\n",
        "\n",
        "        \n",
        "    print('Epoch: %d/%d, Test acc: %0.2f, Train acc: %0.2f' % (\n",
        "        epoch + 1, max_epochs, \n",
        "        evaluation(testloader, net), evaluation(trainloader, net)))"
      ],
      "execution_count": 32,
      "outputs": [
        {
          "output_type": "stream",
          "text": [
            "Iteration: 0/782, Loss: 2.31\n",
            "Iteration: 500/782, Loss: 2.11\n",
            "Epoch: 1/150, Test acc: 30.48, Train acc: 30.50\n",
            "Iteration: 0/782, Loss: 2.06\n",
            "Iteration: 500/782, Loss: 1.93\n",
            "Epoch: 2/150, Test acc: 36.30, Train acc: 35.66\n",
            "Iteration: 0/782, Loss: 1.87\n",
            "Iteration: 500/782, Loss: 1.88\n",
            "Epoch: 3/150, Test acc: 38.76, Train acc: 38.40\n",
            "Iteration: 0/782, Loss: 1.73\n",
            "Iteration: 500/782, Loss: 1.80\n",
            "Epoch: 4/150, Test acc: 40.66, Train acc: 40.34\n",
            "Iteration: 0/782, Loss: 1.63\n",
            "Iteration: 500/782, Loss: 1.70\n",
            "Epoch: 5/150, Test acc: 42.03, Train acc: 42.24\n",
            "Iteration: 0/782, Loss: 1.68\n",
            "Iteration: 500/782, Loss: 1.69\n",
            "Epoch: 6/150, Test acc: 43.10, Train acc: 43.22\n",
            "Iteration: 0/782, Loss: 1.63\n",
            "Iteration: 500/782, Loss: 1.67\n",
            "Epoch: 7/150, Test acc: 44.05, Train acc: 44.35\n",
            "Iteration: 0/782, Loss: 1.64\n",
            "Iteration: 500/782, Loss: 1.62\n",
            "Epoch: 8/150, Test acc: 45.31, Train acc: 45.25\n",
            "Iteration: 0/782, Loss: 1.55\n",
            "Iteration: 500/782, Loss: 1.63\n",
            "Epoch: 9/150, Test acc: 46.09, Train acc: 46.17\n",
            "Iteration: 0/782, Loss: 1.48\n",
            "Iteration: 500/782, Loss: 1.67\n",
            "Epoch: 10/150, Test acc: 46.00, Train acc: 46.95\n",
            "Iteration: 0/782, Loss: 1.50\n",
            "Iteration: 500/782, Loss: 1.57\n",
            "Epoch: 11/150, Test acc: 46.87, Train acc: 47.48\n",
            "Iteration: 0/782, Loss: 1.48\n",
            "Iteration: 500/782, Loss: 1.61\n",
            "Epoch: 12/150, Test acc: 46.64, Train acc: 48.05\n",
            "Iteration: 0/782, Loss: 1.48\n",
            "Iteration: 500/782, Loss: 1.55\n",
            "Epoch: 13/150, Test acc: 47.31, Train acc: 48.87\n",
            "Iteration: 0/782, Loss: 1.48\n",
            "Iteration: 500/782, Loss: 1.52\n",
            "Epoch: 14/150, Test acc: 47.73, Train acc: 49.31\n",
            "Iteration: 0/782, Loss: 1.52\n",
            "Iteration: 500/782, Loss: 1.59\n",
            "Epoch: 15/150, Test acc: 48.55, Train acc: 50.13\n",
            "Iteration: 0/782, Loss: 1.45\n",
            "Iteration: 500/782, Loss: 1.48\n",
            "Epoch: 16/150, Test acc: 48.18, Train acc: 50.49\n",
            "Iteration: 0/782, Loss: 1.42\n",
            "Iteration: 500/782, Loss: 1.62\n",
            "Epoch: 17/150, Test acc: 48.82, Train acc: 51.04\n",
            "Iteration: 0/782, Loss: 1.38\n",
            "Iteration: 500/782, Loss: 1.47\n",
            "Epoch: 18/150, Test acc: 49.58, Train acc: 51.40\n",
            "Iteration: 0/782, Loss: 1.50\n",
            "Iteration: 500/782, Loss: 1.53\n",
            "Epoch: 19/150, Test acc: 49.24, Train acc: 51.97\n",
            "Iteration: 0/782, Loss: 1.33\n",
            "Iteration: 500/782, Loss: 1.51\n",
            "Epoch: 20/150, Test acc: 50.56, Train acc: 52.24\n",
            "Iteration: 0/782, Loss: 1.41\n",
            "Iteration: 500/782, Loss: 1.56\n",
            "Epoch: 21/150, Test acc: 49.87, Train acc: 52.71\n",
            "Iteration: 0/782, Loss: 1.49\n",
            "Iteration: 500/782, Loss: 1.45\n",
            "Epoch: 22/150, Test acc: 50.04, Train acc: 52.98\n",
            "Iteration: 0/782, Loss: 1.29\n",
            "Iteration: 500/782, Loss: 1.43\n",
            "Epoch: 23/150, Test acc: 50.79, Train acc: 52.94\n",
            "Iteration: 0/782, Loss: 1.37\n",
            "Iteration: 500/782, Loss: 1.50\n",
            "Epoch: 24/150, Test acc: 50.33, Train acc: 53.74\n",
            "Iteration: 0/782, Loss: 1.47\n",
            "Iteration: 500/782, Loss: 1.43\n",
            "Epoch: 25/150, Test acc: 50.59, Train acc: 54.26\n",
            "Iteration: 0/782, Loss: 1.37\n",
            "Iteration: 500/782, Loss: 1.44\n",
            "Epoch: 26/150, Test acc: 50.76, Train acc: 54.64\n",
            "Iteration: 0/782, Loss: 1.29\n",
            "Iteration: 500/782, Loss: 1.46\n",
            "Epoch: 27/150, Test acc: 51.19, Train acc: 54.96\n",
            "Iteration: 0/782, Loss: 1.26\n",
            "Iteration: 500/782, Loss: 1.41\n",
            "Epoch: 28/150, Test acc: 51.47, Train acc: 55.35\n",
            "Iteration: 0/782, Loss: 1.29\n",
            "Iteration: 500/782, Loss: 1.44\n",
            "Epoch: 29/150, Test acc: 51.76, Train acc: 55.43\n",
            "Iteration: 0/782, Loss: 1.28\n",
            "Iteration: 500/782, Loss: 1.49\n",
            "Epoch: 30/150, Test acc: 51.32, Train acc: 55.84\n",
            "Iteration: 0/782, Loss: 1.25\n",
            "Iteration: 500/782, Loss: 1.40\n",
            "Epoch: 31/150, Test acc: 51.31, Train acc: 56.30\n",
            "Iteration: 0/782, Loss: 1.28\n",
            "Iteration: 500/782, Loss: 1.35\n",
            "Epoch: 32/150, Test acc: 51.90, Train acc: 56.45\n",
            "Iteration: 0/782, Loss: 1.33\n",
            "Iteration: 500/782, Loss: 1.47\n",
            "Epoch: 33/150, Test acc: 51.79, Train acc: 56.76\n",
            "Iteration: 0/782, Loss: 1.28\n",
            "Iteration: 500/782, Loss: 1.39\n",
            "Epoch: 34/150, Test acc: 52.01, Train acc: 57.15\n",
            "Iteration: 0/782, Loss: 1.26\n",
            "Iteration: 500/782, Loss: 1.38\n",
            "Epoch: 35/150, Test acc: 52.02, Train acc: 57.66\n",
            "Iteration: 0/782, Loss: 1.29\n",
            "Iteration: 500/782, Loss: 1.31\n",
            "Epoch: 36/150, Test acc: 52.06, Train acc: 57.68\n",
            "Iteration: 0/782, Loss: 1.28\n",
            "Iteration: 500/782, Loss: 1.31\n",
            "Epoch: 37/150, Test acc: 52.76, Train acc: 58.18\n",
            "Iteration: 0/782, Loss: 1.37\n",
            "Iteration: 500/782, Loss: 1.40\n",
            "Epoch: 38/150, Test acc: 53.06, Train acc: 58.34\n",
            "Iteration: 0/782, Loss: 1.18\n",
            "Iteration: 500/782, Loss: 1.33\n",
            "Epoch: 39/150, Test acc: 52.63, Train acc: 58.65\n",
            "Iteration: 0/782, Loss: 1.24\n",
            "Iteration: 500/782, Loss: 1.30\n",
            "Epoch: 40/150, Test acc: 52.44, Train acc: 58.84\n",
            "Iteration: 0/782, Loss: 1.14\n",
            "Iteration: 500/782, Loss: 1.28\n",
            "Epoch: 41/150, Test acc: 52.52, Train acc: 59.10\n",
            "Iteration: 0/782, Loss: 1.25\n",
            "Iteration: 500/782, Loss: 1.33\n",
            "Epoch: 42/150, Test acc: 52.69, Train acc: 59.27\n",
            "Iteration: 0/782, Loss: 1.29\n",
            "Iteration: 500/782, Loss: 1.25\n",
            "Epoch: 43/150, Test acc: 53.11, Train acc: 59.57\n",
            "Iteration: 0/782, Loss: 1.20\n",
            "Iteration: 500/782, Loss: 1.30\n",
            "Epoch: 44/150, Test acc: 52.35, Train acc: 59.98\n",
            "Iteration: 0/782, Loss: 1.16\n",
            "Iteration: 500/782, Loss: 1.19\n",
            "Epoch: 45/150, Test acc: 52.67, Train acc: 60.03\n",
            "Iteration: 0/782, Loss: 1.18\n",
            "Iteration: 500/782, Loss: 1.29\n",
            "Epoch: 46/150, Test acc: 52.59, Train acc: 60.57\n",
            "Iteration: 0/782, Loss: 1.27\n",
            "Iteration: 500/782, Loss: 1.21\n",
            "Epoch: 47/150, Test acc: 52.66, Train acc: 60.75\n",
            "Iteration: 0/782, Loss: 1.16\n",
            "Iteration: 500/782, Loss: 1.30\n",
            "Epoch: 48/150, Test acc: 53.76, Train acc: 60.84\n",
            "Iteration: 0/782, Loss: 1.25\n",
            "Iteration: 500/782, Loss: 1.30\n",
            "Epoch: 49/150, Test acc: 52.94, Train acc: 61.03\n",
            "Iteration: 0/782, Loss: 1.17\n",
            "Iteration: 500/782, Loss: 1.22\n",
            "Epoch: 50/150, Test acc: 53.60, Train acc: 61.34\n",
            "Iteration: 0/782, Loss: 1.28\n",
            "Iteration: 500/782, Loss: 1.22\n",
            "Epoch: 51/150, Test acc: 53.57, Train acc: 61.67\n",
            "Iteration: 0/782, Loss: 1.12\n",
            "Iteration: 500/782, Loss: 1.30\n",
            "Epoch: 52/150, Test acc: 53.15, Train acc: 62.02\n",
            "Iteration: 0/782, Loss: 1.20\n",
            "Iteration: 500/782, Loss: 1.29\n",
            "Epoch: 53/150, Test acc: 52.97, Train acc: 62.33\n",
            "Iteration: 0/782, Loss: 1.20\n",
            "Iteration: 500/782, Loss: 1.20\n",
            "Epoch: 54/150, Test acc: 53.27, Train acc: 62.23\n",
            "Iteration: 0/782, Loss: 1.10\n",
            "Iteration: 500/782, Loss: 1.27\n",
            "Epoch: 55/150, Test acc: 53.80, Train acc: 62.85\n",
            "Iteration: 0/782, Loss: 1.12\n",
            "Iteration: 500/782, Loss: 1.20\n",
            "Epoch: 56/150, Test acc: 53.13, Train acc: 62.91\n",
            "Iteration: 0/782, Loss: 1.15\n",
            "Iteration: 500/782, Loss: 1.18\n",
            "Epoch: 57/150, Test acc: 53.47, Train acc: 62.98\n",
            "Iteration: 0/782, Loss: 1.12\n",
            "Iteration: 500/782, Loss: 1.22\n",
            "Epoch: 58/150, Test acc: 53.47, Train acc: 63.07\n",
            "Iteration: 0/782, Loss: 1.05\n",
            "Iteration: 500/782, Loss: 1.16\n",
            "Epoch: 59/150, Test acc: 53.21, Train acc: 63.55\n",
            "Iteration: 0/782, Loss: 1.13\n",
            "Iteration: 500/782, Loss: 1.12\n",
            "Epoch: 60/150, Test acc: 53.82, Train acc: 63.84\n",
            "Iteration: 0/782, Loss: 1.04\n",
            "Iteration: 500/782, Loss: 1.15\n",
            "Epoch: 61/150, Test acc: 53.75, Train acc: 63.96\n",
            "Iteration: 0/782, Loss: 1.04\n",
            "Iteration: 500/782, Loss: 1.15\n",
            "Epoch: 62/150, Test acc: 53.73, Train acc: 64.36\n",
            "Iteration: 0/782, Loss: 1.18\n",
            "Iteration: 500/782, Loss: 1.12\n",
            "Epoch: 63/150, Test acc: 53.97, Train acc: 64.71\n",
            "Iteration: 0/782, Loss: 1.14\n",
            "Iteration: 500/782, Loss: 1.21\n",
            "Epoch: 64/150, Test acc: 53.44, Train acc: 64.76\n",
            "Iteration: 0/782, Loss: 1.17\n",
            "Iteration: 500/782, Loss: 1.12\n",
            "Epoch: 65/150, Test acc: 53.75, Train acc: 65.03\n",
            "Iteration: 0/782, Loss: 1.17\n",
            "Iteration: 500/782, Loss: 1.08\n",
            "Epoch: 66/150, Test acc: 53.31, Train acc: 65.12\n",
            "Iteration: 0/782, Loss: 1.04\n",
            "Iteration: 500/782, Loss: 1.12\n",
            "Epoch: 67/150, Test acc: 53.58, Train acc: 65.27\n",
            "Iteration: 0/782, Loss: 1.09\n",
            "Iteration: 500/782, Loss: 1.15\n",
            "Epoch: 68/150, Test acc: 53.63, Train acc: 65.36\n",
            "Iteration: 0/782, Loss: 1.04\n",
            "Iteration: 500/782, Loss: 1.07\n",
            "Epoch: 69/150, Test acc: 53.07, Train acc: 66.13\n",
            "Iteration: 0/782, Loss: 1.01\n",
            "Iteration: 500/782, Loss: 1.09\n",
            "Epoch: 70/150, Test acc: 53.89, Train acc: 66.06\n",
            "Iteration: 0/782, Loss: 0.99\n",
            "Iteration: 500/782, Loss: 1.10\n",
            "Epoch: 71/150, Test acc: 53.91, Train acc: 66.25\n",
            "Iteration: 0/782, Loss: 1.06\n",
            "Iteration: 500/782, Loss: 0.94\n",
            "Epoch: 72/150, Test acc: 54.19, Train acc: 66.35\n",
            "Iteration: 0/782, Loss: 0.95\n",
            "Iteration: 500/782, Loss: 1.17\n",
            "Epoch: 73/150, Test acc: 54.22, Train acc: 66.48\n",
            "Iteration: 0/782, Loss: 1.03\n",
            "Iteration: 500/782, Loss: 1.01\n",
            "Epoch: 74/150, Test acc: 53.74, Train acc: 66.91\n",
            "Iteration: 0/782, Loss: 1.00\n",
            "Iteration: 500/782, Loss: 1.19\n",
            "Epoch: 75/150, Test acc: 53.90, Train acc: 67.13\n",
            "Iteration: 0/782, Loss: 1.07\n",
            "Iteration: 500/782, Loss: 1.02\n",
            "Epoch: 76/150, Test acc: 53.96, Train acc: 67.29\n",
            "Iteration: 0/782, Loss: 1.00\n",
            "Iteration: 500/782, Loss: 1.09\n",
            "Epoch: 77/150, Test acc: 53.98, Train acc: 67.47\n",
            "Iteration: 0/782, Loss: 0.89\n",
            "Iteration: 500/782, Loss: 1.00\n",
            "Epoch: 78/150, Test acc: 54.14, Train acc: 67.77\n",
            "Iteration: 0/782, Loss: 1.03\n",
            "Iteration: 500/782, Loss: 0.92\n",
            "Epoch: 79/150, Test acc: 53.92, Train acc: 67.99\n",
            "Iteration: 0/782, Loss: 1.00\n",
            "Iteration: 500/782, Loss: 1.03\n",
            "Epoch: 80/150, Test acc: 53.77, Train acc: 67.93\n",
            "Iteration: 0/782, Loss: 0.93\n",
            "Iteration: 500/782, Loss: 1.01\n",
            "Epoch: 81/150, Test acc: 53.63, Train acc: 68.14\n",
            "Iteration: 0/782, Loss: 0.96\n",
            "Iteration: 500/782, Loss: 0.98\n",
            "Epoch: 82/150, Test acc: 54.45, Train acc: 68.62\n",
            "Iteration: 0/782, Loss: 1.04\n",
            "Iteration: 500/782, Loss: 0.86\n",
            "Epoch: 83/150, Test acc: 54.26, Train acc: 68.68\n",
            "Iteration: 0/782, Loss: 0.96\n",
            "Iteration: 500/782, Loss: 0.97\n",
            "Epoch: 84/150, Test acc: 53.74, Train acc: 68.55\n",
            "Iteration: 0/782, Loss: 0.88\n",
            "Iteration: 500/782, Loss: 0.82\n",
            "Epoch: 85/150, Test acc: 53.86, Train acc: 69.12\n",
            "Iteration: 0/782, Loss: 0.86\n",
            "Iteration: 500/782, Loss: 0.99\n",
            "Epoch: 86/150, Test acc: 54.01, Train acc: 69.27\n",
            "Iteration: 0/782, Loss: 1.03\n",
            "Iteration: 500/782, Loss: 0.93\n",
            "Epoch: 87/150, Test acc: 54.20, Train acc: 69.27\n",
            "Iteration: 0/782, Loss: 0.88\n",
            "Iteration: 500/782, Loss: 0.99\n",
            "Epoch: 88/150, Test acc: 54.17, Train acc: 69.99\n",
            "Iteration: 0/782, Loss: 0.91\n",
            "Iteration: 500/782, Loss: 0.84\n",
            "Epoch: 89/150, Test acc: 53.56, Train acc: 69.69\n",
            "Iteration: 0/782, Loss: 0.90\n",
            "Iteration: 500/782, Loss: 0.84\n",
            "Epoch: 90/150, Test acc: 53.37, Train acc: 69.87\n",
            "Iteration: 0/782, Loss: 0.92\n",
            "Iteration: 500/782, Loss: 0.83\n",
            "Epoch: 91/150, Test acc: 54.37, Train acc: 70.03\n",
            "Iteration: 0/782, Loss: 1.10\n",
            "Iteration: 500/782, Loss: 0.94\n",
            "Epoch: 92/150, Test acc: 54.67, Train acc: 70.59\n",
            "Iteration: 0/782, Loss: 0.93\n",
            "Iteration: 500/782, Loss: 0.85\n",
            "Epoch: 93/150, Test acc: 53.94, Train acc: 70.47\n",
            "Iteration: 0/782, Loss: 1.09\n",
            "Iteration: 500/782, Loss: 0.93\n",
            "Epoch: 94/150, Test acc: 54.21, Train acc: 70.72\n",
            "Iteration: 0/782, Loss: 1.05\n",
            "Iteration: 500/782, Loss: 0.91\n",
            "Epoch: 95/150, Test acc: 54.49, Train acc: 70.98\n",
            "Iteration: 0/782, Loss: 0.93\n",
            "Iteration: 500/782, Loss: 0.93\n",
            "Epoch: 96/150, Test acc: 53.34, Train acc: 70.90\n",
            "Iteration: 0/782, Loss: 0.95\n",
            "Iteration: 500/782, Loss: 0.84\n",
            "Epoch: 97/150, Test acc: 53.65, Train acc: 71.16\n",
            "Iteration: 0/782, Loss: 0.92\n",
            "Iteration: 500/782, Loss: 0.95\n",
            "Epoch: 98/150, Test acc: 53.64, Train acc: 71.73\n",
            "Iteration: 0/782, Loss: 0.95\n",
            "Iteration: 500/782, Loss: 0.91\n",
            "Epoch: 99/150, Test acc: 53.46, Train acc: 71.41\n",
            "Iteration: 0/782, Loss: 0.85\n",
            "Iteration: 500/782, Loss: 0.85\n",
            "Epoch: 100/150, Test acc: 53.74, Train acc: 71.61\n",
            "Iteration: 0/782, Loss: 0.98\n",
            "Iteration: 500/782, Loss: 0.86\n",
            "Epoch: 101/150, Test acc: 53.86, Train acc: 71.74\n",
            "Iteration: 0/782, Loss: 0.77\n",
            "Iteration: 500/782, Loss: 0.85\n",
            "Epoch: 102/150, Test acc: 53.55, Train acc: 72.11\n",
            "Iteration: 0/782, Loss: 0.91\n",
            "Iteration: 500/782, Loss: 0.83\n",
            "Epoch: 103/150, Test acc: 53.96, Train acc: 72.13\n",
            "Iteration: 0/782, Loss: 0.90\n",
            "Iteration: 500/782, Loss: 0.75\n",
            "Epoch: 104/150, Test acc: 54.41, Train acc: 72.28\n",
            "Iteration: 0/782, Loss: 0.80\n",
            "Iteration: 500/782, Loss: 0.78\n",
            "Epoch: 105/150, Test acc: 53.72, Train acc: 72.37\n",
            "Iteration: 0/782, Loss: 0.83\n",
            "Iteration: 500/782, Loss: 0.75\n",
            "Epoch: 106/150, Test acc: 53.97, Train acc: 72.48\n",
            "Iteration: 0/782, Loss: 0.70\n",
            "Iteration: 500/782, Loss: 0.73\n",
            "Epoch: 107/150, Test acc: 54.45, Train acc: 73.10\n",
            "Iteration: 0/782, Loss: 0.89\n",
            "Iteration: 500/782, Loss: 0.86\n",
            "Epoch: 108/150, Test acc: 54.22, Train acc: 73.25\n",
            "Iteration: 0/782, Loss: 0.89\n",
            "Iteration: 500/782, Loss: 0.83\n",
            "Epoch: 109/150, Test acc: 53.81, Train acc: 73.28\n",
            "Iteration: 0/782, Loss: 0.89\n",
            "Iteration: 500/782, Loss: 0.63\n",
            "Epoch: 110/150, Test acc: 53.71, Train acc: 73.28\n",
            "Iteration: 0/782, Loss: 0.78\n",
            "Iteration: 500/782, Loss: 0.80\n",
            "Epoch: 111/150, Test acc: 53.84, Train acc: 73.68\n",
            "Iteration: 0/782, Loss: 0.76\n",
            "Iteration: 500/782, Loss: 0.76\n",
            "Epoch: 112/150, Test acc: 53.48, Train acc: 73.75\n",
            "Iteration: 0/782, Loss: 0.76\n",
            "Iteration: 500/782, Loss: 0.78\n",
            "Epoch: 113/150, Test acc: 53.33, Train acc: 74.02\n",
            "Iteration: 0/782, Loss: 0.87\n",
            "Iteration: 500/782, Loss: 0.69\n",
            "Epoch: 114/150, Test acc: 53.84, Train acc: 73.70\n",
            "Iteration: 0/782, Loss: 0.89\n",
            "Iteration: 500/782, Loss: 0.80\n",
            "Epoch: 115/150, Test acc: 53.06, Train acc: 74.02\n",
            "Iteration: 0/782, Loss: 0.65\n",
            "Iteration: 500/782, Loss: 0.65\n",
            "Epoch: 116/150, Test acc: 53.42, Train acc: 74.41\n",
            "Iteration: 0/782, Loss: 0.76\n",
            "Iteration: 500/782, Loss: 0.79\n",
            "Epoch: 117/150, Test acc: 53.34, Train acc: 74.23\n",
            "Iteration: 0/782, Loss: 0.75\n",
            "Iteration: 500/782, Loss: 0.77\n",
            "Epoch: 118/150, Test acc: 53.58, Train acc: 74.42\n",
            "Iteration: 0/782, Loss: 0.67\n",
            "Iteration: 500/782, Loss: 0.84\n",
            "Epoch: 119/150, Test acc: 53.59, Train acc: 74.52\n",
            "Iteration: 0/782, Loss: 0.68\n",
            "Iteration: 500/782, Loss: 0.74\n",
            "Epoch: 120/150, Test acc: 54.09, Train acc: 74.62\n",
            "Iteration: 0/782, Loss: 0.65\n",
            "Iteration: 500/782, Loss: 0.76\n",
            "Epoch: 121/150, Test acc: 53.70, Train acc: 75.03\n",
            "Iteration: 0/782, Loss: 0.80\n",
            "Iteration: 500/782, Loss: 0.62\n",
            "Epoch: 122/150, Test acc: 53.72, Train acc: 74.90\n",
            "Iteration: 0/782, Loss: 1.07\n",
            "Iteration: 500/782, Loss: 0.67\n",
            "Epoch: 123/150, Test acc: 53.63, Train acc: 75.25\n",
            "Iteration: 0/782, Loss: 0.74\n",
            "Iteration: 500/782, Loss: 0.71\n",
            "Epoch: 124/150, Test acc: 53.72, Train acc: 75.09\n",
            "Iteration: 0/782, Loss: 0.67\n",
            "Iteration: 500/782, Loss: 0.64\n",
            "Epoch: 125/150, Test acc: 52.90, Train acc: 75.11\n",
            "Iteration: 0/782, Loss: 0.73\n",
            "Iteration: 500/782, Loss: 0.59\n",
            "Epoch: 126/150, Test acc: 53.91, Train acc: 75.80\n",
            "Iteration: 0/782, Loss: 0.83\n",
            "Iteration: 500/782, Loss: 0.84\n",
            "Epoch: 127/150, Test acc: 53.34, Train acc: 75.77\n",
            "Iteration: 0/782, Loss: 0.77\n",
            "Iteration: 500/782, Loss: 0.67\n",
            "Epoch: 128/150, Test acc: 53.83, Train acc: 75.96\n",
            "Iteration: 0/782, Loss: 0.86\n",
            "Iteration: 500/782, Loss: 0.71\n",
            "Epoch: 129/150, Test acc: 54.02, Train acc: 75.94\n",
            "Iteration: 0/782, Loss: 0.66\n",
            "Iteration: 500/782, Loss: 0.83\n",
            "Epoch: 130/150, Test acc: 53.27, Train acc: 76.32\n",
            "Iteration: 0/782, Loss: 0.73\n",
            "Iteration: 500/782, Loss: 0.64\n",
            "Epoch: 131/150, Test acc: 53.93, Train acc: 76.38\n",
            "Iteration: 0/782, Loss: 0.74\n",
            "Iteration: 500/782, Loss: 0.75\n",
            "Epoch: 132/150, Test acc: 53.93, Train acc: 76.34\n",
            "Iteration: 0/782, Loss: 0.73\n",
            "Iteration: 500/782, Loss: 0.61\n",
            "Epoch: 133/150, Test acc: 53.44, Train acc: 76.72\n",
            "Iteration: 0/782, Loss: 0.73\n",
            "Iteration: 500/782, Loss: 0.73\n",
            "Epoch: 134/150, Test acc: 53.15, Train acc: 76.42\n",
            "Iteration: 0/782, Loss: 0.72\n",
            "Iteration: 500/782, Loss: 0.60\n",
            "Epoch: 135/150, Test acc: 52.41, Train acc: 76.83\n",
            "Iteration: 0/782, Loss: 0.56\n",
            "Iteration: 500/782, Loss: 0.70\n",
            "Epoch: 136/150, Test acc: 53.51, Train acc: 76.81\n",
            "Iteration: 0/782, Loss: 0.64\n",
            "Iteration: 500/782, Loss: 0.76\n",
            "Epoch: 137/150, Test acc: 53.58, Train acc: 77.02\n",
            "Iteration: 0/782, Loss: 0.62\n",
            "Iteration: 500/782, Loss: 0.74\n",
            "Epoch: 138/150, Test acc: 53.08, Train acc: 76.97\n",
            "Iteration: 0/782, Loss: 0.59\n",
            "Iteration: 500/782, Loss: 0.66\n",
            "Epoch: 139/150, Test acc: 52.63, Train acc: 77.42\n",
            "Iteration: 0/782, Loss: 0.93\n",
            "Iteration: 500/782, Loss: 0.66\n",
            "Epoch: 140/150, Test acc: 52.74, Train acc: 77.49\n",
            "Iteration: 0/782, Loss: 0.76\n",
            "Iteration: 500/782, Loss: 0.61\n",
            "Epoch: 141/150, Test acc: 53.62, Train acc: 77.62\n",
            "Iteration: 0/782, Loss: 0.68\n",
            "Iteration: 500/782, Loss: 0.65\n",
            "Epoch: 142/150, Test acc: 53.14, Train acc: 77.27\n",
            "Iteration: 0/782, Loss: 0.71\n",
            "Iteration: 500/782, Loss: 0.76\n",
            "Epoch: 143/150, Test acc: 53.31, Train acc: 77.67\n",
            "Iteration: 0/782, Loss: 0.53\n",
            "Iteration: 500/782, Loss: 0.63\n",
            "Epoch: 144/150, Test acc: 53.16, Train acc: 77.50\n",
            "Iteration: 0/782, Loss: 0.76\n",
            "Iteration: 500/782, Loss: 0.69\n",
            "Epoch: 145/150, Test acc: 52.97, Train acc: 77.86\n",
            "Iteration: 0/782, Loss: 0.78\n",
            "Iteration: 500/782, Loss: 0.56\n",
            "Epoch: 146/150, Test acc: 53.31, Train acc: 77.72\n",
            "Iteration: 0/782, Loss: 0.77\n",
            "Iteration: 500/782, Loss: 0.59\n",
            "Epoch: 147/150, Test acc: 53.24, Train acc: 77.81\n",
            "Iteration: 0/782, Loss: 0.63\n",
            "Iteration: 500/782, Loss: 0.54\n",
            "Epoch: 148/150, Test acc: 53.65, Train acc: 78.31\n",
            "Iteration: 0/782, Loss: 0.74\n",
            "Iteration: 500/782, Loss: 0.59\n",
            "Epoch: 149/150, Test acc: 53.25, Train acc: 78.52\n",
            "Iteration: 0/782, Loss: 0.63\n",
            "Iteration: 500/782, Loss: 0.60\n",
            "Epoch: 150/150, Test acc: 53.13, Train acc: 78.04\n"
          ],
          "name": "stdout"
        }
      ]
    },
    {
      "cell_type": "code",
      "metadata": {
        "id": "bGWj8_k8kM2E",
        "colab": {
          "base_uri": "https://localhost:8080/",
          "height": 295
        },
        "outputId": "c14488e1-31b5-4bfa-b48a-3d97aaca1f7c"
      },
      "source": [
        "import matplotlib.pyplot as plt\n",
        "\n",
        "fig, ax = plt.subplots()\n",
        "\n",
        "ax.plot(train_acc_PCA_90_MLP,label='Train')\n",
        "ax.plot(val_acc_PCA_90_MLP, label='Validation')\n",
        "\n",
        "plt.title(\"Accuracy Curves (PCA (90% variance) +MLP)\")\n",
        "plt.xlabel(\"Epoch\")\n",
        "plt.ylabel(\"Accuracy\")\n",
        "leg = ax.legend();\n",
        "\n",
        "plt.savefig(\"Accuracy curves\")"
      ],
      "execution_count": 35,
      "outputs": [
        {
          "output_type": "display_data",
          "data": {
            "image/png": "[encoded data removed]",
            "text/plain": [
              "<Figure size 432x288 with 1 Axes>"
            ]
          },
          "metadata": {
            "tags": [],
            "needs_background": "light"
          }
        }
      ]
    },
    {
      "cell_type": "code",
      "metadata": {
        "id": "5DcFDrLokM2G",
        "colab": {
          "base_uri": "https://localhost:8080/",
          "height": 295
        },
        "outputId": "ad98cadc-a102-40dc-9739-acc20dd29527"
      },
      "source": [
        "plt.plot(loss_epoch_arr_PCA_90_MLP)\n",
        "plt.title(\"Loss Curve(PCA (90% variance) +MLP)\")\n",
        "plt.xlabel(\"Epoch\")\n",
        "plt.ylabel(\"Loss\")\n",
        "\n",
        "plt.show()"
      ],
      "execution_count": 40,
      "outputs": [
        {
          "output_type": "display_data",
          "data": {
            "image/png": "[encoded data removed]",
            "text/plain": [
              "<Figure size 432x288 with 1 Axes>"
            ]
          },
          "metadata": {
            "tags": [],
            "needs_background": "light"
          }
        }
      ]
    },
    {
      "cell_type": "markdown",
      "metadata": {
        "id": "SMllq14yiGGs"
      },
      "source": [
        "## Train CIFAR10 PCA (95 % Variance ) + MLP"
      ]
    },
    {
      "cell_type": "code",
      "metadata": {
        "id": "Zq-F9JHwiNlL"
      },
      "source": [
        "#Reducing dimension to represent 95% variance of dataset\n",
        "\n",
        "pca = PCA(0.95)\n",
        "pca_result = pca.fit(x_train)"
      ],
      "execution_count": 42,
      "outputs": []
    },
    {
      "cell_type": "code",
      "metadata": {
        "id": "GAwO4QM7iNlL",
        "colab": {
          "base_uri": "https://localhost:8080/"
        },
        "outputId": "371f1f5c-d108-4894-9ebf-a1ff149589c8"
      },
      "source": [
        "pca.n_components_"
      ],
      "execution_count": 43,
      "outputs": [
        {
          "output_type": "execute_result",
          "data": {
            "text/plain": [
              "217"
            ]
          },
          "metadata": {
            "tags": []
          },
          "execution_count": 43
        }
      ]
    },
    {
      "cell_type": "code",
      "metadata": {
        "id": "5rRkhVjYiNlN"
      },
      "source": [
        "PCA_train = pca.transform(x_train)\n",
        "PCA_test = pca.transform(x_test)"
      ],
      "execution_count": 44,
      "outputs": []
    },
    {
      "cell_type": "code",
      "metadata": {
        "id": "uhXy2F2PiNlN"
      },
      "source": [
        "PCA_train = torch.FloatTensor(PCA_train)\n",
        "PCA_test = torch.FloatTensor(PCA_test)\n",
        "y_train = torch.LongTensor(y_train)\n",
        "y_test = torch.LongTensor(y_test)"
      ],
      "execution_count": 45,
      "outputs": []
    },
    {
      "cell_type": "code",
      "metadata": {
        "id": "mKv9N8fniNlO"
      },
      "source": [
        "from torch.utils.data import TensorDataset, DataLoader\n",
        "train_dataset = TensorDataset(PCA_train,y_train) # create your datset\n",
        "test_dataset = TensorDataset(PCA_test,y_test) # create your datset\n",
        "trainloader = DataLoader(train_dataset,batch_size= 64) # create your dataloader\n",
        "testloader = DataLoader(test_dataset,batch_size= 64) # create your dataloader"
      ],
      "execution_count": 46,
      "outputs": []
    },
    {
      "cell_type": "code",
      "metadata": {
        "id": "8DIhxoeRiNlO"
      },
      "source": [
        "class ANN(nn.Module):\n",
        "  def __init__(self):\n",
        "      super().__init__()\n",
        "      self.fc_model = nn.Sequential(\n",
        "          nn.Linear(pca.n_components_,512),         # (N, 3072*2) -> (N, 512)\n",
        "          nn.ReLU(),\n",
        "          nn.Dropout(0.25),\n",
        "          nn.Linear(512,512),             # (N, 512) -> (N, 512)\n",
        "          nn.ReLU(),\n",
        "          nn.Dropout(0.25),\n",
        "          nn.Linear(512,256),          # (N, 512) -> (N, 256)\n",
        "          nn.Linear(256,10)            # (N, 256)  -> (N, 10)\n",
        "      )\n",
        "      \n",
        "  def forward(self, x):\n",
        "      x = self.fc_model(x)\n",
        "      return x"
      ],
      "execution_count": 47,
      "outputs": []
    },
    {
      "cell_type": "code",
      "metadata": {
        "id": "i5if98xXiNlP",
        "colab": {
          "base_uri": "https://localhost:8080/"
        },
        "outputId": "c6b4620a-d02c-4291-f5de-8e1ed063945c"
      },
      "source": [
        "net = ANN().to(device)\n",
        "net"
      ],
      "execution_count": 48,
      "outputs": [
        {
          "output_type": "execute_result",
          "data": {
            "text/plain": [
              "ANN(\n",
              "  (fc_model): Sequential(\n",
              "    (0): Linear(in_features=217, out_features=512, bias=True)\n",
              "    (1): ReLU()\n",
              "    (2): Dropout(p=0.25, inplace=False)\n",
              "    (3): Linear(in_features=512, out_features=512, bias=True)\n",
              "    (4): ReLU()\n",
              "    (5): Dropout(p=0.25, inplace=False)\n",
              "    (6): Linear(in_features=512, out_features=256, bias=True)\n",
              "    (7): Linear(in_features=256, out_features=10, bias=True)\n",
              "  )\n",
              ")"
            ]
          },
          "metadata": {
            "tags": []
          },
          "execution_count": 48
        }
      ]
    },
    {
      "cell_type": "code",
      "metadata": {
        "id": "1wZU9ogFyERQ",
        "colab": {
          "base_uri": "https://localhost:8080/"
        },
        "outputId": "40f51802-ca0e-4893-fb40-855d1010a829"
      },
      "source": [
        "from torchsummary import summary\n",
        "print(summary(net, (1,pca.n_components_)))\n"
      ],
      "execution_count": 49,
      "outputs": [
        {
          "output_type": "stream",
          "text": [
            "----------------------------------------------------------------\n",
            "        Layer (type)               Output Shape         Param #\n",
            "================================================================\n",
            "            Linear-1               [-1, 1, 512]         111,616\n",
            "              ReLU-2               [-1, 1, 512]               0\n",
            "           Dropout-3               [-1, 1, 512]               0\n",
            "            Linear-4               [-1, 1, 512]         262,656\n",
            "              ReLU-5               [-1, 1, 512]               0\n",
            "           Dropout-6               [-1, 1, 512]               0\n",
            "            Linear-7               [-1, 1, 256]         131,328\n",
            "            Linear-8                [-1, 1, 10]           2,570\n",
            "================================================================\n",
            "Total params: 508,170\n",
            "Trainable params: 508,170\n",
            "Non-trainable params: 0\n",
            "----------------------------------------------------------------\n",
            "Input size (MB): 0.00\n",
            "Forward/backward pass size (MB): 0.03\n",
            "Params size (MB): 1.94\n",
            "Estimated Total Size (MB): 1.96\n",
            "----------------------------------------------------------------\n",
            "None\n"
          ],
          "name": "stdout"
        }
      ]
    },
    {
      "cell_type": "code",
      "metadata": {
        "id": "1c0RSIgqiNlP"
      },
      "source": [
        "loss_fn = nn.CrossEntropyLoss()\n",
        "opt = torch.optim.SGD(net.parameters(), lr=0.01)"
      ],
      "execution_count": 50,
      "outputs": []
    },
    {
      "cell_type": "code",
      "metadata": {
        "id": "egRa3VKTiNlQ"
      },
      "source": [
        "def evaluation(dataloader,model):\n",
        "  total , correct = 0,0\n",
        "  for data in dataloader:\n",
        "    inputs,labels = data\n",
        "    inputs,labels = inputs.to(device),labels.to(device)\n",
        "    outputs = model(inputs)\n",
        "    _,pred = torch.max(outputs.data,1)\n",
        "    total += labels.size(0)\n",
        "    # print(\"pred\",pred )\n",
        "    # print(\"labels\",labels.squeeze(1))\n",
        "    correct += (pred == labels.squeeze(1)).sum().item()\n",
        "  return 100 * correct / total\n"
      ],
      "execution_count": 51,
      "outputs": []
    },
    {
      "cell_type": "code",
      "metadata": {
        "id": "Uw48gIpYiNlQ",
        "colab": {
          "base_uri": "https://localhost:8080/"
        },
        "outputId": "f8f01ffe-08c8-44a3-f7c9-7b0000d3ad28"
      },
      "source": [
        "# Training Loop\n",
        "\n",
        "loss_epoch_arr_PCA_95_MLP = []\n",
        "max_epochs = 150\n",
        "train_acc_PCA_95_MLP = []\n",
        "val_acc_PCA_95_MLP = []\n",
        "\n",
        "n_iters = np.ceil(50000/batch_size)\n",
        "\n",
        "for epoch in range(max_epochs):\n",
        "\n",
        "    for i, data in enumerate(trainloader, 0):\n",
        "\n",
        "        inputs, labels = data\n",
        "        inputs, labels = inputs.to(device), labels.to(device)\n",
        "\n",
        "        opt.zero_grad()\n",
        "\n",
        "        outputs = net(inputs)\n",
        "\n",
        "        loss = loss_fn(outputs, labels.squeeze(1))\n",
        "        loss.backward()\n",
        "        opt.step()\n",
        "\n",
        "        \n",
        "        del inputs, labels, outputs\n",
        "        torch.cuda.empty_cache()\n",
        "        \n",
        "        if i % 500 == 0:\n",
        "            print('Iteration: %d/%d, Loss: %0.2f' % (i, n_iters, loss.item()))\n",
        "        \n",
        "    loss_epoch_arr_PCA_95_MLP.append(loss.item())\n",
        "    train_acc_PCA_95_MLP.append(evaluation(trainloader, net))\n",
        "    val_acc_PCA_95_MLP.append(evaluation(testloader, net))\n",
        "\n",
        "        \n",
        "    print('Epoch: %d/%d, Test acc: %0.2f, Train acc: %0.2f' % (\n",
        "        epoch + 1, max_epochs, \n",
        "        evaluation(testloader, net), evaluation(trainloader, net)))"
      ],
      "execution_count": 52,
      "outputs": [
        {
          "output_type": "stream",
          "text": [
            "Iteration: 0/782, Loss: 2.31\n",
            "Iteration: 500/782, Loss: 2.13\n",
            "Epoch: 1/150, Test acc: 28.64, Train acc: 28.42\n",
            "Iteration: 0/782, Loss: 2.07\n",
            "Iteration: 500/782, Loss: 1.97\n",
            "Epoch: 2/150, Test acc: 34.28, Train acc: 34.14\n",
            "Iteration: 0/782, Loss: 1.94\n",
            "Iteration: 500/782, Loss: 1.88\n",
            "Epoch: 3/150, Test acc: 37.80, Train acc: 37.67\n",
            "Iteration: 0/782, Loss: 1.76\n",
            "Iteration: 500/782, Loss: 1.81\n",
            "Epoch: 4/150, Test acc: 39.68, Train acc: 39.87\n",
            "Iteration: 0/782, Loss: 1.67\n",
            "Iteration: 500/782, Loss: 1.72\n",
            "Epoch: 5/150, Test acc: 41.74, Train acc: 41.59\n",
            "Iteration: 0/782, Loss: 1.63\n",
            "Iteration: 500/782, Loss: 1.69\n",
            "Epoch: 6/150, Test acc: 43.19, Train acc: 43.10\n",
            "Iteration: 0/782, Loss: 1.64\n",
            "Iteration: 500/782, Loss: 1.66\n",
            "Epoch: 7/150, Test acc: 43.87, Train acc: 44.22\n",
            "Iteration: 0/782, Loss: 1.65\n",
            "Iteration: 500/782, Loss: 1.64\n",
            "Epoch: 8/150, Test acc: 45.45, Train acc: 45.48\n",
            "Iteration: 0/782, Loss: 1.55\n",
            "Iteration: 500/782, Loss: 1.65\n",
            "Epoch: 9/150, Test acc: 46.14, Train acc: 46.52\n",
            "Iteration: 0/782, Loss: 1.55\n",
            "Iteration: 500/782, Loss: 1.64\n",
            "Epoch: 10/150, Test acc: 46.87, Train acc: 47.50\n",
            "Iteration: 0/782, Loss: 1.56\n",
            "Iteration: 500/782, Loss: 1.63\n",
            "Epoch: 11/150, Test acc: 46.97, Train acc: 48.28\n",
            "Iteration: 0/782, Loss: 1.49\n",
            "Iteration: 500/782, Loss: 1.61\n",
            "Epoch: 12/150, Test acc: 47.58, Train acc: 49.22\n",
            "Iteration: 0/782, Loss: 1.47\n",
            "Iteration: 500/782, Loss: 1.52\n",
            "Epoch: 13/150, Test acc: 48.18, Train acc: 50.05\n",
            "Iteration: 0/782, Loss: 1.45\n",
            "Iteration: 500/782, Loss: 1.52\n",
            "Epoch: 14/150, Test acc: 49.07, Train acc: 50.58\n",
            "Iteration: 0/782, Loss: 1.40\n",
            "Iteration: 500/782, Loss: 1.53\n",
            "Epoch: 15/150, Test acc: 48.67, Train acc: 51.08\n",
            "Iteration: 0/782, Loss: 1.39\n",
            "Iteration: 500/782, Loss: 1.50\n",
            "Epoch: 16/150, Test acc: 49.27, Train acc: 51.78\n",
            "Iteration: 0/782, Loss: 1.37\n",
            "Iteration: 500/782, Loss: 1.54\n",
            "Epoch: 17/150, Test acc: 48.92, Train acc: 52.35\n",
            "Iteration: 0/782, Loss: 1.38\n",
            "Iteration: 500/782, Loss: 1.46\n",
            "Epoch: 18/150, Test acc: 49.44, Train acc: 52.60\n",
            "Iteration: 0/782, Loss: 1.26\n",
            "Iteration: 500/782, Loss: 1.48\n",
            "Epoch: 19/150, Test acc: 49.93, Train acc: 53.27\n",
            "Iteration: 0/782, Loss: 1.38\n",
            "Iteration: 500/782, Loss: 1.44\n",
            "Epoch: 20/150, Test acc: 50.51, Train acc: 53.69\n",
            "Iteration: 0/782, Loss: 1.36\n",
            "Iteration: 500/782, Loss: 1.52\n",
            "Epoch: 21/150, Test acc: 50.70, Train acc: 54.02\n",
            "Iteration: 0/782, Loss: 1.27\n",
            "Iteration: 500/782, Loss: 1.45\n",
            "Epoch: 22/150, Test acc: 50.45, Train acc: 54.92\n",
            "Iteration: 0/782, Loss: 1.27\n",
            "Iteration: 500/782, Loss: 1.46\n",
            "Epoch: 23/150, Test acc: 51.04, Train acc: 55.26\n",
            "Iteration: 0/782, Loss: 1.41\n",
            "Iteration: 500/782, Loss: 1.41\n",
            "Epoch: 24/150, Test acc: 50.97, Train acc: 55.65\n",
            "Iteration: 0/782, Loss: 1.25\n",
            "Iteration: 500/782, Loss: 1.38\n",
            "Epoch: 25/150, Test acc: 51.22, Train acc: 56.24\n",
            "Iteration: 0/782, Loss: 1.38\n",
            "Iteration: 500/782, Loss: 1.36\n",
            "Epoch: 26/150, Test acc: 51.78, Train acc: 56.58\n",
            "Iteration: 0/782, Loss: 1.24\n",
            "Iteration: 500/782, Loss: 1.33\n",
            "Epoch: 27/150, Test acc: 52.14, Train acc: 57.14\n",
            "Iteration: 0/782, Loss: 1.35\n",
            "Iteration: 500/782, Loss: 1.42\n",
            "Epoch: 28/150, Test acc: 51.61, Train acc: 57.39\n",
            "Iteration: 0/782, Loss: 1.26\n",
            "Iteration: 500/782, Loss: 1.30\n",
            "Epoch: 29/150, Test acc: 52.29, Train acc: 57.73\n",
            "Iteration: 0/782, Loss: 1.23\n",
            "Iteration: 500/782, Loss: 1.38\n",
            "Epoch: 30/150, Test acc: 51.86, Train acc: 58.25\n",
            "Iteration: 0/782, Loss: 1.22\n",
            "Iteration: 500/782, Loss: 1.25\n",
            "Epoch: 31/150, Test acc: 52.88, Train acc: 58.69\n",
            "Iteration: 0/782, Loss: 1.21\n",
            "Iteration: 500/782, Loss: 1.25\n",
            "Epoch: 32/150, Test acc: 52.25, Train acc: 59.14\n",
            "Iteration: 0/782, Loss: 1.14\n",
            "Iteration: 500/782, Loss: 1.39\n",
            "Epoch: 33/150, Test acc: 52.57, Train acc: 59.51\n",
            "Iteration: 0/782, Loss: 1.14\n",
            "Iteration: 500/782, Loss: 1.39\n",
            "Epoch: 34/150, Test acc: 52.77, Train acc: 60.17\n",
            "Iteration: 0/782, Loss: 1.11\n",
            "Iteration: 500/782, Loss: 1.22\n",
            "Epoch: 35/150, Test acc: 53.27, Train acc: 60.11\n",
            "Iteration: 0/782, Loss: 1.15\n",
            "Iteration: 500/782, Loss: 1.28\n",
            "Epoch: 36/150, Test acc: 52.84, Train acc: 60.42\n",
            "Iteration: 0/782, Loss: 1.08\n",
            "Iteration: 500/782, Loss: 1.31\n",
            "Epoch: 37/150, Test acc: 53.42, Train acc: 60.74\n",
            "Iteration: 0/782, Loss: 1.08\n",
            "Iteration: 500/782, Loss: 1.23\n",
            "Epoch: 38/150, Test acc: 52.37, Train acc: 61.46\n",
            "Iteration: 0/782, Loss: 1.24\n",
            "Iteration: 500/782, Loss: 1.31\n",
            "Epoch: 39/150, Test acc: 52.25, Train acc: 61.57\n",
            "Iteration: 0/782, Loss: 1.12\n",
            "Iteration: 500/782, Loss: 1.17\n",
            "Epoch: 40/150, Test acc: 52.91, Train acc: 61.49\n",
            "Iteration: 0/782, Loss: 1.04\n",
            "Iteration: 500/782, Loss: 1.22\n",
            "Epoch: 41/150, Test acc: 53.53, Train acc: 62.10\n",
            "Iteration: 0/782, Loss: 1.11\n",
            "Iteration: 500/782, Loss: 1.28\n",
            "Epoch: 42/150, Test acc: 53.32, Train acc: 62.47\n",
            "Iteration: 0/782, Loss: 1.00\n",
            "Iteration: 500/782, Loss: 1.16\n",
            "Epoch: 43/150, Test acc: 53.55, Train acc: 62.88\n",
            "Iteration: 0/782, Loss: 1.04\n",
            "Iteration: 500/782, Loss: 1.14\n",
            "Epoch: 44/150, Test acc: 53.31, Train acc: 63.01\n",
            "Iteration: 0/782, Loss: 0.89\n",
            "Iteration: 500/782, Loss: 1.23\n",
            "Epoch: 45/150, Test acc: 53.77, Train acc: 63.45\n",
            "Iteration: 0/782, Loss: 1.00\n",
            "Iteration: 500/782, Loss: 1.19\n",
            "Epoch: 46/150, Test acc: 53.52, Train acc: 63.49\n",
            "Iteration: 0/782, Loss: 1.13\n",
            "Iteration: 500/782, Loss: 1.06\n",
            "Epoch: 47/150, Test acc: 53.02, Train acc: 64.13\n",
            "Iteration: 0/782, Loss: 1.02\n",
            "Iteration: 500/782, Loss: 1.13\n",
            "Epoch: 48/150, Test acc: 53.47, Train acc: 64.32\n",
            "Iteration: 0/782, Loss: 1.00\n",
            "Iteration: 500/782, Loss: 1.16\n",
            "Epoch: 49/150, Test acc: 53.31, Train acc: 64.86\n",
            "Iteration: 0/782, Loss: 0.96\n",
            "Iteration: 500/782, Loss: 1.27\n",
            "Epoch: 50/150, Test acc: 53.87, Train acc: 65.09\n",
            "Iteration: 0/782, Loss: 1.08\n",
            "Iteration: 500/782, Loss: 1.07\n",
            "Epoch: 51/150, Test acc: 53.66, Train acc: 65.54\n",
            "Iteration: 0/782, Loss: 1.05\n",
            "Iteration: 500/782, Loss: 1.19\n",
            "Epoch: 52/150, Test acc: 54.15, Train acc: 65.68\n",
            "Iteration: 0/782, Loss: 0.99\n",
            "Iteration: 500/782, Loss: 1.12\n",
            "Epoch: 53/150, Test acc: 54.06, Train acc: 65.75\n",
            "Iteration: 0/782, Loss: 1.00\n",
            "Iteration: 500/782, Loss: 1.02\n",
            "Epoch: 54/150, Test acc: 54.01, Train acc: 66.10\n",
            "Iteration: 0/782, Loss: 0.87\n",
            "Iteration: 500/782, Loss: 1.10\n",
            "Epoch: 55/150, Test acc: 54.02, Train acc: 66.42\n",
            "Iteration: 0/782, Loss: 1.03\n",
            "Iteration: 500/782, Loss: 1.14\n",
            "Epoch: 56/150, Test acc: 54.11, Train acc: 67.09\n",
            "Iteration: 0/782, Loss: 0.87\n",
            "Iteration: 500/782, Loss: 1.10\n",
            "Epoch: 57/150, Test acc: 54.40, Train acc: 67.15\n",
            "Iteration: 0/782, Loss: 0.91\n",
            "Iteration: 500/782, Loss: 1.20\n",
            "Epoch: 58/150, Test acc: 53.86, Train acc: 67.41\n",
            "Iteration: 0/782, Loss: 0.92\n",
            "Iteration: 500/782, Loss: 0.95\n",
            "Epoch: 59/150, Test acc: 54.08, Train acc: 67.68\n",
            "Iteration: 0/782, Loss: 0.94\n",
            "Iteration: 500/782, Loss: 1.07\n",
            "Epoch: 60/150, Test acc: 54.87, Train acc: 67.69\n",
            "Iteration: 0/782, Loss: 0.94\n",
            "Iteration: 500/782, Loss: 1.12\n",
            "Epoch: 61/150, Test acc: 53.89, Train acc: 68.03\n",
            "Iteration: 0/782, Loss: 0.83\n",
            "Iteration: 500/782, Loss: 1.08\n",
            "Epoch: 62/150, Test acc: 54.37, Train acc: 68.49\n",
            "Iteration: 0/782, Loss: 0.93\n",
            "Iteration: 500/782, Loss: 0.95\n",
            "Epoch: 63/150, Test acc: 54.26, Train acc: 68.66\n",
            "Iteration: 0/782, Loss: 0.87\n",
            "Iteration: 500/782, Loss: 1.10\n",
            "Epoch: 64/150, Test acc: 53.80, Train acc: 68.89\n",
            "Iteration: 0/782, Loss: 0.96\n",
            "Iteration: 500/782, Loss: 1.09\n",
            "Epoch: 65/150, Test acc: 54.00, Train acc: 69.23\n",
            "Iteration: 0/782, Loss: 0.88\n",
            "Iteration: 500/782, Loss: 1.03\n",
            "Epoch: 66/150, Test acc: 53.89, Train acc: 69.36\n",
            "Iteration: 0/782, Loss: 0.87\n",
            "Iteration: 500/782, Loss: 0.95\n",
            "Epoch: 67/150, Test acc: 54.46, Train acc: 69.93\n",
            "Iteration: 0/782, Loss: 0.87\n",
            "Iteration: 500/782, Loss: 0.96\n",
            "Epoch: 68/150, Test acc: 54.30, Train acc: 69.96\n",
            "Iteration: 0/782, Loss: 0.81\n",
            "Iteration: 500/782, Loss: 1.06\n",
            "Epoch: 69/150, Test acc: 54.28, Train acc: 70.22\n",
            "Iteration: 0/782, Loss: 0.69\n",
            "Iteration: 500/782, Loss: 0.91\n",
            "Epoch: 70/150, Test acc: 54.49, Train acc: 70.53\n",
            "Iteration: 0/782, Loss: 0.84\n",
            "Iteration: 500/782, Loss: 1.00\n",
            "Epoch: 71/150, Test acc: 54.13, Train acc: 70.77\n",
            "Iteration: 0/782, Loss: 0.82\n",
            "Iteration: 500/782, Loss: 0.92\n",
            "Epoch: 72/150, Test acc: 54.78, Train acc: 71.40\n",
            "Iteration: 0/782, Loss: 0.80\n",
            "Iteration: 500/782, Loss: 0.75\n",
            "Epoch: 73/150, Test acc: 53.67, Train acc: 71.44\n",
            "Iteration: 0/782, Loss: 0.72\n",
            "Iteration: 500/782, Loss: 0.97\n",
            "Epoch: 74/150, Test acc: 54.36, Train acc: 71.43\n",
            "Iteration: 0/782, Loss: 0.83\n",
            "Iteration: 500/782, Loss: 0.94\n",
            "Epoch: 75/150, Test acc: 53.96, Train acc: 71.83\n",
            "Iteration: 0/782, Loss: 0.74\n",
            "Iteration: 500/782, Loss: 1.09\n",
            "Epoch: 76/150, Test acc: 54.40, Train acc: 71.97\n",
            "Iteration: 0/782, Loss: 0.89\n",
            "Iteration: 500/782, Loss: 1.05\n",
            "Epoch: 77/150, Test acc: 54.45, Train acc: 72.04\n",
            "Iteration: 0/782, Loss: 0.75\n",
            "Iteration: 500/782, Loss: 0.90\n",
            "Epoch: 78/150, Test acc: 53.97, Train acc: 72.52\n",
            "Iteration: 0/782, Loss: 0.86\n",
            "Iteration: 500/782, Loss: 1.01\n",
            "Epoch: 79/150, Test acc: 54.23, Train acc: 72.64\n",
            "Iteration: 0/782, Loss: 0.93\n",
            "Iteration: 500/782, Loss: 0.83\n",
            "Epoch: 80/150, Test acc: 54.56, Train acc: 72.91\n",
            "Iteration: 0/782, Loss: 0.85\n",
            "Iteration: 500/782, Loss: 0.86\n",
            "Epoch: 81/150, Test acc: 54.53, Train acc: 72.91\n",
            "Iteration: 0/782, Loss: 0.67\n",
            "Iteration: 500/782, Loss: 0.94\n",
            "Epoch: 82/150, Test acc: 54.53, Train acc: 73.65\n",
            "Iteration: 0/782, Loss: 0.72\n",
            "Iteration: 500/782, Loss: 0.73\n",
            "Epoch: 83/150, Test acc: 53.94, Train acc: 73.70\n",
            "Iteration: 0/782, Loss: 0.82\n",
            "Iteration: 500/782, Loss: 0.84\n",
            "Epoch: 84/150, Test acc: 54.00, Train acc: 74.07\n",
            "Iteration: 0/782, Loss: 0.73\n",
            "Iteration: 500/782, Loss: 0.88\n",
            "Epoch: 85/150, Test acc: 54.38, Train acc: 74.44\n",
            "Iteration: 0/782, Loss: 0.78\n",
            "Iteration: 500/782, Loss: 0.81\n",
            "Epoch: 86/150, Test acc: 53.83, Train acc: 74.37\n",
            "Iteration: 0/782, Loss: 0.67\n",
            "Iteration: 500/782, Loss: 0.92\n",
            "Epoch: 87/150, Test acc: 53.73, Train acc: 75.00\n",
            "Iteration: 0/782, Loss: 0.92\n",
            "Iteration: 500/782, Loss: 0.84\n",
            "Epoch: 88/150, Test acc: 53.80, Train acc: 75.05\n",
            "Iteration: 0/782, Loss: 0.61\n",
            "Iteration: 500/782, Loss: 0.86\n",
            "Epoch: 89/150, Test acc: 54.06, Train acc: 74.85\n",
            "Iteration: 0/782, Loss: 0.72\n",
            "Iteration: 500/782, Loss: 0.74\n",
            "Epoch: 90/150, Test acc: 54.72, Train acc: 75.03\n",
            "Iteration: 0/782, Loss: 0.62\n",
            "Iteration: 500/782, Loss: 0.89\n",
            "Epoch: 91/150, Test acc: 54.25, Train acc: 75.04\n",
            "Iteration: 0/782, Loss: 0.70\n",
            "Iteration: 500/782, Loss: 0.92\n",
            "Epoch: 92/150, Test acc: 53.91, Train acc: 75.72\n",
            "Iteration: 0/782, Loss: 0.62\n",
            "Iteration: 500/782, Loss: 0.68\n",
            "Epoch: 93/150, Test acc: 53.02, Train acc: 75.52\n",
            "Iteration: 0/782, Loss: 0.56\n",
            "Iteration: 500/782, Loss: 0.75\n",
            "Epoch: 94/150, Test acc: 54.66, Train acc: 75.70\n",
            "Iteration: 0/782, Loss: 0.67\n",
            "Iteration: 500/782, Loss: 0.81\n",
            "Epoch: 95/150, Test acc: 54.24, Train acc: 76.03\n",
            "Iteration: 0/782, Loss: 0.58\n",
            "Iteration: 500/782, Loss: 0.81\n",
            "Epoch: 96/150, Test acc: 54.40, Train acc: 76.38\n",
            "Iteration: 0/782, Loss: 0.65\n",
            "Iteration: 500/782, Loss: 0.66\n",
            "Epoch: 97/150, Test acc: 53.54, Train acc: 76.40\n",
            "Iteration: 0/782, Loss: 0.69\n",
            "Iteration: 500/782, Loss: 0.79\n",
            "Epoch: 98/150, Test acc: 54.43, Train acc: 76.74\n",
            "Iteration: 0/782, Loss: 0.66\n",
            "Iteration: 500/782, Loss: 0.63\n",
            "Epoch: 99/150, Test acc: 53.94, Train acc: 77.10\n",
            "Iteration: 0/782, Loss: 0.60\n",
            "Iteration: 500/782, Loss: 0.91\n",
            "Epoch: 100/150, Test acc: 54.13, Train acc: 77.34\n",
            "Iteration: 0/782, Loss: 0.67\n",
            "Iteration: 500/782, Loss: 0.71\n",
            "Epoch: 101/150, Test acc: 53.13, Train acc: 77.13\n",
            "Iteration: 0/782, Loss: 0.66\n",
            "Iteration: 500/782, Loss: 0.81\n",
            "Epoch: 102/150, Test acc: 53.79, Train acc: 77.54\n",
            "Iteration: 0/782, Loss: 0.65\n",
            "Iteration: 500/782, Loss: 0.61\n",
            "Epoch: 103/150, Test acc: 54.48, Train acc: 77.80\n",
            "Iteration: 0/782, Loss: 0.70\n",
            "Iteration: 500/782, Loss: 0.79\n",
            "Epoch: 104/150, Test acc: 54.37, Train acc: 77.63\n",
            "Iteration: 0/782, Loss: 0.56\n",
            "Iteration: 500/782, Loss: 0.70\n",
            "Epoch: 105/150, Test acc: 53.63, Train acc: 77.62\n",
            "Iteration: 0/782, Loss: 0.64\n",
            "Iteration: 500/782, Loss: 0.84\n",
            "Epoch: 106/150, Test acc: 53.41, Train acc: 78.36\n",
            "Iteration: 0/782, Loss: 0.61\n",
            "Iteration: 500/782, Loss: 0.67\n",
            "Epoch: 107/150, Test acc: 53.52, Train acc: 78.70\n",
            "Iteration: 0/782, Loss: 0.52\n",
            "Iteration: 500/782, Loss: 0.71\n",
            "Epoch: 108/150, Test acc: 53.26, Train acc: 78.27\n",
            "Iteration: 0/782, Loss: 0.56\n",
            "Iteration: 500/782, Loss: 0.62\n",
            "Epoch: 109/150, Test acc: 53.51, Train acc: 78.78\n",
            "Iteration: 0/782, Loss: 0.62\n",
            "Iteration: 500/782, Loss: 0.66\n",
            "Epoch: 110/150, Test acc: 54.04, Train acc: 79.00\n",
            "Iteration: 0/782, Loss: 0.57\n",
            "Iteration: 500/782, Loss: 0.66\n",
            "Epoch: 111/150, Test acc: 53.44, Train acc: 79.03\n",
            "Iteration: 0/782, Loss: 0.58\n",
            "Iteration: 500/782, Loss: 0.73\n",
            "Epoch: 112/150, Test acc: 54.22, Train acc: 79.19\n",
            "Iteration: 0/782, Loss: 0.52\n",
            "Iteration: 500/782, Loss: 0.76\n",
            "Epoch: 113/150, Test acc: 53.63, Train acc: 79.78\n",
            "Iteration: 0/782, Loss: 0.49\n",
            "Iteration: 500/782, Loss: 0.68\n",
            "Epoch: 114/150, Test acc: 54.27, Train acc: 78.96\n",
            "Iteration: 0/782, Loss: 0.66\n",
            "Iteration: 500/782, Loss: 0.54\n",
            "Epoch: 115/150, Test acc: 53.54, Train acc: 79.27\n",
            "Iteration: 0/782, Loss: 0.57\n",
            "Iteration: 500/782, Loss: 0.62\n",
            "Epoch: 116/150, Test acc: 53.33, Train acc: 79.80\n",
            "Iteration: 0/782, Loss: 0.46\n",
            "Iteration: 500/782, Loss: 0.67\n",
            "Epoch: 117/150, Test acc: 54.49, Train acc: 79.84\n",
            "Iteration: 0/782, Loss: 0.44\n",
            "Iteration: 500/782, Loss: 0.80\n",
            "Epoch: 118/150, Test acc: 53.92, Train acc: 80.34\n",
            "Iteration: 0/782, Loss: 0.55\n",
            "Iteration: 500/782, Loss: 0.64\n",
            "Epoch: 119/150, Test acc: 53.57, Train acc: 80.43\n",
            "Iteration: 0/782, Loss: 0.43\n",
            "Iteration: 500/782, Loss: 0.63\n",
            "Epoch: 120/150, Test acc: 54.11, Train acc: 80.24\n",
            "Iteration: 0/782, Loss: 0.48\n",
            "Iteration: 500/782, Loss: 0.54\n",
            "Epoch: 121/150, Test acc: 53.49, Train acc: 80.48\n",
            "Iteration: 0/782, Loss: 0.49\n",
            "Iteration: 500/782, Loss: 0.74\n",
            "Epoch: 122/150, Test acc: 53.72, Train acc: 80.73\n",
            "Iteration: 0/782, Loss: 0.57\n",
            "Iteration: 500/782, Loss: 0.70\n",
            "Epoch: 123/150, Test acc: 53.18, Train acc: 81.21\n",
            "Iteration: 0/782, Loss: 0.47\n",
            "Iteration: 500/782, Loss: 0.70\n",
            "Epoch: 124/150, Test acc: 53.90, Train acc: 80.87\n",
            "Iteration: 0/782, Loss: 0.46\n",
            "Iteration: 500/782, Loss: 0.70\n",
            "Epoch: 125/150, Test acc: 53.12, Train acc: 81.05\n",
            "Iteration: 0/782, Loss: 0.60\n",
            "Iteration: 500/782, Loss: 0.54\n",
            "Epoch: 126/150, Test acc: 53.26, Train acc: 81.40\n",
            "Iteration: 0/782, Loss: 0.39\n",
            "Iteration: 500/782, Loss: 0.70\n",
            "Epoch: 127/150, Test acc: 53.95, Train acc: 81.65\n",
            "Iteration: 0/782, Loss: 0.51\n",
            "Iteration: 500/782, Loss: 0.57\n",
            "Epoch: 128/150, Test acc: 53.68, Train acc: 81.29\n",
            "Iteration: 0/782, Loss: 0.42\n",
            "Iteration: 500/782, Loss: 0.51\n",
            "Epoch: 129/150, Test acc: 53.90, Train acc: 81.69\n",
            "Iteration: 0/782, Loss: 0.47\n",
            "Iteration: 500/782, Loss: 0.46\n",
            "Epoch: 130/150, Test acc: 53.25, Train acc: 81.92\n",
            "Iteration: 0/782, Loss: 0.47\n",
            "Iteration: 500/782, Loss: 0.59\n",
            "Epoch: 131/150, Test acc: 53.74, Train acc: 81.73\n",
            "Iteration: 0/782, Loss: 0.56\n",
            "Iteration: 500/782, Loss: 0.50\n",
            "Epoch: 132/150, Test acc: 54.01, Train acc: 81.94\n",
            "Iteration: 0/782, Loss: 0.56\n",
            "Iteration: 500/782, Loss: 0.56\n",
            "Epoch: 133/150, Test acc: 53.74, Train acc: 82.12\n",
            "Iteration: 0/782, Loss: 0.57\n",
            "Iteration: 500/782, Loss: 0.44\n",
            "Epoch: 134/150, Test acc: 53.82, Train acc: 82.65\n",
            "Iteration: 0/782, Loss: 0.48\n",
            "Iteration: 500/782, Loss: 0.49\n",
            "Epoch: 135/150, Test acc: 53.55, Train acc: 82.58\n",
            "Iteration: 0/782, Loss: 0.59\n",
            "Iteration: 500/782, Loss: 0.81\n",
            "Epoch: 136/150, Test acc: 52.60, Train acc: 82.36\n",
            "Iteration: 0/782, Loss: 0.37\n",
            "Iteration: 500/782, Loss: 0.62\n",
            "Epoch: 137/150, Test acc: 53.43, Train acc: 82.71\n",
            "Iteration: 0/782, Loss: 0.53\n",
            "Iteration: 500/782, Loss: 0.44\n",
            "Epoch: 138/150, Test acc: 53.62, Train acc: 83.13\n",
            "Iteration: 0/782, Loss: 0.48\n",
            "Iteration: 500/782, Loss: 0.61\n",
            "Epoch: 139/150, Test acc: 53.50, Train acc: 82.99\n",
            "Iteration: 0/782, Loss: 0.50\n",
            "Iteration: 500/782, Loss: 0.40\n",
            "Epoch: 140/150, Test acc: 53.99, Train acc: 83.16\n",
            "Iteration: 0/782, Loss: 0.38\n",
            "Iteration: 500/782, Loss: 0.63\n",
            "Epoch: 141/150, Test acc: 53.57, Train acc: 83.38\n",
            "Iteration: 0/782, Loss: 0.52\n",
            "Iteration: 500/782, Loss: 0.51\n",
            "Epoch: 142/150, Test acc: 53.36, Train acc: 83.34\n",
            "Iteration: 0/782, Loss: 0.32\n",
            "Iteration: 500/782, Loss: 0.48\n",
            "Epoch: 143/150, Test acc: 53.49, Train acc: 83.33\n",
            "Iteration: 0/782, Loss: 0.41\n",
            "Iteration: 500/782, Loss: 0.55\n",
            "Epoch: 144/150, Test acc: 53.29, Train acc: 83.76\n",
            "Iteration: 0/782, Loss: 0.51\n",
            "Iteration: 500/782, Loss: 0.60\n",
            "Epoch: 145/150, Test acc: 54.34, Train acc: 83.82\n",
            "Iteration: 0/782, Loss: 0.42\n",
            "Iteration: 500/782, Loss: 0.46\n",
            "Epoch: 146/150, Test acc: 52.95, Train acc: 83.51\n",
            "Iteration: 0/782, Loss: 0.38\n",
            "Iteration: 500/782, Loss: 0.50\n",
            "Epoch: 147/150, Test acc: 53.42, Train acc: 83.72\n",
            "Iteration: 0/782, Loss: 0.40\n",
            "Iteration: 500/782, Loss: 0.43\n",
            "Epoch: 148/150, Test acc: 53.20, Train acc: 83.95\n",
            "Iteration: 0/782, Loss: 0.54\n",
            "Iteration: 500/782, Loss: 0.49\n",
            "Epoch: 149/150, Test acc: 53.45, Train acc: 83.96\n",
            "Iteration: 0/782, Loss: 0.36\n",
            "Iteration: 500/782, Loss: 0.49\n",
            "Epoch: 150/150, Test acc: 52.87, Train acc: 84.46\n"
          ],
          "name": "stdout"
        }
      ]
    },
    {
      "cell_type": "code",
      "metadata": {
        "id": "5HPpT8Naka9J",
        "colab": {
          "base_uri": "https://localhost:8080/",
          "height": 295
        },
        "outputId": "8c946299-0b92-469a-a58d-8ab9351d53b5"
      },
      "source": [
        "import matplotlib.pyplot as plt\n",
        "\n",
        "fig, ax = plt.subplots()\n",
        "\n",
        "ax.plot(train_acc_PCA_95_MLP,label='Train')\n",
        "ax.plot(val_acc_PCA_95_MLP, label='Validation')\n",
        "\n",
        "plt.title(\"Accuracy Curves(PCA (95% variance) +MLP)\")\n",
        "plt.xlabel(\"Epoch\")\n",
        "plt.ylabel(\"Accuracy\")\n",
        "leg = ax.legend();\n",
        "\n",
        "plt.savefig(\"Accuracy curves\")"
      ],
      "execution_count": 53,
      "outputs": [
        {
          "output_type": "display_data",
          "data": {
            "image/png": "[encoded data removed]",
            "text/plain": [
              "<Figure size 432x288 with 1 Axes>"
            ]
          },
          "metadata": {
            "tags": [],
            "needs_background": "light"
          }
        }
      ]
    },
    {
      "cell_type": "code",
      "metadata": {
        "id": "qZ25rhEtka9L",
        "colab": {
          "base_uri": "https://localhost:8080/",
          "height": 295
        },
        "outputId": "bbbb0ba9-df1e-4f00-a086-18d8f0eda970"
      },
      "source": [
        "plt.plot(loss_epoch_arr_PCA_95_MLP)\n",
        "plt.title(\"Loss Curve(PCA (95% variance) +MLP)\")\n",
        "plt.xlabel(\"Epoch\")\n",
        "plt.ylabel(\"Loss\")\n",
        "\n",
        "plt.show()"
      ],
      "execution_count": 57,
      "outputs": [
        {
          "output_type": "display_data",
          "data": {
            "image/png": "[encoded data removed]",
            "text/plain": [
              "<Figure size 432x288 with 1 Axes>"
            ]
          },
          "metadata": {
            "tags": [],
            "needs_background": "light"
          }
        }
      ]
    },
    {
      "cell_type": "markdown",
      "metadata": {
        "id": "a_-h5qViiIMb"
      },
      "source": [
        "## Train CIFAR10  PCA (99 % Variance) + MLP"
      ]
    },
    {
      "cell_type": "code",
      "metadata": {
        "id": "YKloGl2wiPZq"
      },
      "source": [
        "#Reducing dimension to represent 99% variance of dataset\n",
        "\n",
        "pca = PCA(0.99)\n",
        "pca_result = pca.fit(x_train)"
      ],
      "execution_count": 59,
      "outputs": []
    },
    {
      "cell_type": "code",
      "metadata": {
        "id": "yGsY6yYciPZr",
        "colab": {
          "base_uri": "https://localhost:8080/"
        },
        "outputId": "3f70f652-a6bf-4689-82ae-4c7ee3cfdc62"
      },
      "source": [
        "pca.n_components_"
      ],
      "execution_count": 60,
      "outputs": [
        {
          "output_type": "execute_result",
          "data": {
            "text/plain": [
              "658"
            ]
          },
          "metadata": {
            "tags": []
          },
          "execution_count": 60
        }
      ]
    },
    {
      "cell_type": "code",
      "metadata": {
        "id": "8mbrpWwmiPZr"
      },
      "source": [
        "PCA_train = pca.transform(x_train)\n",
        "PCA_test = pca.transform(x_test)"
      ],
      "execution_count": 61,
      "outputs": []
    },
    {
      "cell_type": "code",
      "metadata": {
        "id": "0b8DGHobiPZr"
      },
      "source": [
        "PCA_train = torch.FloatTensor(PCA_train)\n",
        "PCA_test = torch.FloatTensor(PCA_test)\n",
        "y_train = torch.LongTensor(y_train)\n",
        "y_test = torch.LongTensor(y_test)"
      ],
      "execution_count": 62,
      "outputs": []
    },
    {
      "cell_type": "code",
      "metadata": {
        "id": "Ps2lR7AoiPZs"
      },
      "source": [
        "from torch.utils.data import TensorDataset, DataLoader\n",
        "train_dataset = TensorDataset(PCA_train,y_train) # create your datset\n",
        "test_dataset = TensorDataset(PCA_test,y_test) # create your datset\n",
        "trainloader = DataLoader(train_dataset,batch_size= 64) # create your dataloader\n",
        "testloader = DataLoader(test_dataset,batch_size= 64) # create your dataloader"
      ],
      "execution_count": 63,
      "outputs": []
    },
    {
      "cell_type": "code",
      "metadata": {
        "id": "JF5MuZVMiPZs"
      },
      "source": [
        "class ANN(nn.Module):\n",
        "  def __init__(self):\n",
        "      super().__init__()\n",
        "      self.fc_model = nn.Sequential(\n",
        "          nn.Linear(pca.n_components_,512),         # (N, 3072*2) -> (N, 512)\n",
        "          nn.ReLU(),\n",
        "          nn.Dropout(0.25),\n",
        "          nn.Linear(512,512),             # (N, 512) -> (N, 512)\n",
        "          nn.ReLU(),\n",
        "          nn.Dropout(0.25),\n",
        "          nn.Linear(512,256),          # (N, 512) -> (N, 256)\n",
        "          nn.Linear(256,10)            # (N, 256)  -> (N, 10)\n",
        "      )\n",
        "      \n",
        "  def forward(self, x):\n",
        "      x = self.fc_model(x)\n",
        "      return x"
      ],
      "execution_count": 64,
      "outputs": []
    },
    {
      "cell_type": "code",
      "metadata": {
        "id": "soGQWRVriPZs",
        "colab": {
          "base_uri": "https://localhost:8080/"
        },
        "outputId": "f48bb1f3-d9e7-4bf4-8653-41ae9d28ac03"
      },
      "source": [
        "net = ANN().to(device)\n",
        "net"
      ],
      "execution_count": 65,
      "outputs": [
        {
          "output_type": "execute_result",
          "data": {
            "text/plain": [
              "ANN(\n",
              "  (fc_model): Sequential(\n",
              "    (0): Linear(in_features=658, out_features=512, bias=True)\n",
              "    (1): ReLU()\n",
              "    (2): Dropout(p=0.25, inplace=False)\n",
              "    (3): Linear(in_features=512, out_features=512, bias=True)\n",
              "    (4): ReLU()\n",
              "    (5): Dropout(p=0.25, inplace=False)\n",
              "    (6): Linear(in_features=512, out_features=256, bias=True)\n",
              "    (7): Linear(in_features=256, out_features=10, bias=True)\n",
              "  )\n",
              ")"
            ]
          },
          "metadata": {
            "tags": []
          },
          "execution_count": 65
        }
      ]
    },
    {
      "cell_type": "code",
      "metadata": {
        "id": "4tPQBszqyMQh",
        "colab": {
          "base_uri": "https://localhost:8080/"
        },
        "outputId": "b103a731-1798-4f17-cfc0-29786c5c2141"
      },
      "source": [
        "from torchsummary import summary\n",
        "print(summary(net, (1,pca.n_components_)))\n"
      ],
      "execution_count": 66,
      "outputs": [
        {
          "output_type": "stream",
          "text": [
            "----------------------------------------------------------------\n",
            "        Layer (type)               Output Shape         Param #\n",
            "================================================================\n",
            "            Linear-1               [-1, 1, 512]         337,408\n",
            "              ReLU-2               [-1, 1, 512]               0\n",
            "           Dropout-3               [-1, 1, 512]               0\n",
            "            Linear-4               [-1, 1, 512]         262,656\n",
            "              ReLU-5               [-1, 1, 512]               0\n",
            "           Dropout-6               [-1, 1, 512]               0\n",
            "            Linear-7               [-1, 1, 256]         131,328\n",
            "            Linear-8                [-1, 1, 10]           2,570\n",
            "================================================================\n",
            "Total params: 733,962\n",
            "Trainable params: 733,962\n",
            "Non-trainable params: 0\n",
            "----------------------------------------------------------------\n",
            "Input size (MB): 0.00\n",
            "Forward/backward pass size (MB): 0.03\n",
            "Params size (MB): 2.80\n",
            "Estimated Total Size (MB): 2.83\n",
            "----------------------------------------------------------------\n",
            "None\n"
          ],
          "name": "stdout"
        }
      ]
    },
    {
      "cell_type": "code",
      "metadata": {
        "id": "sdtcDvVZiPZs"
      },
      "source": [
        "loss_fn = nn.CrossEntropyLoss()\n",
        "opt = torch.optim.SGD(net.parameters(), lr=0.01)"
      ],
      "execution_count": 67,
      "outputs": []
    },
    {
      "cell_type": "code",
      "metadata": {
        "id": "FakurANPiPZs"
      },
      "source": [
        "def evaluation(dataloader,model):\n",
        "  total , correct = 0,0\n",
        "  for data in dataloader:\n",
        "    inputs,labels = data\n",
        "    inputs,labels = inputs.to(device),labels.to(device)\n",
        "    outputs = model(inputs)\n",
        "    _,pred = torch.max(outputs.data,1)\n",
        "    total += labels.size(0)\n",
        "    # print(\"pred\",pred )\n",
        "    # print(\"labels\",labels.squeeze(1))\n",
        "    correct += (pred == labels.squeeze(1)).sum().item()\n",
        "  return 100 * correct / total\n"
      ],
      "execution_count": 68,
      "outputs": []
    },
    {
      "cell_type": "code",
      "metadata": {
        "id": "0_yqhu-NiPZt",
        "colab": {
          "base_uri": "https://localhost:8080/"
        },
        "outputId": "25852b0c-7200-47cb-8154-bf8683bf668d"
      },
      "source": [
        "# Training Loop\n",
        "\n",
        "loss_epoch_arr_PCA_99_MLP = []\n",
        "max_epochs = 150\n",
        "train_acc_PCA_99_MLP = []\n",
        "val_acc_PCA_99_MLP = []\n",
        "\n",
        "n_iters = np.ceil(50000/batch_size)\n",
        "\n",
        "for epoch in range(max_epochs):\n",
        "\n",
        "    for i, data in enumerate(trainloader, 0):\n",
        "\n",
        "        inputs, labels = data\n",
        "        inputs, labels = inputs.to(device), labels.to(device)\n",
        "\n",
        "        opt.zero_grad()\n",
        "\n",
        "        outputs = net(inputs)\n",
        "\n",
        "        loss = loss_fn(outputs, labels.squeeze(1))\n",
        "        loss.backward()\n",
        "        opt.step()\n",
        "\n",
        "        \n",
        "        del inputs, labels, outputs\n",
        "        torch.cuda.empty_cache()\n",
        "        \n",
        "        if i % 500 == 0:\n",
        "            print('Iteration: %d/%d, Loss: %0.2f' % (i, n_iters, loss.item()))\n",
        "        \n",
        "    loss_epoch_arr_PCA_99_MLP.append(loss.item())\n",
        "    train_acc_PCA_99_MLP.append(evaluation(trainloader, net))\n",
        "    val_acc_PCA_99_MLP.append(evaluation(testloader, net))\n",
        "\n",
        "        \n",
        "    print('Epoch: %d/%d, Test acc: %0.2f, Train acc: %0.2f' % (\n",
        "        epoch + 1, max_epochs, \n",
        "        evaluation(testloader, net), evaluation(trainloader, net)))"
      ],
      "execution_count": 69,
      "outputs": [
        {
          "output_type": "stream",
          "text": [
            "Iteration: 0/782, Loss: 2.30\n",
            "Iteration: 500/782, Loss: 2.19\n",
            "Epoch: 1/150, Test acc: 26.94, Train acc: 26.09\n",
            "Iteration: 0/782, Loss: 2.13\n",
            "Iteration: 500/782, Loss: 2.06\n",
            "Epoch: 2/150, Test acc: 31.61, Train acc: 31.71\n",
            "Iteration: 0/782, Loss: 2.00\n",
            "Iteration: 500/782, Loss: 1.95\n",
            "Epoch: 3/150, Test acc: 36.62, Train acc: 36.16\n",
            "Iteration: 0/782, Loss: 1.89\n",
            "Iteration: 500/782, Loss: 1.87\n",
            "Epoch: 4/150, Test acc: 39.21, Train acc: 38.74\n",
            "Iteration: 0/782, Loss: 1.76\n",
            "Iteration: 500/782, Loss: 1.75\n",
            "Epoch: 5/150, Test acc: 41.14, Train acc: 40.78\n",
            "Iteration: 0/782, Loss: 1.65\n",
            "Iteration: 500/782, Loss: 1.78\n",
            "Epoch: 6/150, Test acc: 42.27, Train acc: 42.66\n",
            "Iteration: 0/782, Loss: 1.69\n",
            "Iteration: 500/782, Loss: 1.77\n",
            "Epoch: 7/150, Test acc: 43.87, Train acc: 44.28\n",
            "Iteration: 0/782, Loss: 1.65\n",
            "Iteration: 500/782, Loss: 1.75\n",
            "Epoch: 8/150, Test acc: 44.70, Train acc: 45.62\n",
            "Iteration: 0/782, Loss: 1.55\n",
            "Iteration: 500/782, Loss: 1.67\n",
            "Epoch: 9/150, Test acc: 46.24, Train acc: 47.07\n",
            "Iteration: 0/782, Loss: 1.53\n",
            "Iteration: 500/782, Loss: 1.57\n",
            "Epoch: 10/150, Test acc: 46.88, Train acc: 48.10\n",
            "Iteration: 0/782, Loss: 1.52\n",
            "Iteration: 500/782, Loss: 1.59\n",
            "Epoch: 11/150, Test acc: 47.88, Train acc: 49.34\n",
            "Iteration: 0/782, Loss: 1.53\n",
            "Iteration: 500/782, Loss: 1.62\n",
            "Epoch: 12/150, Test acc: 48.49, Train acc: 50.27\n",
            "Iteration: 0/782, Loss: 1.57\n",
            "Iteration: 500/782, Loss: 1.50\n",
            "Epoch: 13/150, Test acc: 48.74, Train acc: 51.12\n",
            "Iteration: 0/782, Loss: 1.44\n",
            "Iteration: 500/782, Loss: 1.48\n",
            "Epoch: 14/150, Test acc: 49.39, Train acc: 51.94\n",
            "Iteration: 0/782, Loss: 1.40\n",
            "Iteration: 500/782, Loss: 1.65\n",
            "Epoch: 15/150, Test acc: 49.51, Train acc: 52.86\n",
            "Iteration: 0/782, Loss: 1.36\n",
            "Iteration: 500/782, Loss: 1.53\n",
            "Epoch: 16/150, Test acc: 50.23, Train acc: 53.40\n",
            "Iteration: 0/782, Loss: 1.40\n",
            "Iteration: 500/782, Loss: 1.48\n",
            "Epoch: 17/150, Test acc: 51.04, Train acc: 54.23\n",
            "Iteration: 0/782, Loss: 1.43\n",
            "Iteration: 500/782, Loss: 1.63\n",
            "Epoch: 18/150, Test acc: 50.53, Train acc: 55.05\n",
            "Iteration: 0/782, Loss: 1.32\n",
            "Iteration: 500/782, Loss: 1.58\n",
            "Epoch: 19/150, Test acc: 50.75, Train acc: 55.61\n",
            "Iteration: 0/782, Loss: 1.37\n",
            "Iteration: 500/782, Loss: 1.46\n",
            "Epoch: 20/150, Test acc: 51.37, Train acc: 56.01\n",
            "Iteration: 0/782, Loss: 1.31\n",
            "Iteration: 500/782, Loss: 1.50\n",
            "Epoch: 21/150, Test acc: 51.58, Train acc: 56.51\n",
            "Iteration: 0/782, Loss: 1.35\n",
            "Iteration: 500/782, Loss: 1.49\n",
            "Epoch: 22/150, Test acc: 52.24, Train acc: 57.62\n",
            "Iteration: 0/782, Loss: 1.17\n",
            "Iteration: 500/782, Loss: 1.49\n",
            "Epoch: 23/150, Test acc: 52.30, Train acc: 57.68\n",
            "Iteration: 0/782, Loss: 1.23\n",
            "Iteration: 500/782, Loss: 1.53\n",
            "Epoch: 24/150, Test acc: 52.50, Train acc: 58.54\n",
            "Iteration: 0/782, Loss: 1.23\n",
            "Iteration: 500/782, Loss: 1.48\n",
            "Epoch: 25/150, Test acc: 52.39, Train acc: 59.08\n",
            "Iteration: 0/782, Loss: 1.18\n",
            "Iteration: 500/782, Loss: 1.44\n",
            "Epoch: 26/150, Test acc: 52.38, Train acc: 59.89\n",
            "Iteration: 0/782, Loss: 1.10\n",
            "Iteration: 500/782, Loss: 1.31\n",
            "Epoch: 27/150, Test acc: 52.46, Train acc: 59.92\n",
            "Iteration: 0/782, Loss: 1.12\n",
            "Iteration: 500/782, Loss: 1.30\n",
            "Epoch: 28/150, Test acc: 52.71, Train acc: 60.61\n",
            "Iteration: 0/782, Loss: 1.19\n",
            "Iteration: 500/782, Loss: 1.46\n",
            "Epoch: 29/150, Test acc: 52.48, Train acc: 61.21\n",
            "Iteration: 0/782, Loss: 1.09\n",
            "Iteration: 500/782, Loss: 1.31\n",
            "Epoch: 30/150, Test acc: 52.64, Train acc: 61.77\n",
            "Iteration: 0/782, Loss: 1.21\n",
            "Iteration: 500/782, Loss: 1.21\n",
            "Epoch: 31/150, Test acc: 52.48, Train acc: 62.40\n",
            "Iteration: 0/782, Loss: 1.10\n",
            "Iteration: 500/782, Loss: 1.27\n",
            "Epoch: 32/150, Test acc: 53.29, Train acc: 62.88\n",
            "Iteration: 0/782, Loss: 1.05\n",
            "Iteration: 500/782, Loss: 1.31\n",
            "Epoch: 33/150, Test acc: 52.90, Train acc: 63.38\n",
            "Iteration: 0/782, Loss: 1.08\n",
            "Iteration: 500/782, Loss: 1.20\n",
            "Epoch: 34/150, Test acc: 52.81, Train acc: 63.52\n",
            "Iteration: 0/782, Loss: 0.92\n",
            "Iteration: 500/782, Loss: 1.12\n",
            "Epoch: 35/150, Test acc: 53.08, Train acc: 64.43\n",
            "Iteration: 0/782, Loss: 1.03\n",
            "Iteration: 500/782, Loss: 1.29\n",
            "Epoch: 36/150, Test acc: 52.84, Train acc: 65.13\n",
            "Iteration: 0/782, Loss: 1.08\n",
            "Iteration: 500/782, Loss: 1.11\n",
            "Epoch: 37/150, Test acc: 53.04, Train acc: 65.36\n",
            "Iteration: 0/782, Loss: 1.03\n",
            "Iteration: 500/782, Loss: 1.21\n",
            "Epoch: 38/150, Test acc: 53.09, Train acc: 65.69\n",
            "Iteration: 0/782, Loss: 0.95\n",
            "Iteration: 500/782, Loss: 1.05\n",
            "Epoch: 39/150, Test acc: 53.38, Train acc: 66.11\n",
            "Iteration: 0/782, Loss: 0.81\n",
            "Iteration: 500/782, Loss: 1.09\n",
            "Epoch: 40/150, Test acc: 52.82, Train acc: 66.45\n",
            "Iteration: 0/782, Loss: 0.95\n",
            "Iteration: 500/782, Loss: 1.14\n",
            "Epoch: 41/150, Test acc: 52.92, Train acc: 66.61\n",
            "Iteration: 0/782, Loss: 0.86\n",
            "Iteration: 500/782, Loss: 1.02\n",
            "Epoch: 42/150, Test acc: 53.19, Train acc: 67.59\n",
            "Iteration: 0/782, Loss: 1.04\n",
            "Iteration: 500/782, Loss: 1.00\n",
            "Epoch: 43/150, Test acc: 52.97, Train acc: 68.04\n",
            "Iteration: 0/782, Loss: 0.92\n",
            "Iteration: 500/782, Loss: 0.98\n",
            "Epoch: 44/150, Test acc: 53.73, Train acc: 68.53\n",
            "Iteration: 0/782, Loss: 0.91\n",
            "Iteration: 500/782, Loss: 0.98\n",
            "Epoch: 45/150, Test acc: 53.63, Train acc: 68.90\n",
            "Iteration: 0/782, Loss: 0.88\n",
            "Iteration: 500/782, Loss: 1.09\n",
            "Epoch: 46/150, Test acc: 53.48, Train acc: 69.32\n",
            "Iteration: 0/782, Loss: 0.83\n",
            "Iteration: 500/782, Loss: 0.95\n",
            "Epoch: 47/150, Test acc: 53.39, Train acc: 69.46\n",
            "Iteration: 0/782, Loss: 0.82\n",
            "Iteration: 500/782, Loss: 0.95\n",
            "Epoch: 48/150, Test acc: 53.29, Train acc: 69.88\n",
            "Iteration: 0/782, Loss: 0.87\n",
            "Iteration: 500/782, Loss: 1.02\n",
            "Epoch: 49/150, Test acc: 52.93, Train acc: 69.89\n",
            "Iteration: 0/782, Loss: 0.76\n",
            "Iteration: 500/782, Loss: 1.01\n",
            "Epoch: 50/150, Test acc: 53.34, Train acc: 70.71\n",
            "Iteration: 0/782, Loss: 0.78\n",
            "Iteration: 500/782, Loss: 0.99\n",
            "Epoch: 51/150, Test acc: 52.93, Train acc: 71.42\n",
            "Iteration: 0/782, Loss: 0.71\n",
            "Iteration: 500/782, Loss: 0.84\n",
            "Epoch: 52/150, Test acc: 53.19, Train acc: 71.44\n",
            "Iteration: 0/782, Loss: 0.79\n",
            "Iteration: 500/782, Loss: 0.88\n",
            "Epoch: 53/150, Test acc: 52.48, Train acc: 71.47\n",
            "Iteration: 0/782, Loss: 0.80\n",
            "Iteration: 500/782, Loss: 0.78\n",
            "Epoch: 54/150, Test acc: 53.43, Train acc: 72.52\n",
            "Iteration: 0/782, Loss: 0.73\n",
            "Iteration: 500/782, Loss: 0.83\n",
            "Epoch: 55/150, Test acc: 53.07, Train acc: 72.62\n",
            "Iteration: 0/782, Loss: 0.72\n",
            "Iteration: 500/782, Loss: 0.86\n",
            "Epoch: 56/150, Test acc: 53.04, Train acc: 72.87\n",
            "Iteration: 0/782, Loss: 0.81\n",
            "Iteration: 500/782, Loss: 0.86\n",
            "Epoch: 57/150, Test acc: 53.32, Train acc: 73.53\n",
            "Iteration: 0/782, Loss: 0.63\n",
            "Iteration: 500/782, Loss: 0.93\n",
            "Epoch: 58/150, Test acc: 53.20, Train acc: 73.12\n",
            "Iteration: 0/782, Loss: 0.66\n",
            "Iteration: 500/782, Loss: 0.84\n",
            "Epoch: 59/150, Test acc: 52.44, Train acc: 74.00\n",
            "Iteration: 0/782, Loss: 0.86\n",
            "Iteration: 500/782, Loss: 0.81\n",
            "Epoch: 60/150, Test acc: 52.48, Train acc: 74.43\n",
            "Iteration: 0/782, Loss: 0.61\n",
            "Iteration: 500/782, Loss: 0.72\n",
            "Epoch: 61/150, Test acc: 52.20, Train acc: 74.00\n",
            "Iteration: 0/782, Loss: 0.69\n",
            "Iteration: 500/782, Loss: 0.67\n",
            "Epoch: 62/150, Test acc: 53.11, Train acc: 74.96\n",
            "Iteration: 0/782, Loss: 0.61\n",
            "Iteration: 500/782, Loss: 0.69\n",
            "Epoch: 63/150, Test acc: 53.12, Train acc: 75.67\n",
            "Iteration: 0/782, Loss: 0.70\n",
            "Iteration: 500/782, Loss: 0.74\n",
            "Epoch: 64/150, Test acc: 52.63, Train acc: 75.84\n",
            "Iteration: 0/782, Loss: 0.69\n",
            "Iteration: 500/782, Loss: 0.86\n",
            "Epoch: 65/150, Test acc: 52.33, Train acc: 75.87\n",
            "Iteration: 0/782, Loss: 0.54\n",
            "Iteration: 500/782, Loss: 0.77\n",
            "Epoch: 66/150, Test acc: 53.03, Train acc: 75.94\n",
            "Iteration: 0/782, Loss: 0.67\n",
            "Iteration: 500/782, Loss: 0.55\n",
            "Epoch: 67/150, Test acc: 52.80, Train acc: 76.53\n",
            "Iteration: 0/782, Loss: 0.66\n",
            "Iteration: 500/782, Loss: 0.63\n",
            "Epoch: 68/150, Test acc: 52.86, Train acc: 77.14\n",
            "Iteration: 0/782, Loss: 0.61\n",
            "Iteration: 500/782, Loss: 0.71\n",
            "Epoch: 69/150, Test acc: 53.06, Train acc: 77.37\n",
            "Iteration: 0/782, Loss: 0.66\n",
            "Iteration: 500/782, Loss: 0.82\n",
            "Epoch: 70/150, Test acc: 53.00, Train acc: 77.46\n",
            "Iteration: 0/782, Loss: 0.61\n",
            "Iteration: 500/782, Loss: 0.59\n",
            "Epoch: 71/150, Test acc: 52.45, Train acc: 77.68\n",
            "Iteration: 0/782, Loss: 0.65\n",
            "Iteration: 500/782, Loss: 0.65\n",
            "Epoch: 72/150, Test acc: 52.67, Train acc: 78.17\n",
            "Iteration: 0/782, Loss: 0.63\n",
            "Iteration: 500/782, Loss: 0.65\n",
            "Epoch: 73/150, Test acc: 52.49, Train acc: 78.62\n",
            "Iteration: 0/782, Loss: 0.45\n",
            "Iteration: 500/782, Loss: 0.65\n",
            "Epoch: 74/150, Test acc: 52.79, Train acc: 79.15\n",
            "Iteration: 0/782, Loss: 0.56\n",
            "Iteration: 500/782, Loss: 0.63\n",
            "Epoch: 75/150, Test acc: 52.11, Train acc: 78.47\n",
            "Iteration: 0/782, Loss: 0.56\n",
            "Iteration: 500/782, Loss: 0.72\n",
            "Epoch: 76/150, Test acc: 53.24, Train acc: 79.79\n",
            "Iteration: 0/782, Loss: 0.55\n",
            "Iteration: 500/782, Loss: 0.74\n",
            "Epoch: 77/150, Test acc: 52.53, Train acc: 79.20\n",
            "Iteration: 0/782, Loss: 0.60\n",
            "Iteration: 500/782, Loss: 0.59\n",
            "Epoch: 78/150, Test acc: 52.18, Train acc: 79.55\n",
            "Iteration: 0/782, Loss: 0.62\n",
            "Iteration: 500/782, Loss: 0.86\n",
            "Epoch: 79/150, Test acc: 52.59, Train acc: 79.92\n",
            "Iteration: 0/782, Loss: 0.56\n",
            "Iteration: 500/782, Loss: 0.67\n",
            "Epoch: 80/150, Test acc: 52.24, Train acc: 80.52\n",
            "Iteration: 0/782, Loss: 0.57\n",
            "Iteration: 500/782, Loss: 0.67\n",
            "Epoch: 81/150, Test acc: 52.91, Train acc: 80.21\n",
            "Iteration: 0/782, Loss: 0.72\n",
            "Iteration: 500/782, Loss: 0.55\n",
            "Epoch: 82/150, Test acc: 52.14, Train acc: 80.69\n",
            "Iteration: 0/782, Loss: 0.55\n",
            "Iteration: 500/782, Loss: 0.64\n",
            "Epoch: 83/150, Test acc: 52.20, Train acc: 80.94\n",
            "Iteration: 0/782, Loss: 0.46\n",
            "Iteration: 500/782, Loss: 0.59\n",
            "Epoch: 84/150, Test acc: 52.05, Train acc: 81.29\n",
            "Iteration: 0/782, Loss: 0.59\n",
            "Iteration: 500/782, Loss: 0.59\n",
            "Epoch: 85/150, Test acc: 52.33, Train acc: 82.23\n",
            "Iteration: 0/782, Loss: 0.51\n",
            "Iteration: 500/782, Loss: 0.63\n",
            "Epoch: 86/150, Test acc: 52.47, Train acc: 81.96\n",
            "Iteration: 0/782, Loss: 0.59\n",
            "Iteration: 500/782, Loss: 0.54\n",
            "Epoch: 87/150, Test acc: 52.45, Train acc: 82.00\n",
            "Iteration: 0/782, Loss: 0.53\n",
            "Iteration: 500/782, Loss: 0.48\n",
            "Epoch: 88/150, Test acc: 52.96, Train acc: 82.09\n",
            "Iteration: 0/782, Loss: 0.43\n",
            "Iteration: 500/782, Loss: 0.49\n",
            "Epoch: 89/150, Test acc: 52.02, Train acc: 82.19\n",
            "Iteration: 0/782, Loss: 0.60\n",
            "Iteration: 500/782, Loss: 0.52\n",
            "Epoch: 90/150, Test acc: 52.46, Train acc: 82.23\n",
            "Iteration: 0/782, Loss: 0.41\n",
            "Iteration: 500/782, Loss: 0.63\n",
            "Epoch: 91/150, Test acc: 52.62, Train acc: 82.69\n",
            "Iteration: 0/782, Loss: 0.56\n",
            "Iteration: 500/782, Loss: 0.51\n",
            "Epoch: 92/150, Test acc: 52.20, Train acc: 83.23\n",
            "Iteration: 0/782, Loss: 0.51\n",
            "Iteration: 500/782, Loss: 0.50\n",
            "Epoch: 93/150, Test acc: 52.57, Train acc: 83.16\n",
            "Iteration: 0/782, Loss: 0.40\n",
            "Iteration: 500/782, Loss: 0.47\n",
            "Epoch: 94/150, Test acc: 52.68, Train acc: 83.08\n",
            "Iteration: 0/782, Loss: 0.53\n",
            "Iteration: 500/782, Loss: 0.56\n",
            "Epoch: 95/150, Test acc: 52.40, Train acc: 84.32\n",
            "Iteration: 0/782, Loss: 0.49\n",
            "Iteration: 500/782, Loss: 0.41\n",
            "Epoch: 96/150, Test acc: 51.58, Train acc: 83.18\n",
            "Iteration: 0/782, Loss: 0.37\n",
            "Iteration: 500/782, Loss: 0.50\n",
            "Epoch: 97/150, Test acc: 53.08, Train acc: 83.98\n",
            "Iteration: 0/782, Loss: 0.52\n",
            "Iteration: 500/782, Loss: 0.55\n",
            "Epoch: 98/150, Test acc: 51.88, Train acc: 83.72\n",
            "Iteration: 0/782, Loss: 0.47\n",
            "Iteration: 500/782, Loss: 0.47\n",
            "Epoch: 99/150, Test acc: 52.40, Train acc: 84.45\n",
            "Iteration: 0/782, Loss: 0.49\n",
            "Iteration: 500/782, Loss: 0.40\n",
            "Epoch: 100/150, Test acc: 52.88, Train acc: 84.99\n",
            "Iteration: 0/782, Loss: 0.50\n",
            "Iteration: 500/782, Loss: 0.60\n",
            "Epoch: 101/150, Test acc: 52.47, Train acc: 84.73\n",
            "Iteration: 0/782, Loss: 0.33\n",
            "Iteration: 500/782, Loss: 0.40\n",
            "Epoch: 102/150, Test acc: 52.50, Train acc: 84.88\n",
            "Iteration: 0/782, Loss: 0.36\n",
            "Iteration: 500/782, Loss: 0.42\n",
            "Epoch: 103/150, Test acc: 51.87, Train acc: 84.93\n",
            "Iteration: 0/782, Loss: 0.42\n",
            "Iteration: 500/782, Loss: 0.64\n",
            "Epoch: 104/150, Test acc: 52.63, Train acc: 85.25\n",
            "Iteration: 0/782, Loss: 0.35\n",
            "Iteration: 500/782, Loss: 0.35\n",
            "Epoch: 105/150, Test acc: 52.32, Train acc: 85.96\n",
            "Iteration: 0/782, Loss: 0.38\n",
            "Iteration: 500/782, Loss: 0.35\n",
            "Epoch: 106/150, Test acc: 51.74, Train acc: 84.59\n",
            "Iteration: 0/782, Loss: 0.39\n",
            "Iteration: 500/782, Loss: 0.39\n",
            "Epoch: 107/150, Test acc: 52.17, Train acc: 85.93\n",
            "Iteration: 0/782, Loss: 0.31\n",
            "Iteration: 500/782, Loss: 0.57\n",
            "Epoch: 108/150, Test acc: 52.46, Train acc: 86.11\n",
            "Iteration: 0/782, Loss: 0.38\n",
            "Iteration: 500/782, Loss: 0.44\n",
            "Epoch: 109/150, Test acc: 52.35, Train acc: 85.98\n",
            "Iteration: 0/782, Loss: 0.45\n",
            "Iteration: 500/782, Loss: 0.34\n",
            "Epoch: 110/150, Test acc: 52.35, Train acc: 86.35\n",
            "Iteration: 0/782, Loss: 0.35\n",
            "Iteration: 500/782, Loss: 0.41\n",
            "Epoch: 111/150, Test acc: 51.62, Train acc: 85.69\n",
            "Iteration: 0/782, Loss: 0.30\n",
            "Iteration: 500/782, Loss: 0.42\n",
            "Epoch: 112/150, Test acc: 51.50, Train acc: 85.97\n",
            "Iteration: 0/782, Loss: 0.32\n",
            "Iteration: 500/782, Loss: 0.41\n",
            "Epoch: 113/150, Test acc: 51.40, Train acc: 86.21\n",
            "Iteration: 0/782, Loss: 0.40\n",
            "Iteration: 500/782, Loss: 0.35\n",
            "Epoch: 114/150, Test acc: 52.62, Train acc: 86.86\n",
            "Iteration: 0/782, Loss: 0.34\n",
            "Iteration: 500/782, Loss: 0.23\n",
            "Epoch: 115/150, Test acc: 51.94, Train acc: 87.44\n",
            "Iteration: 0/782, Loss: 0.38\n",
            "Iteration: 500/782, Loss: 0.50\n",
            "Epoch: 116/150, Test acc: 52.00, Train acc: 86.79\n",
            "Iteration: 0/782, Loss: 0.33\n",
            "Iteration: 500/782, Loss: 0.43\n",
            "Epoch: 117/150, Test acc: 51.91, Train acc: 87.22\n",
            "Iteration: 0/782, Loss: 0.45\n",
            "Iteration: 500/782, Loss: 0.34\n",
            "Epoch: 118/150, Test acc: 51.52, Train acc: 87.20\n",
            "Iteration: 0/782, Loss: 0.43\n",
            "Iteration: 500/782, Loss: 0.32\n",
            "Epoch: 119/150, Test acc: 51.61, Train acc: 86.97\n",
            "Iteration: 0/782, Loss: 0.26\n",
            "Iteration: 500/782, Loss: 0.25\n",
            "Epoch: 120/150, Test acc: 52.17, Train acc: 87.45\n",
            "Iteration: 0/782, Loss: 0.41\n",
            "Iteration: 500/782, Loss: 0.56\n",
            "Epoch: 121/150, Test acc: 51.63, Train acc: 87.82\n",
            "Iteration: 0/782, Loss: 0.27\n",
            "Iteration: 500/782, Loss: 0.35\n",
            "Epoch: 122/150, Test acc: 51.82, Train acc: 87.62\n",
            "Iteration: 0/782, Loss: 0.35\n",
            "Iteration: 500/782, Loss: 0.32\n",
            "Epoch: 123/150, Test acc: 52.48, Train acc: 87.97\n",
            "Iteration: 0/782, Loss: 0.36\n",
            "Iteration: 500/782, Loss: 0.30\n",
            "Epoch: 124/150, Test acc: 52.43, Train acc: 87.95\n",
            "Iteration: 0/782, Loss: 0.49\n",
            "Iteration: 500/782, Loss: 0.31\n",
            "Epoch: 125/150, Test acc: 52.43, Train acc: 88.36\n",
            "Iteration: 0/782, Loss: 0.28\n",
            "Iteration: 500/782, Loss: 0.47\n",
            "Epoch: 126/150, Test acc: 51.95, Train acc: 88.35\n",
            "Iteration: 0/782, Loss: 0.27\n",
            "Iteration: 500/782, Loss: 0.24\n",
            "Epoch: 127/150, Test acc: 51.79, Train acc: 88.68\n",
            "Iteration: 0/782, Loss: 0.25\n",
            "Iteration: 500/782, Loss: 0.25\n",
            "Epoch: 128/150, Test acc: 51.89, Train acc: 88.72\n",
            "Iteration: 0/782, Loss: 0.17\n",
            "Iteration: 500/782, Loss: 0.33\n",
            "Epoch: 129/150, Test acc: 51.99, Train acc: 88.30\n",
            "Iteration: 0/782, Loss: 0.29\n",
            "Iteration: 500/782, Loss: 0.29\n",
            "Epoch: 130/150, Test acc: 52.60, Train acc: 88.82\n",
            "Iteration: 0/782, Loss: 0.39\n",
            "Iteration: 500/782, Loss: 0.32\n",
            "Epoch: 131/150, Test acc: 52.59, Train acc: 88.95\n",
            "Iteration: 0/782, Loss: 0.26\n",
            "Iteration: 500/782, Loss: 0.44\n",
            "Epoch: 132/150, Test acc: 52.17, Train acc: 88.45\n",
            "Iteration: 0/782, Loss: 0.37\n",
            "Iteration: 500/782, Loss: 0.37\n",
            "Epoch: 133/150, Test acc: 52.69, Train acc: 88.84\n",
            "Iteration: 0/782, Loss: 0.24\n",
            "Iteration: 500/782, Loss: 0.30\n",
            "Epoch: 134/150, Test acc: 51.66, Train acc: 89.12\n",
            "Iteration: 0/782, Loss: 0.32\n",
            "Iteration: 500/782, Loss: 0.35\n",
            "Epoch: 135/150, Test acc: 52.05, Train acc: 89.09\n",
            "Iteration: 0/782, Loss: 0.21\n",
            "Iteration: 500/782, Loss: 0.35\n",
            "Epoch: 136/150, Test acc: 51.43, Train acc: 89.22\n",
            "Iteration: 0/782, Loss: 0.23\n",
            "Iteration: 500/782, Loss: 0.45\n",
            "Epoch: 137/150, Test acc: 51.75, Train acc: 89.64\n",
            "Iteration: 0/782, Loss: 0.32\n",
            "Iteration: 500/782, Loss: 0.31\n",
            "Epoch: 138/150, Test acc: 52.72, Train acc: 89.86\n",
            "Iteration: 0/782, Loss: 0.24\n",
            "Iteration: 500/782, Loss: 0.18\n",
            "Epoch: 139/150, Test acc: 52.19, Train acc: 89.58\n",
            "Iteration: 0/782, Loss: 0.36\n",
            "Iteration: 500/782, Loss: 0.31\n",
            "Epoch: 140/150, Test acc: 52.15, Train acc: 89.69\n",
            "Iteration: 0/782, Loss: 0.13\n",
            "Iteration: 500/782, Loss: 0.23\n",
            "Epoch: 141/150, Test acc: 52.24, Train acc: 89.64\n",
            "Iteration: 0/782, Loss: 0.38\n",
            "Iteration: 500/782, Loss: 0.33\n",
            "Epoch: 142/150, Test acc: 51.91, Train acc: 89.63\n",
            "Iteration: 0/782, Loss: 0.27\n",
            "Iteration: 500/782, Loss: 0.22\n",
            "Epoch: 143/150, Test acc: 51.71, Train acc: 90.41\n",
            "Iteration: 0/782, Loss: 0.33\n",
            "Iteration: 500/782, Loss: 0.22\n",
            "Epoch: 144/150, Test acc: 52.28, Train acc: 90.39\n",
            "Iteration: 0/782, Loss: 0.17\n",
            "Iteration: 500/782, Loss: 0.29\n",
            "Epoch: 145/150, Test acc: 52.19, Train acc: 89.61\n",
            "Iteration: 0/782, Loss: 0.31\n",
            "Iteration: 500/782, Loss: 0.35\n",
            "Epoch: 146/150, Test acc: 51.88, Train acc: 89.66\n",
            "Iteration: 0/782, Loss: 0.22\n",
            "Iteration: 500/782, Loss: 0.31\n",
            "Epoch: 147/150, Test acc: 51.94, Train acc: 90.45\n",
            "Iteration: 0/782, Loss: 0.19\n",
            "Iteration: 500/782, Loss: 0.25\n",
            "Epoch: 148/150, Test acc: 52.53, Train acc: 90.26\n",
            "Iteration: 0/782, Loss: 0.24\n",
            "Iteration: 500/782, Loss: 0.38\n",
            "Epoch: 149/150, Test acc: 52.46, Train acc: 90.83\n",
            "Iteration: 0/782, Loss: 0.19\n",
            "Iteration: 500/782, Loss: 0.18\n",
            "Epoch: 150/150, Test acc: 52.15, Train acc: 90.76\n"
          ],
          "name": "stdout"
        }
      ]
    },
    {
      "cell_type": "code",
      "metadata": {
        "id": "jfvvpJBokfFN",
        "colab": {
          "base_uri": "https://localhost:8080/",
          "height": 295
        },
        "outputId": "d89aee79-815e-4b39-fe1c-80f99b5615a4"
      },
      "source": [
        "import matplotlib.pyplot as plt\n",
        "\n",
        "fig, ax = plt.subplots()\n",
        "\n",
        "ax.plot(train_acc_PCA_99_MLP,label='Train')\n",
        "ax.plot(val_acc_PCA_99_MLP, label='Validation')\n",
        "\n",
        "plt.title(\"Accuracy Curves(PCA (99% variance) +MLP)\")\n",
        "plt.xlabel(\"Epoch\")\n",
        "plt.ylabel(\"Accuracy\")\n",
        "leg = ax.legend();\n",
        "\n",
        "plt.savefig(\"Accuracy curves\")"
      ],
      "execution_count": 70,
      "outputs": [
        {
          "output_type": "display_data",
          "data": {
            "image/png": "[encoded data removed]",
            "text/plain": [
              "<Figure size 432x288 with 1 Axes>"
            ]
          },
          "metadata": {
            "tags": [],
            "needs_background": "light"
          }
        }
      ]
    },
    {
      "cell_type": "code",
      "metadata": {
        "id": "lIjKRlujkfFO",
        "colab": {
          "base_uri": "https://localhost:8080/",
          "height": 295
        },
        "outputId": "3e0b4924-2b75-4c44-8322-042f2747662d"
      },
      "source": [
        "plt.plot(loss_epoch_arr_PCA_99_MLP)\n",
        "plt.title(\"Loss Curve(PCA (99% variance) +MLP)\")\n",
        "plt.xlabel(\"Epoch\")\n",
        "plt.ylabel(\"Loss\")\n",
        "\n",
        "plt.show()"
      ],
      "execution_count": 71,
      "outputs": [
        {
          "output_type": "display_data",
          "data": {
            "image/png": "[encoded data removed]",
            "text/plain": [
              "<Figure size 432x288 with 1 Axes>"
            ]
          },
          "metadata": {
            "tags": [],
            "needs_background": "light"
          }
        }
      ]
    },
    {
      "cell_type": "markdown",
      "metadata": {
        "id": "i9yM6IfhuKbA"
      },
      "source": [
        "## Train Accuracy PLot"
      ]
    },
    {
      "cell_type": "code",
      "metadata": {
        "id": "dqyyR8NiuOcz",
        "colab": {
          "base_uri": "https://localhost:8080/",
          "height": 295
        },
        "outputId": "a44a006a-9322-4267-a213-8d7e50c967de"
      },
      "source": [
        "fig, ax = plt.subplots()\n",
        "\n",
        "ax.plot(train_acc_MLP,label='MLP')\n",
        "ax.plot(train_acc_CNN_MLP,label='CNN + MLP')\n",
        "ax.plot(train_acc_PCA_90_MLP, label='PCA(90% Variance) + MLP')\n",
        "ax.plot(train_acc_PCA_95_MLP,label='PCA(95% Variance) + MLP')\n",
        "ax.plot(train_acc_PCA_99_MLP, label='PCA(99% Variance) + MLP')\n",
        "\n",
        "plt.title(\"Train Accuracy Curves\")\n",
        "plt.xlabel(\"Epoch\")\n",
        "plt.ylabel(\"Accuracy\")\n",
        "leg = ax.legend();\n",
        "\n",
        "plt.savefig(\"Accuracy curves\")"
      ],
      "execution_count": 73,
      "outputs": [
        {
          "output_type": "display_data",
          "data": {
            "image/png": "[encoded data removed]",
            "text/plain": [
              "<Figure size 432x288 with 1 Axes>"
            ]
          },
          "metadata": {
            "tags": [],
            "needs_background": "light"
          }
        }
      ]
    },
    {
      "cell_type": "markdown",
      "metadata": {
        "id": "cmHQjcLevI36"
      },
      "source": [
        "## Test Accuracy Plot"
      ]
    },
    {
      "cell_type": "code",
      "metadata": {
        "id": "a6cTwHJxvCvz",
        "colab": {
          "base_uri": "https://localhost:8080/",
          "height": 295
        },
        "outputId": "1a2c833d-37d0-4f25-b2ea-762ed41dafda"
      },
      "source": [
        "fig, ax = plt.subplots()\n",
        "\n",
        "ax.plot(val_acc_MLP,label='MLP')\n",
        "ax.plot(val_acc_CNN_MLP,label='CNN + MLP')\n",
        "ax.plot(val_acc_PCA_90_MLP, label='PCA(90% Variance) + MLP')\n",
        "ax.plot(val_acc_PCA_95_MLP,label='PCA(95% Variance) + MLP')\n",
        "ax.plot(val_acc_PCA_99_MLP, label='PCA(99% Variance) + MLP')\n",
        "\n",
        "plt.title(\"Validation Accuracy Curves\")\n",
        "plt.xlabel(\"Epoch\")\n",
        "plt.ylabel(\"Accuracy\")\n",
        "leg = ax.legend();\n",
        "\n",
        "plt.savefig(\"Accuracy curves\")"
      ],
      "execution_count": 75,
      "outputs": [
        {
          "output_type": "display_data",
          "data": {
            "image/png": "[encoded data removed]",
            "text/plain": [
              "<Figure size 432x288 with 1 Axes>"
            ]
          },
          "metadata": {
            "tags": [],
            "needs_background": "light"
          }
        }
      ]
    },
    {
      "cell_type": "markdown",
      "metadata": {
        "id": "3_tsXvEgvm7U"
      },
      "source": [
        "## Loss Curves"
      ]
    },
    {
      "cell_type": "code",
      "metadata": {
        "id": "5NPo5-T6vSBb",
        "colab": {
          "base_uri": "https://localhost:8080/",
          "height": 295
        },
        "outputId": "875c5846-a5dc-430d-d62c-9a60f7f4a3ce"
      },
      "source": [
        "fig, ax = plt.subplots()\n",
        "\n",
        "ax.plot(loss_epoch_arr_MLP,label='MLP')\n",
        "ax.plot(loss_epoch_arr_CNN_MLP,label='CNN + MLP')\n",
        "ax.plot(loss_epoch_arr_PCA_90_MLP, label='PCA(90% Variance) + MLP')\n",
        "ax.plot(loss_epoch_arr_PCA_95_MLP,label='PCA(95% Variance) + MLP')\n",
        "ax.plot(loss_epoch_arr_PCA_99_MLP, label='PCA(99% Variance) + MLP')\n",
        "\n",
        "plt.title(\"Loss Curves\")\n",
        "plt.xlabel(\"Epoch\")\n",
        "plt.ylabel(\"Loss\")\n",
        "leg = ax.legend();\n",
        "\n",
        "plt.savefig(\"Accuracy curves\")"
      ],
      "execution_count": 79,
      "outputs": [
        {
          "output_type": "display_data",
          "data": {
            "image/png": "[encoded data removed]",
            "text/plain": [
              "<Figure size 432x288 with 1 Axes>"
            ]
          },
          "metadata": {
            "tags": [],
            "needs_background": "light"
          }
        }
      ]
    },
    {
      "cell_type": "code",
      "metadata": {
        "id": "S0ZqXDmdYtLe"
      },
      "source": [
        ""
      ],
      "execution_count": null,
      "outputs": []
    }
  ]
}