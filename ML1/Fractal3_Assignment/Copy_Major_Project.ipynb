{
  "nbformat": 4,
  "nbformat_minor": 0,
  "metadata": {
    "colab": {
      "name": "Copy of Major Project.ipynb",
      "provenance": [],
      "collapsed_sections": [],
      "include_colab_link": true
    },
    "kernelspec": {
      "name": "python3",
      "display_name": "Python 3"
    },
    "accelerator": "GPU",
    "widgets": {
      "application/vnd.jupyter.widget-state+json": {
        "9def22e27a0d42f0bff8e9b63db6419d": {
          "model_module": "@jupyter-widgets/controls",
          "model_name": "HBoxModel",
          "state": {
            "_view_name": "HBoxView",
            "_dom_classes": [],
            "_model_name": "HBoxModel",
            "_view_module": "@jupyter-widgets/controls",
            "_model_module_version": "1.5.0",
            "_view_count": null,
            "_view_module_version": "1.5.0",
            "box_style": "",
            "layout": "IPY_MODEL_3a6bf98733034abbb04f7ff1ad2d04ff",
            "_model_module": "@jupyter-widgets/controls",
            "children": [
              "IPY_MODEL_c265587fd4eb4a31b3bf57157a152a21",
              "IPY_MODEL_06ac35f5ac064aa1b0d23ef4a1f058a6"
            ]
          }
        },
        "3a6bf98733034abbb04f7ff1ad2d04ff": {
          "model_module": "@jupyter-widgets/base",
          "model_name": "LayoutModel",
          "state": {
            "_view_name": "LayoutView",
            "grid_template_rows": null,
            "right": null,
            "justify_content": null,
            "_view_module": "@jupyter-widgets/base",
            "overflow": null,
            "_model_module_version": "1.2.0",
            "_view_count": null,
            "flex_flow": null,
            "width": null,
            "min_width": null,
            "border": null,
            "align_items": null,
            "bottom": null,
            "_model_module": "@jupyter-widgets/base",
            "top": null,
            "grid_column": null,
            "overflow_y": null,
            "overflow_x": null,
            "grid_auto_flow": null,
            "grid_area": null,
            "grid_template_columns": null,
            "flex": null,
            "_model_name": "LayoutModel",
            "justify_items": null,
            "grid_row": null,
            "max_height": null,
            "align_content": null,
            "visibility": null,
            "align_self": null,
            "height": null,
            "min_height": null,
            "padding": null,
            "grid_auto_rows": null,
            "grid_gap": null,
            "max_width": null,
            "order": null,
            "_view_module_version": "1.2.0",
            "grid_template_areas": null,
            "object_position": null,
            "object_fit": null,
            "grid_auto_columns": null,
            "margin": null,
            "display": null,
            "left": null
          }
        },
        "c265587fd4eb4a31b3bf57157a152a21": {
          "model_module": "@jupyter-widgets/controls",
          "model_name": "FloatProgressModel",
          "state": {
            "_view_name": "ProgressView",
            "style": "IPY_MODEL_8dd793054f194898ada007335bb3b9a5",
            "_dom_classes": [],
            "description": "",
            "_model_name": "FloatProgressModel",
            "bar_style": "success",
            "max": 170498071,
            "_view_module": "@jupyter-widgets/controls",
            "_model_module_version": "1.5.0",
            "value": 170498071,
            "_view_count": null,
            "_view_module_version": "1.5.0",
            "orientation": "horizontal",
            "min": 0,
            "description_tooltip": null,
            "_model_module": "@jupyter-widgets/controls",
            "layout": "IPY_MODEL_490f53da1aab4ee58b14c01824059830"
          }
        },
        "06ac35f5ac064aa1b0d23ef4a1f058a6": {
          "model_module": "@jupyter-widgets/controls",
          "model_name": "HTMLModel",
          "state": {
            "_view_name": "HTMLView",
            "style": "IPY_MODEL_55234bff81c44a79a0385d4f30118691",
            "_dom_classes": [],
            "description": "",
            "_model_name": "HTMLModel",
            "placeholder": "​",
            "_view_module": "@jupyter-widgets/controls",
            "_model_module_version": "1.5.0",
            "value": " 170499072/? [00:07&lt;00:00, 22141036.98it/s]",
            "_view_count": null,
            "_view_module_version": "1.5.0",
            "description_tooltip": null,
            "_model_module": "@jupyter-widgets/controls",
            "layout": "IPY_MODEL_43c69fed1e9941d385194b95acb95402"
          }
        },
        "8dd793054f194898ada007335bb3b9a5": {
          "model_module": "@jupyter-widgets/controls",
          "model_name": "ProgressStyleModel",
          "state": {
            "_view_name": "StyleView",
            "_model_name": "ProgressStyleModel",
            "description_width": "initial",
            "_view_module": "@jupyter-widgets/base",
            "_model_module_version": "1.5.0",
            "_view_count": null,
            "_view_module_version": "1.2.0",
            "bar_color": null,
            "_model_module": "@jupyter-widgets/controls"
          }
        },
        "490f53da1aab4ee58b14c01824059830": {
          "model_module": "@jupyter-widgets/base",
          "model_name": "LayoutModel",
          "state": {
            "_view_name": "LayoutView",
            "grid_template_rows": null,
            "right": null,
            "justify_content": null,
            "_view_module": "@jupyter-widgets/base",
            "overflow": null,
            "_model_module_version": "1.2.0",
            "_view_count": null,
            "flex_flow": null,
            "width": null,
            "min_width": null,
            "border": null,
            "align_items": null,
            "bottom": null,
            "_model_module": "@jupyter-widgets/base",
            "top": null,
            "grid_column": null,
            "overflow_y": null,
            "overflow_x": null,
            "grid_auto_flow": null,
            "grid_area": null,
            "grid_template_columns": null,
            "flex": null,
            "_model_name": "LayoutModel",
            "justify_items": null,
            "grid_row": null,
            "max_height": null,
            "align_content": null,
            "visibility": null,
            "align_self": null,
            "height": null,
            "min_height": null,
            "padding": null,
            "grid_auto_rows": null,
            "grid_gap": null,
            "max_width": null,
            "order": null,
            "_view_module_version": "1.2.0",
            "grid_template_areas": null,
            "object_position": null,
            "object_fit": null,
            "grid_auto_columns": null,
            "margin": null,
            "display": null,
            "left": null
          }
        },
        "55234bff81c44a79a0385d4f30118691": {
          "model_module": "@jupyter-widgets/controls",
          "model_name": "DescriptionStyleModel",
          "state": {
            "_view_name": "StyleView",
            "_model_name": "DescriptionStyleModel",
            "description_width": "",
            "_view_module": "@jupyter-widgets/base",
            "_model_module_version": "1.5.0",
            "_view_count": null,
            "_view_module_version": "1.2.0",
            "_model_module": "@jupyter-widgets/controls"
          }
        },
        "43c69fed1e9941d385194b95acb95402": {
          "model_module": "@jupyter-widgets/base",
          "model_name": "LayoutModel",
          "state": {
            "_view_name": "LayoutView",
            "grid_template_rows": null,
            "right": null,
            "justify_content": null,
            "_view_module": "@jupyter-widgets/base",
            "overflow": null,
            "_model_module_version": "1.2.0",
            "_view_count": null,
            "flex_flow": null,
            "width": null,
            "min_width": null,
            "border": null,
            "align_items": null,
            "bottom": null,
            "_model_module": "@jupyter-widgets/base",
            "top": null,
            "grid_column": null,
            "overflow_y": null,
            "overflow_x": null,
            "grid_auto_flow": null,
            "grid_area": null,
            "grid_template_columns": null,
            "flex": null,
            "_model_name": "LayoutModel",
            "justify_items": null,
            "grid_row": null,
            "max_height": null,
            "align_content": null,
            "visibility": null,
            "align_self": null,
            "height": null,
            "min_height": null,
            "padding": null,
            "grid_auto_rows": null,
            "grid_gap": null,
            "max_width": null,
            "order": null,
            "_view_module_version": "1.2.0",
            "grid_template_areas": null,
            "object_position": null,
            "object_fit": null,
            "grid_auto_columns": null,
            "margin": null,
            "display": null,
            "left": null
          }
        }
      }
    }
  },
  "cells": [
    {
      "cell_type": "markdown",
      "metadata": {
        "id": "view-in-github",
        "colab_type": "text"
      },
      "source": [
        "<a href=\"https://colab.research.google.com/github/sagar9926/MTech_Atificial_Intelligence/blob/main/ML1/Fractal3_Assignment/Copy_Major_Project.ipynb\" target=\"_parent\"><img src=\"https://colab.research.google.com/assets/colab-badge.svg\" alt=\"Open In Colab\"/></a>"
      ]
    },
    {
      "cell_type": "code",
      "metadata": {
        "id": "qTPs33yVVlZH"
      },
      "source": [
        "# Importing the libraries\n",
        "import matplotlib.pyplot as plt\n",
        "import numpy as np\n",
        "\n",
        "import torch\n",
        "import torchvision\n",
        "import torchvision.transforms as transforms\n",
        "import torch.nn as nn\n",
        "\n",
        "\n",
        "import torch.nn.functional as F\n",
        "import torch.optim as optim\n",
        "import math\n",
        "import albumentations as A\n",
        "import copy"
      ],
      "execution_count": 1,
      "outputs": []
    },
    {
      "cell_type": "code",
      "metadata": {
        "id": "xRZWVZZNVq0_",
        "colab": {
          "base_uri": "https://localhost:8080/"
        },
        "outputId": "c128a4a7-3273-4971-bffe-764e7c26747b"
      },
      "source": [
        "device = torch.device(\"cuda:0\" if torch.cuda.is_available() else \"cpu\")\n",
        "print(device)"
      ],
      "execution_count": 2,
      "outputs": [
        {
          "output_type": "stream",
          "text": [
            "cuda:0\n"
          ],
          "name": "stdout"
        }
      ]
    },
    {
      "cell_type": "markdown",
      "metadata": {
        "id": "DCjc5GAeWAJP"
      },
      "source": [
        "## Dataset, transforms, and visualisation"
      ]
    },
    {
      "cell_type": "code",
      "metadata": {
        "id": "D25rwHjfWAl2"
      },
      "source": [
        "# Transforming train and test dataset\n",
        "\n",
        "transform_train = transforms.Compose([\n",
        "    transforms.RandomRotation((-14.0, 14.0)),\n",
        "    transforms.ToTensor(),\n",
        "    transforms.Normalize((0.4913997551666284, 0.48215855929893703, 0.4465309133731618), (0.24703225141799082, 0.24348516474564, 0.26158783926049628)),\n",
        "    transforms.RandomErasing(),\n",
        "    ])\n",
        "\n",
        "transform_test = transforms.Compose([\n",
        "    transforms.ToTensor(),\n",
        "    transforms.Normalize((0.4913997551666284, 0.48215855929893703, 0.4465309133731618), (0.24703225141799082, 0.24348516474564, 0.26158783926049628)),\n",
        "    ])"
      ],
      "execution_count": 3,
      "outputs": []
    },
    {
      "cell_type": "code",
      "metadata": {
        "id": "W6HJZgHXXF1z",
        "colab": {
          "base_uri": "https://localhost:8080/",
          "height": 119,
          "referenced_widgets": [
            "9def22e27a0d42f0bff8e9b63db6419d",
            "3a6bf98733034abbb04f7ff1ad2d04ff",
            "c265587fd4eb4a31b3bf57157a152a21",
            "06ac35f5ac064aa1b0d23ef4a1f058a6",
            "8dd793054f194898ada007335bb3b9a5",
            "490f53da1aab4ee58b14c01824059830",
            "55234bff81c44a79a0385d4f30118691",
            "43c69fed1e9941d385194b95acb95402"
          ]
        },
        "outputId": "0c27754a-8bfe-4998-f83d-1f905afc63a6"
      },
      "source": [
        "# Downloading the data\n",
        "trainset = torchvision.datasets.CIFAR10(root='./data', train=True, \n",
        "                                        download=True, \n",
        "                                        transform=transform_train)\n",
        "testset = torchvision.datasets.CIFAR10(root='./data', train=False, \n",
        "                                        download=True, \n",
        "                                        transform=transform_test)"
      ],
      "execution_count": 4,
      "outputs": [
        {
          "output_type": "stream",
          "text": [
            "Downloading https://www.cs.toronto.edu/~kriz/cifar-10-python.tar.gz to ./data/cifar-10-python.tar.gz\n"
          ],
          "name": "stdout"
        },
        {
          "output_type": "display_data",
          "data": {
            "application/vnd.jupyter.widget-view+json": {
              "model_id": "9def22e27a0d42f0bff8e9b63db6419d",
              "version_minor": 0,
              "version_major": 2
            },
            "text/plain": [
              "HBox(children=(FloatProgress(value=0.0, max=170498071.0), HTML(value='')))"
            ]
          },
          "metadata": {
            "tags": []
          }
        },
        {
          "output_type": "stream",
          "text": [
            "\n",
            "Extracting ./data/cifar-10-python.tar.gz to ./data\n",
            "Files already downloaded and verified\n"
          ],
          "name": "stdout"
        }
      ]
    },
    {
      "cell_type": "code",
      "metadata": {
        "id": "BkRISj_rXGT3"
      },
      "source": [
        "num_classes = 10\n",
        "\n",
        "batch_size = 4\n",
        "\n",
        "trainloader = torch.utils.data.DataLoader(trainset, batch_size=batch_size, shuffle=True)"
      ],
      "execution_count": 5,
      "outputs": []
    },
    {
      "cell_type": "markdown",
      "metadata": {
        "id": "iP5Ekr7ZxBm9"
      },
      "source": [
        "## Visualising Images : "
      ]
    },
    {
      "cell_type": "code",
      "metadata": {
        "id": "GwORhlamXKdT",
        "colab": {
          "base_uri": "https://localhost:8080/"
        },
        "outputId": "bb43fe2d-b47d-4794-a47b-383ab66f57ae"
      },
      "source": [
        "dataiter = iter(trainloader)\n",
        "images, labels = dataiter.next()\n",
        "\n",
        "print(images.shape)\n",
        "\n",
        "print(images[1].shape)\n",
        "print(labels[1].item())"
      ],
      "execution_count": 6,
      "outputs": [
        {
          "output_type": "stream",
          "text": [
            "torch.Size([4, 3, 32, 32])\n",
            "torch.Size([3, 32, 32])\n",
            "4\n"
          ],
          "name": "stdout"
        }
      ]
    },
    {
      "cell_type": "code",
      "metadata": {
        "id": "nhsRhWAHXPpy"
      },
      "source": [
        "def imshow(img, title):\n",
        "    npimg = img.numpy() / 2 + 0.5 # denormalising the image\n",
        "    plt.figure(figsize=(batch_size*20, 2))\n",
        "    plt.axis('off')\n",
        "    plt.imshow(np.transpose(npimg, (1, 2, 0)))\n",
        "    plt.title(title)\n",
        "    plt.show()"
      ],
      "execution_count": 7,
      "outputs": []
    },
    {
      "cell_type": "code",
      "metadata": {
        "id": "yDq09BilXtia"
      },
      "source": [
        "def show_batch_images(dataloader):\n",
        "    images, labels = next(iter(dataloader))\n",
        "    img = torchvision.utils.make_grid(images) # puts together images to form a bigger image\n",
        "    imshow(img, title=[trainset.classes[x.item()] for x in labels])"
      ],
      "execution_count": 8,
      "outputs": []
    },
    {
      "cell_type": "code",
      "metadata": {
        "id": "TNRVNTz6Xt_C",
        "colab": {
          "base_uri": "https://localhost:8080/",
          "height": 643
        },
        "outputId": "e2e1d963-2bbe-4c55-9b75-00546c20a7ad"
      },
      "source": [
        "for i in range(4):\n",
        "    show_batch_images(trainloader)"
      ],
      "execution_count": 9,
      "outputs": [
        {
          "output_type": "stream",
          "text": [
            "Clipping input data to the valid range for imshow with RGB data ([0..1] for floats or [0..255] for integers).\n"
          ],
          "name": "stderr"
        },
        {
          "output_type": "display_data",
          "data": {
            "image/png": "[encoded data removed]",
            "text/plain": [
              "<Figure size 5760x144 with 1 Axes>"
            ]
          },
          "metadata": {
            "tags": [],
            "needs_background": "light"
          }
        },
        {
          "output_type": "stream",
          "text": [
            "Clipping input data to the valid range for imshow with RGB data ([0..1] for floats or [0..255] for integers).\n"
          ],
          "name": "stderr"
        },
        {
          "output_type": "display_data",
          "data": {
            "image/png": "[encoded data removed]",
            "text/plain": [
              "<Figure size 5760x144 with 1 Axes>"
            ]
          },
          "metadata": {
            "tags": [],
            "needs_background": "light"
          }
        },
        {
          "output_type": "stream",
          "text": [
            "Clipping input data to the valid range for imshow with RGB data ([0..1] for floats or [0..255] for integers).\n"
          ],
          "name": "stderr"
        },
        {
          "output_type": "display_data",
          "data": {
            "image/png": "[encoded data removed]",
            "text/plain": [
              "<Figure size 5760x144 with 1 Axes>"
            ]
          },
          "metadata": {
            "tags": [],
            "needs_background": "light"
          }
        },
        {
          "output_type": "stream",
          "text": [
            "Clipping input data to the valid range for imshow with RGB data ([0..1] for floats or [0..255] for integers).\n"
          ],
          "name": "stderr"
        },
        {
          "output_type": "display_data",
          "data": {
            "image/png": "[encoded data removed]",
            "text/plain": [
              "<Figure size 5760x144 with 1 Axes>"
            ]
          },
          "metadata": {
            "tags": [],
            "needs_background": "light"
          }
        }
      ]
    },
    {
      "cell_type": "markdown",
      "metadata": {
        "id": "e5nVg6DejCQJ"
      },
      "source": [
        "## Custom Model Architecture"
      ]
    },
    {
      "cell_type": "code",
      "metadata": {
        "id": "r8H9s8-ra-31"
      },
      "source": [
        "class Net(nn.Module):\n",
        "    def __init__(self):\n",
        "        super(Net, self).__init__()\n",
        "        # Input Block\n",
        "        self.convblock1 = nn.Sequential(\n",
        "            nn.Conv2d(in_channels=3, out_channels=48, kernel_size=(3, 3), padding=1, bias=False),\n",
        "            nn.BatchNorm2d(48),   \n",
        "            nn.ReLU()\n",
        "         \n",
        "        ) # output_size = [N , 48 , 32 , 32]\n",
        "\n",
        "        self.convblock2 = nn.Sequential(\n",
        "            nn.Conv2d(in_channels=48, out_channels=48, kernel_size=(3, 3), padding=0, bias=False),\n",
        "            nn.BatchNorm2d(48),   \n",
        "            nn.ReLU()\n",
        "         \n",
        "        ) # output_size = [N , 48 , 30 , 30]\n",
        "\n",
        "        # pooling layer\n",
        "        self.pool1 = nn.MaxPool2d(2, 2) # output_size = [N , 48 , 15 , 15]\n",
        "\n",
        "        self.convblock3 = nn.Sequential(\n",
        "            nn.Dropout(0.25),\n",
        "            nn.Conv2d(in_channels=48, out_channels=96, kernel_size=(3, 3), padding=1, bias=False),\n",
        "            nn.BatchNorm2d(96), \n",
        "            nn.ReLU()\n",
        "        ) # output_size = [N , 96 , 15 , 15]\n",
        "\n",
        "        self.convblock4 = nn.Sequential(\n",
        "            #nn.Dropout(0.25),\n",
        "            nn.Conv2d(in_channels=96, out_channels=96, kernel_size=(3, 3), padding=0, bias=False),\n",
        "            nn.BatchNorm2d(96), \n",
        "            nn.ReLU()\n",
        "        ) # output_size = [N , 96 , 13 , 13]\n",
        "\n",
        "        # pooling layer\n",
        "        self.pool2 = nn.MaxPool2d(2, 2) # output_size = [N , 96 , 6 , 6]\n",
        "\n",
        "        self.convblock5 = nn.Sequential(\n",
        "            nn.Dropout(0.25),\n",
        "            nn.Conv2d(in_channels=96, out_channels=192, kernel_size=(3, 3), padding=1, bias=False),\n",
        "            nn.BatchNorm2d(192),\n",
        "            nn.ReLU()\n",
        "        ) # output_size = [N , 192 , 6 , 6]\n",
        "\n",
        "        self.convblock6 = nn.Sequential(\n",
        "            nn.Conv2d(in_channels=192, out_channels=192, kernel_size=(3, 3), padding=0, bias=False),\n",
        "            nn.BatchNorm2d(192),\n",
        "            nn.ReLU(),\n",
        "            nn.Dropout(0.25)\n",
        "        ) # output_size = [N , 192 , 4 , 4]\n",
        "\n",
        "        self.fc_model = nn.Sequential(\n",
        "            nn.Linear(3072*2,512),         # (N, 3072*2) -> (N, 512)\n",
        "            nn.ReLU(),\n",
        "            nn.Dropout(0.25),\n",
        "            nn.Linear(512,512),             # (N, 512) -> (N, 512)\n",
        "            nn.ReLU(),\n",
        "            nn.Dropout(0.25),\n",
        "            nn.Linear(512,256),          # (N, 512) -> (N, 256)\n",
        "            nn.Linear(256,10)            # (N, 256)  -> (N, 10)\n",
        "        )\n",
        "      \n",
        "\n",
        "    def forward(self, x):\n",
        "        img = copy.deepcopy(x)\n",
        "               \n",
        "        x = self.convblock1(x)\n",
        "        x = self.convblock2(x)\n",
        "        x = self.pool1(x)\n",
        "\n",
        "        \n",
        "        x = self.convblock3(x)\n",
        "        x = self.convblock4(x)\n",
        "        x = self.pool2(x)\n",
        "\n",
        "        x = self.convblock5(x)\n",
        "        x = self.convblock6(x)\n",
        "        x = x.view(x.size(0), -1) # (N, 16, 5, 5) -> (N, 400)\n",
        "        \n",
        "        #Skip connection feeding input image directly into Fully connected layers\n",
        "        x = torch.cat((x,img.reshape(x.size(0),-1)),dim = 1)\n",
        "        \n",
        "        x = self.fc_model(x)\n",
        "\n",
        "        return F.log_softmax(x, dim=-1)\n"
      ],
      "execution_count": 10,
      "outputs": []
    },
    {
      "cell_type": "code",
      "metadata": {
        "colab": {
          "base_uri": "https://localhost:8080/"
        },
        "id": "ulSOBGU9hqZv",
        "outputId": "1c2fa4b5-3a45-4d5d-fd18-754414b00c27"
      },
      "source": [
        "from torchsummary import summary\n",
        "net = Net().to(device)\n",
        "print(summary(net, (3, 32, 32)))\n"
      ],
      "execution_count": 11,
      "outputs": [
        {
          "output_type": "stream",
          "text": [
            "----------------------------------------------------------------\n",
            "        Layer (type)               Output Shape         Param #\n",
            "================================================================\n",
            "            Conv2d-1           [-1, 48, 32, 32]           1,296\n",
            "       BatchNorm2d-2           [-1, 48, 32, 32]              96\n",
            "              ReLU-3           [-1, 48, 32, 32]               0\n",
            "            Conv2d-4           [-1, 48, 30, 30]          20,736\n",
            "       BatchNorm2d-5           [-1, 48, 30, 30]              96\n",
            "              ReLU-6           [-1, 48, 30, 30]               0\n",
            "         MaxPool2d-7           [-1, 48, 15, 15]               0\n",
            "           Dropout-8           [-1, 48, 15, 15]               0\n",
            "            Conv2d-9           [-1, 96, 15, 15]          41,472\n",
            "      BatchNorm2d-10           [-1, 96, 15, 15]             192\n",
            "             ReLU-11           [-1, 96, 15, 15]               0\n",
            "           Conv2d-12           [-1, 96, 13, 13]          82,944\n",
            "      BatchNorm2d-13           [-1, 96, 13, 13]             192\n",
            "             ReLU-14           [-1, 96, 13, 13]               0\n",
            "        MaxPool2d-15             [-1, 96, 6, 6]               0\n",
            "          Dropout-16             [-1, 96, 6, 6]               0\n",
            "           Conv2d-17            [-1, 192, 6, 6]         165,888\n",
            "      BatchNorm2d-18            [-1, 192, 6, 6]             384\n",
            "             ReLU-19            [-1, 192, 6, 6]               0\n",
            "           Conv2d-20            [-1, 192, 4, 4]         331,776\n",
            "      BatchNorm2d-21            [-1, 192, 4, 4]             384\n",
            "             ReLU-22            [-1, 192, 4, 4]               0\n",
            "          Dropout-23            [-1, 192, 4, 4]               0\n",
            "           Linear-24                  [-1, 512]       3,146,240\n",
            "             ReLU-25                  [-1, 512]               0\n",
            "          Dropout-26                  [-1, 512]               0\n",
            "           Linear-27                  [-1, 512]         262,656\n",
            "             ReLU-28                  [-1, 512]               0\n",
            "          Dropout-29                  [-1, 512]               0\n",
            "           Linear-30                  [-1, 256]         131,328\n",
            "           Linear-31                   [-1, 10]           2,570\n",
            "================================================================\n",
            "Total params: 4,188,250\n",
            "Trainable params: 4,188,250\n",
            "Non-trainable params: 0\n",
            "----------------------------------------------------------------\n",
            "Input size (MB): 0.01\n",
            "Forward/backward pass size (MB): 3.47\n",
            "Params size (MB): 15.98\n",
            "Estimated Total Size (MB): 19.46\n",
            "----------------------------------------------------------------\n",
            "None\n"
          ],
          "name": "stdout"
        }
      ]
    },
    {
      "cell_type": "markdown",
      "metadata": {
        "id": "XW2JOD0ucQUv"
      },
      "source": [
        "## Train CIFAR10 (CNN + MLP)"
      ]
    },
    {
      "cell_type": "code",
      "metadata": {
        "id": "bacgFGD3cQrl"
      },
      "source": [
        "batch_size = 64\n",
        "\n",
        "trainloader = torch.utils.data.DataLoader(trainset,batch_size=batch_size,shuffle = True)\n",
        "testloader = torch.utils.data.DataLoader(testset, batch_size=batch_size, shuffle=False)"
      ],
      "execution_count": 12,
      "outputs": []
    },
    {
      "cell_type": "code",
      "metadata": {
        "id": "dKparHasckIz"
      },
      "source": [
        "def evaluation(dataloader,model):\n",
        "  total , correct = 0,0\n",
        "  for data in dataloader:\n",
        "    inputs,labels = data\n",
        "    inputs,labels = inputs.to(device),labels.to(device)\n",
        "    outputs = model(inputs)\n",
        "    _,pred = torch.max(outputs.data,1)\n",
        "    total += labels.size(0)\n",
        "    correct += (pred == labels).sum().item()\n",
        "  return 100 * correct / total\n"
      ],
      "execution_count": 13,
      "outputs": []
    },
    {
      "cell_type": "code",
      "metadata": {
        "id": "uwrMAbUxdrFK"
      },
      "source": [
        "# Initialise and move model to Cuda\n",
        "net = Net().to(device)\n",
        "\n",
        "#this takes into consideration that we have to differentiate through softmax layer, given softmax is not applied in our vgg\n",
        "loss_fn = nn.CrossEntropyLoss() \n",
        "opt = optim.SGD(net.parameters(), lr=0.01,momentum = 0.9)\n",
        "#scheduler = torch.optim.lr_scheduler.StepLR(opt, step_size=len(trainloader)*10, gamma=0.01)\n"
      ],
      "execution_count": 14,
      "outputs": []
    },
    {
      "cell_type": "code",
      "metadata": {
        "id": "NeCHxBL8eMwy",
        "colab": {
          "base_uri": "https://localhost:8080/"
        },
        "outputId": "a542ada5-ab0b-4b3d-e61e-1d917614df6d"
      },
      "source": [
        "# Training Loop\n",
        "\n",
        "loss_epoch_arr_CNN_MLP = []\n",
        "max_epochs = 150\n",
        "train_acc_CNN_MLP = []\n",
        "val_acc_CNN_MLP = []\n",
        "\n",
        "n_iters = np.ceil(50000/batch_size)\n",
        "\n",
        "for epoch in range(max_epochs):\n",
        "\n",
        "    for i, data in enumerate(trainloader, 0):\n",
        "\n",
        "        inputs, labels = data\n",
        "        inputs, labels = inputs.to(device), labels.to(device)\n",
        "\n",
        "        opt.zero_grad()\n",
        "\n",
        "        outputs = net(inputs)\n",
        "        loss = loss_fn(outputs, labels)\n",
        "        loss.backward()\n",
        "        opt.step()\n",
        "        #scheduler.step()\n",
        "        \n",
        "        del inputs, labels, outputs\n",
        "        torch.cuda.empty_cache()\n",
        "        \n",
        "        if i % 500 == 0:\n",
        "            print('Iteration: %d/%d, Loss: %0.2f' % (i, n_iters, loss.item()))\n",
        "        \n",
        "    loss_epoch_arr_CNN_MLP.append(loss.item())\n",
        "    train_acc_CNN_MLP.append(evaluation(trainloader, net))\n",
        "    val_acc_CNN_MLP.append(evaluation(testloader, net))\n",
        "\n",
        "        \n",
        "    print('Epoch: %d/%d, Test acc: %0.2f, Train acc: %0.2f' % (\n",
        "        epoch + 1, max_epochs, \n",
        "        evaluation(testloader, net), evaluation(trainloader, net)))"
      ],
      "execution_count": 15,
      "outputs": [
        {
          "output_type": "stream",
          "text": [
            "Iteration: 0/782, Loss: 2.31\n",
            "Iteration: 500/782, Loss: 1.28\n",
            "Epoch: 1/150, Test acc: 53.38, Train acc: 51.12\n",
            "Iteration: 0/782, Loss: 1.28\n",
            "Iteration: 500/782, Loss: 1.03\n",
            "Epoch: 2/150, Test acc: 63.01, Train acc: 60.66\n",
            "Iteration: 0/782, Loss: 1.41\n",
            "Iteration: 500/782, Loss: 0.99\n",
            "Epoch: 3/150, Test acc: 65.81, Train acc: 62.98\n",
            "Iteration: 0/782, Loss: 1.13\n",
            "Iteration: 500/782, Loss: 0.76\n",
            "Epoch: 4/150, Test acc: 70.14, Train acc: 66.98\n",
            "Iteration: 0/782, Loss: 1.12\n",
            "Iteration: 500/782, Loss: 0.92\n",
            "Epoch: 5/150, Test acc: 71.41, Train acc: 68.89\n",
            "Iteration: 0/782, Loss: 0.88\n",
            "Iteration: 500/782, Loss: 1.02\n",
            "Epoch: 6/150, Test acc: 73.66, Train acc: 70.91\n",
            "Iteration: 0/782, Loss: 0.65\n",
            "Iteration: 500/782, Loss: 0.59\n",
            "Epoch: 7/150, Test acc: 74.51, Train acc: 71.63\n",
            "Iteration: 0/782, Loss: 0.75\n",
            "Iteration: 500/782, Loss: 0.85\n",
            "Epoch: 8/150, Test acc: 76.13, Train acc: 73.53\n",
            "Iteration: 0/782, Loss: 0.96\n",
            "Iteration: 500/782, Loss: 0.56\n",
            "Epoch: 9/150, Test acc: 76.72, Train acc: 73.75\n",
            "Iteration: 0/782, Loss: 0.59\n",
            "Iteration: 500/782, Loss: 0.87\n",
            "Epoch: 10/150, Test acc: 76.89, Train acc: 74.78\n",
            "Iteration: 0/782, Loss: 0.83\n",
            "Iteration: 500/782, Loss: 0.80\n",
            "Epoch: 11/150, Test acc: 77.77, Train acc: 76.07\n",
            "Iteration: 0/782, Loss: 0.68\n",
            "Iteration: 500/782, Loss: 0.74\n",
            "Epoch: 12/150, Test acc: 78.42, Train acc: 76.86\n",
            "Iteration: 0/782, Loss: 0.80\n",
            "Iteration: 500/782, Loss: 0.58\n",
            "Epoch: 13/150, Test acc: 78.83, Train acc: 76.65\n",
            "Iteration: 0/782, Loss: 0.96\n",
            "Iteration: 500/782, Loss: 0.60\n",
            "Epoch: 14/150, Test acc: 78.96, Train acc: 78.13\n",
            "Iteration: 0/782, Loss: 0.56\n",
            "Iteration: 500/782, Loss: 0.93\n",
            "Epoch: 15/150, Test acc: 79.05, Train acc: 78.19\n",
            "Iteration: 0/782, Loss: 0.47\n",
            "Iteration: 500/782, Loss: 0.64\n",
            "Epoch: 16/150, Test acc: 79.22, Train acc: 79.25\n",
            "Iteration: 0/782, Loss: 0.73\n",
            "Iteration: 500/782, Loss: 0.54\n",
            "Epoch: 17/150, Test acc: 79.73, Train acc: 79.47\n",
            "Iteration: 0/782, Loss: 0.53\n",
            "Iteration: 500/782, Loss: 0.52\n",
            "Epoch: 18/150, Test acc: 79.62, Train acc: 80.31\n",
            "Iteration: 0/782, Loss: 0.44\n",
            "Iteration: 500/782, Loss: 0.50\n",
            "Epoch: 19/150, Test acc: 80.66, Train acc: 80.36\n",
            "Iteration: 0/782, Loss: 0.44\n",
            "Iteration: 500/782, Loss: 0.48\n",
            "Epoch: 20/150, Test acc: 80.89, Train acc: 80.73\n",
            "Iteration: 0/782, Loss: 0.55\n",
            "Iteration: 500/782, Loss: 0.59\n",
            "Epoch: 21/150, Test acc: 80.42, Train acc: 81.75\n",
            "Iteration: 0/782, Loss: 0.49\n",
            "Iteration: 500/782, Loss: 0.53\n",
            "Epoch: 22/150, Test acc: 80.96, Train acc: 81.35\n",
            "Iteration: 0/782, Loss: 0.66\n",
            "Iteration: 500/782, Loss: 0.70\n",
            "Epoch: 23/150, Test acc: 80.54, Train acc: 81.39\n",
            "Iteration: 0/782, Loss: 0.37\n",
            "Iteration: 500/782, Loss: 0.56\n",
            "Epoch: 24/150, Test acc: 81.68, Train acc: 82.75\n",
            "Iteration: 0/782, Loss: 0.52\n",
            "Iteration: 500/782, Loss: 0.43\n",
            "Epoch: 25/150, Test acc: 81.50, Train acc: 82.92\n",
            "Iteration: 0/782, Loss: 0.56\n",
            "Iteration: 500/782, Loss: 0.43\n",
            "Epoch: 26/150, Test acc: 81.46, Train acc: 83.39\n",
            "Iteration: 0/782, Loss: 0.55\n",
            "Iteration: 500/782, Loss: 0.55\n",
            "Epoch: 27/150, Test acc: 81.20, Train acc: 83.50\n",
            "Iteration: 0/782, Loss: 0.53\n",
            "Iteration: 500/782, Loss: 0.63\n",
            "Epoch: 28/150, Test acc: 80.89, Train acc: 83.26\n",
            "Iteration: 0/782, Loss: 0.44\n",
            "Iteration: 500/782, Loss: 0.66\n",
            "Epoch: 29/150, Test acc: 81.98, Train acc: 84.07\n",
            "Iteration: 0/782, Loss: 0.47\n",
            "Iteration: 500/782, Loss: 0.45\n",
            "Epoch: 30/150, Test acc: 81.07, Train acc: 83.78\n",
            "Iteration: 0/782, Loss: 0.71\n",
            "Iteration: 500/782, Loss: 0.42\n",
            "Epoch: 31/150, Test acc: 82.33, Train acc: 84.51\n",
            "Iteration: 0/782, Loss: 0.38\n",
            "Iteration: 500/782, Loss: 0.49\n",
            "Epoch: 32/150, Test acc: 82.06, Train acc: 84.51\n",
            "Iteration: 0/782, Loss: 0.35\n",
            "Iteration: 500/782, Loss: 0.27\n",
            "Epoch: 33/150, Test acc: 82.43, Train acc: 84.87\n",
            "Iteration: 0/782, Loss: 0.41\n",
            "Iteration: 500/782, Loss: 0.61\n",
            "Epoch: 34/150, Test acc: 82.99, Train acc: 85.48\n",
            "Iteration: 0/782, Loss: 0.37\n",
            "Iteration: 500/782, Loss: 0.47\n",
            "Epoch: 35/150, Test acc: 83.19, Train acc: 85.67\n",
            "Iteration: 0/782, Loss: 0.72\n",
            "Iteration: 500/782, Loss: 0.60\n",
            "Epoch: 36/150, Test acc: 82.37, Train acc: 85.52\n",
            "Iteration: 0/782, Loss: 0.48\n",
            "Iteration: 500/782, Loss: 0.61\n",
            "Epoch: 37/150, Test acc: 82.62, Train acc: 86.02\n",
            "Iteration: 0/782, Loss: 0.34\n",
            "Iteration: 500/782, Loss: 0.48\n",
            "Epoch: 38/150, Test acc: 82.40, Train acc: 85.97\n",
            "Iteration: 0/782, Loss: 0.54\n",
            "Iteration: 500/782, Loss: 0.42\n",
            "Epoch: 39/150, Test acc: 83.10, Train acc: 86.74\n",
            "Iteration: 0/782, Loss: 0.45\n",
            "Iteration: 500/782, Loss: 0.48\n",
            "Epoch: 40/150, Test acc: 82.95, Train acc: 85.77\n",
            "Iteration: 0/782, Loss: 0.26\n",
            "Iteration: 500/782, Loss: 0.17\n",
            "Epoch: 41/150, Test acc: 82.74, Train acc: 86.18\n",
            "Iteration: 0/782, Loss: 0.32\n",
            "Iteration: 500/782, Loss: 0.52\n",
            "Epoch: 42/150, Test acc: 82.70, Train acc: 86.68\n",
            "Iteration: 0/782, Loss: 0.45\n",
            "Iteration: 500/782, Loss: 0.32\n",
            "Epoch: 43/150, Test acc: 82.72, Train acc: 87.21\n",
            "Iteration: 0/782, Loss: 0.50\n",
            "Iteration: 500/782, Loss: 0.38\n",
            "Epoch: 44/150, Test acc: 83.12, Train acc: 87.25\n",
            "Iteration: 0/782, Loss: 0.21\n",
            "Iteration: 500/782, Loss: 0.46\n",
            "Epoch: 45/150, Test acc: 83.47, Train acc: 87.58\n",
            "Iteration: 0/782, Loss: 0.41\n",
            "Iteration: 500/782, Loss: 0.35\n",
            "Epoch: 46/150, Test acc: 83.51, Train acc: 87.40\n",
            "Iteration: 0/782, Loss: 0.47\n",
            "Iteration: 500/782, Loss: 0.39\n",
            "Epoch: 47/150, Test acc: 83.23, Train acc: 87.28\n",
            "Iteration: 0/782, Loss: 0.55\n",
            "Iteration: 500/782, Loss: 0.34\n",
            "Epoch: 48/150, Test acc: 83.62, Train acc: 87.60\n",
            "Iteration: 0/782, Loss: 0.40\n",
            "Iteration: 500/782, Loss: 0.39\n",
            "Epoch: 49/150, Test acc: 83.66, Train acc: 87.57\n",
            "Iteration: 0/782, Loss: 0.25\n",
            "Iteration: 500/782, Loss: 0.35\n",
            "Epoch: 50/150, Test acc: 83.72, Train acc: 87.61\n",
            "Iteration: 0/782, Loss: 0.37\n",
            "Iteration: 500/782, Loss: 0.55\n",
            "Epoch: 51/150, Test acc: 83.32, Train acc: 87.64\n",
            "Iteration: 0/782, Loss: 0.39\n",
            "Iteration: 500/782, Loss: 0.40\n",
            "Epoch: 52/150, Test acc: 83.52, Train acc: 87.49\n",
            "Iteration: 0/782, Loss: 0.33\n",
            "Iteration: 500/782, Loss: 0.56\n",
            "Epoch: 53/150, Test acc: 83.28, Train acc: 88.23\n",
            "Iteration: 0/782, Loss: 0.40\n",
            "Iteration: 500/782, Loss: 0.41\n",
            "Epoch: 54/150, Test acc: 83.56, Train acc: 88.37\n",
            "Iteration: 0/782, Loss: 0.56\n",
            "Iteration: 500/782, Loss: 0.41\n",
            "Epoch: 55/150, Test acc: 82.77, Train acc: 88.49\n",
            "Iteration: 0/782, Loss: 0.37\n",
            "Iteration: 500/782, Loss: 0.20\n",
            "Epoch: 56/150, Test acc: 83.65, Train acc: 88.71\n",
            "Iteration: 0/782, Loss: 0.33\n",
            "Iteration: 500/782, Loss: 0.36\n",
            "Epoch: 57/150, Test acc: 83.85, Train acc: 88.50\n",
            "Iteration: 0/782, Loss: 0.35\n",
            "Iteration: 500/782, Loss: 0.33\n",
            "Epoch: 58/150, Test acc: 83.38, Train acc: 88.95\n",
            "Iteration: 0/782, Loss: 0.17\n",
            "Iteration: 500/782, Loss: 0.50\n",
            "Epoch: 59/150, Test acc: 83.70, Train acc: 88.71\n",
            "Iteration: 0/782, Loss: 0.34\n",
            "Iteration: 500/782, Loss: 0.27\n",
            "Epoch: 60/150, Test acc: 83.13, Train acc: 88.69\n",
            "Iteration: 0/782, Loss: 0.39\n",
            "Iteration: 500/782, Loss: 0.22\n",
            "Epoch: 61/150, Test acc: 84.03, Train acc: 88.86\n",
            "Iteration: 0/782, Loss: 0.23\n",
            "Iteration: 500/782, Loss: 0.30\n",
            "Epoch: 62/150, Test acc: 83.22, Train acc: 89.26\n",
            "Iteration: 0/782, Loss: 0.34\n",
            "Iteration: 500/782, Loss: 0.46\n",
            "Epoch: 63/150, Test acc: 84.27, Train acc: 89.48\n",
            "Iteration: 0/782, Loss: 0.25\n",
            "Iteration: 500/782, Loss: 0.30\n",
            "Epoch: 64/150, Test acc: 84.26, Train acc: 89.56\n",
            "Iteration: 0/782, Loss: 0.27\n",
            "Iteration: 500/782, Loss: 0.41\n",
            "Epoch: 65/150, Test acc: 83.92, Train acc: 89.68\n",
            "Iteration: 0/782, Loss: 0.38\n",
            "Iteration: 500/782, Loss: 0.25\n",
            "Epoch: 66/150, Test acc: 83.81, Train acc: 89.07\n",
            "Iteration: 0/782, Loss: 0.29\n",
            "Iteration: 500/782, Loss: 0.34\n",
            "Epoch: 67/150, Test acc: 83.84, Train acc: 89.68\n",
            "Iteration: 0/782, Loss: 0.34\n",
            "Iteration: 500/782, Loss: 0.36\n",
            "Epoch: 68/150, Test acc: 84.36, Train acc: 89.64\n",
            "Iteration: 0/782, Loss: 0.59\n",
            "Iteration: 500/782, Loss: 0.25\n",
            "Epoch: 69/150, Test acc: 83.83, Train acc: 89.73\n",
            "Iteration: 0/782, Loss: 0.25\n",
            "Iteration: 500/782, Loss: 0.35\n",
            "Epoch: 70/150, Test acc: 84.14, Train acc: 89.72\n",
            "Iteration: 0/782, Loss: 0.43\n",
            "Iteration: 500/782, Loss: 0.32\n",
            "Epoch: 71/150, Test acc: 84.12, Train acc: 90.11\n",
            "Iteration: 0/782, Loss: 0.16\n",
            "Iteration: 500/782, Loss: 0.30\n",
            "Epoch: 72/150, Test acc: 83.22, Train acc: 89.59\n",
            "Iteration: 0/782, Loss: 0.43\n",
            "Iteration: 500/782, Loss: 0.32\n",
            "Epoch: 73/150, Test acc: 83.65, Train acc: 89.82\n",
            "Iteration: 0/782, Loss: 0.32\n",
            "Iteration: 500/782, Loss: 0.42\n",
            "Epoch: 74/150, Test acc: 84.07, Train acc: 90.48\n",
            "Iteration: 0/782, Loss: 0.23\n",
            "Iteration: 500/782, Loss: 0.15\n",
            "Epoch: 75/150, Test acc: 83.93, Train acc: 90.45\n",
            "Iteration: 0/782, Loss: 0.33\n",
            "Iteration: 500/782, Loss: 0.18\n",
            "Epoch: 76/150, Test acc: 83.62, Train acc: 90.08\n",
            "Iteration: 0/782, Loss: 0.32\n",
            "Iteration: 500/782, Loss: 0.58\n",
            "Epoch: 77/150, Test acc: 84.24, Train acc: 90.60\n",
            "Iteration: 0/782, Loss: 0.31\n",
            "Iteration: 500/782, Loss: 0.25\n",
            "Epoch: 78/150, Test acc: 83.93, Train acc: 90.58\n",
            "Iteration: 0/782, Loss: 0.32\n",
            "Iteration: 500/782, Loss: 0.55\n",
            "Epoch: 79/150, Test acc: 84.07, Train acc: 90.64\n",
            "Iteration: 0/782, Loss: 0.35\n",
            "Iteration: 500/782, Loss: 0.21\n",
            "Epoch: 80/150, Test acc: 84.25, Train acc: 90.51\n",
            "Iteration: 0/782, Loss: 0.47\n",
            "Iteration: 500/782, Loss: 0.43\n",
            "Epoch: 81/150, Test acc: 84.06, Train acc: 90.82\n",
            "Iteration: 0/782, Loss: 0.33\n",
            "Iteration: 500/782, Loss: 0.34\n",
            "Epoch: 82/150, Test acc: 84.00, Train acc: 90.53\n",
            "Iteration: 0/782, Loss: 0.13\n",
            "Iteration: 500/782, Loss: 0.53\n",
            "Epoch: 83/150, Test acc: 84.16, Train acc: 90.97\n",
            "Iteration: 0/782, Loss: 0.18\n",
            "Iteration: 500/782, Loss: 0.27\n",
            "Epoch: 84/150, Test acc: 83.92, Train acc: 90.82\n",
            "Iteration: 0/782, Loss: 0.39\n",
            "Iteration: 500/782, Loss: 0.44\n",
            "Epoch: 85/150, Test acc: 83.66, Train acc: 90.58\n",
            "Iteration: 0/782, Loss: 0.34\n",
            "Iteration: 500/782, Loss: 0.24\n",
            "Epoch: 86/150, Test acc: 84.15, Train acc: 90.64\n",
            "Iteration: 0/782, Loss: 0.27\n",
            "Iteration: 500/782, Loss: 0.36\n",
            "Epoch: 87/150, Test acc: 83.88, Train acc: 90.94\n",
            "Iteration: 0/782, Loss: 0.27\n",
            "Iteration: 500/782, Loss: 0.22\n",
            "Epoch: 88/150, Test acc: 84.02, Train acc: 91.09\n",
            "Iteration: 0/782, Loss: 0.11\n",
            "Iteration: 500/782, Loss: 0.23\n",
            "Epoch: 89/150, Test acc: 84.13, Train acc: 91.15\n",
            "Iteration: 0/782, Loss: 0.29\n",
            "Iteration: 500/782, Loss: 0.32\n",
            "Epoch: 90/150, Test acc: 83.78, Train acc: 90.85\n",
            "Iteration: 0/782, Loss: 0.51\n",
            "Iteration: 500/782, Loss: 0.37\n",
            "Epoch: 91/150, Test acc: 83.57, Train acc: 90.81\n",
            "Iteration: 0/782, Loss: 0.48\n",
            "Iteration: 500/782, Loss: 0.31\n",
            "Epoch: 92/150, Test acc: 84.38, Train acc: 91.41\n",
            "Iteration: 0/782, Loss: 0.15\n",
            "Iteration: 500/782, Loss: 0.35\n",
            "Epoch: 93/150, Test acc: 84.23, Train acc: 91.34\n",
            "Iteration: 0/782, Loss: 0.24\n",
            "Iteration: 500/782, Loss: 0.22\n",
            "Epoch: 94/150, Test acc: 84.18, Train acc: 91.68\n",
            "Iteration: 0/782, Loss: 0.42\n",
            "Iteration: 500/782, Loss: 0.17\n",
            "Epoch: 95/150, Test acc: 84.34, Train acc: 91.30\n",
            "Iteration: 0/782, Loss: 0.32\n",
            "Iteration: 500/782, Loss: 0.16\n",
            "Epoch: 96/150, Test acc: 84.38, Train acc: 91.35\n",
            "Iteration: 0/782, Loss: 0.24\n",
            "Iteration: 500/782, Loss: 0.24\n",
            "Epoch: 97/150, Test acc: 83.73, Train acc: 91.61\n",
            "Iteration: 0/782, Loss: 0.20\n",
            "Iteration: 500/782, Loss: 0.25\n",
            "Epoch: 98/150, Test acc: 84.08, Train acc: 91.69\n",
            "Iteration: 0/782, Loss: 0.30\n",
            "Iteration: 500/782, Loss: 0.20\n",
            "Epoch: 99/150, Test acc: 84.34, Train acc: 91.81\n",
            "Iteration: 0/782, Loss: 0.20\n",
            "Iteration: 500/782, Loss: 0.43\n",
            "Epoch: 100/150, Test acc: 83.68, Train acc: 91.43\n",
            "Iteration: 0/782, Loss: 0.39\n",
            "Iteration: 500/782, Loss: 0.22\n",
            "Epoch: 101/150, Test acc: 84.32, Train acc: 91.91\n",
            "Iteration: 0/782, Loss: 0.14\n",
            "Iteration: 500/782, Loss: 0.35\n",
            "Epoch: 102/150, Test acc: 84.08, Train acc: 91.52\n",
            "Iteration: 0/782, Loss: 0.14\n",
            "Iteration: 500/782, Loss: 0.16\n",
            "Epoch: 103/150, Test acc: 84.11, Train acc: 92.08\n",
            "Iteration: 0/782, Loss: 0.22\n",
            "Iteration: 500/782, Loss: 0.28\n",
            "Epoch: 104/150, Test acc: 83.73, Train acc: 91.99\n",
            "Iteration: 0/782, Loss: 0.10\n",
            "Iteration: 500/782, Loss: 0.21\n",
            "Epoch: 105/150, Test acc: 84.36, Train acc: 91.72\n",
            "Iteration: 0/782, Loss: 0.15\n",
            "Iteration: 500/782, Loss: 0.33\n",
            "Epoch: 106/150, Test acc: 83.91, Train acc: 91.73\n",
            "Iteration: 0/782, Loss: 0.24\n",
            "Iteration: 500/782, Loss: 0.28\n",
            "Epoch: 107/150, Test acc: 84.71, Train acc: 92.15\n",
            "Iteration: 0/782, Loss: 0.16\n",
            "Iteration: 500/782, Loss: 0.24\n",
            "Epoch: 108/150, Test acc: 84.64, Train acc: 91.88\n",
            "Iteration: 0/782, Loss: 0.23\n",
            "Iteration: 500/782, Loss: 0.35\n",
            "Epoch: 109/150, Test acc: 84.56, Train acc: 92.08\n",
            "Iteration: 0/782, Loss: 0.38\n",
            "Iteration: 500/782, Loss: 0.19\n",
            "Epoch: 110/150, Test acc: 84.78, Train acc: 92.06\n",
            "Iteration: 0/782, Loss: 0.22\n",
            "Iteration: 500/782, Loss: 0.31\n",
            "Epoch: 111/150, Test acc: 84.60, Train acc: 92.26\n",
            "Iteration: 0/782, Loss: 0.39\n",
            "Iteration: 500/782, Loss: 0.26\n",
            "Epoch: 112/150, Test acc: 84.12, Train acc: 92.32\n",
            "Iteration: 0/782, Loss: 0.27\n",
            "Iteration: 500/782, Loss: 0.20\n",
            "Epoch: 113/150, Test acc: 84.13, Train acc: 92.09\n",
            "Iteration: 0/782, Loss: 0.13\n",
            "Iteration: 500/782, Loss: 0.21\n",
            "Epoch: 114/150, Test acc: 84.69, Train acc: 92.35\n",
            "Iteration: 0/782, Loss: 0.16\n",
            "Iteration: 500/782, Loss: 0.29\n",
            "Epoch: 115/150, Test acc: 84.87, Train acc: 92.44\n",
            "Iteration: 0/782, Loss: 0.08\n",
            "Iteration: 500/782, Loss: 0.14\n",
            "Epoch: 116/150, Test acc: 84.37, Train acc: 92.50\n",
            "Iteration: 0/782, Loss: 0.24\n",
            "Iteration: 500/782, Loss: 0.49\n",
            "Epoch: 117/150, Test acc: 84.00, Train acc: 92.45\n",
            "Iteration: 0/782, Loss: 0.12\n",
            "Iteration: 500/782, Loss: 0.17\n",
            "Epoch: 118/150, Test acc: 84.65, Train acc: 92.57\n",
            "Iteration: 0/782, Loss: 0.30\n",
            "Iteration: 500/782, Loss: 0.19\n",
            "Epoch: 119/150, Test acc: 84.35, Train acc: 92.42\n",
            "Iteration: 0/782, Loss: 0.25\n",
            "Iteration: 500/782, Loss: 0.32\n",
            "Epoch: 120/150, Test acc: 84.30, Train acc: 92.17\n",
            "Iteration: 0/782, Loss: 0.23\n",
            "Iteration: 500/782, Loss: 0.16\n",
            "Epoch: 121/150, Test acc: 84.95, Train acc: 92.70\n",
            "Iteration: 0/782, Loss: 0.14\n",
            "Iteration: 500/782, Loss: 0.08\n",
            "Epoch: 122/150, Test acc: 84.08, Train acc: 92.53\n",
            "Iteration: 0/782, Loss: 0.24\n",
            "Iteration: 500/782, Loss: 0.14\n",
            "Epoch: 123/150, Test acc: 84.38, Train acc: 92.36\n",
            "Iteration: 0/782, Loss: 0.17\n",
            "Iteration: 500/782, Loss: 0.34\n",
            "Epoch: 124/150, Test acc: 84.34, Train acc: 92.62\n",
            "Iteration: 0/782, Loss: 0.15\n",
            "Iteration: 500/782, Loss: 0.21\n",
            "Epoch: 125/150, Test acc: 84.65, Train acc: 92.57\n",
            "Iteration: 0/782, Loss: 0.08\n",
            "Iteration: 500/782, Loss: 0.36\n",
            "Epoch: 126/150, Test acc: 84.23, Train acc: 92.32\n",
            "Iteration: 0/782, Loss: 0.13\n",
            "Iteration: 500/782, Loss: 0.12\n",
            "Epoch: 127/150, Test acc: 84.28, Train acc: 92.52\n",
            "Iteration: 0/782, Loss: 0.14\n",
            "Iteration: 500/782, Loss: 0.30\n",
            "Epoch: 128/150, Test acc: 84.23, Train acc: 92.83\n",
            "Iteration: 0/782, Loss: 0.35\n",
            "Iteration: 500/782, Loss: 0.17\n",
            "Epoch: 129/150, Test acc: 84.57, Train acc: 92.96\n",
            "Iteration: 0/782, Loss: 0.15\n",
            "Iteration: 500/782, Loss: 0.28\n",
            "Epoch: 130/150, Test acc: 84.07, Train acc: 93.03\n",
            "Iteration: 0/782, Loss: 0.10\n",
            "Iteration: 500/782, Loss: 0.18\n",
            "Epoch: 131/150, Test acc: 84.16, Train acc: 92.76\n",
            "Iteration: 0/782, Loss: 0.13\n",
            "Iteration: 500/782, Loss: 0.36\n",
            "Epoch: 132/150, Test acc: 84.77, Train acc: 92.84\n",
            "Iteration: 0/782, Loss: 0.12\n",
            "Iteration: 500/782, Loss: 0.35\n",
            "Epoch: 133/150, Test acc: 84.50, Train acc: 93.05\n",
            "Iteration: 0/782, Loss: 0.25\n",
            "Iteration: 500/782, Loss: 0.13\n",
            "Epoch: 134/150, Test acc: 84.73, Train acc: 93.08\n",
            "Iteration: 0/782, Loss: 0.36\n",
            "Iteration: 500/782, Loss: 0.14\n",
            "Epoch: 135/150, Test acc: 84.49, Train acc: 92.92\n",
            "Iteration: 0/782, Loss: 0.17\n",
            "Iteration: 500/782, Loss: 0.11\n",
            "Epoch: 136/150, Test acc: 84.77, Train acc: 93.23\n",
            "Iteration: 0/782, Loss: 0.14\n",
            "Iteration: 500/782, Loss: 0.17\n",
            "Epoch: 137/150, Test acc: 84.22, Train acc: 93.33\n",
            "Iteration: 0/782, Loss: 0.15\n",
            "Iteration: 500/782, Loss: 0.15\n",
            "Epoch: 138/150, Test acc: 84.39, Train acc: 93.07\n",
            "Iteration: 0/782, Loss: 0.22\n",
            "Iteration: 500/782, Loss: 0.15\n",
            "Epoch: 139/150, Test acc: 84.55, Train acc: 93.29\n",
            "Iteration: 0/782, Loss: 0.09\n",
            "Iteration: 500/782, Loss: 0.18\n",
            "Epoch: 140/150, Test acc: 84.47, Train acc: 93.03\n",
            "Iteration: 0/782, Loss: 0.21\n",
            "Iteration: 500/782, Loss: 0.13\n",
            "Epoch: 141/150, Test acc: 84.53, Train acc: 93.38\n",
            "Iteration: 0/782, Loss: 0.15\n",
            "Iteration: 500/782, Loss: 0.15\n",
            "Epoch: 142/150, Test acc: 84.92, Train acc: 93.18\n",
            "Iteration: 0/782, Loss: 0.12\n",
            "Iteration: 500/782, Loss: 0.32\n",
            "Epoch: 143/150, Test acc: 84.31, Train acc: 93.41\n",
            "Iteration: 0/782, Loss: 0.06\n",
            "Iteration: 500/782, Loss: 0.40\n",
            "Epoch: 144/150, Test acc: 83.96, Train acc: 93.25\n",
            "Iteration: 0/782, Loss: 0.24\n",
            "Iteration: 500/782, Loss: 0.23\n",
            "Epoch: 145/150, Test acc: 84.44, Train acc: 93.48\n",
            "Iteration: 0/782, Loss: 0.17\n",
            "Iteration: 500/782, Loss: 0.29\n",
            "Epoch: 146/150, Test acc: 84.19, Train acc: 93.12\n",
            "Iteration: 0/782, Loss: 0.11\n",
            "Iteration: 500/782, Loss: 0.12\n",
            "Epoch: 147/150, Test acc: 84.48, Train acc: 93.42\n",
            "Iteration: 0/782, Loss: 0.30\n",
            "Iteration: 500/782, Loss: 0.40\n",
            "Epoch: 148/150, Test acc: 84.74, Train acc: 93.37\n",
            "Iteration: 0/782, Loss: 0.13\n",
            "Iteration: 500/782, Loss: 0.22\n",
            "Epoch: 149/150, Test acc: 84.38, Train acc: 92.91\n",
            "Iteration: 0/782, Loss: 0.21\n",
            "Iteration: 500/782, Loss: 0.14\n",
            "Epoch: 150/150, Test acc: 84.58, Train acc: 93.12\n"
          ],
          "name": "stdout"
        }
      ]
    },
    {
      "cell_type": "markdown",
      "metadata": {
        "id": "EqH_R222HTqB"
      },
      "source": [
        "## Training Last 10 epochs without Random Eraser"
      ]
    },
    {
      "cell_type": "code",
      "metadata": {
        "id": "aeWokPRr6Q--",
        "colab": {
          "base_uri": "https://localhost:8080/"
        },
        "outputId": "a911a09b-b84e-4a76-d9ff-37b2f30a5ca2"
      },
      "source": [
        "transform_train = transforms.Compose([\n",
        "    transforms.RandomRotation((-14.0, 14.0)),\n",
        "    transforms.ToTensor(),\n",
        "    transforms.Normalize((0.4913997551666284, 0.48215855929893703, 0.4465309133731618), (0.24703225141799082, 0.24348516474564, 0.26158783926049628)),\n",
        "    ])\n",
        "\n",
        "transform_test = transforms.Compose([\n",
        "    transforms.ToTensor(),\n",
        "    transforms.Normalize((0.4913997551666284, 0.48215855929893703, 0.4465309133731618), (0.24703225141799082, 0.24348516474564, 0.26158783926049628)),\n",
        "    ])\n",
        "\n",
        "trainset = torchvision.datasets.CIFAR10(root='./data', train=True, \n",
        "                                        download=True, \n",
        "                                        transform=transform_train)\n",
        "testset = torchvision.datasets.CIFAR10(root='./data', train=False, \n",
        "                                        download=True, \n",
        "                                        transform=transform_test)\n",
        "\n",
        "\n",
        "trainloader = torch.utils.data.DataLoader(trainset,batch_size=batch_size,shuffle = True)\n"
      ],
      "execution_count": 16,
      "outputs": [
        {
          "output_type": "stream",
          "text": [
            "Files already downloaded and verified\n",
            "Files already downloaded and verified\n"
          ],
          "name": "stdout"
        }
      ]
    },
    {
      "cell_type": "code",
      "metadata": {
        "id": "uUsZOrgr6Q_A",
        "colab": {
          "base_uri": "https://localhost:8080/"
        },
        "outputId": "6c1f6c9f-2d14-4613-db76-74aff38df928"
      },
      "source": [
        "max_epochs = 10\n",
        "\n",
        "n_iters = np.ceil(50000/batch_size)\n",
        "\n",
        "for epoch in range(max_epochs):\n",
        "\n",
        "    for i, data in enumerate(trainloader, 0):\n",
        "\n",
        "        inputs, labels = data\n",
        "        inputs, labels = inputs.to(device), labels.to(device)\n",
        "\n",
        "        opt.zero_grad()\n",
        "\n",
        "        outputs = net(inputs)\n",
        "        loss = loss_fn(outputs, labels)\n",
        "        loss.backward()\n",
        "        opt.step()\n",
        "        #scheduler.step()\n",
        "        \n",
        "        del inputs, labels, outputs\n",
        "        torch.cuda.empty_cache()\n",
        "        \n",
        "        if i % 500 == 0:\n",
        "            print('Iteration: %d/%d, Loss: %0.2f' % (i, n_iters, loss.item()))\n",
        "        \n",
        "    loss_epoch_arr_CNN_MLP.append(loss.item())\n",
        "    train_acc_CNN_MLP.append(evaluation(trainloader, net))\n",
        "    val_acc_CNN_MLP.append(evaluation(testloader, net))\n",
        "\n",
        "        \n",
        "    print('Epoch: %d/%d, Test acc: %0.2f, Train acc: %0.2f' % (\n",
        "        epoch + 1, max_epochs, \n",
        "        evaluation(testloader, net), evaluation(trainloader, net)))\n"
      ],
      "execution_count": 17,
      "outputs": [
        {
          "output_type": "stream",
          "text": [
            "Iteration: 0/782, Loss: 0.18\n",
            "Iteration: 500/782, Loss: 0.06\n",
            "Epoch: 1/10, Test acc: 85.01, Train acc: 97.57\n",
            "Iteration: 0/782, Loss: 0.03\n",
            "Iteration: 500/782, Loss: 0.04\n",
            "Epoch: 2/10, Test acc: 84.82, Train acc: 97.74\n",
            "Iteration: 0/782, Loss: 0.03\n",
            "Iteration: 500/782, Loss: 0.21\n",
            "Epoch: 3/10, Test acc: 84.93, Train acc: 97.52\n",
            "Iteration: 0/782, Loss: 0.25\n",
            "Iteration: 500/782, Loss: 0.08\n",
            "Epoch: 4/10, Test acc: 84.37, Train acc: 97.57\n",
            "Iteration: 0/782, Loss: 0.11\n",
            "Iteration: 500/782, Loss: 0.16\n",
            "Epoch: 5/10, Test acc: 84.63, Train acc: 97.68\n",
            "Iteration: 0/782, Loss: 0.02\n",
            "Iteration: 500/782, Loss: 0.10\n",
            "Epoch: 6/10, Test acc: 85.08, Train acc: 97.82\n",
            "Iteration: 0/782, Loss: 0.01\n",
            "Iteration: 500/782, Loss: 0.02\n",
            "Epoch: 7/10, Test acc: 84.32, Train acc: 97.76\n",
            "Iteration: 0/782, Loss: 0.00\n",
            "Iteration: 500/782, Loss: 0.06\n",
            "Epoch: 8/10, Test acc: 84.70, Train acc: 97.60\n",
            "Iteration: 0/782, Loss: 0.05\n",
            "Iteration: 500/782, Loss: 0.04\n",
            "Epoch: 9/10, Test acc: 84.97, Train acc: 97.86\n",
            "Iteration: 0/782, Loss: 0.01\n",
            "Iteration: 500/782, Loss: 0.05\n",
            "Epoch: 10/10, Test acc: 84.82, Train acc: 97.94\n"
          ],
          "name": "stdout"
        }
      ]
    },
    {
      "cell_type": "code",
      "metadata": {
        "id": "6wn_r0PO8sHQ",
        "colab": {
          "base_uri": "https://localhost:8080/",
          "height": 295
        },
        "outputId": "d9457571-6447-447d-a276-fb2667079344"
      },
      "source": [
        "import matplotlib.pyplot as plt\n",
        "\n",
        "fig, ax = plt.subplots()\n",
        "\n",
        "ax.plot(train_acc_CNN_MLP,label='Train')\n",
        "ax.plot(val_acc_CNN_MLP, label='Validation')\n",
        "\n",
        "plt.title(\"Accuracy Curve(CNN + MLP)\")\n",
        "plt.xlabel(\"Epoch\")\n",
        "plt.ylabel(\"Accuracy\")\n",
        "leg = ax.legend();\n",
        "\n",
        "plt.savefig(\"Accuracy curves\")"
      ],
      "execution_count": 18,
      "outputs": [
        {
          "output_type": "display_data",
          "data": {
            "image/png": "[encoded data removed]",
            "text/plain": [
              "<Figure size 432x288 with 1 Axes>"
            ]
          },
          "metadata": {
            "tags": [],
            "needs_background": "light"
          }
        }
      ]
    },
    {
      "cell_type": "code",
      "metadata": {
        "id": "Qi4FmwCgx7LQ",
        "colab": {
          "base_uri": "https://localhost:8080/",
          "height": 295
        },
        "outputId": "3aa68e67-143b-4bc8-d558-8ab3ca2ea854"
      },
      "source": [
        "plt.plot(loss_epoch_arr_CNN_MLP)\n",
        "plt.title(\"Loss Curve(CNN + MLP)\")\n",
        "plt.xlabel(\"Epoch\")\n",
        "plt.ylabel(\"Loss\")\n",
        "\n",
        "plt.show()"
      ],
      "execution_count": 19,
      "outputs": [
        {
          "output_type": "display_data",
          "data": {
            "image/png": "[encoded data removed]",
            "text/plain": [
              "<Figure size 432x288 with 1 Axes>"
            ]
          },
          "metadata": {
            "tags": [],
            "needs_background": "light"
          }
        }
      ]
    },
    {
      "cell_type": "markdown",
      "metadata": {
        "id": "Q04WhrlF1LjI"
      },
      "source": [
        "#Testing Model on a random image"
      ]
    },
    {
      "cell_type": "code",
      "metadata": {
        "id": "WflQSEIi3wcB"
      },
      "source": [
        "testloader = torch.utils.data.DataLoader(testset, batch_size = 4, shuffle=True)\n",
        "for data in testloader:\n",
        "  image , label = data\n",
        "  break"
      ],
      "execution_count": 23,
      "outputs": []
    },
    {
      "cell_type": "code",
      "metadata": {
        "id": "6ak2MNDo1QR6",
        "colab": {
          "base_uri": "https://localhost:8080/",
          "height": 1000
        },
        "outputId": "2a6ca16c-32d3-44f8-9cca-4711ad3bf915"
      },
      "source": [
        "net = net.to('cpu')\n",
        "for img , label in zip(image , label):\n",
        "  _,prediction = torch.max(net(img.unsqueeze(0)).data,1)\n",
        "  plt.imshow(img.permute(1,2,0))\n",
        "  plt.title(f\"True Label : {trainset.classes[label.item()]} ; Predicted Label : {trainset.classes[prediction]}\")\n",
        "  plt.show()"
      ],
      "execution_count": 24,
      "outputs": [
        {
          "output_type": "stream",
          "text": [
            "Clipping input data to the valid range for imshow with RGB data ([0..1] for floats or [0..255] for integers).\n"
          ],
          "name": "stderr"
        },
        {
          "output_type": "display_data",
          "data": {
            "image/png": "[encoded data removed]",
            "text/plain": [
              "<Figure size 432x288 with 1 Axes>"
            ]
          },
          "metadata": {
            "tags": [],
            "needs_background": "light"
          }
        },
        {
          "output_type": "stream",
          "text": [
            "Clipping input data to the valid range for imshow with RGB data ([0..1] for floats or [0..255] for integers).\n"
          ],
          "name": "stderr"
        },
        {
          "output_type": "display_data",
          "data": {
            "image/png": "[encoded data removed]",
            "text/plain": [
              "<Figure size 432x288 with 1 Axes>"
            ]
          },
          "metadata": {
            "tags": [],
            "needs_background": "light"
          }
        },
        {
          "output_type": "stream",
          "text": [
            "Clipping input data to the valid range for imshow with RGB data ([0..1] for floats or [0..255] for integers).\n"
          ],
          "name": "stderr"
        },
        {
          "output_type": "display_data",
          "data": {
            "image/png": "[encoded data removed]",
            "text/plain": [
              "<Figure size 432x288 with 1 Axes>"
            ]
          },
          "metadata": {
            "tags": [],
            "needs_background": "light"
          }
        },
        {
          "output_type": "stream",
          "text": [
            "Clipping input data to the valid range for imshow with RGB data ([0..1] for floats or [0..255] for integers).\n"
          ],
          "name": "stderr"
        },
        {
          "output_type": "display_data",
          "data": {
            "image/png": "[encoded data removed]",
            "text/plain": [
              "<Figure size 432x288 with 1 Axes>"
            ]
          },
          "metadata": {
            "tags": [],
            "needs_background": "light"
          }
        }
      ]
    },
    {
      "cell_type": "markdown",
      "metadata": {
        "id": "mn8MDlDEjreo"
      },
      "source": [
        "## Train CIFAR10 (MLP)"
      ]
    },
    {
      "cell_type": "code",
      "metadata": {
        "id": "3M2YDShsjrep"
      },
      "source": [
        "import tensorflow as tf\n",
        "from sklearn.decomposition import PCA\n",
        "(x_train, y_train), (x_test, y_test)  = tf.keras.datasets.cifar10.load_data()\n",
        "x_train = x_train.reshape(50000, 32*32*3)\n",
        "x_test = x_test.reshape(10000, 32*32*3)\n",
        "x_train = x_train.astype('float32')\n",
        "x_test = x_test.astype('float32')\n",
        "x_train /= 255\n",
        "x_test /= 255"
      ],
      "execution_count": 3,
      "outputs": []
    },
    {
      "cell_type": "code",
      "metadata": {
        "id": "n0H1PnLtjreq"
      },
      "source": [
        "#pca = PCA()\n",
        "pca_result = x_train"
      ],
      "execution_count": 4,
      "outputs": []
    },
    {
      "cell_type": "code",
      "metadata": {
        "id": "Gt0wGlH2jres"
      },
      "source": [
        "PCA_train = x_train\n",
        "PCA_test = x_test"
      ],
      "execution_count": 5,
      "outputs": []
    },
    {
      "cell_type": "code",
      "metadata": {
        "id": "U8Y3OJ4Hjret"
      },
      "source": [
        "PCA_train = torch.FloatTensor(PCA_train)\n",
        "PCA_test = torch.FloatTensor(PCA_test)\n",
        "y_train = torch.LongTensor(y_train)\n",
        "y_test = torch.LongTensor(y_test)"
      ],
      "execution_count": 6,
      "outputs": []
    },
    {
      "cell_type": "code",
      "metadata": {
        "id": "mqBsAkhjjret"
      },
      "source": [
        "from torch.utils.data import TensorDataset, DataLoader\n",
        "train_dataset = TensorDataset(PCA_train,y_train) # create your datset\n",
        "test_dataset = TensorDataset(PCA_test,y_test) # create your datset\n",
        "trainloader = DataLoader(train_dataset,batch_size= 64) # create your dataloader\n",
        "testloader = DataLoader(test_dataset,batch_size= 64) # create your dataloader"
      ],
      "execution_count": 7,
      "outputs": []
    },
    {
      "cell_type": "code",
      "metadata": {
        "id": "paQQbW4sjreu"
      },
      "source": [
        "class ANN(nn.Module):\n",
        "  def __init__(self):\n",
        "      super().__init__()\n",
        "      self.fc_model = nn.Sequential(\n",
        "          nn.Linear(3072,512),         # (N, 3072*2) -> (N, 512)\n",
        "          nn.ReLU(),\n",
        "          nn.Dropout(0.25),\n",
        "          nn.Linear(512,512),             # (N, 512) -> (N, 512)\n",
        "          nn.ReLU(),\n",
        "          nn.Dropout(0.25),\n",
        "          nn.Linear(512,256),          # (N, 512) -> (N, 256)\n",
        "          nn.Linear(256,10)            # (N, 256)  -> (N, 10)\n",
        "      )\n",
        "      \n",
        "  def forward(self, x):\n",
        "      x = self.fc_model(x)\n",
        "      return x"
      ],
      "execution_count": 10,
      "outputs": []
    },
    {
      "cell_type": "code",
      "metadata": {
        "id": "An7Bdebmjrev",
        "colab": {
          "base_uri": "https://localhost:8080/"
        },
        "outputId": "740e3822-4f9e-47f4-cb77-83f942836107"
      },
      "source": [
        "net = ANN().to(device)\n",
        "net"
      ],
      "execution_count": 11,
      "outputs": [
        {
          "output_type": "execute_result",
          "data": {
            "text/plain": [
              "ANN(\n",
              "  (fc_model): Sequential(\n",
              "    (0): Linear(in_features=3072, out_features=512, bias=True)\n",
              "    (1): ReLU()\n",
              "    (2): Dropout(p=0.25, inplace=False)\n",
              "    (3): Linear(in_features=512, out_features=512, bias=True)\n",
              "    (4): ReLU()\n",
              "    (5): Dropout(p=0.25, inplace=False)\n",
              "    (6): Linear(in_features=512, out_features=256, bias=True)\n",
              "    (7): Linear(in_features=256, out_features=10, bias=True)\n",
              "  )\n",
              ")"
            ]
          },
          "metadata": {
            "tags": []
          },
          "execution_count": 11
        }
      ]
    },
    {
      "cell_type": "code",
      "metadata": {
        "id": "T4W6o1fAxkPs"
      },
      "source": [
        "from torchsummary import summary\n",
        "print(summary(net, (1,3072)))\n"
      ],
      "execution_count": null,
      "outputs": []
    },
    {
      "cell_type": "code",
      "metadata": {
        "id": "lKVWBwnJjrev"
      },
      "source": [
        "loss_fn = nn.CrossEntropyLoss()\n",
        "opt = torch.optim.SGD(net.parameters(), lr=0.01)"
      ],
      "execution_count": null,
      "outputs": []
    },
    {
      "cell_type": "code",
      "metadata": {
        "id": "SHiHmWOkjrew"
      },
      "source": [
        "def evaluation(dataloader,model):\n",
        "  total , correct = 0,0\n",
        "  for data in dataloader:\n",
        "    inputs,labels = data\n",
        "    inputs,labels = inputs.to(device),labels.to(device)\n",
        "    outputs = model(inputs)\n",
        "    _,pred = torch.max(outputs.data,1)\n",
        "    total += labels.size(0)\n",
        "    # print(\"pred\",pred )\n",
        "    # print(\"labels\",labels.squeeze(1))\n",
        "    correct += (pred == labels.squeeze(1)).sum().item()\n",
        "  return 100 * correct / total\n"
      ],
      "execution_count": null,
      "outputs": []
    },
    {
      "cell_type": "code",
      "metadata": {
        "id": "PFkGO1fGjrex"
      },
      "source": [
        "# Training Loop\n",
        "\n",
        "loss_epoch_arr_MLP = []\n",
        "max_epochs = 150\n",
        "train_acc_MLP = []\n",
        "val_acc_MLP = []\n",
        "\n",
        "n_iters = np.ceil(50000/batch_size)\n",
        "\n",
        "for epoch in range(max_epochs):\n",
        "\n",
        "    for i, data in enumerate(trainloader, 0):\n",
        "\n",
        "        inputs, labels = data\n",
        "        inputs, labels = inputs.to(device), labels.to(device)\n",
        "\n",
        "        opt.zero_grad()\n",
        "\n",
        "        outputs = net(inputs)\n",
        "\n",
        "        loss = loss_fn(outputs, labels.squeeze(1))\n",
        "        loss.backward()\n",
        "        opt.step()\n",
        "\n",
        "        \n",
        "        del inputs, labels, outputs\n",
        "        torch.cuda.empty_cache()\n",
        "        \n",
        "        if i % 500 == 0:\n",
        "            print('Iteration: %d/%d, Loss: %0.2f' % (i, n_iters, loss.item()))\n",
        "        \n",
        "    loss_epoch_arr_MLP.append(loss.item())\n",
        "    train_acc_MLP.append(evaluation(trainloader, net))\n",
        "    val_acc_MLP.append(evaluation(testloader, net))\n",
        "\n",
        "        \n",
        "    print('Epoch: %d/%d, Test acc: %0.2f, Train acc: %0.2f' % (\n",
        "        epoch + 1, max_epochs, \n",
        "        evaluation(testloader, net), evaluation(trainloader, net)))"
      ],
      "execution_count": null,
      "outputs": []
    },
    {
      "cell_type": "code",
      "metadata": {
        "id": "bxgZ3wjZj2_m"
      },
      "source": [
        "import matplotlib.pyplot as plt\n",
        "\n",
        "fig, ax = plt.subplots()\n",
        "\n",
        "ax.plot(train_acc_MLP,label='Train')\n",
        "ax.plot(val_acc_MLP, label='Validation')\n",
        "\n",
        "plt.title(\"Accuracy Curves (MLP)\")\n",
        "plt.xlabel(\"Epoch\")\n",
        "plt.ylabel(\"Accuracy\")\n",
        "leg = ax.legend();\n",
        "\n",
        "plt.savefig(\"Accuracy curves\")"
      ],
      "execution_count": null,
      "outputs": []
    },
    {
      "cell_type": "code",
      "metadata": {
        "id": "4kpYy-0Aj9i0"
      },
      "source": [
        "plt.plot(loss_epoch_arr_MLP)\n",
        "plt.title(\"Loss Curve (MLP)\")\n",
        "plt.xlabel(\"Epoch\")\n",
        "plt.ylabel(\"Loss\")\n",
        "\n",
        "plt.show()"
      ],
      "execution_count": null,
      "outputs": []
    },
    {
      "cell_type": "markdown",
      "metadata": {
        "id": "bSL_OBSVkjIS"
      },
      "source": [
        "## Train CIFAR10 PCA (90 % Variance ) + MLP"
      ]
    },
    {
      "cell_type": "code",
      "metadata": {
        "id": "AV9q4IiuM0qD"
      },
      "source": [
        "import tensorflow as tf\n",
        "from sklearn.decomposition import PCA\n",
        "(x_train, y_train), (x_test, y_test)  = tf.keras.datasets.cifar10.load_data()\n",
        "x_train = x_train.reshape(50000, 32*32*3)\n",
        "x_test = x_test.reshape(10000, 32*32*3)\n",
        "x_train = x_train.astype('float32')\n",
        "x_test = x_test.astype('float32')\n",
        "x_train /= 255\n",
        "x_test /= 255"
      ],
      "execution_count": null,
      "outputs": []
    },
    {
      "cell_type": "code",
      "metadata": {
        "id": "0ENftHzEU-Cq"
      },
      "source": [
        "pca = PCA(0.9)\n",
        "pca_result = pca.fit(x_train)"
      ],
      "execution_count": null,
      "outputs": []
    },
    {
      "cell_type": "code",
      "metadata": {
        "id": "uC5JZP2JWlji"
      },
      "source": [
        "pca.n_components_"
      ],
      "execution_count": null,
      "outputs": []
    },
    {
      "cell_type": "code",
      "metadata": {
        "id": "XzlxTvsXWv5c"
      },
      "source": [
        "PCA_train = pca.transform(x_train)\n",
        "PCA_test = pca.transform(x_test)"
      ],
      "execution_count": null,
      "outputs": []
    },
    {
      "cell_type": "code",
      "metadata": {
        "id": "wH2nZ9QQW8vF"
      },
      "source": [
        "PCA_train = torch.FloatTensor(PCA_train)\n",
        "PCA_test = torch.FloatTensor(PCA_test)\n",
        "y_train = torch.LongTensor(y_train)\n",
        "y_test = torch.LongTensor(y_test)"
      ],
      "execution_count": null,
      "outputs": []
    },
    {
      "cell_type": "code",
      "metadata": {
        "id": "khKVK9GIbRAC"
      },
      "source": [
        "from torch.utils.data import TensorDataset, DataLoader\n",
        "train_dataset = TensorDataset(PCA_train,y_train) # create your datset\n",
        "test_dataset = TensorDataset(PCA_test,y_test) # create your datset\n",
        "trainloader = DataLoader(train_dataset,batch_size= 64) # create your dataloader\n",
        "testloader = DataLoader(test_dataset,batch_size= 64) # create your dataloader"
      ],
      "execution_count": null,
      "outputs": []
    },
    {
      "cell_type": "code",
      "metadata": {
        "id": "B5rHrTeHXjlt"
      },
      "source": [
        "class ANN(nn.Module):\n",
        "  def __init__(self):\n",
        "      super().__init__()\n",
        "      self.fc_model = nn.Sequential(\n",
        "          nn.Linear(pca.n_components_,512),         # (N, 3072*2) -> (N, 512)\n",
        "          nn.ReLU(),\n",
        "          nn.Dropout(0.25),\n",
        "          nn.Linear(512,512),             # (N, 512) -> (N, 512)\n",
        "          nn.ReLU(),\n",
        "          nn.Dropout(0.25),\n",
        "          nn.Linear(512,256),          # (N, 512) -> (N, 256)\n",
        "          nn.Linear(256,10)            # (N, 256)  -> (N, 10)\n",
        "      )\n",
        "      \n",
        "  def forward(self, x):\n",
        "      x = self.fc_model(x)\n",
        "      return x"
      ],
      "execution_count": null,
      "outputs": []
    },
    {
      "cell_type": "code",
      "metadata": {
        "id": "NRITSHw0XrVK"
      },
      "source": [
        "net = ANN().to(device)\n",
        "net"
      ],
      "execution_count": null,
      "outputs": []
    },
    {
      "cell_type": "code",
      "metadata": {
        "id": "6f3p6pWGxoGO"
      },
      "source": [
        "from torchsummary import summary\n",
        "print(summary(net, (1,pca.n_components_)))\n"
      ],
      "execution_count": null,
      "outputs": []
    },
    {
      "cell_type": "code",
      "metadata": {
        "id": "BGplggC-Xt8d"
      },
      "source": [
        "loss_fn = nn.CrossEntropyLoss()\n",
        "opt = torch.optim.SGD(net.parameters(), lr=0.01)"
      ],
      "execution_count": null,
      "outputs": []
    },
    {
      "cell_type": "code",
      "metadata": {
        "id": "ffBsCRGec6uv"
      },
      "source": [
        "def evaluation(dataloader,model):\n",
        "  total , correct = 0,0\n",
        "  for data in dataloader:\n",
        "    inputs,labels = data\n",
        "    inputs,labels = inputs.to(device),labels.to(device)\n",
        "    outputs = model(inputs)\n",
        "    _,pred = torch.max(outputs.data,1)\n",
        "    total += labels.size(0)\n",
        "    # print(\"pred\",pred )\n",
        "    # print(\"labels\",labels.squeeze(1))\n",
        "    correct += (pred == labels.squeeze(1)).sum().item()\n",
        "  return 100 * correct / total\n"
      ],
      "execution_count": null,
      "outputs": []
    },
    {
      "cell_type": "code",
      "metadata": {
        "id": "pJ7r3PUwXxUh"
      },
      "source": [
        "# Training Loop\n",
        "\n",
        "loss_epoch_arr_PCA_90_MLP = []\n",
        "max_epochs = 150\n",
        "train_acc_PCA_90_MLP = []\n",
        "val_acc_PCA_90_MLP = []\n",
        "\n",
        "n_iters = np.ceil(50000/batch_size)\n",
        "\n",
        "for epoch in range(max_epochs):\n",
        "\n",
        "    for i, data in enumerate(trainloader, 0):\n",
        "\n",
        "        inputs, labels = data\n",
        "        inputs, labels = inputs.to(device), labels.to(device)\n",
        "\n",
        "        opt.zero_grad()\n",
        "\n",
        "        outputs = net(inputs)\n",
        "\n",
        "        loss = loss_fn(outputs, labels.squeeze(1))\n",
        "        loss.backward()\n",
        "        opt.step()\n",
        "\n",
        "        \n",
        "        del inputs, labels, outputs\n",
        "        torch.cuda.empty_cache()\n",
        "        \n",
        "        if i % 500 == 0:\n",
        "            print('Iteration: %d/%d, Loss: %0.2f' % (i, n_iters, loss.item()))\n",
        "        \n",
        "    loss_epoch_arr_PCA_90_MLP.append(loss.item())\n",
        "    train_acc_PCA_90_MLP.append(evaluation(trainloader, net))\n",
        "    val_acc_PCA_90_MLP.append(evaluation(testloader, net))\n",
        "\n",
        "        \n",
        "    print('Epoch: %d/%d, Test acc: %0.2f, Train acc: %0.2f' % (\n",
        "        epoch + 1, max_epochs, \n",
        "        evaluation(testloader, net), evaluation(trainloader, net)))"
      ],
      "execution_count": null,
      "outputs": []
    },
    {
      "cell_type": "code",
      "metadata": {
        "id": "bGWj8_k8kM2E"
      },
      "source": [
        "import matplotlib.pyplot as plt\n",
        "\n",
        "fig, ax = plt.subplots()\n",
        "\n",
        "ax.plot(train_acc_PCA_90_MLP,label='Train')\n",
        "ax.plot(val_acc_PCA_90_MLP, label='Validation')\n",
        "\n",
        "plt.title(\"Accuracy Curves (PCA (90% variance) +MLP)\")\n",
        "plt.xlabel(\"Epoch\")\n",
        "plt.ylabel(\"Accuracy\")\n",
        "leg = ax.legend();\n",
        "\n",
        "plt.savefig(\"Accuracy curves\")"
      ],
      "execution_count": null,
      "outputs": []
    },
    {
      "cell_type": "code",
      "metadata": {
        "id": "5DcFDrLokM2G"
      },
      "source": [
        "plt.plot(loss_epoch_arr_PCA_90_MLP)\n",
        "plt.title(\"Loss Curve(PCA (90% variance) +MLP)\")\n",
        "plt.xlabel(\"Epoch\")\n",
        "plt.ylabel(\"Loss\")\n",
        "\n",
        "plt.show()"
      ],
      "execution_count": null,
      "outputs": []
    },
    {
      "cell_type": "markdown",
      "metadata": {
        "id": "SMllq14yiGGs"
      },
      "source": [
        "## Train CIFAR10 PCA (95 % Variance ) + MLP"
      ]
    },
    {
      "cell_type": "code",
      "metadata": {
        "id": "jt06ttyZiNlK"
      },
      "source": [
        "import tensorflow as tf\n",
        "from sklearn.decomposition import PCA\n",
        "(x_train, y_train), (x_test, y_test)  = tf.keras.datasets.cifar10.load_data()\n",
        "x_train = x_train.reshape(50000, 32*32*3)\n",
        "x_test = x_test.reshape(10000, 32*32*3)\n",
        "x_train = x_train.astype('float32')\n",
        "x_test = x_test.astype('float32')\n",
        "x_train /= 255\n",
        "x_test /= 255"
      ],
      "execution_count": null,
      "outputs": []
    },
    {
      "cell_type": "code",
      "metadata": {
        "id": "Zq-F9JHwiNlL"
      },
      "source": [
        "pca = PCA(0.95)\n",
        "pca_result = pca.fit(x_train)"
      ],
      "execution_count": null,
      "outputs": []
    },
    {
      "cell_type": "code",
      "metadata": {
        "id": "GAwO4QM7iNlL"
      },
      "source": [
        "pca.n_components_"
      ],
      "execution_count": null,
      "outputs": []
    },
    {
      "cell_type": "code",
      "metadata": {
        "id": "5rRkhVjYiNlN"
      },
      "source": [
        "PCA_train = pca.transform(x_train)\n",
        "PCA_test = pca.transform(x_test)"
      ],
      "execution_count": null,
      "outputs": []
    },
    {
      "cell_type": "code",
      "metadata": {
        "id": "uhXy2F2PiNlN"
      },
      "source": [
        "PCA_train = torch.FloatTensor(PCA_train)\n",
        "PCA_test = torch.FloatTensor(PCA_test)\n",
        "y_train = torch.LongTensor(y_train)\n",
        "y_test = torch.LongTensor(y_test)"
      ],
      "execution_count": null,
      "outputs": []
    },
    {
      "cell_type": "code",
      "metadata": {
        "id": "mKv9N8fniNlO"
      },
      "source": [
        "from torch.utils.data import TensorDataset, DataLoader\n",
        "train_dataset = TensorDataset(PCA_train,y_train) # create your datset\n",
        "test_dataset = TensorDataset(PCA_test,y_test) # create your datset\n",
        "trainloader = DataLoader(train_dataset,batch_size= 64) # create your dataloader\n",
        "testloader = DataLoader(test_dataset,batch_size= 64) # create your dataloader"
      ],
      "execution_count": null,
      "outputs": []
    },
    {
      "cell_type": "code",
      "metadata": {
        "id": "8DIhxoeRiNlO"
      },
      "source": [
        "class ANN(nn.Module):\n",
        "  def __init__(self):\n",
        "      super().__init__()\n",
        "      self.fc_model = nn.Sequential(\n",
        "          nn.Linear(pca.n_components_,512),         # (N, 3072*2) -> (N, 512)\n",
        "          nn.ReLU(),\n",
        "          nn.Dropout(0.25),\n",
        "          nn.Linear(512,512),             # (N, 512) -> (N, 512)\n",
        "          nn.ReLU(),\n",
        "          nn.Dropout(0.25),\n",
        "          nn.Linear(512,256),          # (N, 512) -> (N, 256)\n",
        "          nn.Linear(256,10)            # (N, 256)  -> (N, 10)\n",
        "      )\n",
        "      \n",
        "  def forward(self, x):\n",
        "      x = self.fc_model(x)\n",
        "      return x"
      ],
      "execution_count": null,
      "outputs": []
    },
    {
      "cell_type": "code",
      "metadata": {
        "id": "i5if98xXiNlP"
      },
      "source": [
        "net = ANN().to(device)\n",
        "net"
      ],
      "execution_count": null,
      "outputs": []
    },
    {
      "cell_type": "code",
      "metadata": {
        "id": "1wZU9ogFyERQ"
      },
      "source": [
        "from torchsummary import summary\n",
        "print(summary(net, (1,pca.n_components_)))\n"
      ],
      "execution_count": null,
      "outputs": []
    },
    {
      "cell_type": "code",
      "metadata": {
        "id": "1c0RSIgqiNlP"
      },
      "source": [
        "loss_fn = nn.CrossEntropyLoss()\n",
        "opt = torch.optim.SGD(net.parameters(), lr=0.01)"
      ],
      "execution_count": null,
      "outputs": []
    },
    {
      "cell_type": "code",
      "metadata": {
        "id": "egRa3VKTiNlQ"
      },
      "source": [
        "def evaluation(dataloader,model):\n",
        "  total , correct = 0,0\n",
        "  for data in dataloader:\n",
        "    inputs,labels = data\n",
        "    inputs,labels = inputs.to(device),labels.to(device)\n",
        "    outputs = model(inputs)\n",
        "    _,pred = torch.max(outputs.data,1)\n",
        "    total += labels.size(0)\n",
        "    # print(\"pred\",pred )\n",
        "    # print(\"labels\",labels.squeeze(1))\n",
        "    correct += (pred == labels.squeeze(1)).sum().item()\n",
        "  return 100 * correct / total\n"
      ],
      "execution_count": null,
      "outputs": []
    },
    {
      "cell_type": "code",
      "metadata": {
        "id": "Uw48gIpYiNlQ"
      },
      "source": [
        "# Training Loop\n",
        "\n",
        "loss_epoch_arr_PCA_95_MLP = []\n",
        "max_epochs = 150\n",
        "train_acc_PCA_95_MLP = []\n",
        "val_acc_PCA_95_MLP = []\n",
        "\n",
        "n_iters = np.ceil(50000/batch_size)\n",
        "\n",
        "for epoch in range(max_epochs):\n",
        "\n",
        "    for i, data in enumerate(trainloader, 0):\n",
        "\n",
        "        inputs, labels = data\n",
        "        inputs, labels = inputs.to(device), labels.to(device)\n",
        "\n",
        "        opt.zero_grad()\n",
        "\n",
        "        outputs = net(inputs)\n",
        "\n",
        "        loss = loss_fn(outputs, labels.squeeze(1))\n",
        "        loss.backward()\n",
        "        opt.step()\n",
        "\n",
        "        \n",
        "        del inputs, labels, outputs\n",
        "        torch.cuda.empty_cache()\n",
        "        \n",
        "        if i % 500 == 0:\n",
        "            print('Iteration: %d/%d, Loss: %0.2f' % (i, n_iters, loss.item()))\n",
        "        \n",
        "    loss_epoch_arr_PCA_95_MLP.append(loss.item())\n",
        "    train_acc_PCA_95_MLP.append(evaluation(trainloader, net))\n",
        "    val_acc_PCA_95_MLP.append(evaluation(testloader, net))\n",
        "\n",
        "        \n",
        "    print('Epoch: %d/%d, Test acc: %0.2f, Train acc: %0.2f' % (\n",
        "        epoch + 1, max_epochs, \n",
        "        evaluation(testloader, net), evaluation(trainloader, net)))"
      ],
      "execution_count": null,
      "outputs": []
    },
    {
      "cell_type": "code",
      "metadata": {
        "id": "5HPpT8Naka9J"
      },
      "source": [
        "import matplotlib.pyplot as plt\n",
        "\n",
        "fig, ax = plt.subplots()\n",
        "\n",
        "ax.plot(train_acc_PCA_95_MLP,label='Train')\n",
        "ax.plot(val_acc_PCA_95_MLP, label='Validation')\n",
        "\n",
        "plt.title(\"Accuracy Curves(PCA (95% variance) +MLP)\")\n",
        "plt.xlabel(\"Epoch\")\n",
        "plt.ylabel(\"Accuracy\")\n",
        "leg = ax.legend();\n",
        "\n",
        "plt.savefig(\"Accuracy curves\")"
      ],
      "execution_count": null,
      "outputs": []
    },
    {
      "cell_type": "code",
      "metadata": {
        "id": "qZ25rhEtka9L"
      },
      "source": [
        "plt.plot(loss_epoch_arr_PCA_95_MLP)\n",
        "plt.title(\"Loss Curve(PCA (95% variance) +MLP)\")\n",
        "plt.xlabel(\"Epoch\")\n",
        "plt.ylabel(\"Loss\")\n",
        "\n",
        "plt.show()"
      ],
      "execution_count": null,
      "outputs": []
    },
    {
      "cell_type": "markdown",
      "metadata": {
        "id": "a_-h5qViiIMb"
      },
      "source": [
        "## Train CIFAR10  PCA (99 % Variance) + MLP"
      ]
    },
    {
      "cell_type": "code",
      "metadata": {
        "id": "uCLgR9GDiPZq"
      },
      "source": [
        "import tensorflow as tf\n",
        "from sklearn.decomposition import PCA\n",
        "(x_train, y_train), (x_test, y_test)  = tf.keras.datasets.cifar10.load_data()\n",
        "x_train = x_train.reshape(50000, 32*32*3)\n",
        "x_test = x_test.reshape(10000, 32*32*3)\n",
        "x_train = x_train.astype('float32')\n",
        "x_test = x_test.astype('float32')\n",
        "x_train /= 255\n",
        "x_test /= 255"
      ],
      "execution_count": null,
      "outputs": []
    },
    {
      "cell_type": "code",
      "metadata": {
        "id": "YKloGl2wiPZq"
      },
      "source": [
        "pca = PCA(0.99)\n",
        "pca_result = pca.fit(x_train)"
      ],
      "execution_count": null,
      "outputs": []
    },
    {
      "cell_type": "code",
      "metadata": {
        "id": "yGsY6yYciPZr"
      },
      "source": [
        "pca.n_components_"
      ],
      "execution_count": null,
      "outputs": []
    },
    {
      "cell_type": "code",
      "metadata": {
        "id": "8mbrpWwmiPZr"
      },
      "source": [
        "PCA_train = pca.transform(x_train)\n",
        "PCA_test = pca.transform(x_test)"
      ],
      "execution_count": null,
      "outputs": []
    },
    {
      "cell_type": "code",
      "metadata": {
        "id": "0b8DGHobiPZr"
      },
      "source": [
        "PCA_train = torch.FloatTensor(PCA_train)\n",
        "PCA_test = torch.FloatTensor(PCA_test)\n",
        "y_train = torch.LongTensor(y_train)\n",
        "y_test = torch.LongTensor(y_test)"
      ],
      "execution_count": null,
      "outputs": []
    },
    {
      "cell_type": "code",
      "metadata": {
        "id": "Ps2lR7AoiPZs"
      },
      "source": [
        "from torch.utils.data import TensorDataset, DataLoader\n",
        "train_dataset = TensorDataset(PCA_train,y_train) # create your datset\n",
        "test_dataset = TensorDataset(PCA_test,y_test) # create your datset\n",
        "trainloader = DataLoader(train_dataset,batch_size= 64) # create your dataloader\n",
        "testloader = DataLoader(test_dataset,batch_size= 64) # create your dataloader"
      ],
      "execution_count": null,
      "outputs": []
    },
    {
      "cell_type": "code",
      "metadata": {
        "id": "JF5MuZVMiPZs"
      },
      "source": [
        "class ANN(nn.Module):\n",
        "  def __init__(self):\n",
        "      super().__init__()\n",
        "      self.fc_model = nn.Sequential(\n",
        "          nn.Linear(pca.n_components_,512),         # (N, 3072*2) -> (N, 512)\n",
        "          nn.ReLU(),\n",
        "          nn.Dropout(0.25),\n",
        "          nn.Linear(512,512),             # (N, 512) -> (N, 512)\n",
        "          nn.ReLU(),\n",
        "          nn.Dropout(0.25),\n",
        "          nn.Linear(512,256),          # (N, 512) -> (N, 256)\n",
        "          nn.Linear(256,10)            # (N, 256)  -> (N, 10)\n",
        "      )\n",
        "      \n",
        "  def forward(self, x):\n",
        "      x = self.fc_model(x)\n",
        "      return x"
      ],
      "execution_count": null,
      "outputs": []
    },
    {
      "cell_type": "code",
      "metadata": {
        "id": "soGQWRVriPZs"
      },
      "source": [
        "net = ANN().to(device)\n",
        "net"
      ],
      "execution_count": null,
      "outputs": []
    },
    {
      "cell_type": "code",
      "metadata": {
        "id": "4tPQBszqyMQh"
      },
      "source": [
        "from torchsummary import summary\n",
        "print(summary(net, (1,pca.n_components_)))\n"
      ],
      "execution_count": null,
      "outputs": []
    },
    {
      "cell_type": "code",
      "metadata": {
        "id": "sdtcDvVZiPZs"
      },
      "source": [
        "loss_fn = nn.CrossEntropyLoss()\n",
        "opt = torch.optim.SGD(net.parameters(), lr=0.01)"
      ],
      "execution_count": null,
      "outputs": []
    },
    {
      "cell_type": "code",
      "metadata": {
        "id": "FakurANPiPZs"
      },
      "source": [
        "def evaluation(dataloader,model):\n",
        "  total , correct = 0,0\n",
        "  for data in dataloader:\n",
        "    inputs,labels = data\n",
        "    inputs,labels = inputs.to(device),labels.to(device)\n",
        "    outputs = model(inputs)\n",
        "    _,pred = torch.max(outputs.data,1)\n",
        "    total += labels.size(0)\n",
        "    # print(\"pred\",pred )\n",
        "    # print(\"labels\",labels.squeeze(1))\n",
        "    correct += (pred == labels.squeeze(1)).sum().item()\n",
        "  return 100 * correct / total\n"
      ],
      "execution_count": null,
      "outputs": []
    },
    {
      "cell_type": "code",
      "metadata": {
        "id": "0_yqhu-NiPZt"
      },
      "source": [
        "# Training Loop\n",
        "\n",
        "loss_epoch_arr_PCA_99_MLP = []\n",
        "max_epochs = 150\n",
        "train_acc_PCA_99_MLP = []\n",
        "val_acc_PCA_99_MLP = []\n",
        "\n",
        "n_iters = np.ceil(50000/batch_size)\n",
        "\n",
        "for epoch in range(max_epochs):\n",
        "\n",
        "    for i, data in enumerate(trainloader, 0):\n",
        "\n",
        "        inputs, labels = data\n",
        "        inputs, labels = inputs.to(device), labels.to(device)\n",
        "\n",
        "        opt.zero_grad()\n",
        "\n",
        "        outputs = net(inputs)\n",
        "\n",
        "        loss = loss_fn(outputs, labels.squeeze(1))\n",
        "        loss.backward()\n",
        "        opt.step()\n",
        "\n",
        "        \n",
        "        del inputs, labels, outputs\n",
        "        torch.cuda.empty_cache()\n",
        "        \n",
        "        if i % 500 == 0:\n",
        "            print('Iteration: %d/%d, Loss: %0.2f' % (i, n_iters, loss.item()))\n",
        "        \n",
        "    loss_epoch_arr_PCA_99_MLP.append(loss.item())\n",
        "    train_acc_PCA_99_MLP.append(evaluation(trainloader, net))\n",
        "    val_acc_PCA_99_MLP.append(evaluation(testloader, net))\n",
        "\n",
        "        \n",
        "    print('Epoch: %d/%d, Test acc: %0.2f, Train acc: %0.2f' % (\n",
        "        epoch + 1, max_epochs, \n",
        "        evaluation(testloader, net), evaluation(trainloader, net)))"
      ],
      "execution_count": null,
      "outputs": []
    },
    {
      "cell_type": "code",
      "metadata": {
        "id": "jfvvpJBokfFN"
      },
      "source": [
        "import matplotlib.pyplot as plt\n",
        "\n",
        "fig, ax = plt.subplots()\n",
        "\n",
        "ax.plot(train_acc_PCA_99_MLP,label='Train')\n",
        "ax.plot(val_acc_PCA_99_MLP, label='Validation')\n",
        "\n",
        "plt.title(\"Accuracy Curves(PCA (99% variance) +MLP)\")\n",
        "plt.xlabel(\"Epoch\")\n",
        "plt.ylabel(\"Accuracy\")\n",
        "leg = ax.legend();\n",
        "\n",
        "plt.savefig(\"Accuracy curves\")"
      ],
      "execution_count": null,
      "outputs": []
    },
    {
      "cell_type": "code",
      "metadata": {
        "id": "lIjKRlujkfFO"
      },
      "source": [
        "plt.plot(loss_epoch_arr_PCA_99_MLP)\n",
        "plt.title(\"Loss Curve(PCA (99% variance) +MLP)\")\n",
        "plt.xlabel(\"Epoch\")\n",
        "plt.ylabel(\"Loss\")\n",
        "\n",
        "plt.show()"
      ],
      "execution_count": null,
      "outputs": []
    },
    {
      "cell_type": "markdown",
      "metadata": {
        "id": "i9yM6IfhuKbA"
      },
      "source": [
        "## Train Accuracy PLot"
      ]
    },
    {
      "cell_type": "code",
      "metadata": {
        "id": "dqyyR8NiuOcz"
      },
      "source": [
        "fig, ax = plt.subplots()\n",
        "\n",
        "ax.plot(train_acc_MLP,label='MLP')\n",
        "ax.plot(train_acc_CNN_MLP,label='CNN + MLP')\n",
        "ax.plot(train_acc_PCA_90_MLP, label='PCA(90% Variance) + MLP')\n",
        "ax.plot(train_acc_PCA_95_MLP,label='PCA(95% Variance) + MLP')\n",
        "ax.plot(train_acc_PCA_99_MLP, label='PCA(99% Variance) + MLP')\n",
        "\n",
        "plt.title(\"Train Accuracy Curves\")\n",
        "plt.xlabel(\"Epoch\")\n",
        "plt.ylabel(\"Accuracy\")\n",
        "leg = ax.legend();\n",
        "\n",
        "plt.savefig(\"Accuracy curves\")"
      ],
      "execution_count": null,
      "outputs": []
    },
    {
      "cell_type": "markdown",
      "metadata": {
        "id": "cmHQjcLevI36"
      },
      "source": [
        "## Test Accuracy Plot"
      ]
    },
    {
      "cell_type": "code",
      "metadata": {
        "id": "a6cTwHJxvCvz"
      },
      "source": [
        "fig, ax = plt.subplots()\n",
        "\n",
        "ax.plot(val_acc_MLP,label='MLP')\n",
        "ax.plot(val_acc_CNN_MLP,label='CNN + MLP')\n",
        "ax.plot(val_acc_PCA_90_MLP, label='PCA(90% Variance) + MLP')\n",
        "ax.plot(val_acc_PCA_95_MLP,label='PCA(95% Variance) + MLP')\n",
        "ax.plot(val_acc_PCA_99_MLP, label='PCA(99% Variance) + MLP')\n",
        "\n",
        "plt.title(\"Validation Accuracy Curves\")\n",
        "plt.xlabel(\"Epoch\")\n",
        "plt.ylabel(\"Accuracy\")\n",
        "leg = ax.legend();\n",
        "\n",
        "plt.savefig(\"Accuracy curves\")"
      ],
      "execution_count": null,
      "outputs": []
    },
    {
      "cell_type": "markdown",
      "metadata": {
        "id": "3_tsXvEgvm7U"
      },
      "source": [
        "## Loss Curves"
      ]
    },
    {
      "cell_type": "code",
      "metadata": {
        "id": "5NPo5-T6vSBb"
      },
      "source": [
        "fig, ax = plt.subplots()\n",
        "\n",
        "ax.plot(loss_epoch_arr_MLP,label='MLP')\n",
        "ax.plot(loss_epoch_arr_CNN_MLP,label='CNN + MLP')\n",
        "ax.plot(loss_epoch_arr_PCA_90_MLP, label='PCA(90% Variance) + MLP')\n",
        "ax.plot(loss_epoch_arr_PCA_95_MLP,label='PCA(95% Variance) + MLP')\n",
        "ax.plot(loss_epoch_arr_PCA_99_MLP, label='PCA(99% Variance) + MLP')\n",
        "\n",
        "plt.title(\"Loss Curves\")\n",
        "plt.xlabel(\"Epoch\")\n",
        "plt.ylabel(\"Accuracy\")\n",
        "leg = ax.legend();\n",
        "\n",
        "plt.savefig(\"Accuracy curves\")"
      ],
      "execution_count": null,
      "outputs": []
    },
    {
      "cell_type": "code",
      "metadata": {
        "colab": {
          "base_uri": "https://localhost:8080/"
        },
        "id": "m2h_5bKvBG9Q",
        "outputId": "4b9b7eab-5e8a-4b44-a57b-c5bd32b44e7a"
      },
      "source": [
        "loss_epoch_arr_CNN_MLP"
      ],
      "execution_count": 44,
      "outputs": [
        {
          "output_type": "execute_result",
          "data": {
            "text/plain": [
              "[1.070456862449646,\n",
              " 0.7419290542602539,\n",
              " 0.7385035157203674,\n",
              " 0.7942847013473511,\n",
              " 0.5035861134529114,\n",
              " 0.6688485145568848,\n",
              " 0.7241373658180237,\n",
              " 0.7524973750114441,\n",
              " 1.0022330284118652,\n",
              " 0.40014520287513733,\n",
              " 0.9127349257469177,\n",
              " 0.4331335723400116,\n",
              " 0.5404263734817505,\n",
              " 0.762119472026825,\n",
              " 0.8849634528160095,\n",
              " 0.4833984375,\n",
              " 0.9234429001808167,\n",
              " 0.9191961288452148,\n",
              " 0.611676037311554,\n",
              " 0.6730920076370239,\n",
              " 0.26282501220703125,\n",
              " 0.3838680386543274,\n",
              " 0.5958355069160461,\n",
              " 0.7211748361587524,\n",
              " 0.36370712518692017,\n",
              " 0.5461297631263733,\n",
              " 0.751544713973999,\n",
              " 0.28278735280036926,\n",
              " 0.24394488334655762,\n",
              " 0.8334401249885559,\n",
              " 0.6953400373458862,\n",
              " 0.7887815237045288,\n",
              " 0.40382903814315796,\n",
              " 0.6075870394706726,\n",
              " 0.6338983774185181,\n",
              " 0.7441968321800232,\n",
              " 0.4126707911491394,\n",
              " 0.3884553015232086,\n",
              " 0.6645413041114807,\n",
              " 0.35225820541381836,\n",
              " 0.43665575981140137,\n",
              " 0.7450542449951172,\n",
              " 0.1501682549715042,\n",
              " 0.47193944454193115,\n",
              " 0.4530881941318512,\n",
              " 0.6506341695785522,\n",
              " 0.7104873061180115,\n",
              " 0.151677206158638,\n",
              " 0.25437888503074646,\n",
              " 0.5224640369415283,\n",
              " 0.4147206246852875,\n",
              " 0.4632536470890045,\n",
              " 0.15681619942188263,\n",
              " 0.28077462315559387,\n",
              " 0.13153794407844543,\n",
              " 0.2737717628479004,\n",
              " 0.3159363567829132,\n",
              " 0.28420042991638184,\n",
              " 0.3996947407722473,\n",
              " 0.6103782057762146,\n",
              " 0.2924370765686035,\n",
              " 0.3619663417339325,\n",
              " 0.7371642589569092,\n",
              " 0.7189117670059204,\n",
              " 0.3906458616256714,\n",
              " 0.4197395443916321,\n",
              " 0.5257720351219177,\n",
              " 0.3521997332572937,\n",
              " 0.6073508262634277,\n",
              " 0.0708707943558693,\n",
              " 0.09058275818824768,\n",
              " 0.22678440809249878,\n",
              " 0.36778250336647034,\n",
              " 0.46542835235595703,\n",
              " 0.3840513527393341,\n",
              " 0.9260982871055603,\n",
              " 0.1263056844472885,\n",
              " 0.06282825022935867,\n",
              " 0.10362884402275085,\n",
              " 0.5982875823974609,\n",
              " 0.170289546251297,\n",
              " 0.22680796682834625,\n",
              " 0.2608738839626312,\n",
              " 0.5391854047775269,\n",
              " 0.5251064300537109,\n",
              " 0.24559928476810455,\n",
              " 0.4065897762775421,\n",
              " 0.29287901520729065,\n",
              " 0.5218129754066467,\n",
              " 0.2608891427516937,\n",
              " 0.036409392952919006,\n",
              " 0.3701324462890625,\n",
              " 0.27133864164352417,\n",
              " 0.1922607272863388,\n",
              " 0.21686185896396637,\n",
              " 0.03689642623066902,\n",
              " 0.2526763081550598,\n",
              " 0.04301771521568298,\n",
              " 0.24744567275047302,\n",
              " 0.3483678698539734,\n",
              " 0.5059752464294434,\n",
              " 0.3575975000858307,\n",
              " 0.07270534336566925,\n",
              " 0.6007823944091797,\n",
              " 0.106200210750103,\n",
              " 0.12691356241703033,\n",
              " 0.3413739800453186,\n",
              " 0.19305498898029327,\n",
              " 0.1608736217021942,\n",
              " 0.6975956559181213,\n",
              " 0.28701281547546387,\n",
              " 0.30906665325164795,\n",
              " 0.25668367743492126,\n",
              " 0.40654394030570984,\n",
              " 0.029369788244366646,\n",
              " 0.5679919719696045,\n",
              " 0.026847604662179947,\n",
              " 0.13847950100898743,\n",
              " 0.1214735135436058,\n",
              " 0.11120229959487915,\n",
              " 0.43651798367500305,\n",
              " 0.10300352424383163,\n",
              " 0.07597002387046814,\n",
              " 0.25284072756767273,\n",
              " 0.8037358522415161,\n",
              " 0.31902608275413513,\n",
              " 0.32384607195854187,\n",
              " 0.046505529433488846,\n",
              " 0.21626757085323334,\n",
              " 0.03283335268497467,\n",
              " 0.17864149808883667,\n",
              " 0.047823790460824966,\n",
              " 0.07556389272212982,\n",
              " 0.03968144208192825,\n",
              " 0.1803739070892334,\n",
              " 0.18500012159347534,\n",
              " 0.10623418539762497,\n",
              " 0.09284728765487671,\n",
              " 0.4889173209667206,\n",
              " 0.4190169870853424,\n",
              " 0.040443651378154755,\n",
              " 0.4984971880912781,\n",
              " 0.9544677734375,\n",
              " 0.1868654489517212,\n",
              " 0.2281443327665329,\n",
              " 0.3543332815170288,\n",
              " 0.40778517723083496,\n",
              " 0.031592078506946564,\n",
              " 0.3365757465362549,\n",
              " 0.16647757589817047,\n",
              " 0.0666433647274971,\n",
              " 0.11468083411455154,\n",
              " 0.08439894020557404,\n",
              " 0.08722561597824097,\n",
              " 0.1571829468011856,\n",
              " 0.0024174281861633062,\n",
              " 0.040521055459976196,\n",
              " 0.028561823070049286,\n",
              " 0.001086102332919836,\n",
              " 0.014147964306175709]"
            ]
          },
          "metadata": {
            "tags": []
          },
          "execution_count": 44
        }
      ]
    },
    {
      "cell_type": "code",
      "metadata": {
        "colab": {
          "base_uri": "https://localhost:8080/"
        },
        "id": "9bhBf51mHEjM",
        "outputId": "fab7c01e-bebd-4e1e-b448-ddde2fbb1359"
      },
      "source": [
        "train_acc_CNN_MLP\n"
      ],
      "execution_count": 45,
      "outputs": [
        {
          "output_type": "execute_result",
          "data": {
            "text/plain": [
              "[51.308,\n",
              " 60.246,\n",
              " 62.766,\n",
              " 66.882,\n",
              " 68.97,\n",
              " 71.126,\n",
              " 71.878,\n",
              " 73.562,\n",
              " 73.826,\n",
              " 74.824,\n",
              " 76.0,\n",
              " 76.588,\n",
              " 77.136,\n",
              " 77.99,\n",
              " 78.276,\n",
              " 79.13,\n",
              " 79.138,\n",
              " 80.15,\n",
              " 80.594,\n",
              " 81.088,\n",
              " 81.684,\n",
              " 81.384,\n",
              " 81.46,\n",
              " 82.434,\n",
              " 83.04,\n",
              " 83.654,\n",
              " 83.628,\n",
              " 83.308,\n",
              " 84.004,\n",
              " 83.65,\n",
              " 84.204,\n",
              " 84.21,\n",
              " 84.68,\n",
              " 85.324,\n",
              " 85.386,\n",
              " 85.444,\n",
              " 85.914,\n",
              " 85.972,\n",
              " 86.474,\n",
              " 86.06,\n",
              " 86.264,\n",
              " 86.688,\n",
              " 86.806,\n",
              " 87.324,\n",
              " 87.318,\n",
              " 87.47,\n",
              " 87.366,\n",
              " 87.482,\n",
              " 87.608,\n",
              " 87.468,\n",
              " 87.764,\n",
              " 87.694,\n",
              " 88.282,\n",
              " 88.324,\n",
              " 88.55,\n",
              " 88.504,\n",
              " 88.436,\n",
              " 89.1,\n",
              " 88.898,\n",
              " 88.732,\n",
              " 88.882,\n",
              " 89.08,\n",
              " 89.328,\n",
              " 89.618,\n",
              " 89.912,\n",
              " 88.884,\n",
              " 89.788,\n",
              " 89.548,\n",
              " 89.874,\n",
              " 89.724,\n",
              " 90.012,\n",
              " 89.382,\n",
              " 90.206,\n",
              " 90.166,\n",
              " 90.206,\n",
              " 90.02,\n",
              " 90.774,\n",
              " 90.554,\n",
              " 90.82,\n",
              " 90.68,\n",
              " 90.72,\n",
              " 90.616,\n",
              " 91.212,\n",
              " 90.668,\n",
              " 90.616,\n",
              " 90.832,\n",
              " 90.916,\n",
              " 91.32,\n",
              " 91.15,\n",
              " 90.846,\n",
              " 90.806,\n",
              " 91.498,\n",
              " 91.27,\n",
              " 91.678,\n",
              " 91.172,\n",
              " 91.452,\n",
              " 91.266,\n",
              " 91.504,\n",
              " 91.932,\n",
              " 91.468,\n",
              " 91.976,\n",
              " 91.666,\n",
              " 92.228,\n",
              " 91.966,\n",
              " 91.774,\n",
              " 91.722,\n",
              " 92.09,\n",
              " 91.91,\n",
              " 92.336,\n",
              " 92.138,\n",
              " 92.438,\n",
              " 92.052,\n",
              " 92.31,\n",
              " 92.084,\n",
              " 92.43,\n",
              " 92.668,\n",
              " 92.214,\n",
              " 92.5,\n",
              " 92.672,\n",
              " 92.436,\n",
              " 92.65,\n",
              " 92.558,\n",
              " 92.32,\n",
              " 92.598,\n",
              " 92.714,\n",
              " 92.574,\n",
              " 92.566,\n",
              " 92.77,\n",
              " 92.844,\n",
              " 92.836,\n",
              " 92.966,\n",
              " 92.938,\n",
              " 92.804,\n",
              " 92.874,\n",
              " 93.004,\n",
              " 93.16,\n",
              " 93.23,\n",
              " 92.996,\n",
              " 93.298,\n",
              " 93.054,\n",
              " 93.396,\n",
              " 93.072,\n",
              " 93.216,\n",
              " 93.434,\n",
              " 93.51,\n",
              " 93.234,\n",
              " 93.232,\n",
              " 93.142,\n",
              " 92.978,\n",
              " 93.31,\n",
              " 97.552,\n",
              " 97.69,\n",
              " 97.672,\n",
              " 97.474,\n",
              " 97.622,\n",
              " 97.74,\n",
              " 97.82,\n",
              " 97.586,\n",
              " 97.88,\n",
              " 97.738]"
            ]
          },
          "metadata": {
            "tags": []
          },
          "execution_count": 45
        }
      ]
    },
    {
      "cell_type": "code",
      "metadata": {
        "colab": {
          "base_uri": "https://localhost:8080/"
        },
        "id": "nbhEvP-pHHrC",
        "outputId": "269fe161-4513-4a7f-ece8-927769207c2c"
      },
      "source": [
        "val_acc_CNN_MLP "
      ],
      "execution_count": 46,
      "outputs": [
        {
          "output_type": "execute_result",
          "data": {
            "text/plain": [
              "[53.21,\n",
              " 62.75,\n",
              " 65.47,\n",
              " 70.04,\n",
              " 71.61,\n",
              " 73.27,\n",
              " 74.43,\n",
              " 75.66,\n",
              " 76.86,\n",
              " 76.59,\n",
              " 77.11,\n",
              " 78.58,\n",
              " 78.37,\n",
              " 79.06,\n",
              " 79.49,\n",
              " 78.92,\n",
              " 79.53,\n",
              " 80.33,\n",
              " 80.71,\n",
              " 80.9,\n",
              " 80.7,\n",
              " 80.4,\n",
              " 80.22,\n",
              " 82.13,\n",
              " 81.35,\n",
              " 81.61,\n",
              " 81.8,\n",
              " 81.64,\n",
              " 81.96,\n",
              " 81.34,\n",
              " 81.94,\n",
              " 82.5,\n",
              " 82.66,\n",
              " 83.11,\n",
              " 83.06,\n",
              " 82.6,\n",
              " 83.04,\n",
              " 82.29,\n",
              " 82.85,\n",
              " 82.51,\n",
              " 82.7,\n",
              " 82.37,\n",
              " 83.14,\n",
              " 83.65,\n",
              " 83.66,\n",
              " 83.12,\n",
              " 83.13,\n",
              " 83.41,\n",
              " 83.64,\n",
              " 83.76,\n",
              " 82.95,\n",
              " 83.1,\n",
              " 83.43,\n",
              " 83.06,\n",
              " 83.08,\n",
              " 83.77,\n",
              " 83.76,\n",
              " 83.87,\n",
              " 83.97,\n",
              " 83.66,\n",
              " 84.16,\n",
              " 83.23,\n",
              " 84.31,\n",
              " 84.21,\n",
              " 83.71,\n",
              " 83.78,\n",
              " 83.74,\n",
              " 83.72,\n",
              " 83.89,\n",
              " 83.5,\n",
              " 83.93,\n",
              " 83.57,\n",
              " 84.05,\n",
              " 83.56,\n",
              " 83.96,\n",
              " 83.68,\n",
              " 84.2,\n",
              " 83.79,\n",
              " 84.55,\n",
              " 84.02,\n",
              " 84.28,\n",
              " 84.02,\n",
              " 84.26,\n",
              " 83.89,\n",
              " 83.6,\n",
              " 83.86,\n",
              " 83.89,\n",
              " 84.27,\n",
              " 84.07,\n",
              " 83.81,\n",
              " 83.69,\n",
              " 84.55,\n",
              " 84.33,\n",
              " 84.76,\n",
              " 84.27,\n",
              " 84.41,\n",
              " 84.01,\n",
              " 84.51,\n",
              " 84.69,\n",
              " 84.29,\n",
              " 84.89,\n",
              " 83.6,\n",
              " 83.98,\n",
              " 84.21,\n",
              " 84.38,\n",
              " 84.25,\n",
              " 84.62,\n",
              " 83.98,\n",
              " 85.0,\n",
              " 84.32,\n",
              " 84.37,\n",
              " 83.98,\n",
              " 84.1,\n",
              " 84.52,\n",
              " 84.85,\n",
              " 84.39,\n",
              " 84.09,\n",
              " 84.18,\n",
              " 84.4,\n",
              " 84.13,\n",
              " 84.6,\n",
              " 83.93,\n",
              " 84.2,\n",
              " 84.54,\n",
              " 84.42,\n",
              " 84.23,\n",
              " 84.38,\n",
              " 84.0,\n",
              " 84.71,\n",
              " 84.09,\n",
              " 84.28,\n",
              " 84.21,\n",
              " 84.21,\n",
              " 84.78,\n",
              " 84.85,\n",
              " 84.79,\n",
              " 84.43,\n",
              " 84.86,\n",
              " 84.58,\n",
              " 84.17,\n",
              " 84.71,\n",
              " 85.05,\n",
              " 84.27,\n",
              " 84.5,\n",
              " 84.84,\n",
              " 84.06,\n",
              " 84.81,\n",
              " 84.01,\n",
              " 84.41,\n",
              " 84.39,\n",
              " 85.2,\n",
              " 85.18,\n",
              " 84.33,\n",
              " 84.38,\n",
              " 84.88,\n",
              " 84.92,\n",
              " 84.79,\n",
              " 84.5,\n",
              " 85.07,\n",
              " 84.69]"
            ]
          },
          "metadata": {
            "tags": []
          },
          "execution_count": 46
        }
      ]
    },
    {
      "cell_type": "code",
      "metadata": {
        "id": "I70LZMgFHI7x"
      },
      "source": [
        ""
      ],
      "execution_count": null,
      "outputs": []
    }
  ]
}