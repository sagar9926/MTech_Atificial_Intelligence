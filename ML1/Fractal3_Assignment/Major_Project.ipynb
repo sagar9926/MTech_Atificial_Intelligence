{
  "nbformat": 4,
  "nbformat_minor": 0,
  "metadata": {
    "colab": {
      "name": "Major Project.ipynb",
      "provenance": [],
      "collapsed_sections": [],
      "include_colab_link": true
    },
    "kernelspec": {
      "name": "python3",
      "display_name": "Python 3"
    },
    "accelerator": "GPU"
  },
  "cells": [
    {
      "cell_type": "markdown",
      "metadata": {
        "id": "view-in-github",
        "colab_type": "text"
      },
      "source": [
        "<a href=\"https://colab.research.google.com/github/sagar9926/MTech_Atificial_Intelligence/blob/main/ML1/Fractal3_Assignment/Major_Project.ipynb\" target=\"_parent\"><img src=\"https://colab.research.google.com/assets/colab-badge.svg\" alt=\"Open In Colab\"/></a>"
      ]
    },
    {
      "cell_type": "markdown",
      "metadata": {
        "id": "f2qL_DYjViG9"
      },
      "source": [
        "## Outline\n",
        "\n",
        "1. Loading datasets - Transforming images\n",
        "2. VGG-16 with modification to network head\n",
        "3. Using pre-trained models\n",
        "4. Storing intermediate models\n",
        "5. Resnet\n",
        "6. Inception v3\n",
        "7. Exercises"
      ]
    },
    {
      "cell_type": "code",
      "metadata": {
        "id": "qTPs33yVVlZH"
      },
      "source": [
        "import matplotlib.pyplot as plt\n",
        "import numpy as np\n",
        "\n",
        "import torch\n",
        "import torchvision\n",
        "import torchvision.transforms as transforms\n",
        "import torch.nn as nn\n",
        "\n",
        "\n",
        "import torch.nn.functional as F\n",
        "import torch.optim as optim\n",
        "import math\n",
        "import albumentations as A\n",
        "import copy"
      ],
      "execution_count": 1,
      "outputs": []
    },
    {
      "cell_type": "code",
      "metadata": {
        "id": "xRZWVZZNVq0_",
        "colab": {
          "base_uri": "https://localhost:8080/"
        },
        "outputId": "3d4b4d40-fb74-43dc-b21e-6b99524d35e5"
      },
      "source": [
        "device = torch.device(\"cuda:0\" if torch.cuda.is_available() else \"cpu\")\n",
        "print(device)"
      ],
      "execution_count": 2,
      "outputs": [
        {
          "output_type": "stream",
          "text": [
            "cuda:0\n"
          ],
          "name": "stdout"
        }
      ]
    },
    {
      "cell_type": "markdown",
      "metadata": {
        "id": "DCjc5GAeWAJP"
      },
      "source": [
        "## Dataset, transforms, and visualisation"
      ]
    },
    {
      "cell_type": "code",
      "metadata": {
        "id": "D25rwHjfWAl2"
      },
      "source": [
        "transform_train = transforms.Compose([\n",
        "    transforms.RandomRotation((-14.0, 14.0)),\n",
        "    #A.Cutout(num_holes=1, max_h_size=16,max_w_size = 16,p=0.5),\n",
        "    #transforms.RandomResizedCrop(32), \n",
        "    transforms.ToTensor(),\n",
        "    transforms.Normalize((0.4913997551666284, 0.48215855929893703, 0.4465309133731618), (0.24703225141799082, 0.24348516474564, 0.26158783926049628)),\n",
        "    transforms.RandomErasing(),\n",
        "    ])\n",
        "\n",
        "transform_test = transforms.Compose([\n",
        "    #transforms.RandomResizedCrop(32), \n",
        "    transforms.ToTensor(),\n",
        "    transforms.Normalize((0.4913997551666284, 0.48215855929893703, 0.4465309133731618), (0.24703225141799082, 0.24348516474564, 0.26158783926049628)),\n",
        "    ])"
      ],
      "execution_count": 3,
      "outputs": []
    },
    {
      "cell_type": "code",
      "metadata": {
        "id": "W6HJZgHXXF1z",
        "colab": {
          "base_uri": "https://localhost:8080/"
        },
        "outputId": "9d20b505-1d3a-48cf-cad4-5858fe7480e1"
      },
      "source": [
        "trainset = torchvision.datasets.CIFAR10(root='./data', train=True, \n",
        "                                        download=True, \n",
        "                                        transform=transform_train)\n",
        "testset = torchvision.datasets.CIFAR10(root='./data', train=False, \n",
        "                                        download=True, \n",
        "                                        transform=transform_test)"
      ],
      "execution_count": 4,
      "outputs": [
        {
          "output_type": "stream",
          "text": [
            "Files already downloaded and verified\n",
            "Files already downloaded and verified\n"
          ],
          "name": "stdout"
        }
      ]
    },
    {
      "cell_type": "code",
      "metadata": {
        "id": "BkRISj_rXGT3"
      },
      "source": [
        "num_classes = 10\n",
        "\n",
        "batch_size = 4\n",
        "\n",
        "trainloader = torch.utils.data.DataLoader(trainset, batch_size=batch_size, shuffle=True)"
      ],
      "execution_count": 28,
      "outputs": []
    },
    {
      "cell_type": "code",
      "metadata": {
        "id": "GwORhlamXKdT",
        "colab": {
          "base_uri": "https://localhost:8080/"
        },
        "outputId": "c7625a15-7e94-4117-caef-84b48ffcdeb1"
      },
      "source": [
        "dataiter = iter(trainloader)\n",
        "images, labels = dataiter.next()\n",
        "\n",
        "print(images.shape)\n",
        "\n",
        "print(images[1].shape)\n",
        "print(labels[1].item())"
      ],
      "execution_count": 29,
      "outputs": [
        {
          "output_type": "stream",
          "text": [
            "torch.Size([4, 3, 32, 32])\n",
            "torch.Size([3, 32, 32])\n",
            "9\n"
          ],
          "name": "stdout"
        }
      ]
    },
    {
      "cell_type": "code",
      "metadata": {
        "id": "nhsRhWAHXPpy"
      },
      "source": [
        "def imshow(img, title):\n",
        "    npimg = img.numpy() / 2 + 0.5 # denormalising the image\n",
        "    plt.figure(figsize=(batch_size*20, 2))\n",
        "    plt.axis('off')\n",
        "    plt.imshow(np.transpose(npimg, (1, 2, 0)))\n",
        "    plt.title(title)\n",
        "    plt.show()"
      ],
      "execution_count": 55,
      "outputs": []
    },
    {
      "cell_type": "code",
      "metadata": {
        "id": "yDq09BilXtia"
      },
      "source": [
        "def show_batch_images(dataloader):\n",
        "    images, labels = next(iter(dataloader))\n",
        "    img = torchvision.utils.make_grid(images) # puts together images to form a bigger image\n",
        "    imshow(img, title=[trainset.classes[x.item()] for x in labels])"
      ],
      "execution_count": 56,
      "outputs": []
    },
    {
      "cell_type": "code",
      "metadata": {
        "id": "TNRVNTz6Xt_C",
        "colab": {
          "base_uri": "https://localhost:8080/",
          "height": 643
        },
        "outputId": "6e5b57b6-4490-4197-db4d-9b863466d67c"
      },
      "source": [
        "for i in range(4):\n",
        "    show_batch_images(trainloader)"
      ],
      "execution_count": 57,
      "outputs": [
        {
          "output_type": "stream",
          "text": [
            "Clipping input data to the valid range for imshow with RGB data ([0..1] for floats or [0..255] for integers).\n"
          ],
          "name": "stderr"
        },
        {
          "output_type": "display_data",
          "data": {
            "image/png": "[encoded data removed]",
            "text/plain": [
              "<Figure size 5760x144 with 1 Axes>"
            ]
          },
          "metadata": {
            "tags": [],
            "needs_background": "light"
          }
        },
        {
          "output_type": "stream",
          "text": [
            "Clipping input data to the valid range for imshow with RGB data ([0..1] for floats or [0..255] for integers).\n"
          ],
          "name": "stderr"
        },
        {
          "output_type": "display_data",
          "data": {
            "image/png": "[encoded data removed]",
            "text/plain": [
              "<Figure size 5760x144 with 1 Axes>"
            ]
          },
          "metadata": {
            "tags": [],
            "needs_background": "light"
          }
        },
        {
          "output_type": "stream",
          "text": [
            "Clipping input data to the valid range for imshow with RGB data ([0..1] for floats or [0..255] for integers).\n"
          ],
          "name": "stderr"
        },
        {
          "output_type": "display_data",
          "data": {
            "image/png": "[encoded data removed]",
            "text/plain": [
              "<Figure size 5760x144 with 1 Axes>"
            ]
          },
          "metadata": {
            "tags": [],
            "needs_background": "light"
          }
        },
        {
          "output_type": "stream",
          "text": [
            "Clipping input data to the valid range for imshow with RGB data ([0..1] for floats or [0..255] for integers).\n"
          ],
          "name": "stderr"
        },
        {
          "output_type": "display_data",
          "data": {
            "image/png": "[encoded data removed]",
            "text/plain": [
              "<Figure size 5760x144 with 1 Axes>"
            ]
          },
          "metadata": {
            "tags": [],
            "needs_background": "light"
          }
        }
      ]
    },
    {
      "cell_type": "code",
      "metadata": {
        "id": "r8H9s8-ra-31"
      },
      "source": [
        "class Net(nn.Module):\n",
        "    def __init__(self):\n",
        "        super(Net, self).__init__()\n",
        "        # Input Block\n",
        "        self.convblock1 = nn.Sequential(\n",
        "            nn.Conv2d(in_channels=3, out_channels=48, kernel_size=(3, 3), padding=1, bias=False),\n",
        "            nn.BatchNorm2d(48),   \n",
        "            nn.ReLU()\n",
        "         \n",
        "        ) # output_size = [N , 48 , 32 , 32]\n",
        "\n",
        "        self.convblock2 = nn.Sequential(\n",
        "            nn.Conv2d(in_channels=48, out_channels=48, kernel_size=(3, 3), padding=0, bias=False),\n",
        "            nn.BatchNorm2d(48),   \n",
        "            nn.ReLU()\n",
        "         \n",
        "        ) # output_size = [N , 48 , 30 , 30]\n",
        "\n",
        "        # pooling layer\n",
        "        self.pool1 = nn.MaxPool2d(2, 2) # output_size = [N , 48 , 15 , 15]\n",
        "\n",
        "        self.convblock3 = nn.Sequential(\n",
        "            nn.Dropout(0.25),\n",
        "            nn.Conv2d(in_channels=48, out_channels=96, kernel_size=(3, 3), padding=1, bias=False),\n",
        "            nn.BatchNorm2d(96), \n",
        "            nn.ReLU()\n",
        "        ) # output_size = [N , 96 , 15 , 15]\n",
        "\n",
        "        self.convblock4 = nn.Sequential(\n",
        "            #nn.Dropout(0.25),\n",
        "            nn.Conv2d(in_channels=96, out_channels=96, kernel_size=(3, 3), padding=0, bias=False),\n",
        "            nn.BatchNorm2d(96), \n",
        "            nn.ReLU()\n",
        "        ) # output_size = [N , 96 , 13 , 13]\n",
        "\n",
        "        # pooling layer\n",
        "        self.pool2 = nn.MaxPool2d(2, 2) # output_size = [N , 96 , 6 , 6]\n",
        "\n",
        "        self.convblock5 = nn.Sequential(\n",
        "            nn.Dropout(0.25),\n",
        "            nn.Conv2d(in_channels=96, out_channels=192, kernel_size=(3, 3), padding=1, bias=False),\n",
        "            nn.BatchNorm2d(192),\n",
        "            nn.ReLU()\n",
        "        ) # output_size = [N , 192 , 6 , 6]\n",
        "\n",
        "        self.convblock6 = nn.Sequential(\n",
        "            nn.Conv2d(in_channels=192, out_channels=192, kernel_size=(3, 3), padding=0, bias=False),\n",
        "            nn.BatchNorm2d(192),\n",
        "            nn.ReLU(),\n",
        "            nn.Dropout(0.25)\n",
        "        ) # output_size = [N , 192 , 4 , 4]\n",
        "\n",
        "        self.fc_model = nn.Sequential(\n",
        "            nn.Linear(3072*2,512),         # (N, 400) -> (N, 120)\n",
        "            nn.ReLU(),\n",
        "            nn.Dropout(0.25),\n",
        "            nn.Linear(512,512),\n",
        "            nn.ReLU(),\n",
        "            nn.Dropout(0.25),\n",
        "            nn.Linear(512,256),          # (N, 120) -> (N, 84)\n",
        "            nn.Linear(256,10)            # (N, 84)  -> (N, 10)\n",
        "        )\n",
        "      \n",
        "\n",
        "    def forward(self, x):\n",
        "        img = copy.deepcopy(x)\n",
        "               \n",
        "        x = self.convblock1(x)\n",
        "        x = self.convblock2(x)\n",
        "        x = self.pool1(x)\n",
        "\n",
        "        \n",
        "        x = self.convblock3(x)\n",
        "        x = self.convblock4(x)\n",
        "        x = self.pool2(x)\n",
        "\n",
        "        x = self.convblock5(x)\n",
        "        x = self.convblock6(x)\n",
        "        x = x.view(x.size(0), -1) # (N, 16, 5, 5) -> (N, 400)\n",
        "        \n",
        "        x = torch.cat((x,img.reshape(x.size(0),-1)),dim = 1)\n",
        "        \n",
        "        x = self.fc_model(x)\n",
        "\n",
        "        return F.log_softmax(x, dim=-1)\n"
      ],
      "execution_count": 42,
      "outputs": []
    },
    {
      "cell_type": "code",
      "metadata": {
        "colab": {
          "base_uri": "https://localhost:8080/"
        },
        "id": "ulSOBGU9hqZv",
        "outputId": "26a9a8df-7e1e-4307-86af-2db9d4b32833"
      },
      "source": [
        "from torchsummary import summary\n",
        "net = Net().to(device)\n",
        "print(summary(net, (3, 32, 32)))\n"
      ],
      "execution_count": 11,
      "outputs": [
        {
          "output_type": "stream",
          "text": [
            "----------------------------------------------------------------\n",
            "        Layer (type)               Output Shape         Param #\n",
            "================================================================\n",
            "            Conv2d-1           [-1, 48, 32, 32]           1,296\n",
            "       BatchNorm2d-2           [-1, 48, 32, 32]              96\n",
            "              ReLU-3           [-1, 48, 32, 32]               0\n",
            "            Conv2d-4           [-1, 48, 30, 30]          20,736\n",
            "       BatchNorm2d-5           [-1, 48, 30, 30]              96\n",
            "              ReLU-6           [-1, 48, 30, 30]               0\n",
            "         MaxPool2d-7           [-1, 48, 15, 15]               0\n",
            "           Dropout-8           [-1, 48, 15, 15]               0\n",
            "            Conv2d-9           [-1, 96, 15, 15]          41,472\n",
            "      BatchNorm2d-10           [-1, 96, 15, 15]             192\n",
            "             ReLU-11           [-1, 96, 15, 15]               0\n",
            "           Conv2d-12           [-1, 96, 13, 13]          82,944\n",
            "      BatchNorm2d-13           [-1, 96, 13, 13]             192\n",
            "             ReLU-14           [-1, 96, 13, 13]               0\n",
            "        MaxPool2d-15             [-1, 96, 6, 6]               0\n",
            "          Dropout-16             [-1, 96, 6, 6]               0\n",
            "           Conv2d-17            [-1, 192, 6, 6]         165,888\n",
            "      BatchNorm2d-18            [-1, 192, 6, 6]             384\n",
            "             ReLU-19            [-1, 192, 6, 6]               0\n",
            "           Conv2d-20            [-1, 192, 4, 4]         331,776\n",
            "      BatchNorm2d-21            [-1, 192, 4, 4]             384\n",
            "             ReLU-22            [-1, 192, 4, 4]               0\n",
            "          Dropout-23            [-1, 192, 4, 4]               0\n",
            "           Linear-24                  [-1, 512]       3,146,240\n",
            "             ReLU-25                  [-1, 512]               0\n",
            "          Dropout-26                  [-1, 512]               0\n",
            "           Linear-27                  [-1, 512]         262,656\n",
            "             ReLU-28                  [-1, 512]               0\n",
            "          Dropout-29                  [-1, 512]               0\n",
            "           Linear-30                  [-1, 256]         131,328\n",
            "           Linear-31                   [-1, 10]           2,570\n",
            "================================================================\n",
            "Total params: 4,188,250\n",
            "Trainable params: 4,188,250\n",
            "Non-trainable params: 0\n",
            "----------------------------------------------------------------\n",
            "Input size (MB): 0.01\n",
            "Forward/backward pass size (MB): 3.47\n",
            "Params size (MB): 15.98\n",
            "Estimated Total Size (MB): 19.46\n",
            "----------------------------------------------------------------\n",
            "None\n"
          ],
          "name": "stdout"
        }
      ]
    },
    {
      "cell_type": "markdown",
      "metadata": {
        "id": "XW2JOD0ucQUv"
      },
      "source": [
        "### Train CIFAR10"
      ]
    },
    {
      "cell_type": "code",
      "metadata": {
        "id": "bacgFGD3cQrl"
      },
      "source": [
        "batch_size = 64\n",
        "\n",
        "trainloader = torch.utils.data.DataLoader(trainset,batch_size=batch_size,shuffle = True)\n",
        "testloader = torch.utils.data.DataLoader(testset, batch_size=batch_size, shuffle=False)"
      ],
      "execution_count": 12,
      "outputs": []
    },
    {
      "cell_type": "code",
      "metadata": {
        "id": "dKparHasckIz"
      },
      "source": [
        "def evaluation(dataloader,model):\n",
        "  total , correct = 0,0\n",
        "  for data in dataloader:\n",
        "    inputs,labels = data\n",
        "    inputs,labels = inputs.to(device),labels.to(device)\n",
        "    outputs = model(inputs)\n",
        "    _,pred = torch.max(outputs.data,1)\n",
        "    total += labels.size(0)\n",
        "    correct += (pred == labels).sum().item()\n",
        "  return 100 * correct / total\n"
      ],
      "execution_count": 13,
      "outputs": []
    },
    {
      "cell_type": "code",
      "metadata": {
        "id": "uwrMAbUxdrFK"
      },
      "source": [
        "# vgg = vgg.to(device)\n",
        "net = Net().to(device)\n",
        "\n",
        "loss_fn = nn.CrossEntropyLoss() #this takes into consideration that we have to differentiate through softmax layer, given softmax is not applied in our vgg\n",
        "opt = optim.SGD(net.parameters(), lr=0.01,momentum = 0.9)\n",
        "#scheduler = torch.optim.lr_scheduler.StepLR(opt, step_size=len(trainloader)*10, gamma=0.01)\n"
      ],
      "execution_count": 14,
      "outputs": []
    },
    {
      "cell_type": "code",
      "metadata": {
        "id": "NeCHxBL8eMwy",
        "colab": {
          "base_uri": "https://localhost:8080/"
        },
        "outputId": "2f36e994-bd2c-43cc-9329-57f236ec90ac"
      },
      "source": [
        "loss_epoch_arr = []\n",
        "max_epochs = 150\n",
        "train_acc = []\n",
        "val_acc = []\n",
        "\n",
        "n_iters = np.ceil(50000/batch_size)\n",
        "\n",
        "for epoch in range(max_epochs):\n",
        "\n",
        "    for i, data in enumerate(trainloader, 0):\n",
        "\n",
        "        inputs, labels = data\n",
        "        inputs, labels = inputs.to(device), labels.to(device)\n",
        "\n",
        "        opt.zero_grad()\n",
        "\n",
        "        outputs = net(inputs)\n",
        "        loss = loss_fn(outputs, labels)\n",
        "        loss.backward()\n",
        "        opt.step()\n",
        "        #scheduler.step()\n",
        "        \n",
        "        del inputs, labels, outputs\n",
        "        torch.cuda.empty_cache()\n",
        "        \n",
        "        if i % 500 == 0:\n",
        "            print('Iteration: %d/%d, Loss: %0.2f' % (i, n_iters, loss.item()))\n",
        "        \n",
        "    loss_epoch_arr.append(loss.item())\n",
        "    train_acc.append(evaluation(trainloader, net))\n",
        "    val_acc.append(evaluation(testloader, net))\n",
        "\n",
        "        \n",
        "    print('Epoch: %d/%d, Test acc: %0.2f, Train acc: %0.2f' % (\n",
        "        epoch + 1, max_epochs, \n",
        "        evaluation(testloader, net), evaluation(trainloader, net)))\n",
        "    \n",
        "#plt.plot(loss_epoch_arr)\n",
        "#plt.show()"
      ],
      "execution_count": 15,
      "outputs": [
        {
          "output_type": "stream",
          "text": [
            "Iteration: 0/782, Loss: 2.31\n",
            "Iteration: 500/782, Loss: 1.33\n",
            "Epoch: 1/150, Test acc: 55.67, Train acc: 52.39\n",
            "Iteration: 0/782, Loss: 1.39\n",
            "Iteration: 500/782, Loss: 1.09\n",
            "Epoch: 2/150, Test acc: 63.41, Train acc: 60.21\n",
            "Iteration: 0/782, Loss: 0.93\n",
            "Iteration: 500/782, Loss: 1.07\n",
            "Epoch: 3/150, Test acc: 67.63, Train acc: 64.51\n",
            "Iteration: 0/782, Loss: 1.01\n",
            "Iteration: 500/782, Loss: 0.98\n",
            "Epoch: 4/150, Test acc: 70.73, Train acc: 66.99\n",
            "Iteration: 0/782, Loss: 0.69\n",
            "Iteration: 500/782, Loss: 1.01\n",
            "Epoch: 5/150, Test acc: 71.02, Train acc: 68.14\n",
            "Iteration: 0/782, Loss: 0.79\n",
            "Iteration: 500/782, Loss: 0.78\n",
            "Epoch: 6/150, Test acc: 72.68, Train acc: 69.71\n",
            "Iteration: 0/782, Loss: 0.99\n",
            "Iteration: 500/782, Loss: 0.78\n",
            "Epoch: 7/150, Test acc: 74.06, Train acc: 71.09\n",
            "Iteration: 0/782, Loss: 1.02\n",
            "Iteration: 500/782, Loss: 0.69\n",
            "Epoch: 8/150, Test acc: 75.12, Train acc: 72.86\n",
            "Iteration: 0/782, Loss: 0.73\n",
            "Iteration: 500/782, Loss: 0.66\n",
            "Epoch: 9/150, Test acc: 76.75, Train acc: 74.30\n",
            "Iteration: 0/782, Loss: 0.69\n",
            "Iteration: 500/782, Loss: 0.81\n",
            "Epoch: 10/150, Test acc: 77.38, Train acc: 74.92\n",
            "Iteration: 0/782, Loss: 0.65\n",
            "Iteration: 500/782, Loss: 0.46\n",
            "Epoch: 11/150, Test acc: 77.19, Train acc: 75.54\n",
            "Iteration: 0/782, Loss: 1.10\n",
            "Iteration: 500/782, Loss: 0.60\n",
            "Epoch: 12/150, Test acc: 79.21, Train acc: 77.80\n",
            "Iteration: 0/782, Loss: 0.52\n",
            "Iteration: 500/782, Loss: 0.39\n",
            "Epoch: 13/150, Test acc: 78.10, Train acc: 77.90\n",
            "Iteration: 0/782, Loss: 0.64\n",
            "Iteration: 500/782, Loss: 0.70\n",
            "Epoch: 14/150, Test acc: 78.96, Train acc: 78.19\n",
            "Iteration: 0/782, Loss: 0.57\n",
            "Iteration: 500/782, Loss: 0.69\n",
            "Epoch: 15/150, Test acc: 79.13, Train acc: 78.59\n",
            "Iteration: 0/782, Loss: 0.48\n",
            "Iteration: 500/782, Loss: 1.05\n",
            "Epoch: 16/150, Test acc: 79.19, Train acc: 78.85\n",
            "Iteration: 0/782, Loss: 0.61\n",
            "Iteration: 500/782, Loss: 0.44\n",
            "Epoch: 17/150, Test acc: 78.63, Train acc: 78.60\n",
            "Iteration: 0/782, Loss: 0.60\n",
            "Iteration: 500/782, Loss: 0.79\n",
            "Epoch: 18/150, Test acc: 80.19, Train acc: 80.29\n",
            "Iteration: 0/782, Loss: 0.64\n",
            "Iteration: 500/782, Loss: 0.57\n",
            "Epoch: 19/150, Test acc: 79.88, Train acc: 79.93\n",
            "Iteration: 0/782, Loss: 0.52\n",
            "Iteration: 500/782, Loss: 0.59\n",
            "Epoch: 20/150, Test acc: 80.19, Train acc: 80.39\n",
            "Iteration: 0/782, Loss: 0.77\n",
            "Iteration: 500/782, Loss: 0.59\n",
            "Epoch: 21/150, Test acc: 80.78, Train acc: 81.61\n",
            "Iteration: 0/782, Loss: 0.43\n",
            "Iteration: 500/782, Loss: 0.46\n",
            "Epoch: 22/150, Test acc: 81.28, Train acc: 81.81\n",
            "Iteration: 0/782, Loss: 0.52\n",
            "Iteration: 500/782, Loss: 0.46\n",
            "Epoch: 23/150, Test acc: 80.63, Train acc: 81.86\n",
            "Iteration: 0/782, Loss: 0.69\n",
            "Iteration: 500/782, Loss: 0.46\n",
            "Epoch: 24/150, Test acc: 81.59, Train acc: 82.43\n",
            "Iteration: 0/782, Loss: 0.60\n",
            "Iteration: 500/782, Loss: 0.31\n",
            "Epoch: 25/150, Test acc: 81.68, Train acc: 82.89\n",
            "Iteration: 0/782, Loss: 0.51\n",
            "Iteration: 500/782, Loss: 0.42\n",
            "Epoch: 26/150, Test acc: 81.65, Train acc: 82.95\n",
            "Iteration: 0/782, Loss: 0.35\n",
            "Iteration: 500/782, Loss: 0.45\n",
            "Epoch: 27/150, Test acc: 81.43, Train acc: 83.26\n",
            "Iteration: 0/782, Loss: 0.56\n",
            "Iteration: 500/782, Loss: 0.55\n",
            "Epoch: 28/150, Test acc: 81.81, Train acc: 83.71\n",
            "Iteration: 0/782, Loss: 0.25\n",
            "Iteration: 500/782, Loss: 0.47\n",
            "Epoch: 29/150, Test acc: 82.17, Train acc: 84.16\n",
            "Iteration: 0/782, Loss: 0.40\n",
            "Iteration: 500/782, Loss: 0.47\n",
            "Epoch: 30/150, Test acc: 82.08, Train acc: 84.23\n",
            "Iteration: 0/782, Loss: 0.40\n",
            "Iteration: 500/782, Loss: 0.62\n",
            "Epoch: 31/150, Test acc: 82.26, Train acc: 84.88\n",
            "Iteration: 0/782, Loss: 0.36\n",
            "Iteration: 500/782, Loss: 0.72\n",
            "Epoch: 32/150, Test acc: 82.44, Train acc: 84.37\n",
            "Iteration: 0/782, Loss: 0.36\n",
            "Iteration: 500/782, Loss: 0.25\n",
            "Epoch: 33/150, Test acc: 82.18, Train acc: 84.56\n",
            "Iteration: 0/782, Loss: 0.38\n",
            "Iteration: 500/782, Loss: 0.31\n",
            "Epoch: 34/150, Test acc: 82.70, Train acc: 85.38\n",
            "Iteration: 0/782, Loss: 0.29\n",
            "Iteration: 500/782, Loss: 0.44\n",
            "Epoch: 35/150, Test acc: 83.18, Train acc: 85.21\n",
            "Iteration: 0/782, Loss: 0.29\n",
            "Iteration: 500/782, Loss: 0.32\n",
            "Epoch: 36/150, Test acc: 83.03, Train acc: 85.43\n",
            "Iteration: 0/782, Loss: 0.50\n",
            "Iteration: 500/782, Loss: 0.60\n",
            "Epoch: 37/150, Test acc: 82.15, Train acc: 85.54\n",
            "Iteration: 0/782, Loss: 0.45\n",
            "Iteration: 500/782, Loss: 0.35\n",
            "Epoch: 38/150, Test acc: 82.76, Train acc: 85.76\n",
            "Iteration: 0/782, Loss: 0.39\n",
            "Iteration: 500/782, Loss: 0.31\n",
            "Epoch: 39/150, Test acc: 83.20, Train acc: 86.20\n",
            "Iteration: 0/782, Loss: 0.41\n",
            "Iteration: 500/782, Loss: 0.30\n",
            "Epoch: 40/150, Test acc: 82.76, Train acc: 86.01\n",
            "Iteration: 0/782, Loss: 0.49\n",
            "Iteration: 500/782, Loss: 0.54\n",
            "Epoch: 41/150, Test acc: 83.26, Train acc: 86.65\n",
            "Iteration: 0/782, Loss: 0.33\n",
            "Iteration: 500/782, Loss: 0.43\n",
            "Epoch: 42/150, Test acc: 82.77, Train acc: 86.79\n",
            "Iteration: 0/782, Loss: 0.48\n",
            "Iteration: 500/782, Loss: 0.48\n",
            "Epoch: 43/150, Test acc: 82.72, Train acc: 86.55\n",
            "Iteration: 0/782, Loss: 0.51\n",
            "Iteration: 500/782, Loss: 0.45\n",
            "Epoch: 44/150, Test acc: 82.93, Train acc: 86.80\n",
            "Iteration: 0/782, Loss: 0.20\n",
            "Iteration: 500/782, Loss: 0.40\n",
            "Epoch: 45/150, Test acc: 83.24, Train acc: 87.14\n",
            "Iteration: 0/782, Loss: 0.39\n",
            "Iteration: 500/782, Loss: 0.40\n",
            "Epoch: 46/150, Test acc: 83.17, Train acc: 87.11\n",
            "Iteration: 0/782, Loss: 0.39\n",
            "Iteration: 500/782, Loss: 0.59\n",
            "Epoch: 47/150, Test acc: 83.10, Train acc: 87.19\n",
            "Iteration: 0/782, Loss: 0.35\n",
            "Iteration: 500/782, Loss: 0.38\n",
            "Epoch: 48/150, Test acc: 83.41, Train acc: 87.16\n",
            "Iteration: 0/782, Loss: 0.40\n",
            "Iteration: 500/782, Loss: 0.40\n",
            "Epoch: 49/150, Test acc: 83.12, Train acc: 87.80\n",
            "Iteration: 0/782, Loss: 0.40\n",
            "Iteration: 500/782, Loss: 0.28\n",
            "Epoch: 50/150, Test acc: 83.54, Train acc: 87.61\n",
            "Iteration: 0/782, Loss: 0.38\n",
            "Iteration: 500/782, Loss: 0.44\n",
            "Epoch: 51/150, Test acc: 83.53, Train acc: 88.05\n",
            "Iteration: 0/782, Loss: 0.23\n",
            "Iteration: 500/782, Loss: 0.45\n",
            "Epoch: 52/150, Test acc: 83.21, Train acc: 87.95\n",
            "Iteration: 0/782, Loss: 0.24\n",
            "Iteration: 500/782, Loss: 0.24\n",
            "Epoch: 53/150, Test acc: 83.64, Train acc: 88.15\n",
            "Iteration: 0/782, Loss: 0.22\n",
            "Iteration: 500/782, Loss: 0.47\n",
            "Epoch: 54/150, Test acc: 83.90, Train acc: 88.74\n",
            "Iteration: 0/782, Loss: 0.50\n",
            "Iteration: 500/782, Loss: 0.38\n",
            "Epoch: 55/150, Test acc: 83.10, Train acc: 88.08\n",
            "Iteration: 0/782, Loss: 0.18\n",
            "Iteration: 500/782, Loss: 0.32\n",
            "Epoch: 56/150, Test acc: 83.76, Train acc: 88.81\n",
            "Iteration: 0/782, Loss: 0.20\n",
            "Iteration: 500/782, Loss: 0.21\n",
            "Epoch: 57/150, Test acc: 84.01, Train acc: 88.97\n",
            "Iteration: 0/782, Loss: 0.22\n",
            "Iteration: 500/782, Loss: 0.40\n",
            "Epoch: 58/150, Test acc: 83.65, Train acc: 88.75\n",
            "Iteration: 0/782, Loss: 0.26\n",
            "Iteration: 500/782, Loss: 0.32\n",
            "Epoch: 59/150, Test acc: 83.04, Train acc: 88.83\n",
            "Iteration: 0/782, Loss: 0.26\n",
            "Iteration: 500/782, Loss: 0.28\n",
            "Epoch: 60/150, Test acc: 83.82, Train acc: 88.39\n",
            "Iteration: 0/782, Loss: 0.52\n",
            "Iteration: 500/782, Loss: 0.17\n",
            "Epoch: 61/150, Test acc: 83.89, Train acc: 88.81\n",
            "Iteration: 0/782, Loss: 0.20\n",
            "Iteration: 500/782, Loss: 0.32\n",
            "Epoch: 62/150, Test acc: 83.62, Train acc: 88.84\n",
            "Iteration: 0/782, Loss: 0.28\n",
            "Iteration: 500/782, Loss: 0.26\n",
            "Epoch: 63/150, Test acc: 83.96, Train acc: 89.32\n",
            "Iteration: 0/782, Loss: 0.21\n",
            "Iteration: 500/782, Loss: 0.42\n",
            "Epoch: 64/150, Test acc: 83.84, Train acc: 89.86\n",
            "Iteration: 0/782, Loss: 0.28\n",
            "Iteration: 500/782, Loss: 0.42\n",
            "Epoch: 65/150, Test acc: 83.44, Train acc: 89.15\n",
            "Iteration: 0/782, Loss: 0.30\n",
            "Iteration: 500/782, Loss: 0.24\n",
            "Epoch: 66/150, Test acc: 84.10, Train acc: 89.60\n",
            "Iteration: 0/782, Loss: 0.33\n",
            "Iteration: 500/782, Loss: 0.27\n",
            "Epoch: 67/150, Test acc: 84.13, Train acc: 89.58\n",
            "Iteration: 0/782, Loss: 0.13\n",
            "Iteration: 500/782, Loss: 0.43\n",
            "Epoch: 68/150, Test acc: 83.97, Train acc: 89.44\n",
            "Iteration: 0/782, Loss: 0.19\n",
            "Iteration: 500/782, Loss: 0.26\n",
            "Epoch: 69/150, Test acc: 83.80, Train acc: 89.66\n",
            "Iteration: 0/782, Loss: 0.24\n",
            "Iteration: 500/782, Loss: 0.26\n",
            "Epoch: 70/150, Test acc: 83.98, Train acc: 89.63\n",
            "Iteration: 0/782, Loss: 0.39\n",
            "Iteration: 500/782, Loss: 0.46\n",
            "Epoch: 71/150, Test acc: 83.96, Train acc: 89.84\n",
            "Iteration: 0/782, Loss: 0.61\n",
            "Iteration: 500/782, Loss: 0.20\n",
            "Epoch: 72/150, Test acc: 83.90, Train acc: 90.07\n",
            "Iteration: 0/782, Loss: 0.38\n",
            "Iteration: 500/782, Loss: 0.24\n",
            "Epoch: 73/150, Test acc: 84.25, Train acc: 90.18\n",
            "Iteration: 0/782, Loss: 0.14\n",
            "Iteration: 500/782, Loss: 0.38\n",
            "Epoch: 74/150, Test acc: 84.13, Train acc: 90.31\n",
            "Iteration: 0/782, Loss: 0.32\n",
            "Iteration: 500/782, Loss: 0.37\n",
            "Epoch: 75/150, Test acc: 83.97, Train acc: 89.98\n",
            "Iteration: 0/782, Loss: 0.42\n",
            "Iteration: 500/782, Loss: 0.35\n",
            "Epoch: 76/150, Test acc: 83.99, Train acc: 90.16\n",
            "Iteration: 0/782, Loss: 0.17\n",
            "Iteration: 500/782, Loss: 0.27\n",
            "Epoch: 77/150, Test acc: 84.35, Train acc: 90.21\n",
            "Iteration: 0/782, Loss: 0.15\n",
            "Iteration: 500/782, Loss: 0.28\n",
            "Epoch: 78/150, Test acc: 84.46, Train acc: 90.47\n",
            "Iteration: 0/782, Loss: 0.13\n",
            "Iteration: 500/782, Loss: 0.30\n",
            "Epoch: 79/150, Test acc: 83.96, Train acc: 90.56\n",
            "Iteration: 0/782, Loss: 0.16\n",
            "Iteration: 500/782, Loss: 0.23\n",
            "Epoch: 80/150, Test acc: 84.00, Train acc: 90.27\n",
            "Iteration: 0/782, Loss: 0.30\n",
            "Iteration: 500/782, Loss: 0.26\n",
            "Epoch: 81/150, Test acc: 83.74, Train acc: 90.61\n",
            "Iteration: 0/782, Loss: 0.25\n",
            "Iteration: 500/782, Loss: 0.31\n",
            "Epoch: 82/150, Test acc: 83.87, Train acc: 90.74\n",
            "Iteration: 0/782, Loss: 0.26\n",
            "Iteration: 500/782, Loss: 0.34\n",
            "Epoch: 83/150, Test acc: 84.50, Train acc: 91.15\n",
            "Iteration: 0/782, Loss: 0.43\n",
            "Iteration: 500/782, Loss: 0.57\n",
            "Epoch: 84/150, Test acc: 84.47, Train acc: 90.75\n",
            "Iteration: 0/782, Loss: 0.17\n",
            "Iteration: 500/782, Loss: 0.20\n",
            "Epoch: 85/150, Test acc: 84.18, Train acc: 90.82\n",
            "Iteration: 0/782, Loss: 0.30\n",
            "Iteration: 500/782, Loss: 0.31\n",
            "Epoch: 86/150, Test acc: 83.92, Train acc: 90.92\n",
            "Iteration: 0/782, Loss: 0.35\n",
            "Iteration: 500/782, Loss: 0.53\n",
            "Epoch: 87/150, Test acc: 84.18, Train acc: 91.16\n",
            "Iteration: 0/782, Loss: 0.34\n",
            "Iteration: 500/782, Loss: 0.22\n",
            "Epoch: 88/150, Test acc: 83.90, Train acc: 91.26\n",
            "Iteration: 0/782, Loss: 0.32\n",
            "Iteration: 500/782, Loss: 0.48\n",
            "Epoch: 89/150, Test acc: 83.79, Train acc: 91.07\n",
            "Iteration: 0/782, Loss: 0.18\n",
            "Iteration: 500/782, Loss: 0.25\n",
            "Epoch: 90/150, Test acc: 84.92, Train acc: 91.39\n",
            "Iteration: 0/782, Loss: 0.48\n",
            "Iteration: 500/782, Loss: 0.30\n",
            "Epoch: 91/150, Test acc: 84.66, Train acc: 91.25\n",
            "Iteration: 0/782, Loss: 0.23\n",
            "Iteration: 500/782, Loss: 0.40\n",
            "Epoch: 92/150, Test acc: 84.70, Train acc: 91.35\n",
            "Iteration: 0/782, Loss: 0.25\n",
            "Iteration: 500/782, Loss: 0.15\n",
            "Epoch: 93/150, Test acc: 83.87, Train acc: 91.19\n",
            "Iteration: 0/782, Loss: 0.40\n",
            "Iteration: 500/782, Loss: 0.32\n",
            "Epoch: 94/150, Test acc: 84.44, Train acc: 91.57\n",
            "Iteration: 0/782, Loss: 0.25\n",
            "Iteration: 500/782, Loss: 0.33\n",
            "Epoch: 95/150, Test acc: 83.62, Train acc: 91.03\n",
            "Iteration: 0/782, Loss: 0.14\n",
            "Iteration: 500/782, Loss: 0.25\n",
            "Epoch: 96/150, Test acc: 84.24, Train acc: 91.45\n",
            "Iteration: 0/782, Loss: 0.33\n",
            "Iteration: 500/782, Loss: 0.24\n",
            "Epoch: 97/150, Test acc: 84.15, Train acc: 91.31\n",
            "Iteration: 0/782, Loss: 0.18\n",
            "Iteration: 500/782, Loss: 0.26\n",
            "Epoch: 98/150, Test acc: 84.69, Train acc: 91.39\n",
            "Iteration: 0/782, Loss: 0.32\n",
            "Iteration: 500/782, Loss: 0.22\n",
            "Epoch: 99/150, Test acc: 84.19, Train acc: 91.43\n",
            "Iteration: 0/782, Loss: 0.53\n",
            "Iteration: 500/782, Loss: 0.21\n",
            "Epoch: 100/150, Test acc: 84.15, Train acc: 91.46\n",
            "Iteration: 0/782, Loss: 0.27\n",
            "Iteration: 500/782, Loss: 0.23\n",
            "Epoch: 101/150, Test acc: 83.90, Train acc: 91.65\n",
            "Iteration: 0/782, Loss: 0.12\n",
            "Iteration: 500/782, Loss: 0.08\n",
            "Epoch: 102/150, Test acc: 84.04, Train acc: 91.68\n",
            "Iteration: 0/782, Loss: 0.22\n",
            "Iteration: 500/782, Loss: 0.22\n",
            "Epoch: 103/150, Test acc: 83.87, Train acc: 91.47\n",
            "Iteration: 0/782, Loss: 0.31\n",
            "Iteration: 500/782, Loss: 0.24\n",
            "Epoch: 104/150, Test acc: 84.78, Train acc: 91.53\n",
            "Iteration: 0/782, Loss: 0.35\n",
            "Iteration: 500/782, Loss: 0.12\n",
            "Epoch: 105/150, Test acc: 84.24, Train acc: 91.61\n",
            "Iteration: 0/782, Loss: 0.27\n",
            "Iteration: 500/782, Loss: 0.40\n",
            "Epoch: 106/150, Test acc: 84.29, Train acc: 92.06\n",
            "Iteration: 0/782, Loss: 0.22\n",
            "Iteration: 500/782, Loss: 0.54\n",
            "Epoch: 107/150, Test acc: 84.55, Train acc: 91.68\n",
            "Iteration: 0/782, Loss: 0.30\n",
            "Iteration: 500/782, Loss: 0.25\n",
            "Epoch: 108/150, Test acc: 84.34, Train acc: 92.33\n",
            "Iteration: 0/782, Loss: 0.21\n",
            "Iteration: 500/782, Loss: 0.35\n",
            "Epoch: 109/150, Test acc: 84.55, Train acc: 91.94\n",
            "Iteration: 0/782, Loss: 0.32\n",
            "Iteration: 500/782, Loss: 0.13\n",
            "Epoch: 110/150, Test acc: 84.61, Train acc: 91.74\n",
            "Iteration: 0/782, Loss: 0.21\n",
            "Iteration: 500/782, Loss: 0.20\n",
            "Epoch: 111/150, Test acc: 84.30, Train acc: 92.17\n",
            "Iteration: 0/782, Loss: 0.22\n",
            "Iteration: 500/782, Loss: 0.35\n",
            "Epoch: 112/150, Test acc: 84.18, Train acc: 92.16\n",
            "Iteration: 0/782, Loss: 0.16\n",
            "Iteration: 500/782, Loss: 0.12\n",
            "Epoch: 113/150, Test acc: 84.07, Train acc: 92.02\n",
            "Iteration: 0/782, Loss: 0.16\n",
            "Iteration: 500/782, Loss: 0.23\n",
            "Epoch: 114/150, Test acc: 84.97, Train acc: 92.19\n",
            "Iteration: 0/782, Loss: 0.24\n",
            "Iteration: 500/782, Loss: 0.29\n",
            "Epoch: 115/150, Test acc: 84.38, Train acc: 92.51\n",
            "Iteration: 0/782, Loss: 0.43\n",
            "Iteration: 500/782, Loss: 0.27\n",
            "Epoch: 116/150, Test acc: 84.55, Train acc: 92.24\n",
            "Iteration: 0/782, Loss: 0.32\n",
            "Iteration: 500/782, Loss: 0.05\n",
            "Epoch: 117/150, Test acc: 84.71, Train acc: 92.26\n",
            "Iteration: 0/782, Loss: 0.20\n",
            "Iteration: 500/782, Loss: 0.09\n",
            "Epoch: 118/150, Test acc: 84.48, Train acc: 92.40\n",
            "Iteration: 0/782, Loss: 0.26\n",
            "Iteration: 500/782, Loss: 0.34\n",
            "Epoch: 119/150, Test acc: 84.56, Train acc: 92.54\n",
            "Iteration: 0/782, Loss: 0.13\n",
            "Iteration: 500/782, Loss: 0.30\n",
            "Epoch: 120/150, Test acc: 84.11, Train acc: 92.38\n",
            "Iteration: 0/782, Loss: 0.11\n",
            "Iteration: 500/782, Loss: 0.15\n",
            "Epoch: 121/150, Test acc: 84.89, Train acc: 92.49\n",
            "Iteration: 0/782, Loss: 0.17\n",
            "Iteration: 500/782, Loss: 0.01\n",
            "Epoch: 122/150, Test acc: 84.68, Train acc: 92.48\n",
            "Iteration: 0/782, Loss: 0.23\n",
            "Iteration: 500/782, Loss: 0.24\n",
            "Epoch: 123/150, Test acc: 84.63, Train acc: 92.72\n",
            "Iteration: 0/782, Loss: 0.18\n",
            "Iteration: 500/782, Loss: 0.09\n",
            "Epoch: 124/150, Test acc: 84.75, Train acc: 92.72\n",
            "Iteration: 0/782, Loss: 0.24\n",
            "Iteration: 500/782, Loss: 0.16\n",
            "Epoch: 125/150, Test acc: 84.90, Train acc: 92.66\n",
            "Iteration: 0/782, Loss: 0.24\n",
            "Iteration: 500/782, Loss: 0.17\n",
            "Epoch: 126/150, Test acc: 84.72, Train acc: 92.76\n",
            "Iteration: 0/782, Loss: 0.23\n",
            "Iteration: 500/782, Loss: 0.17\n",
            "Epoch: 127/150, Test acc: 84.68, Train acc: 92.65\n",
            "Iteration: 0/782, Loss: 0.18\n",
            "Iteration: 500/782, Loss: 0.22\n",
            "Epoch: 128/150, Test acc: 85.03, Train acc: 92.76\n",
            "Iteration: 0/782, Loss: 0.26\n",
            "Iteration: 500/782, Loss: 0.28\n",
            "Epoch: 129/150, Test acc: 84.99, Train acc: 92.75\n",
            "Iteration: 0/782, Loss: 0.31\n",
            "Iteration: 500/782, Loss: 0.18\n",
            "Epoch: 130/150, Test acc: 84.20, Train acc: 93.27\n",
            "Iteration: 0/782, Loss: 0.27\n",
            "Iteration: 500/782, Loss: 0.17\n",
            "Epoch: 131/150, Test acc: 84.51, Train acc: 92.76\n",
            "Iteration: 0/782, Loss: 0.29\n",
            "Iteration: 500/782, Loss: 0.19\n",
            "Epoch: 132/150, Test acc: 84.54, Train acc: 92.82\n",
            "Iteration: 0/782, Loss: 0.23\n",
            "Iteration: 500/782, Loss: 0.15\n",
            "Epoch: 133/150, Test acc: 84.25, Train acc: 93.07\n",
            "Iteration: 0/782, Loss: 0.13\n",
            "Iteration: 500/782, Loss: 0.18\n",
            "Epoch: 134/150, Test acc: 84.30, Train acc: 92.52\n",
            "Iteration: 0/782, Loss: 0.48\n",
            "Iteration: 500/782, Loss: 0.26\n",
            "Epoch: 135/150, Test acc: 84.54, Train acc: 92.81\n",
            "Iteration: 0/782, Loss: 0.63\n",
            "Iteration: 500/782, Loss: 0.17\n",
            "Epoch: 136/150, Test acc: 84.47, Train acc: 93.02\n",
            "Iteration: 0/782, Loss: 0.15\n",
            "Iteration: 500/782, Loss: 0.29\n",
            "Epoch: 137/150, Test acc: 84.53, Train acc: 93.03\n",
            "Iteration: 0/782, Loss: 0.23\n",
            "Iteration: 500/782, Loss: 0.21\n",
            "Epoch: 138/150, Test acc: 84.69, Train acc: 92.85\n",
            "Iteration: 0/782, Loss: 0.10\n",
            "Iteration: 500/782, Loss: 0.21\n",
            "Epoch: 139/150, Test acc: 84.90, Train acc: 93.12\n",
            "Iteration: 0/782, Loss: 0.12\n",
            "Iteration: 500/782, Loss: 0.15\n",
            "Epoch: 140/150, Test acc: 84.53, Train acc: 92.96\n",
            "Iteration: 0/782, Loss: 0.14\n",
            "Iteration: 500/782, Loss: 0.17\n",
            "Epoch: 141/150, Test acc: 83.95, Train acc: 93.25\n",
            "Iteration: 0/782, Loss: 0.15\n",
            "Iteration: 500/782, Loss: 0.16\n",
            "Epoch: 142/150, Test acc: 84.29, Train acc: 93.02\n",
            "Iteration: 0/782, Loss: 0.21\n",
            "Iteration: 500/782, Loss: 0.25\n",
            "Epoch: 143/150, Test acc: 84.57, Train acc: 93.02\n",
            "Iteration: 0/782, Loss: 0.18\n",
            "Iteration: 500/782, Loss: 0.20\n",
            "Epoch: 144/150, Test acc: 84.82, Train acc: 93.23\n",
            "Iteration: 0/782, Loss: 0.27\n",
            "Iteration: 500/782, Loss: 0.21\n",
            "Epoch: 145/150, Test acc: 84.52, Train acc: 93.10\n",
            "Iteration: 0/782, Loss: 0.19\n",
            "Iteration: 500/782, Loss: 0.13\n",
            "Epoch: 146/150, Test acc: 84.66, Train acc: 93.22\n",
            "Iteration: 0/782, Loss: 0.21\n",
            "Iteration: 500/782, Loss: 0.21\n",
            "Epoch: 147/150, Test acc: 84.88, Train acc: 93.28\n",
            "Iteration: 0/782, Loss: 0.19\n",
            "Iteration: 500/782, Loss: 0.08\n",
            "Epoch: 148/150, Test acc: 84.78, Train acc: 93.26\n",
            "Iteration: 0/782, Loss: 0.17\n",
            "Iteration: 500/782, Loss: 0.12\n",
            "Epoch: 149/150, Test acc: 84.83, Train acc: 93.20\n",
            "Iteration: 0/782, Loss: 0.25\n",
            "Iteration: 500/782, Loss: 0.28\n",
            "Epoch: 150/150, Test acc: 84.55, Train acc: 93.63\n"
          ],
          "name": "stdout"
        }
      ]
    },
    {
      "cell_type": "code",
      "metadata": {
        "colab": {
          "base_uri": "https://localhost:8080/"
        },
        "id": "aeWokPRr6Q--",
        "outputId": "939d4c33-9b72-4bf9-df93-d337c6497056"
      },
      "source": [
        "transform_train = transforms.Compose([\n",
        "    transforms.RandomRotation((-14.0, 14.0)),\n",
        "    #A.Cutout(num_holes=1, max_h_size=16,max_w_size = 16,p=0.5),\n",
        "    #transforms.RandomResizedCrop(32), \n",
        "    transforms.ToTensor(),\n",
        "    transforms.Normalize((0.4913997551666284, 0.48215855929893703, 0.4465309133731618), (0.24703225141799082, 0.24348516474564, 0.26158783926049628)),\n",
        "    #transforms.RandomErasing(),\n",
        "    ])\n",
        "\n",
        "transform_test = transforms.Compose([\n",
        "    #transforms.RandomResizedCrop(32), \n",
        "    transforms.ToTensor(),\n",
        "    transforms.Normalize((0.4913997551666284, 0.48215855929893703, 0.4465309133731618), (0.24703225141799082, 0.24348516474564, 0.26158783926049628)),\n",
        "    ])\n",
        "\n",
        "trainset = torchvision.datasets.CIFAR10(root='./data', train=True, \n",
        "                                        download=True, \n",
        "                                        transform=transform_train)\n",
        "testset = torchvision.datasets.CIFAR10(root='./data', train=False, \n",
        "                                        download=True, \n",
        "                                        transform=transform_test)\n",
        "\n",
        "\n",
        "trainloader = torch.utils.data.DataLoader(trainset,batch_size=batch_size,shuffle = True)\n"
      ],
      "execution_count": 16,
      "outputs": [
        {
          "output_type": "stream",
          "text": [
            "Files already downloaded and verified\n",
            "Files already downloaded and verified\n"
          ],
          "name": "stdout"
        }
      ]
    },
    {
      "cell_type": "code",
      "metadata": {
        "colab": {
          "base_uri": "https://localhost:8080/"
        },
        "id": "uUsZOrgr6Q_A",
        "outputId": "e010d0ab-64cd-414b-f685-80440b2428b6"
      },
      "source": [
        "max_epochs = 10\n",
        "\n",
        "n_iters = np.ceil(50000/batch_size)\n",
        "\n",
        "for epoch in range(max_epochs):\n",
        "\n",
        "    for i, data in enumerate(trainloader, 0):\n",
        "\n",
        "        inputs, labels = data\n",
        "        inputs, labels = inputs.to(device), labels.to(device)\n",
        "\n",
        "        opt.zero_grad()\n",
        "\n",
        "        outputs = net(inputs)\n",
        "        loss = loss_fn(outputs, labels)\n",
        "        loss.backward()\n",
        "        opt.step()\n",
        "        #scheduler.step()\n",
        "        \n",
        "        del inputs, labels, outputs\n",
        "        torch.cuda.empty_cache()\n",
        "        \n",
        "        if i % 500 == 0:\n",
        "            print('Iteration: %d/%d, Loss: %0.2f' % (i, n_iters, loss.item()))\n",
        "        \n",
        "    loss_epoch_arr.append(loss.item())\n",
        "    train_acc.append(evaluation(trainloader, net))\n",
        "    val_acc.append(evaluation(testloader, net))\n",
        "\n",
        "        \n",
        "    print('Epoch: %d/%d, Test acc: %0.2f, Train acc: %0.2f' % (\n",
        "        epoch + 1, max_epochs, \n",
        "        evaluation(testloader, net), evaluation(trainloader, net)))\n",
        "    \n",
        "#plt.plot(loss_epoch_arr)\n",
        "#plt.show()"
      ],
      "execution_count": 17,
      "outputs": [
        {
          "output_type": "stream",
          "text": [
            "Iteration: 0/782, Loss: 0.08\n",
            "Iteration: 500/782, Loss: 0.02\n",
            "Epoch: 1/10, Test acc: 84.69, Train acc: 97.58\n",
            "Iteration: 0/782, Loss: 0.17\n",
            "Iteration: 500/782, Loss: 0.10\n",
            "Epoch: 2/10, Test acc: 84.88, Train acc: 97.48\n",
            "Iteration: 0/782, Loss: 0.08\n",
            "Iteration: 500/782, Loss: 0.10\n",
            "Epoch: 3/10, Test acc: 84.81, Train acc: 97.40\n",
            "Iteration: 0/782, Loss: 0.07\n",
            "Iteration: 500/782, Loss: 0.09\n",
            "Epoch: 4/10, Test acc: 84.39, Train acc: 97.49\n",
            "Iteration: 0/782, Loss: 0.04\n",
            "Iteration: 500/782, Loss: 0.13\n",
            "Epoch: 5/10, Test acc: 85.02, Train acc: 97.80\n",
            "Iteration: 0/782, Loss: 0.04\n",
            "Iteration: 500/782, Loss: 0.05\n",
            "Epoch: 6/10, Test acc: 84.74, Train acc: 97.62\n",
            "Iteration: 0/782, Loss: 0.02\n",
            "Iteration: 500/782, Loss: 0.00\n",
            "Epoch: 7/10, Test acc: 85.05, Train acc: 97.77\n",
            "Iteration: 0/782, Loss: 0.02\n",
            "Iteration: 500/782, Loss: 0.06\n",
            "Epoch: 8/10, Test acc: 84.99, Train acc: 97.80\n",
            "Iteration: 0/782, Loss: 0.02\n",
            "Iteration: 500/782, Loss: 0.05\n",
            "Epoch: 9/10, Test acc: 85.12, Train acc: 97.69\n",
            "Iteration: 0/782, Loss: 0.06\n",
            "Iteration: 500/782, Loss: 0.11\n",
            "Epoch: 10/10, Test acc: 84.84, Train acc: 97.63\n"
          ],
          "name": "stdout"
        }
      ]
    },
    {
      "cell_type": "code",
      "metadata": {
        "colab": {
          "base_uri": "https://localhost:8080/",
          "height": 295
        },
        "id": "6wn_r0PO8sHQ",
        "outputId": "400fa2a4-01e3-4df5-d2c9-0c6182ab1c90"
      },
      "source": [
        "import matplotlib.pyplot as plt\n",
        "\n",
        "fig, ax = plt.subplots()\n",
        "\n",
        "ax.plot(train_acc,label='Train')\n",
        "ax.plot(val_acc, label='Validation')\n",
        "\n",
        "plt.title(\"Accuracy Curves\")\n",
        "plt.xlabel(\"Epoch\")\n",
        "plt.ylabel(\"Accuracy\")\n",
        "leg = ax.legend();\n",
        "\n",
        "plt.savefig(\"Accuracy curves\")"
      ],
      "execution_count": 20,
      "outputs": [
        {
          "output_type": "display_data",
          "data": {
            "image/png": "[encoded data removed]",
            "text/plain": [
              "<Figure size 432x288 with 1 Axes>"
            ]
          },
          "metadata": {
            "tags": [],
            "needs_background": "light"
          }
        }
      ]
    },
    {
      "cell_type": "code",
      "metadata": {
        "colab": {
          "base_uri": "https://localhost:8080/",
          "height": 295
        },
        "id": "Qi4FmwCgx7LQ",
        "outputId": "61501b72-9b9b-42dd-eb6b-558db8c614ba"
      },
      "source": [
        "plt.plot(loss_epoch_arr)\n",
        "plt.title(\"Loss Curve\")\n",
        "plt.xlabel(\"Epoch\")\n",
        "plt.ylabel(\"Loss\")\n",
        "\n",
        "plt.show()"
      ],
      "execution_count": 21,
      "outputs": [
        {
          "output_type": "display_data",
          "data": {
            "image/png": "[encoded data removed]",
            "text/plain": [
              "<Figure size 432x288 with 1 Axes>"
            ]
          },
          "metadata": {
            "tags": [],
            "needs_background": "light"
          }
        }
      ]
    },
    {
      "cell_type": "code",
      "metadata": {
        "id": "xWIdedxJyNA1"
      },
      "source": [
        ""
      ],
      "execution_count": null,
      "outputs": []
    }
  ]
}