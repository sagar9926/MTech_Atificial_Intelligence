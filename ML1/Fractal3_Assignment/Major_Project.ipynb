{
  "nbformat": 4,
  "nbformat_minor": 0,
  "metadata": {
    "colab": {
      "name": "Major Project.ipynb",
      "provenance": [],
      "collapsed_sections": [],
      "include_colab_link": true
    },
    "kernelspec": {
      "name": "python3",
      "display_name": "Python 3"
    },
    "accelerator": "GPU",
    "widgets": {
      "application/vnd.jupyter.widget-state+json": {
        "234619abcce54b0180fa7e05ce45496d": {
          "model_module": "@jupyter-widgets/controls",
          "model_name": "HBoxModel",
          "state": {
            "_view_name": "HBoxView",
            "_dom_classes": [],
            "_model_name": "HBoxModel",
            "_view_module": "@jupyter-widgets/controls",
            "_model_module_version": "1.5.0",
            "_view_count": null,
            "_view_module_version": "1.5.0",
            "box_style": "",
            "layout": "IPY_MODEL_06e1ad74b78c46efbc98db87e7876d2c",
            "_model_module": "@jupyter-widgets/controls",
            "children": [
              "IPY_MODEL_69ebb119f7ef493d89a5e4dd4d22c948",
              "IPY_MODEL_994589d0ca8d4b94a33876e8e73f274c"
            ]
          }
        },
        "06e1ad74b78c46efbc98db87e7876d2c": {
          "model_module": "@jupyter-widgets/base",
          "model_name": "LayoutModel",
          "state": {
            "_view_name": "LayoutView",
            "grid_template_rows": null,
            "right": null,
            "justify_content": null,
            "_view_module": "@jupyter-widgets/base",
            "overflow": null,
            "_model_module_version": "1.2.0",
            "_view_count": null,
            "flex_flow": null,
            "width": null,
            "min_width": null,
            "border": null,
            "align_items": null,
            "bottom": null,
            "_model_module": "@jupyter-widgets/base",
            "top": null,
            "grid_column": null,
            "overflow_y": null,
            "overflow_x": null,
            "grid_auto_flow": null,
            "grid_area": null,
            "grid_template_columns": null,
            "flex": null,
            "_model_name": "LayoutModel",
            "justify_items": null,
            "grid_row": null,
            "max_height": null,
            "align_content": null,
            "visibility": null,
            "align_self": null,
            "height": null,
            "min_height": null,
            "padding": null,
            "grid_auto_rows": null,
            "grid_gap": null,
            "max_width": null,
            "order": null,
            "_view_module_version": "1.2.0",
            "grid_template_areas": null,
            "object_position": null,
            "object_fit": null,
            "grid_auto_columns": null,
            "margin": null,
            "display": null,
            "left": null
          }
        },
        "69ebb119f7ef493d89a5e4dd4d22c948": {
          "model_module": "@jupyter-widgets/controls",
          "model_name": "FloatProgressModel",
          "state": {
            "_view_name": "ProgressView",
            "style": "IPY_MODEL_20711a83e5254d07a1af96babee91984",
            "_dom_classes": [],
            "description": "",
            "_model_name": "FloatProgressModel",
            "bar_style": "success",
            "max": 170498071,
            "_view_module": "@jupyter-widgets/controls",
            "_model_module_version": "1.5.0",
            "value": 170498071,
            "_view_count": null,
            "_view_module_version": "1.5.0",
            "orientation": "horizontal",
            "min": 0,
            "description_tooltip": null,
            "_model_module": "@jupyter-widgets/controls",
            "layout": "IPY_MODEL_5e481e26601c48edb7cb86d159389af3"
          }
        },
        "994589d0ca8d4b94a33876e8e73f274c": {
          "model_module": "@jupyter-widgets/controls",
          "model_name": "HTMLModel",
          "state": {
            "_view_name": "HTMLView",
            "style": "IPY_MODEL_54396ab177974e5cb40de02b1672994e",
            "_dom_classes": [],
            "description": "",
            "_model_name": "HTMLModel",
            "placeholder": "​",
            "_view_module": "@jupyter-widgets/controls",
            "_model_module_version": "1.5.0",
            "value": " 170499072/? [00:28&lt;00:00, 5931107.73it/s]",
            "_view_count": null,
            "_view_module_version": "1.5.0",
            "description_tooltip": null,
            "_model_module": "@jupyter-widgets/controls",
            "layout": "IPY_MODEL_4d29b8329bee4792bd72bd585596270e"
          }
        },
        "20711a83e5254d07a1af96babee91984": {
          "model_module": "@jupyter-widgets/controls",
          "model_name": "ProgressStyleModel",
          "state": {
            "_view_name": "StyleView",
            "_model_name": "ProgressStyleModel",
            "description_width": "initial",
            "_view_module": "@jupyter-widgets/base",
            "_model_module_version": "1.5.0",
            "_view_count": null,
            "_view_module_version": "1.2.0",
            "bar_color": null,
            "_model_module": "@jupyter-widgets/controls"
          }
        },
        "5e481e26601c48edb7cb86d159389af3": {
          "model_module": "@jupyter-widgets/base",
          "model_name": "LayoutModel",
          "state": {
            "_view_name": "LayoutView",
            "grid_template_rows": null,
            "right": null,
            "justify_content": null,
            "_view_module": "@jupyter-widgets/base",
            "overflow": null,
            "_model_module_version": "1.2.0",
            "_view_count": null,
            "flex_flow": null,
            "width": null,
            "min_width": null,
            "border": null,
            "align_items": null,
            "bottom": null,
            "_model_module": "@jupyter-widgets/base",
            "top": null,
            "grid_column": null,
            "overflow_y": null,
            "overflow_x": null,
            "grid_auto_flow": null,
            "grid_area": null,
            "grid_template_columns": null,
            "flex": null,
            "_model_name": "LayoutModel",
            "justify_items": null,
            "grid_row": null,
            "max_height": null,
            "align_content": null,
            "visibility": null,
            "align_self": null,
            "height": null,
            "min_height": null,
            "padding": null,
            "grid_auto_rows": null,
            "grid_gap": null,
            "max_width": null,
            "order": null,
            "_view_module_version": "1.2.0",
            "grid_template_areas": null,
            "object_position": null,
            "object_fit": null,
            "grid_auto_columns": null,
            "margin": null,
            "display": null,
            "left": null
          }
        },
        "54396ab177974e5cb40de02b1672994e": {
          "model_module": "@jupyter-widgets/controls",
          "model_name": "DescriptionStyleModel",
          "state": {
            "_view_name": "StyleView",
            "_model_name": "DescriptionStyleModel",
            "description_width": "",
            "_view_module": "@jupyter-widgets/base",
            "_model_module_version": "1.5.0",
            "_view_count": null,
            "_view_module_version": "1.2.0",
            "_model_module": "@jupyter-widgets/controls"
          }
        },
        "4d29b8329bee4792bd72bd585596270e": {
          "model_module": "@jupyter-widgets/base",
          "model_name": "LayoutModel",
          "state": {
            "_view_name": "LayoutView",
            "grid_template_rows": null,
            "right": null,
            "justify_content": null,
            "_view_module": "@jupyter-widgets/base",
            "overflow": null,
            "_model_module_version": "1.2.0",
            "_view_count": null,
            "flex_flow": null,
            "width": null,
            "min_width": null,
            "border": null,
            "align_items": null,
            "bottom": null,
            "_model_module": "@jupyter-widgets/base",
            "top": null,
            "grid_column": null,
            "overflow_y": null,
            "overflow_x": null,
            "grid_auto_flow": null,
            "grid_area": null,
            "grid_template_columns": null,
            "flex": null,
            "_model_name": "LayoutModel",
            "justify_items": null,
            "grid_row": null,
            "max_height": null,
            "align_content": null,
            "visibility": null,
            "align_self": null,
            "height": null,
            "min_height": null,
            "padding": null,
            "grid_auto_rows": null,
            "grid_gap": null,
            "max_width": null,
            "order": null,
            "_view_module_version": "1.2.0",
            "grid_template_areas": null,
            "object_position": null,
            "object_fit": null,
            "grid_auto_columns": null,
            "margin": null,
            "display": null,
            "left": null
          }
        }
      }
    }
  },
  "cells": [
    {
      "cell_type": "markdown",
      "metadata": {
        "id": "view-in-github",
        "colab_type": "text"
      },
      "source": [
        "<a href=\"https://colab.research.google.com/github/sagar9926/MTech_Atificial_Intelligence/blob/main/ML1/Fractal3_Assignment/Major_Project.ipynb\" target=\"_parent\"><img src=\"https://colab.research.google.com/assets/colab-badge.svg\" alt=\"Open In Colab\"/></a>"
      ]
    },
    {
      "cell_type": "code",
      "metadata": {
        "id": "qTPs33yVVlZH"
      },
      "source": [
        "# Importing the libraries\n",
        "import matplotlib.pyplot as plt\n",
        "import numpy as np\n",
        "\n",
        "import torch\n",
        "import torchvision\n",
        "import torchvision.transforms as transforms\n",
        "import torch.nn as nn\n",
        "\n",
        "\n",
        "import torch.nn.functional as F\n",
        "import torch.optim as optim\n",
        "import math\n",
        "import albumentations as A\n",
        "import copy"
      ],
      "execution_count": 1,
      "outputs": []
    },
    {
      "cell_type": "code",
      "metadata": {
        "id": "xRZWVZZNVq0_",
        "colab": {
          "base_uri": "https://localhost:8080/"
        },
        "outputId": "5fc07d85-abb2-4b31-b7ce-ee7eea7a3096"
      },
      "source": [
        "device = torch.device(\"cuda:0\" if torch.cuda.is_available() else \"cpu\")\n",
        "print(device)"
      ],
      "execution_count": 2,
      "outputs": [
        {
          "output_type": "stream",
          "text": [
            "cuda:0\n"
          ],
          "name": "stdout"
        }
      ]
    },
    {
      "cell_type": "markdown",
      "metadata": {
        "id": "DCjc5GAeWAJP"
      },
      "source": [
        "## Dataset, transforms, and visualisation"
      ]
    },
    {
      "cell_type": "code",
      "metadata": {
        "id": "D25rwHjfWAl2"
      },
      "source": [
        "# Transforming train and test dataset\n",
        "\n",
        "transform_train = transforms.Compose([\n",
        "    transforms.RandomRotation((-14.0, 14.0)),\n",
        "    transforms.ToTensor(),\n",
        "    transforms.Normalize((0.4913997551666284, 0.48215855929893703, 0.4465309133731618), (0.24703225141799082, 0.24348516474564, 0.26158783926049628)),\n",
        "    transforms.RandomErasing(),\n",
        "    ])\n",
        "\n",
        "transform_test = transforms.Compose([\n",
        "    transforms.ToTensor(),\n",
        "    transforms.Normalize((0.4913997551666284, 0.48215855929893703, 0.4465309133731618), (0.24703225141799082, 0.24348516474564, 0.26158783926049628)),\n",
        "    ])"
      ],
      "execution_count": 3,
      "outputs": []
    },
    {
      "cell_type": "code",
      "metadata": {
        "id": "W6HJZgHXXF1z",
        "colab": {
          "base_uri": "https://localhost:8080/",
          "height": 119,
          "referenced_widgets": [
            "234619abcce54b0180fa7e05ce45496d",
            "06e1ad74b78c46efbc98db87e7876d2c",
            "69ebb119f7ef493d89a5e4dd4d22c948",
            "994589d0ca8d4b94a33876e8e73f274c",
            "20711a83e5254d07a1af96babee91984",
            "5e481e26601c48edb7cb86d159389af3",
            "54396ab177974e5cb40de02b1672994e",
            "4d29b8329bee4792bd72bd585596270e"
          ]
        },
        "outputId": "2bbbb271-0942-40e5-f659-4865d5cf0dd8"
      },
      "source": [
        "# Downloading the data\n",
        "trainset = torchvision.datasets.CIFAR10(root='./data', train=True, \n",
        "                                        download=True, \n",
        "                                        transform=transform_train)\n",
        "testset = torchvision.datasets.CIFAR10(root='./data', train=False, \n",
        "                                        download=True, \n",
        "                                        transform=transform_test)"
      ],
      "execution_count": 4,
      "outputs": [
        {
          "output_type": "stream",
          "text": [
            "Downloading https://www.cs.toronto.edu/~kriz/cifar-10-python.tar.gz to ./data/cifar-10-python.tar.gz\n"
          ],
          "name": "stdout"
        },
        {
          "output_type": "display_data",
          "data": {
            "application/vnd.jupyter.widget-view+json": {
              "model_id": "234619abcce54b0180fa7e05ce45496d",
              "version_minor": 0,
              "version_major": 2
            },
            "text/plain": [
              "HBox(children=(FloatProgress(value=0.0, max=170498071.0), HTML(value='')))"
            ]
          },
          "metadata": {
            "tags": []
          }
        },
        {
          "output_type": "stream",
          "text": [
            "\n",
            "Extracting ./data/cifar-10-python.tar.gz to ./data\n",
            "Files already downloaded and verified\n"
          ],
          "name": "stdout"
        }
      ]
    },
    {
      "cell_type": "code",
      "metadata": {
        "id": "BkRISj_rXGT3"
      },
      "source": [
        "num_classes = 10\n",
        "\n",
        "batch_size = 4\n",
        "\n",
        "trainloader = torch.utils.data.DataLoader(trainset, batch_size=batch_size, shuffle=True)"
      ],
      "execution_count": 5,
      "outputs": []
    },
    {
      "cell_type": "markdown",
      "metadata": {
        "id": "iP5Ekr7ZxBm9"
      },
      "source": [
        "## Visualising Images : "
      ]
    },
    {
      "cell_type": "code",
      "metadata": {
        "id": "GwORhlamXKdT",
        "colab": {
          "base_uri": "https://localhost:8080/"
        },
        "outputId": "89a55b60-11cf-45bd-dbdc-45a7ff777100"
      },
      "source": [
        "dataiter = iter(trainloader)\n",
        "images, labels = dataiter.next()\n",
        "\n",
        "print(images.shape)\n",
        "\n",
        "print(images[1].shape)\n",
        "print(labels[1].item())"
      ],
      "execution_count": 6,
      "outputs": [
        {
          "output_type": "stream",
          "text": [
            "torch.Size([4, 3, 32, 32])\n",
            "torch.Size([3, 32, 32])\n",
            "8\n"
          ],
          "name": "stdout"
        }
      ]
    },
    {
      "cell_type": "code",
      "metadata": {
        "id": "nhsRhWAHXPpy"
      },
      "source": [
        "def imshow(img, title):\n",
        "    npimg = img.numpy() / 2 + 0.5 # denormalising the image\n",
        "    plt.figure(figsize=(batch_size*20, 2))\n",
        "    plt.axis('off')\n",
        "    plt.imshow(np.transpose(npimg, (1, 2, 0)))\n",
        "    plt.title(title)\n",
        "    plt.show()"
      ],
      "execution_count": 7,
      "outputs": []
    },
    {
      "cell_type": "code",
      "metadata": {
        "id": "yDq09BilXtia"
      },
      "source": [
        "def show_batch_images(dataloader):\n",
        "    images, labels = next(iter(dataloader))\n",
        "    img = torchvision.utils.make_grid(images) # puts together images to form a bigger image\n",
        "    imshow(img, title=[trainset.classes[x.item()] for x in labels])"
      ],
      "execution_count": 8,
      "outputs": []
    },
    {
      "cell_type": "code",
      "metadata": {
        "id": "TNRVNTz6Xt_C",
        "colab": {
          "base_uri": "https://localhost:8080/",
          "height": 643
        },
        "outputId": "f3e593f2-5d8a-4c9e-947c-65fbf1f656fb"
      },
      "source": [
        "for i in range(4):\n",
        "    show_batch_images(trainloader)"
      ],
      "execution_count": 9,
      "outputs": [
        {
          "output_type": "stream",
          "text": [
            "Clipping input data to the valid range for imshow with RGB data ([0..1] for floats or [0..255] for integers).\n"
          ],
          "name": "stderr"
        },
        {
          "output_type": "display_data",
          "data": {
            "image/png": "[encoded data removed]",
            "text/plain": [
              "<Figure size 5760x144 with 1 Axes>"
            ]
          },
          "metadata": {
            "tags": [],
            "needs_background": "light"
          }
        },
        {
          "output_type": "stream",
          "text": [
            "Clipping input data to the valid range for imshow with RGB data ([0..1] for floats or [0..255] for integers).\n"
          ],
          "name": "stderr"
        },
        {
          "output_type": "display_data",
          "data": {
            "image/png": "[encoded data removed]",
            "text/plain": [
              "<Figure size 5760x144 with 1 Axes>"
            ]
          },
          "metadata": {
            "tags": [],
            "needs_background": "light"
          }
        },
        {
          "output_type": "stream",
          "text": [
            "Clipping input data to the valid range for imshow with RGB data ([0..1] for floats or [0..255] for integers).\n"
          ],
          "name": "stderr"
        },
        {
          "output_type": "display_data",
          "data": {
            "image/png": "[encoded data removed]",
            "text/plain": [
              "<Figure size 5760x144 with 1 Axes>"
            ]
          },
          "metadata": {
            "tags": [],
            "needs_background": "light"
          }
        },
        {
          "output_type": "stream",
          "text": [
            "Clipping input data to the valid range for imshow with RGB data ([0..1] for floats or [0..255] for integers).\n"
          ],
          "name": "stderr"
        },
        {
          "output_type": "display_data",
          "data": {
            "image/png": "[encoded data removed]",
            "text/plain": [
              "<Figure size 5760x144 with 1 Axes>"
            ]
          },
          "metadata": {
            "tags": [],
            "needs_background": "light"
          }
        }
      ]
    },
    {
      "cell_type": "markdown",
      "metadata": {
        "id": "e5nVg6DejCQJ"
      },
      "source": [
        "## Custom Model Architecture"
      ]
    },
    {
      "cell_type": "code",
      "metadata": {
        "id": "r8H9s8-ra-31"
      },
      "source": [
        "class Net(nn.Module):\n",
        "    def __init__(self):\n",
        "        super(Net, self).__init__()\n",
        "        # Input Block\n",
        "        self.convblock1 = nn.Sequential(\n",
        "            nn.Conv2d(in_channels=3, out_channels=48, kernel_size=(3, 3), padding=1, bias=False),\n",
        "            nn.BatchNorm2d(48),   \n",
        "            nn.ReLU()\n",
        "         \n",
        "        ) # output_size = [N , 48 , 32 , 32]\n",
        "\n",
        "        self.convblock2 = nn.Sequential(\n",
        "            nn.Conv2d(in_channels=48, out_channels=48, kernel_size=(3, 3), padding=0, bias=False),\n",
        "            nn.BatchNorm2d(48),   \n",
        "            nn.ReLU()\n",
        "         \n",
        "        ) # output_size = [N , 48 , 30 , 30]\n",
        "\n",
        "        # pooling layer\n",
        "        self.pool1 = nn.MaxPool2d(2, 2) # output_size = [N , 48 , 15 , 15]\n",
        "\n",
        "        self.convblock3 = nn.Sequential(\n",
        "            nn.Dropout(0.25),\n",
        "            nn.Conv2d(in_channels=48, out_channels=96, kernel_size=(3, 3), padding=1, bias=False),\n",
        "            nn.BatchNorm2d(96), \n",
        "            nn.ReLU()\n",
        "        ) # output_size = [N , 96 , 15 , 15]\n",
        "\n",
        "        self.convblock4 = nn.Sequential(\n",
        "            #nn.Dropout(0.25),\n",
        "            nn.Conv2d(in_channels=96, out_channels=96, kernel_size=(3, 3), padding=0, bias=False),\n",
        "            nn.BatchNorm2d(96), \n",
        "            nn.ReLU()\n",
        "        ) # output_size = [N , 96 , 13 , 13]\n",
        "\n",
        "        # pooling layer\n",
        "        self.pool2 = nn.MaxPool2d(2, 2) # output_size = [N , 96 , 6 , 6]\n",
        "\n",
        "        self.convblock5 = nn.Sequential(\n",
        "            nn.Dropout(0.25),\n",
        "            nn.Conv2d(in_channels=96, out_channels=192, kernel_size=(3, 3), padding=1, bias=False),\n",
        "            nn.BatchNorm2d(192),\n",
        "            nn.ReLU()\n",
        "        ) # output_size = [N , 192 , 6 , 6]\n",
        "\n",
        "        self.convblock6 = nn.Sequential(\n",
        "            nn.Conv2d(in_channels=192, out_channels=192, kernel_size=(3, 3), padding=0, bias=False),\n",
        "            nn.BatchNorm2d(192),\n",
        "            nn.ReLU(),\n",
        "            nn.Dropout(0.25)\n",
        "        ) # output_size = [N , 192 , 4 , 4]\n",
        "\n",
        "        self.fc_model = nn.Sequential(\n",
        "            nn.Linear(3072*2,512),         # (N, 3072*2) -> (N, 512)\n",
        "            nn.ReLU(),\n",
        "            nn.Dropout(0.25),\n",
        "            nn.Linear(512,512),             # (N, 512) -> (N, 512)\n",
        "            nn.ReLU(),\n",
        "            nn.Dropout(0.25),\n",
        "            nn.Linear(512,256),          # (N, 512) -> (N, 256)\n",
        "            nn.Linear(256,10)            # (N, 256)  -> (N, 10)\n",
        "        )\n",
        "      \n",
        "\n",
        "    def forward(self, x):\n",
        "        img = copy.deepcopy(x)\n",
        "               \n",
        "        x = self.convblock1(x)\n",
        "        x = self.convblock2(x)\n",
        "        x = self.pool1(x)\n",
        "\n",
        "        \n",
        "        x = self.convblock3(x)\n",
        "        x = self.convblock4(x)\n",
        "        x = self.pool2(x)\n",
        "\n",
        "        x = self.convblock5(x)\n",
        "        x = self.convblock6(x)\n",
        "        x = x.view(x.size(0), -1) # (N, 16, 5, 5) -> (N, 400)\n",
        "        \n",
        "        #Skip connection feeding input image directly into Fully connected layers\n",
        "        x = torch.cat((x,img.reshape(x.size(0),-1)),dim = 1)\n",
        "        \n",
        "        x = self.fc_model(x)\n",
        "\n",
        "        return F.log_softmax(x, dim=-1)\n"
      ],
      "execution_count": 12,
      "outputs": []
    },
    {
      "cell_type": "code",
      "metadata": {
        "colab": {
          "base_uri": "https://localhost:8080/"
        },
        "id": "ulSOBGU9hqZv",
        "outputId": "125f9208-221f-40e6-a16b-e040f01d1662"
      },
      "source": [
        "from torchsummary import summary\n",
        "net = Net().to(device)\n",
        "print(summary(net, (3, 32, 32)))\n"
      ],
      "execution_count": 18,
      "outputs": [
        {
          "output_type": "stream",
          "text": [
            "----------------------------------------------------------------\n",
            "        Layer (type)               Output Shape         Param #\n",
            "================================================================\n",
            "            Conv2d-1           [-1, 48, 32, 32]           1,296\n",
            "       BatchNorm2d-2           [-1, 48, 32, 32]              96\n",
            "              ReLU-3           [-1, 48, 32, 32]               0\n",
            "            Conv2d-4           [-1, 48, 30, 30]          20,736\n",
            "       BatchNorm2d-5           [-1, 48, 30, 30]              96\n",
            "              ReLU-6           [-1, 48, 30, 30]               0\n",
            "         MaxPool2d-7           [-1, 48, 15, 15]               0\n",
            "           Dropout-8           [-1, 48, 15, 15]               0\n",
            "            Conv2d-9           [-1, 96, 15, 15]          41,472\n",
            "      BatchNorm2d-10           [-1, 96, 15, 15]             192\n",
            "             ReLU-11           [-1, 96, 15, 15]               0\n",
            "           Conv2d-12           [-1, 96, 13, 13]          82,944\n",
            "      BatchNorm2d-13           [-1, 96, 13, 13]             192\n",
            "             ReLU-14           [-1, 96, 13, 13]               0\n",
            "        MaxPool2d-15             [-1, 96, 6, 6]               0\n",
            "          Dropout-16             [-1, 96, 6, 6]               0\n",
            "           Conv2d-17            [-1, 192, 6, 6]         165,888\n",
            "      BatchNorm2d-18            [-1, 192, 6, 6]             384\n",
            "             ReLU-19            [-1, 192, 6, 6]               0\n",
            "           Conv2d-20            [-1, 192, 4, 4]         331,776\n",
            "      BatchNorm2d-21            [-1, 192, 4, 4]             384\n",
            "             ReLU-22            [-1, 192, 4, 4]               0\n",
            "          Dropout-23            [-1, 192, 4, 4]               0\n",
            "           Linear-24                  [-1, 512]       3,146,240\n",
            "             ReLU-25                  [-1, 512]               0\n",
            "          Dropout-26                  [-1, 512]               0\n",
            "           Linear-27                  [-1, 512]         262,656\n",
            "             ReLU-28                  [-1, 512]               0\n",
            "          Dropout-29                  [-1, 512]               0\n",
            "           Linear-30                  [-1, 256]         131,328\n",
            "           Linear-31                   [-1, 10]           2,570\n",
            "================================================================\n",
            "Total params: 4,188,250\n",
            "Trainable params: 4,188,250\n",
            "Non-trainable params: 0\n",
            "----------------------------------------------------------------\n",
            "Input size (MB): 0.01\n",
            "Forward/backward pass size (MB): 3.47\n",
            "Params size (MB): 15.98\n",
            "Estimated Total Size (MB): 19.46\n",
            "----------------------------------------------------------------\n",
            "None\n"
          ],
          "name": "stdout"
        }
      ]
    },
    {
      "cell_type": "markdown",
      "metadata": {
        "id": "XW2JOD0ucQUv"
      },
      "source": [
        "## Train CIFAR10 (CNN + MLP)"
      ]
    },
    {
      "cell_type": "code",
      "metadata": {
        "id": "bacgFGD3cQrl"
      },
      "source": [
        "batch_size = 64\n",
        "\n",
        "trainloader = torch.utils.data.DataLoader(trainset,batch_size=batch_size,shuffle = True)\n",
        "testloader = torch.utils.data.DataLoader(testset, batch_size=batch_size, shuffle=False)"
      ],
      "execution_count": 19,
      "outputs": []
    },
    {
      "cell_type": "code",
      "metadata": {
        "id": "dKparHasckIz"
      },
      "source": [
        "def evaluation(dataloader,model):\n",
        "  total , correct = 0,0\n",
        "  for data in dataloader:\n",
        "    inputs,labels = data\n",
        "    inputs,labels = inputs.to(device),labels.to(device)\n",
        "    outputs = model(inputs)\n",
        "    _,pred = torch.max(outputs.data,1)\n",
        "    total += labels.size(0)\n",
        "    correct += (pred == labels).sum().item()\n",
        "  return 100 * correct / total\n"
      ],
      "execution_count": 20,
      "outputs": []
    },
    {
      "cell_type": "code",
      "metadata": {
        "id": "uwrMAbUxdrFK"
      },
      "source": [
        "# Initialise and move model to Cuda\n",
        "net = Net().to(device)\n",
        "\n",
        "#this takes into consideration that we have to differentiate through softmax layer, given softmax is not applied in our vgg\n",
        "loss_fn = nn.CrossEntropyLoss() \n",
        "opt = optim.SGD(net.parameters(), lr=0.01,momentum = 0.9)\n",
        "#scheduler = torch.optim.lr_scheduler.StepLR(opt, step_size=len(trainloader)*10, gamma=0.01)\n"
      ],
      "execution_count": 21,
      "outputs": []
    },
    {
      "cell_type": "code",
      "metadata": {
        "id": "NeCHxBL8eMwy",
        "colab": {
          "base_uri": "https://localhost:8080/"
        },
        "outputId": "0239cc3f-fa21-4dcc-f00a-2b2c4517b7e9"
      },
      "source": [
        "# Training Loop\n",
        "\n",
        "loss_epoch_arr_CNN_MLP = []\n",
        "max_epochs = 150\n",
        "train_acc_CNN_MLP = []\n",
        "val_acc_CNN_MLP = []\n",
        "\n",
        "n_iters = np.ceil(50000/batch_size)\n",
        "\n",
        "for epoch in range(max_epochs):\n",
        "\n",
        "    for i, data in enumerate(trainloader, 0):\n",
        "\n",
        "        inputs, labels = data\n",
        "        inputs, labels = inputs.to(device), labels.to(device)\n",
        "\n",
        "        opt.zero_grad()\n",
        "\n",
        "        outputs = net(inputs)\n",
        "        loss = loss_fn(outputs, labels)\n",
        "        loss.backward()\n",
        "        opt.step()\n",
        "        #scheduler.step()\n",
        "        \n",
        "        del inputs, labels, outputs\n",
        "        torch.cuda.empty_cache()\n",
        "        \n",
        "        if i % 500 == 0:\n",
        "            print('Iteration: %d/%d, Loss: %0.2f' % (i, n_iters, loss.item()))\n",
        "        \n",
        "    loss_epoch_arr_CNN_MLP.append(loss.item())\n",
        "    train_acc_CNN_MLP.append(evaluation(trainloader, net))\n",
        "    val_acc_CNN_MLP.append(evaluation(testloader, net))\n",
        "\n",
        "        \n",
        "    print('Epoch: %d/%d, Test acc: %0.2f, Train acc: %0.2f' % (\n",
        "        epoch + 1, max_epochs, \n",
        "        evaluation(testloader, net), evaluation(trainloader, net)))"
      ],
      "execution_count": null,
      "outputs": [
        {
          "output_type": "stream",
          "text": [
            "Iteration: 0/782, Loss: 2.31\n",
            "Iteration: 500/782, Loss: 1.35\n",
            "Epoch: 1/150, Test acc: 53.46, Train acc: 50.77\n",
            "Iteration: 0/782, Loss: 1.42\n",
            "Iteration: 500/782, Loss: 1.00\n",
            "Epoch: 2/150, Test acc: 61.42, Train acc: 59.35\n",
            "Iteration: 0/782, Loss: 1.04\n",
            "Iteration: 500/782, Loss: 1.16\n",
            "Epoch: 3/150, Test acc: 67.46, Train acc: 62.71\n",
            "Iteration: 0/782, Loss: 1.02\n",
            "Iteration: 500/782, Loss: 0.91\n",
            "Epoch: 4/150, Test acc: 68.53, Train acc: 65.89\n",
            "Iteration: 0/782, Loss: 0.96\n",
            "Iteration: 500/782, Loss: 0.87\n"
          ],
          "name": "stdout"
        }
      ]
    },
    {
      "cell_type": "markdown",
      "metadata": {
        "id": "EqH_R222HTqB"
      },
      "source": [
        "## Training Last 10 epochs without Random Eraser"
      ]
    },
    {
      "cell_type": "code",
      "metadata": {
        "id": "aeWokPRr6Q--"
      },
      "source": [
        "transform_train = transforms.Compose([\n",
        "    transforms.RandomRotation((-14.0, 14.0)),\n",
        "    transforms.ToTensor(),\n",
        "    transforms.Normalize((0.4913997551666284, 0.48215855929893703, 0.4465309133731618), (0.24703225141799082, 0.24348516474564, 0.26158783926049628)),\n",
        "    ])\n",
        "\n",
        "transform_test = transforms.Compose([\n",
        "    transforms.ToTensor(),\n",
        "    transforms.Normalize((0.4913997551666284, 0.48215855929893703, 0.4465309133731618), (0.24703225141799082, 0.24348516474564, 0.26158783926049628)),\n",
        "    ])\n",
        "\n",
        "trainset = torchvision.datasets.CIFAR10(root='./data', train=True, \n",
        "                                        download=True, \n",
        "                                        transform=transform_train)\n",
        "testset = torchvision.datasets.CIFAR10(root='./data', train=False, \n",
        "                                        download=True, \n",
        "                                        transform=transform_test)\n",
        "\n",
        "\n",
        "trainloader = torch.utils.data.DataLoader(trainset,batch_size=batch_size,shuffle = True)\n"
      ],
      "execution_count": null,
      "outputs": []
    },
    {
      "cell_type": "code",
      "metadata": {
        "id": "uUsZOrgr6Q_A"
      },
      "source": [
        "max_epochs = 10\n",
        "\n",
        "n_iters = np.ceil(50000/batch_size)\n",
        "\n",
        "for epoch in range(max_epochs):\n",
        "\n",
        "    for i, data in enumerate(trainloader, 0):\n",
        "\n",
        "        inputs, labels = data\n",
        "        inputs, labels = inputs.to(device), labels.to(device)\n",
        "\n",
        "        opt.zero_grad()\n",
        "\n",
        "        outputs = net(inputs)\n",
        "        loss = loss_fn(outputs, labels)\n",
        "        loss.backward()\n",
        "        opt.step()\n",
        "        #scheduler.step()\n",
        "        \n",
        "        del inputs, labels, outputs\n",
        "        torch.cuda.empty_cache()\n",
        "        \n",
        "        if i % 500 == 0:\n",
        "            print('Iteration: %d/%d, Loss: %0.2f' % (i, n_iters, loss.item()))\n",
        "        \n",
        "    loss_epoch_arr_CNN_MLP.append(loss.item())\n",
        "    train_acc_CNN_MLP.append(evaluation(trainloader, net))\n",
        "    val_acc_CNN_MLP.append(evaluation(testloader, net))\n",
        "\n",
        "        \n",
        "    print('Epoch: %d/%d, Test acc: %0.2f, Train acc: %0.2f' % (\n",
        "        epoch + 1, max_epochs, \n",
        "        evaluation(testloader, net), evaluation(trainloader, net)))\n"
      ],
      "execution_count": null,
      "outputs": []
    },
    {
      "cell_type": "code",
      "metadata": {
        "id": "6wn_r0PO8sHQ"
      },
      "source": [
        "import matplotlib.pyplot as plt\n",
        "\n",
        "fig, ax = plt.subplots()\n",
        "\n",
        "ax.plot(train_acc_CNN_MLP,label='Train')\n",
        "ax.plot(val_acc_CNN_MLP, label='Validation')\n",
        "\n",
        "plt.title(\"Accuracy Curve(CNN + MLP)\")\n",
        "plt.xlabel(\"Epoch\")\n",
        "plt.ylabel(\"Accuracy\")\n",
        "leg = ax.legend();\n",
        "\n",
        "plt.savefig(\"Accuracy curves\")"
      ],
      "execution_count": null,
      "outputs": []
    },
    {
      "cell_type": "code",
      "metadata": {
        "id": "Qi4FmwCgx7LQ"
      },
      "source": [
        "plt.plot(loss_epoch_arr_CNN_MLP)\n",
        "plt.title(\"Loss Curve(CNN + MLP)\")\n",
        "plt.xlabel(\"Epoch\")\n",
        "plt.ylabel(\"Loss\")\n",
        "\n",
        "plt.show()"
      ],
      "execution_count": null,
      "outputs": []
    },
    {
      "cell_type": "markdown",
      "metadata": {
        "id": "Q04WhrlF1LjI"
      },
      "source": [
        "#Testing Model on a random image"
      ]
    },
    {
      "cell_type": "code",
      "metadata": {
        "id": "WflQSEIi3wcB"
      },
      "source": [
        "testloader = torch.utils.data.DataLoader(testset, batch_size = 4, shuffle=True)\n",
        "for data in testloader:\n",
        "  image , label = data\n",
        "  break"
      ],
      "execution_count": null,
      "outputs": []
    },
    {
      "cell_type": "code",
      "metadata": {
        "id": "6ak2MNDo1QR6"
      },
      "source": [
        "\n",
        "for img , label in zip(image , label):\n",
        "  _,prediction = torch.max(net(img.unsqueeze(0)).data,1)\n",
        "  plt.imshow(img.permute(1,2,0))\n",
        "  plt.title(f\"True Label : {trainset.classes[label.item()]} ; Predicted Label : {trainset.classes[prediction]}\")\n",
        "  plt.show()"
      ],
      "execution_count": null,
      "outputs": []
    },
    {
      "cell_type": "markdown",
      "metadata": {
        "id": "mn8MDlDEjreo"
      },
      "source": [
        "## Train CIFAR10 (MLP)"
      ]
    },
    {
      "cell_type": "code",
      "metadata": {
        "id": "3M2YDShsjrep"
      },
      "source": [
        "import tensorflow as tf\n",
        "from sklearn.decomposition import PCA\n",
        "(x_train, y_train), (x_test, y_test)  = tf.keras.datasets.cifar10.load_data()\n",
        "x_train = x_train.reshape(50000, 32*32*3)\n",
        "x_test = x_test.reshape(10000, 32*32*3)\n",
        "x_train = x_train.astype('float32')\n",
        "x_test = x_test.astype('float32')\n",
        "x_train /= 255\n",
        "x_test /= 255"
      ],
      "execution_count": null,
      "outputs": []
    },
    {
      "cell_type": "code",
      "metadata": {
        "id": "n0H1PnLtjreq"
      },
      "source": [
        "pca = PCA()\n",
        "pca_result = pca.fit(x_train)"
      ],
      "execution_count": null,
      "outputs": []
    },
    {
      "cell_type": "code",
      "metadata": {
        "id": "9pHfkyohjreq"
      },
      "source": [
        "pca.n_components_"
      ],
      "execution_count": null,
      "outputs": []
    },
    {
      "cell_type": "code",
      "metadata": {
        "id": "Gt0wGlH2jres"
      },
      "source": [
        "PCA_train = pca.transform(x_train)\n",
        "PCA_test = pca.transform(x_test)"
      ],
      "execution_count": null,
      "outputs": []
    },
    {
      "cell_type": "code",
      "metadata": {
        "id": "U8Y3OJ4Hjret"
      },
      "source": [
        "PCA_train = torch.FloatTensor(PCA_train)\n",
        "PCA_test = torch.FloatTensor(PCA_test)\n",
        "y_train = torch.LongTensor(y_train)\n",
        "y_test = torch.LongTensor(y_test)"
      ],
      "execution_count": null,
      "outputs": []
    },
    {
      "cell_type": "code",
      "metadata": {
        "id": "mqBsAkhjjret"
      },
      "source": [
        "from torch.utils.data import TensorDataset, DataLoader\n",
        "train_dataset = TensorDataset(PCA_train,y_train) # create your datset\n",
        "test_dataset = TensorDataset(PCA_test,y_test) # create your datset\n",
        "trainloader = DataLoader(train_dataset,batch_size= 64) # create your dataloader\n",
        "testloader = DataLoader(test_dataset,batch_size= 64) # create your dataloader"
      ],
      "execution_count": null,
      "outputs": []
    },
    {
      "cell_type": "code",
      "metadata": {
        "id": "paQQbW4sjreu"
      },
      "source": [
        "class ANN(nn.Module):\n",
        "  def __init__(self):\n",
        "      super().__init__()\n",
        "      self.fc_model = nn.Sequential(\n",
        "          nn.Linear(pca.n_components_,512),         # (N, 3072*2) -> (N, 512)\n",
        "          nn.ReLU(),\n",
        "          nn.Dropout(0.25),\n",
        "          nn.Linear(512,512),             # (N, 512) -> (N, 512)\n",
        "          nn.ReLU(),\n",
        "          nn.Dropout(0.25),\n",
        "          nn.Linear(512,256),          # (N, 512) -> (N, 256)\n",
        "          nn.Linear(256,10)            # (N, 256)  -> (N, 10)\n",
        "      )\n",
        "      \n",
        "  def forward(self, x):\n",
        "      x = self.fc_model(x)\n",
        "      return x"
      ],
      "execution_count": null,
      "outputs": []
    },
    {
      "cell_type": "code",
      "metadata": {
        "id": "An7Bdebmjrev"
      },
      "source": [
        "net = ANN().to(device)\n",
        "net"
      ],
      "execution_count": null,
      "outputs": []
    },
    {
      "cell_type": "code",
      "metadata": {
        "id": "T4W6o1fAxkPs"
      },
      "source": [
        "from torchsummary import summary\n",
        "net = Net().to(device)\n",
        "print(summary(net, (3, 32, 32)))\n"
      ],
      "execution_count": null,
      "outputs": []
    },
    {
      "cell_type": "code",
      "metadata": {
        "id": "lKVWBwnJjrev"
      },
      "source": [
        "loss_fn = nn.CrossEntropyLoss()\n",
        "opt = torch.optim.SGD(net.parameters(), lr=0.01)"
      ],
      "execution_count": null,
      "outputs": []
    },
    {
      "cell_type": "code",
      "metadata": {
        "id": "SHiHmWOkjrew"
      },
      "source": [
        "def evaluation(dataloader,model):\n",
        "  total , correct = 0,0\n",
        "  for data in dataloader:\n",
        "    inputs,labels = data\n",
        "    inputs,labels = inputs.to(device),labels.to(device)\n",
        "    outputs = model(inputs)\n",
        "    _,pred = torch.max(outputs.data,1)\n",
        "    total += labels.size(0)\n",
        "    # print(\"pred\",pred )\n",
        "    # print(\"labels\",labels.squeeze(1))\n",
        "    correct += (pred == labels.squeeze(1)).sum().item()\n",
        "  return 100 * correct / total\n"
      ],
      "execution_count": null,
      "outputs": []
    },
    {
      "cell_type": "code",
      "metadata": {
        "id": "PFkGO1fGjrex"
      },
      "source": [
        "# Training Loop\n",
        "\n",
        "loss_epoch_arr_MLP = []\n",
        "max_epochs = 150\n",
        "train_acc_MLP = []\n",
        "val_acc_MLP = []\n",
        "\n",
        "n_iters = np.ceil(50000/batch_size)\n",
        "\n",
        "for epoch in range(max_epochs):\n",
        "\n",
        "    for i, data in enumerate(trainloader, 0):\n",
        "\n",
        "        inputs, labels = data\n",
        "        inputs, labels = inputs.to(device), labels.to(device)\n",
        "\n",
        "        opt.zero_grad()\n",
        "\n",
        "        outputs = net(inputs)\n",
        "\n",
        "        loss = loss_fn(outputs, labels.squeeze(1))\n",
        "        loss.backward()\n",
        "        opt.step()\n",
        "\n",
        "        \n",
        "        del inputs, labels, outputs\n",
        "        torch.cuda.empty_cache()\n",
        "        \n",
        "        if i % 500 == 0:\n",
        "            print('Iteration: %d/%d, Loss: %0.2f' % (i, n_iters, loss.item()))\n",
        "        \n",
        "    loss_epoch_arr_MLP.append(loss.item())\n",
        "    train_acc_MLP.append(evaluation(trainloader, net))\n",
        "    val_acc_MLP.append(evaluation(testloader, net))\n",
        "\n",
        "        \n",
        "    print('Epoch: %d/%d, Test acc: %0.2f, Train acc: %0.2f' % (\n",
        "        epoch + 1, max_epochs, \n",
        "        evaluation(testloader, net), evaluation(trainloader, net)))"
      ],
      "execution_count": null,
      "outputs": []
    },
    {
      "cell_type": "code",
      "metadata": {
        "id": "bxgZ3wjZj2_m"
      },
      "source": [
        "import matplotlib.pyplot as plt\n",
        "\n",
        "fig, ax = plt.subplots()\n",
        "\n",
        "ax.plot(train_acc_MLP,label='Train')\n",
        "ax.plot(val_acc_MLP, label='Validation')\n",
        "\n",
        "plt.title(\"Accuracy Curves (MLP)\")\n",
        "plt.xlabel(\"Epoch\")\n",
        "plt.ylabel(\"Accuracy\")\n",
        "leg = ax.legend();\n",
        "\n",
        "plt.savefig(\"Accuracy curves\")"
      ],
      "execution_count": null,
      "outputs": []
    },
    {
      "cell_type": "code",
      "metadata": {
        "id": "4kpYy-0Aj9i0"
      },
      "source": [
        "plt.plot(loss_epoch_arr_MLP)\n",
        "plt.title(\"Loss Curve (MLP)\")\n",
        "plt.xlabel(\"Epoch\")\n",
        "plt.ylabel(\"Loss\")\n",
        "\n",
        "plt.show()"
      ],
      "execution_count": null,
      "outputs": []
    },
    {
      "cell_type": "markdown",
      "metadata": {
        "id": "bSL_OBSVkjIS"
      },
      "source": [
        "## Train CIFAR10 PCA (90 % Variance ) + MLP"
      ]
    },
    {
      "cell_type": "code",
      "metadata": {
        "id": "AV9q4IiuM0qD"
      },
      "source": [
        "import tensorflow as tf\n",
        "from sklearn.decomposition import PCA\n",
        "(x_train, y_train), (x_test, y_test)  = tf.keras.datasets.cifar10.load_data()\n",
        "x_train = x_train.reshape(50000, 32*32*3)\n",
        "x_test = x_test.reshape(10000, 32*32*3)\n",
        "x_train = x_train.astype('float32')\n",
        "x_test = x_test.astype('float32')\n",
        "x_train /= 255\n",
        "x_test /= 255"
      ],
      "execution_count": null,
      "outputs": []
    },
    {
      "cell_type": "code",
      "metadata": {
        "id": "0ENftHzEU-Cq"
      },
      "source": [
        "pca = PCA(0.9)\n",
        "pca_result = pca.fit(x_train)"
      ],
      "execution_count": null,
      "outputs": []
    },
    {
      "cell_type": "code",
      "metadata": {
        "colab": {
          "base_uri": "https://localhost:8080/"
        },
        "id": "uC5JZP2JWlji",
        "outputId": "b32df692-4e09-4328-c877-42abeb7abe83"
      },
      "source": [
        "pca.n_components_"
      ],
      "execution_count": null,
      "outputs": [
        {
          "output_type": "execute_result",
          "data": {
            "text/plain": [
              "99"
            ]
          },
          "metadata": {
            "tags": []
          },
          "execution_count": 207
        }
      ]
    },
    {
      "cell_type": "code",
      "metadata": {
        "id": "XzlxTvsXWv5c"
      },
      "source": [
        "PCA_train = pca.transform(x_train)\n",
        "PCA_test = pca.transform(x_test)"
      ],
      "execution_count": null,
      "outputs": []
    },
    {
      "cell_type": "code",
      "metadata": {
        "id": "wH2nZ9QQW8vF"
      },
      "source": [
        "PCA_train = torch.FloatTensor(PCA_train)\n",
        "PCA_test = torch.FloatTensor(PCA_test)\n",
        "y_train = torch.LongTensor(y_train)\n",
        "y_test = torch.LongTensor(y_test)"
      ],
      "execution_count": null,
      "outputs": []
    },
    {
      "cell_type": "code",
      "metadata": {
        "id": "khKVK9GIbRAC"
      },
      "source": [
        "from torch.utils.data import TensorDataset, DataLoader\n",
        "train_dataset = TensorDataset(PCA_train,y_train) # create your datset\n",
        "test_dataset = TensorDataset(PCA_test,y_test) # create your datset\n",
        "trainloader = DataLoader(train_dataset,batch_size= 64) # create your dataloader\n",
        "testloader = DataLoader(test_dataset,batch_size= 64) # create your dataloader"
      ],
      "execution_count": null,
      "outputs": []
    },
    {
      "cell_type": "code",
      "metadata": {
        "id": "B5rHrTeHXjlt"
      },
      "source": [
        "class ANN(nn.Module):\n",
        "  def __init__(self):\n",
        "      super().__init__()\n",
        "      self.fc_model = nn.Sequential(\n",
        "          nn.Linear(pca.n_components_,512),         # (N, 3072*2) -> (N, 512)\n",
        "          nn.ReLU(),\n",
        "          nn.Dropout(0.25),\n",
        "          nn.Linear(512,512),             # (N, 512) -> (N, 512)\n",
        "          nn.ReLU(),\n",
        "          nn.Dropout(0.25),\n",
        "          nn.Linear(512,256),          # (N, 512) -> (N, 256)\n",
        "          nn.Linear(256,10)            # (N, 256)  -> (N, 10)\n",
        "      )\n",
        "      \n",
        "  def forward(self, x):\n",
        "      x = self.fc_model(x)\n",
        "      return x"
      ],
      "execution_count": null,
      "outputs": []
    },
    {
      "cell_type": "code",
      "metadata": {
        "colab": {
          "base_uri": "https://localhost:8080/"
        },
        "id": "NRITSHw0XrVK",
        "outputId": "7b4bd947-3ba8-433d-f3dd-c26141c52dca"
      },
      "source": [
        "net = ANN().to(device)\n",
        "net"
      ],
      "execution_count": null,
      "outputs": [
        {
          "output_type": "execute_result",
          "data": {
            "text/plain": [
              "ANN(\n",
              "  (fc_model): Sequential(\n",
              "    (0): Linear(in_features=99, out_features=512, bias=True)\n",
              "    (1): ReLU()\n",
              "    (2): Dropout(p=0.25, inplace=False)\n",
              "    (3): Linear(in_features=512, out_features=512, bias=True)\n",
              "    (4): ReLU()\n",
              "    (5): Dropout(p=0.25, inplace=False)\n",
              "    (6): Linear(in_features=512, out_features=256, bias=True)\n",
              "    (7): Linear(in_features=256, out_features=10, bias=True)\n",
              "  )\n",
              ")"
            ]
          },
          "metadata": {
            "tags": []
          },
          "execution_count": 212
        }
      ]
    },
    {
      "cell_type": "code",
      "metadata": {
        "id": "6f3p6pWGxoGO"
      },
      "source": [
        "from torchsummary import summary\n",
        "net = Net().to(device)\n",
        "print(summary(net, (3, 32, 32)))\n"
      ],
      "execution_count": null,
      "outputs": []
    },
    {
      "cell_type": "code",
      "metadata": {
        "id": "BGplggC-Xt8d"
      },
      "source": [
        "loss_fn = nn.CrossEntropyLoss()\n",
        "opt = torch.optim.SGD(net.parameters(), lr=0.01)"
      ],
      "execution_count": null,
      "outputs": []
    },
    {
      "cell_type": "code",
      "metadata": {
        "id": "ffBsCRGec6uv"
      },
      "source": [
        "def evaluation(dataloader,model):\n",
        "  total , correct = 0,0\n",
        "  for data in dataloader:\n",
        "    inputs,labels = data\n",
        "    inputs,labels = inputs.to(device),labels.to(device)\n",
        "    outputs = model(inputs)\n",
        "    _,pred = torch.max(outputs.data,1)\n",
        "    total += labels.size(0)\n",
        "    # print(\"pred\",pred )\n",
        "    # print(\"labels\",labels.squeeze(1))\n",
        "    correct += (pred == labels.squeeze(1)).sum().item()\n",
        "  return 100 * correct / total\n"
      ],
      "execution_count": null,
      "outputs": []
    },
    {
      "cell_type": "code",
      "metadata": {
        "colab": {
          "base_uri": "https://localhost:8080/"
        },
        "id": "pJ7r3PUwXxUh",
        "outputId": "8c1ed32c-b5ad-4275-f666-bf97acef3eb4"
      },
      "source": [
        "# Training Loop\n",
        "\n",
        "loss_epoch_arr_PCA_90_MLP = []\n",
        "max_epochs = 150\n",
        "train_acc_PCA_90_MLP = []\n",
        "val_acc_PCA_90_MLP = []\n",
        "\n",
        "n_iters = np.ceil(50000/batch_size)\n",
        "\n",
        "for epoch in range(max_epochs):\n",
        "\n",
        "    for i, data in enumerate(trainloader, 0):\n",
        "\n",
        "        inputs, labels = data\n",
        "        inputs, labels = inputs.to(device), labels.to(device)\n",
        "\n",
        "        opt.zero_grad()\n",
        "\n",
        "        outputs = net(inputs)\n",
        "\n",
        "        loss = loss_fn(outputs, labels.squeeze(1))\n",
        "        loss.backward()\n",
        "        opt.step()\n",
        "\n",
        "        \n",
        "        del inputs, labels, outputs\n",
        "        torch.cuda.empty_cache()\n",
        "        \n",
        "        if i % 500 == 0:\n",
        "            print('Iteration: %d/%d, Loss: %0.2f' % (i, n_iters, loss.item()))\n",
        "        \n",
        "    loss_epoch_arr_PCA_90_MLP.append(loss.item())\n",
        "    train_acc_PCA_90_MLP.append(evaluation(trainloader, net))\n",
        "    val_acc_PCA_90_MLP.append(evaluation(testloader, net))\n",
        "\n",
        "        \n",
        "    print('Epoch: %d/%d, Test acc: %0.2f, Train acc: %0.2f' % (\n",
        "        epoch + 1, max_epochs, \n",
        "        evaluation(testloader, net), evaluation(trainloader, net)))"
      ],
      "execution_count": null,
      "outputs": [
        {
          "output_type": "stream",
          "text": [
            "Iteration: 0/782, Loss: 2.30\n",
            "Iteration: 500/782, Loss: 2.06\n",
            "Epoch: 1/150, Test acc: 30.91, Train acc: 30.68\n",
            "Iteration: 0/782, Loss: 2.01\n",
            "Iteration: 500/782, Loss: 1.92\n",
            "Epoch: 2/150, Test acc: 36.09, Train acc: 36.15\n",
            "Iteration: 0/782, Loss: 1.87\n",
            "Iteration: 500/782, Loss: 1.87\n",
            "Epoch: 3/150, Test acc: 38.85, Train acc: 38.43\n",
            "Iteration: 0/782, Loss: 1.71\n",
            "Iteration: 500/782, Loss: 1.75\n",
            "Epoch: 4/150, Test acc: 40.70, Train acc: 40.60\n",
            "Iteration: 0/782, Loss: 1.74\n",
            "Iteration: 500/782, Loss: 1.76\n",
            "Epoch: 5/150, Test acc: 42.33, Train acc: 42.04\n",
            "Iteration: 0/782, Loss: 1.62\n",
            "Iteration: 500/782, Loss: 1.73\n",
            "Epoch: 6/150, Test acc: 42.92, Train acc: 43.51\n",
            "Iteration: 0/782, Loss: 1.63\n",
            "Iteration: 500/782, Loss: 1.64\n",
            "Epoch: 7/150, Test acc: 44.21, Train acc: 44.09\n",
            "Iteration: 0/782, Loss: 1.62\n",
            "Iteration: 500/782, Loss: 1.68\n",
            "Epoch: 8/150, Test acc: 45.05, Train acc: 45.42\n",
            "Iteration: 0/782, Loss: 1.51\n",
            "Iteration: 500/782, Loss: 1.61\n",
            "Epoch: 9/150, Test acc: 45.50, Train acc: 46.28\n",
            "Iteration: 0/782, Loss: 1.53\n",
            "Iteration: 500/782, Loss: 1.59\n",
            "Epoch: 10/150, Test acc: 46.16, Train acc: 46.81\n",
            "Iteration: 0/782, Loss: 1.58\n",
            "Iteration: 500/782, Loss: 1.60\n",
            "Epoch: 11/150, Test acc: 46.66, Train acc: 47.81\n",
            "Iteration: 0/782, Loss: 1.49\n",
            "Iteration: 500/782, Loss: 1.58\n",
            "Epoch: 12/150, Test acc: 47.15, Train acc: 48.37\n",
            "Iteration: 0/782, Loss: 1.46\n",
            "Iteration: 500/782, Loss: 1.47\n",
            "Epoch: 13/150, Test acc: 47.28, Train acc: 48.97\n",
            "Iteration: 0/782, Loss: 1.46\n",
            "Iteration: 500/782, Loss: 1.53\n",
            "Epoch: 14/150, Test acc: 48.59, Train acc: 49.68\n",
            "Iteration: 0/782, Loss: 1.46\n",
            "Iteration: 500/782, Loss: 1.49\n",
            "Epoch: 15/150, Test acc: 48.75, Train acc: 50.02\n",
            "Iteration: 0/782, Loss: 1.50\n",
            "Iteration: 500/782, Loss: 1.49\n",
            "Epoch: 16/150, Test acc: 49.01, Train acc: 50.47\n",
            "Iteration: 0/782, Loss: 1.49\n",
            "Iteration: 500/782, Loss: 1.60\n",
            "Epoch: 17/150, Test acc: 48.33, Train acc: 51.06\n",
            "Iteration: 0/782, Loss: 1.42\n",
            "Iteration: 500/782, Loss: 1.47\n",
            "Epoch: 18/150, Test acc: 49.43, Train acc: 51.74\n",
            "Iteration: 0/782, Loss: 1.42\n",
            "Iteration: 500/782, Loss: 1.39\n",
            "Epoch: 19/150, Test acc: 49.71, Train acc: 52.06\n",
            "Iteration: 0/782, Loss: 1.43\n",
            "Iteration: 500/782, Loss: 1.46\n",
            "Epoch: 20/150, Test acc: 49.42, Train acc: 52.43\n",
            "Iteration: 0/782, Loss: 1.48\n",
            "Iteration: 500/782, Loss: 1.42\n",
            "Epoch: 21/150, Test acc: 49.78, Train acc: 52.78\n",
            "Iteration: 0/782, Loss: 1.32\n",
            "Iteration: 500/782, Loss: 1.45\n",
            "Epoch: 22/150, Test acc: 49.89, Train acc: 53.23\n",
            "Iteration: 0/782, Loss: 1.38\n",
            "Iteration: 500/782, Loss: 1.44\n",
            "Epoch: 23/150, Test acc: 50.06, Train acc: 53.36\n",
            "Iteration: 0/782, Loss: 1.34\n",
            "Iteration: 500/782, Loss: 1.42\n",
            "Epoch: 24/150, Test acc: 50.31, Train acc: 53.94\n",
            "Iteration: 0/782, Loss: 1.40\n",
            "Iteration: 500/782, Loss: 1.46\n",
            "Epoch: 25/150, Test acc: 50.37, Train acc: 54.22\n",
            "Iteration: 0/782, Loss: 1.42\n",
            "Iteration: 500/782, Loss: 1.43\n",
            "Epoch: 26/150, Test acc: 50.71, Train acc: 54.74\n",
            "Iteration: 0/782, Loss: 1.42\n",
            "Iteration: 500/782, Loss: 1.37\n",
            "Epoch: 27/150, Test acc: 50.44, Train acc: 54.75\n",
            "Iteration: 0/782, Loss: 1.31\n",
            "Iteration: 500/782, Loss: 1.38\n",
            "Epoch: 28/150, Test acc: 51.32, Train acc: 55.32\n",
            "Iteration: 0/782, Loss: 1.34\n",
            "Iteration: 500/782, Loss: 1.36\n",
            "Epoch: 29/150, Test acc: 50.95, Train acc: 55.21\n",
            "Iteration: 0/782, Loss: 1.27\n",
            "Iteration: 500/782, Loss: 1.33\n",
            "Epoch: 30/150, Test acc: 51.70, Train acc: 56.10\n",
            "Iteration: 0/782, Loss: 1.19\n",
            "Iteration: 500/782, Loss: 1.26\n",
            "Epoch: 31/150, Test acc: 51.68, Train acc: 56.28\n",
            "Iteration: 0/782, Loss: 1.33\n",
            "Iteration: 500/782, Loss: 1.37\n",
            "Epoch: 32/150, Test acc: 52.07, Train acc: 56.49\n",
            "Iteration: 0/782, Loss: 1.35\n",
            "Iteration: 500/782, Loss: 1.31\n",
            "Epoch: 33/150, Test acc: 52.00, Train acc: 56.63\n",
            "Iteration: 0/782, Loss: 1.32\n",
            "Iteration: 500/782, Loss: 1.42\n",
            "Epoch: 34/150, Test acc: 52.15, Train acc: 56.85\n",
            "Iteration: 0/782, Loss: 1.31\n",
            "Iteration: 500/782, Loss: 1.22\n",
            "Epoch: 35/150, Test acc: 51.78, Train acc: 57.39\n",
            "Iteration: 0/782, Loss: 1.40\n",
            "Iteration: 500/782, Loss: 1.20\n",
            "Epoch: 36/150, Test acc: 52.12, Train acc: 57.48\n",
            "Iteration: 0/782, Loss: 1.34\n",
            "Iteration: 500/782, Loss: 1.20\n",
            "Epoch: 37/150, Test acc: 52.83, Train acc: 57.98\n",
            "Iteration: 0/782, Loss: 1.17\n",
            "Iteration: 500/782, Loss: 1.26\n",
            "Epoch: 38/150, Test acc: 52.57, Train acc: 58.39\n",
            "Iteration: 0/782, Loss: 1.31\n",
            "Iteration: 500/782, Loss: 1.16\n",
            "Epoch: 39/150, Test acc: 52.96, Train acc: 58.78\n",
            "Iteration: 0/782, Loss: 1.25\n",
            "Iteration: 500/782, Loss: 1.34\n",
            "Epoch: 40/150, Test acc: 52.68, Train acc: 58.88\n",
            "Iteration: 0/782, Loss: 1.24\n",
            "Iteration: 500/782, Loss: 1.29\n",
            "Epoch: 41/150, Test acc: 52.66, Train acc: 59.18\n",
            "Iteration: 0/782, Loss: 1.26\n",
            "Iteration: 500/782, Loss: 1.25\n",
            "Epoch: 42/150, Test acc: 52.97, Train acc: 59.57\n",
            "Iteration: 0/782, Loss: 1.22\n",
            "Iteration: 500/782, Loss: 1.19\n",
            "Epoch: 43/150, Test acc: 52.86, Train acc: 59.64\n",
            "Iteration: 0/782, Loss: 1.16\n",
            "Iteration: 500/782, Loss: 1.13\n",
            "Epoch: 44/150, Test acc: 53.35, Train acc: 60.03\n",
            "Iteration: 0/782, Loss: 1.30\n",
            "Iteration: 500/782, Loss: 1.19\n",
            "Epoch: 45/150, Test acc: 52.70, Train acc: 60.24\n",
            "Iteration: 0/782, Loss: 1.26\n",
            "Iteration: 500/782, Loss: 1.28\n",
            "Epoch: 46/150, Test acc: 53.38, Train acc: 60.41\n",
            "Iteration: 0/782, Loss: 1.19\n",
            "Iteration: 500/782, Loss: 1.15\n",
            "Epoch: 47/150, Test acc: 52.72, Train acc: 60.86\n",
            "Iteration: 0/782, Loss: 1.23\n",
            "Iteration: 500/782, Loss: 1.21\n",
            "Epoch: 48/150, Test acc: 52.74, Train acc: 60.86\n",
            "Iteration: 0/782, Loss: 1.15\n",
            "Iteration: 500/782, Loss: 1.15\n",
            "Epoch: 49/150, Test acc: 53.25, Train acc: 61.14\n",
            "Iteration: 0/782, Loss: 1.17\n",
            "Iteration: 500/782, Loss: 1.16\n",
            "Epoch: 50/150, Test acc: 53.69, Train acc: 61.58\n",
            "Iteration: 0/782, Loss: 1.17\n",
            "Iteration: 500/782, Loss: 1.14\n",
            "Epoch: 51/150, Test acc: 53.36, Train acc: 61.59\n",
            "Iteration: 0/782, Loss: 1.18\n",
            "Iteration: 500/782, Loss: 1.04\n",
            "Epoch: 52/150, Test acc: 53.44, Train acc: 62.11\n",
            "Iteration: 0/782, Loss: 1.11\n",
            "Iteration: 500/782, Loss: 1.12\n",
            "Epoch: 53/150, Test acc: 53.71, Train acc: 62.32\n",
            "Iteration: 0/782, Loss: 1.10\n",
            "Iteration: 500/782, Loss: 1.06\n",
            "Epoch: 54/150, Test acc: 53.80, Train acc: 62.68\n",
            "Iteration: 0/782, Loss: 1.27\n",
            "Iteration: 500/782, Loss: 1.09\n",
            "Epoch: 55/150, Test acc: 53.34, Train acc: 62.76\n",
            "Iteration: 0/782, Loss: 1.23\n",
            "Iteration: 500/782, Loss: 1.04\n",
            "Epoch: 56/150, Test acc: 53.31, Train acc: 63.20\n",
            "Iteration: 0/782, Loss: 1.29\n",
            "Iteration: 500/782, Loss: 1.15\n",
            "Epoch: 57/150, Test acc: 53.46, Train acc: 63.16\n",
            "Iteration: 0/782, Loss: 1.11\n",
            "Iteration: 500/782, Loss: 1.05\n",
            "Epoch: 58/150, Test acc: 53.66, Train acc: 63.63\n",
            "Iteration: 0/782, Loss: 1.07\n",
            "Iteration: 500/782, Loss: 1.15\n",
            "Epoch: 59/150, Test acc: 53.74, Train acc: 63.76\n",
            "Iteration: 0/782, Loss: 1.15\n",
            "Iteration: 500/782, Loss: 1.07\n",
            "Epoch: 60/150, Test acc: 53.90, Train acc: 64.07\n",
            "Iteration: 0/782, Loss: 1.13\n",
            "Iteration: 500/782, Loss: 1.00\n",
            "Epoch: 61/150, Test acc: 53.78, Train acc: 64.01\n",
            "Iteration: 0/782, Loss: 1.08\n",
            "Iteration: 500/782, Loss: 1.07\n",
            "Epoch: 62/150, Test acc: 53.84, Train acc: 64.57\n",
            "Iteration: 0/782, Loss: 1.23\n",
            "Iteration: 500/782, Loss: 1.08\n",
            "Epoch: 63/150, Test acc: 53.18, Train acc: 64.37\n",
            "Iteration: 0/782, Loss: 1.14\n",
            "Iteration: 500/782, Loss: 1.00\n",
            "Epoch: 64/150, Test acc: 54.11, Train acc: 64.61\n",
            "Iteration: 0/782, Loss: 1.04\n",
            "Iteration: 500/782, Loss: 1.07\n",
            "Epoch: 65/150, Test acc: 53.34, Train acc: 64.89\n",
            "Iteration: 0/782, Loss: 1.05\n",
            "Iteration: 500/782, Loss: 1.13\n",
            "Epoch: 66/150, Test acc: 54.23, Train acc: 65.41\n",
            "Iteration: 0/782, Loss: 1.13\n",
            "Iteration: 500/782, Loss: 1.05\n",
            "Epoch: 67/150, Test acc: 54.03, Train acc: 65.35\n",
            "Iteration: 0/782, Loss: 1.02\n",
            "Iteration: 500/782, Loss: 1.00\n",
            "Epoch: 68/150, Test acc: 52.98, Train acc: 65.54\n",
            "Iteration: 0/782, Loss: 1.07\n",
            "Iteration: 500/782, Loss: 0.94\n",
            "Epoch: 69/150, Test acc: 53.75, Train acc: 65.80\n",
            "Iteration: 0/782, Loss: 1.08\n",
            "Iteration: 500/782, Loss: 1.00\n",
            "Epoch: 70/150, Test acc: 53.54, Train acc: 66.09\n",
            "Iteration: 0/782, Loss: 1.05\n",
            "Iteration: 500/782, Loss: 1.06\n",
            "Epoch: 71/150, Test acc: 54.50, Train acc: 66.45\n",
            "Iteration: 0/782, Loss: 1.10\n",
            "Iteration: 500/782, Loss: 0.90\n",
            "Epoch: 72/150, Test acc: 53.48, Train acc: 66.43\n",
            "Iteration: 0/782, Loss: 1.09\n",
            "Iteration: 500/782, Loss: 1.04\n",
            "Epoch: 73/150, Test acc: 54.46, Train acc: 66.52\n",
            "Iteration: 0/782, Loss: 1.11\n",
            "Iteration: 500/782, Loss: 0.86\n",
            "Epoch: 74/150, Test acc: 54.24, Train acc: 66.83\n",
            "Iteration: 0/782, Loss: 1.10\n",
            "Iteration: 500/782, Loss: 1.03\n",
            "Epoch: 75/150, Test acc: 53.60, Train acc: 67.43\n",
            "Iteration: 0/782, Loss: 0.94\n",
            "Iteration: 500/782, Loss: 0.91\n",
            "Epoch: 76/150, Test acc: 54.22, Train acc: 67.04\n",
            "Iteration: 0/782, Loss: 1.14\n",
            "Iteration: 500/782, Loss: 0.98\n",
            "Epoch: 77/150, Test acc: 54.16, Train acc: 67.30\n",
            "Iteration: 0/782, Loss: 0.95\n",
            "Iteration: 500/782, Loss: 0.86\n",
            "Epoch: 78/150, Test acc: 54.42, Train acc: 67.92\n",
            "Iteration: 0/782, Loss: 0.96\n",
            "Iteration: 500/782, Loss: 0.94\n",
            "Epoch: 79/150, Test acc: 54.11, Train acc: 67.86\n",
            "Iteration: 0/782, Loss: 1.11\n",
            "Iteration: 500/782, Loss: 0.92\n",
            "Epoch: 80/150, Test acc: 53.48, Train acc: 67.94\n",
            "Iteration: 0/782, Loss: 0.93\n",
            "Iteration: 500/782, Loss: 0.97\n",
            "Epoch: 81/150, Test acc: 53.90, Train acc: 68.65\n",
            "Iteration: 0/782, Loss: 0.93\n",
            "Iteration: 500/782, Loss: 0.91\n",
            "Epoch: 82/150, Test acc: 53.75, Train acc: 68.60\n",
            "Iteration: 0/782, Loss: 1.07\n",
            "Iteration: 500/782, Loss: 0.89\n",
            "Epoch: 83/150, Test acc: 54.58, Train acc: 68.66\n",
            "Iteration: 0/782, Loss: 1.00\n",
            "Iteration: 500/782, Loss: 1.02\n",
            "Epoch: 84/150, Test acc: 53.70, Train acc: 68.84\n",
            "Iteration: 0/782, Loss: 1.14\n",
            "Iteration: 500/782, Loss: 0.91\n",
            "Epoch: 85/150, Test acc: 54.60, Train acc: 68.84\n",
            "Iteration: 0/782, Loss: 0.86\n",
            "Iteration: 500/782, Loss: 0.93\n",
            "Epoch: 86/150, Test acc: 54.13, Train acc: 69.49\n",
            "Iteration: 0/782, Loss: 0.99\n",
            "Iteration: 500/782, Loss: 0.75\n",
            "Epoch: 87/150, Test acc: 53.70, Train acc: 69.69\n",
            "Iteration: 0/782, Loss: 0.91\n",
            "Iteration: 500/782, Loss: 0.93\n",
            "Epoch: 88/150, Test acc: 53.94, Train acc: 69.58\n",
            "Iteration: 0/782, Loss: 1.00\n",
            "Iteration: 500/782, Loss: 0.85\n",
            "Epoch: 89/150, Test acc: 53.76, Train acc: 69.51\n",
            "Iteration: 0/782, Loss: 0.95\n",
            "Iteration: 500/782, Loss: 0.87\n",
            "Epoch: 90/150, Test acc: 54.17, Train acc: 70.08\n",
            "Iteration: 0/782, Loss: 0.96\n",
            "Iteration: 500/782, Loss: 0.85\n",
            "Epoch: 91/150, Test acc: 53.17, Train acc: 70.31\n",
            "Iteration: 0/782, Loss: 1.04\n",
            "Iteration: 500/782, Loss: 0.82\n",
            "Epoch: 92/150, Test acc: 53.83, Train acc: 70.32\n",
            "Iteration: 0/782, Loss: 0.88\n",
            "Iteration: 500/782, Loss: 0.92\n",
            "Epoch: 93/150, Test acc: 54.03, Train acc: 70.21\n",
            "Iteration: 0/782, Loss: 0.84\n",
            "Iteration: 500/782, Loss: 0.76\n",
            "Epoch: 94/150, Test acc: 54.34, Train acc: 70.89\n",
            "Iteration: 0/782, Loss: 1.07\n",
            "Iteration: 500/782, Loss: 0.93\n",
            "Epoch: 95/150, Test acc: 54.41, Train acc: 71.06\n",
            "Iteration: 0/782, Loss: 0.95\n",
            "Iteration: 500/782, Loss: 0.84\n",
            "Epoch: 96/150, Test acc: 54.34, Train acc: 71.10\n",
            "Iteration: 0/782, Loss: 1.08\n",
            "Iteration: 500/782, Loss: 0.85\n",
            "Epoch: 97/150, Test acc: 53.95, Train acc: 71.19\n",
            "Iteration: 0/782, Loss: 0.98\n",
            "Iteration: 500/782, Loss: 0.73\n",
            "Epoch: 98/150, Test acc: 54.07, Train acc: 71.38\n",
            "Iteration: 0/782, Loss: 1.10\n",
            "Iteration: 500/782, Loss: 0.85\n",
            "Epoch: 99/150, Test acc: 53.59, Train acc: 71.41\n",
            "Iteration: 0/782, Loss: 0.84\n",
            "Iteration: 500/782, Loss: 0.69\n",
            "Epoch: 100/150, Test acc: 53.59, Train acc: 71.82\n",
            "Iteration: 0/782, Loss: 0.79\n",
            "Iteration: 500/782, Loss: 0.83\n",
            "Epoch: 101/150, Test acc: 54.25, Train acc: 72.10\n",
            "Iteration: 0/782, Loss: 1.03\n",
            "Iteration: 500/782, Loss: 0.75\n",
            "Epoch: 102/150, Test acc: 54.08, Train acc: 71.95\n",
            "Iteration: 0/782, Loss: 0.99\n",
            "Iteration: 500/782, Loss: 0.90\n",
            "Epoch: 103/150, Test acc: 53.01, Train acc: 72.22\n",
            "Iteration: 0/782, Loss: 0.85\n",
            "Iteration: 500/782, Loss: 0.81\n",
            "Epoch: 104/150, Test acc: 53.68, Train acc: 72.15\n",
            "Iteration: 0/782, Loss: 0.78\n",
            "Iteration: 500/782, Loss: 0.90\n",
            "Epoch: 105/150, Test acc: 53.23, Train acc: 72.63\n",
            "Iteration: 0/782, Loss: 0.90\n",
            "Iteration: 500/782, Loss: 0.81\n",
            "Epoch: 106/150, Test acc: 53.38, Train acc: 72.71\n",
            "Iteration: 0/782, Loss: 0.85\n",
            "Iteration: 500/782, Loss: 0.90\n",
            "Epoch: 107/150, Test acc: 53.54, Train acc: 72.81\n",
            "Iteration: 0/782, Loss: 0.79\n",
            "Iteration: 500/782, Loss: 0.89\n",
            "Epoch: 108/150, Test acc: 53.62, Train acc: 72.97\n",
            "Iteration: 0/782, Loss: 1.04\n",
            "Iteration: 500/782, Loss: 0.76\n",
            "Epoch: 109/150, Test acc: 53.85, Train acc: 73.24\n",
            "Iteration: 0/782, Loss: 0.73\n",
            "Iteration: 500/782, Loss: 0.81\n",
            "Epoch: 110/150, Test acc: 53.79, Train acc: 73.09\n",
            "Iteration: 0/782, Loss: 0.66\n",
            "Iteration: 500/782, Loss: 0.80\n",
            "Epoch: 111/150, Test acc: 54.11, Train acc: 73.56\n",
            "Iteration: 0/782, Loss: 0.81\n",
            "Iteration: 500/782, Loss: 0.75\n",
            "Epoch: 112/150, Test acc: 53.76, Train acc: 73.57\n",
            "Iteration: 0/782, Loss: 0.78\n",
            "Iteration: 500/782, Loss: 0.85\n",
            "Epoch: 113/150, Test acc: 53.05, Train acc: 73.76\n",
            "Iteration: 0/782, Loss: 0.90\n",
            "Iteration: 500/782, Loss: 0.77\n",
            "Epoch: 114/150, Test acc: 53.78, Train acc: 73.98\n",
            "Iteration: 0/782, Loss: 0.73\n",
            "Iteration: 500/782, Loss: 0.88\n",
            "Epoch: 115/150, Test acc: 53.72, Train acc: 73.84\n",
            "Iteration: 0/782, Loss: 0.68\n",
            "Iteration: 500/782, Loss: 0.75\n",
            "Epoch: 116/150, Test acc: 53.08, Train acc: 74.09\n",
            "Iteration: 0/782, Loss: 0.94\n",
            "Iteration: 500/782, Loss: 0.70\n",
            "Epoch: 117/150, Test acc: 53.27, Train acc: 74.36\n",
            "Iteration: 0/782, Loss: 0.88\n",
            "Iteration: 500/782, Loss: 0.68\n",
            "Epoch: 118/150, Test acc: 53.67, Train acc: 74.22\n",
            "Iteration: 0/782, Loss: 0.77\n",
            "Iteration: 500/782, Loss: 0.77\n",
            "Epoch: 119/150, Test acc: 54.18, Train acc: 74.48\n",
            "Iteration: 0/782, Loss: 0.75\n",
            "Iteration: 500/782, Loss: 0.75\n",
            "Epoch: 120/150, Test acc: 53.16, Train acc: 74.61\n",
            "Iteration: 0/782, Loss: 0.83\n",
            "Iteration: 500/782, Loss: 0.76\n",
            "Epoch: 121/150, Test acc: 53.38, Train acc: 75.01\n",
            "Iteration: 0/782, Loss: 0.78\n",
            "Iteration: 500/782, Loss: 0.82\n",
            "Epoch: 122/150, Test acc: 53.14, Train acc: 75.07\n",
            "Iteration: 0/782, Loss: 0.90\n",
            "Iteration: 500/782, Loss: 0.59\n",
            "Epoch: 123/150, Test acc: 53.84, Train acc: 75.21\n",
            "Iteration: 0/782, Loss: 0.67\n",
            "Iteration: 500/782, Loss: 0.64\n",
            "Epoch: 124/150, Test acc: 53.54, Train acc: 75.25\n",
            "Iteration: 0/782, Loss: 0.75\n",
            "Iteration: 500/782, Loss: 0.77\n",
            "Epoch: 125/150, Test acc: 53.94, Train acc: 75.27\n",
            "Iteration: 0/782, Loss: 0.60\n",
            "Iteration: 500/782, Loss: 0.71\n",
            "Epoch: 126/150, Test acc: 53.97, Train acc: 75.60\n",
            "Iteration: 0/782, Loss: 0.69\n",
            "Iteration: 500/782, Loss: 0.77\n",
            "Epoch: 127/150, Test acc: 53.75, Train acc: 75.55\n",
            "Iteration: 0/782, Loss: 0.77\n",
            "Iteration: 500/782, Loss: 0.75\n",
            "Epoch: 128/150, Test acc: 52.94, Train acc: 75.72\n",
            "Iteration: 0/782, Loss: 0.54\n",
            "Iteration: 500/782, Loss: 0.70\n",
            "Epoch: 129/150, Test acc: 53.29, Train acc: 76.09\n",
            "Iteration: 0/782, Loss: 0.66\n",
            "Iteration: 500/782, Loss: 0.71\n",
            "Epoch: 130/150, Test acc: 53.54, Train acc: 76.28\n",
            "Iteration: 0/782, Loss: 0.79\n",
            "Iteration: 500/782, Loss: 0.68\n",
            "Epoch: 131/150, Test acc: 52.98, Train acc: 76.33\n",
            "Iteration: 0/782, Loss: 0.69\n",
            "Iteration: 500/782, Loss: 0.73\n",
            "Epoch: 132/150, Test acc: 53.63, Train acc: 76.14\n",
            "Iteration: 0/782, Loss: 0.69\n",
            "Iteration: 500/782, Loss: 0.70\n",
            "Epoch: 133/150, Test acc: 53.68, Train acc: 76.19\n",
            "Iteration: 0/782, Loss: 0.70\n",
            "Iteration: 500/782, Loss: 0.47\n",
            "Epoch: 134/150, Test acc: 53.51, Train acc: 76.69\n",
            "Iteration: 0/782, Loss: 0.62\n",
            "Iteration: 500/782, Loss: 0.76\n",
            "Epoch: 135/150, Test acc: 53.45, Train acc: 76.77\n",
            "Iteration: 0/782, Loss: 0.75\n",
            "Iteration: 500/782, Loss: 0.77\n",
            "Epoch: 136/150, Test acc: 52.42, Train acc: 76.92\n",
            "Iteration: 0/782, Loss: 0.58\n",
            "Iteration: 500/782, Loss: 0.69\n",
            "Epoch: 137/150, Test acc: 53.38, Train acc: 77.09\n",
            "Iteration: 0/782, Loss: 0.81\n",
            "Iteration: 500/782, Loss: 0.68\n",
            "Epoch: 138/150, Test acc: 52.80, Train acc: 77.07\n",
            "Iteration: 0/782, Loss: 0.50\n",
            "Iteration: 500/782, Loss: 0.85\n",
            "Epoch: 139/150, Test acc: 53.81, Train acc: 77.23\n",
            "Iteration: 0/782, Loss: 0.62\n",
            "Iteration: 500/782, Loss: 0.59\n",
            "Epoch: 140/150, Test acc: 53.29, Train acc: 77.39\n",
            "Iteration: 0/782, Loss: 0.73\n",
            "Iteration: 500/782, Loss: 0.71\n",
            "Epoch: 141/150, Test acc: 52.45, Train acc: 77.30\n",
            "Iteration: 0/782, Loss: 0.48\n",
            "Iteration: 500/782, Loss: 0.63\n",
            "Epoch: 142/150, Test acc: 53.87, Train acc: 77.38\n",
            "Iteration: 0/782, Loss: 0.52\n",
            "Iteration: 500/782, Loss: 0.81\n",
            "Epoch: 143/150, Test acc: 53.38, Train acc: 77.71\n",
            "Iteration: 0/782, Loss: 0.60\n",
            "Iteration: 500/782, Loss: 0.74\n",
            "Epoch: 144/150, Test acc: 53.29, Train acc: 77.48\n",
            "Iteration: 0/782, Loss: 0.58\n",
            "Iteration: 500/782, Loss: 0.67\n",
            "Epoch: 145/150, Test acc: 53.26, Train acc: 77.80\n",
            "Iteration: 0/782, Loss: 0.68\n",
            "Iteration: 500/782, Loss: 0.72\n",
            "Epoch: 146/150, Test acc: 52.20, Train acc: 77.72\n",
            "Iteration: 0/782, Loss: 0.59\n",
            "Iteration: 500/782, Loss: 0.70\n",
            "Epoch: 147/150, Test acc: 53.17, Train acc: 77.97\n",
            "Iteration: 0/782, Loss: 0.65\n",
            "Iteration: 500/782, Loss: 0.52\n",
            "Epoch: 148/150, Test acc: 52.62, Train acc: 78.20\n",
            "Iteration: 0/782, Loss: 0.67\n",
            "Iteration: 500/782, Loss: 0.64\n",
            "Epoch: 149/150, Test acc: 53.20, Train acc: 78.45\n",
            "Iteration: 0/782, Loss: 0.58\n",
            "Iteration: 500/782, Loss: 0.65\n",
            "Epoch: 150/150, Test acc: 54.00, Train acc: 78.39\n"
          ],
          "name": "stdout"
        }
      ]
    },
    {
      "cell_type": "code",
      "metadata": {
        "colab": {
          "base_uri": "https://localhost:8080/",
          "height": 295
        },
        "id": "bGWj8_k8kM2E",
        "outputId": "478e4d7f-a41f-49b1-ae16-10dfd4a3353d"
      },
      "source": [
        "import matplotlib.pyplot as plt\n",
        "\n",
        "fig, ax = plt.subplots()\n",
        "\n",
        "ax.plot(train_acc_PCA_90_MLP,label='Train')\n",
        "ax.plot(val_acc_PCA_90_MLP, label='Validation')\n",
        "\n",
        "plt.title(\"Accuracy Curves (PCA (90% variance) +MLP)\")\n",
        "plt.xlabel(\"Epoch\")\n",
        "plt.ylabel(\"Accuracy\")\n",
        "leg = ax.legend();\n",
        "\n",
        "plt.savefig(\"Accuracy curves\")"
      ],
      "execution_count": null,
      "outputs": [
        {
          "output_type": "display_data",
          "data": {
            "image/png": "[encoded data removed]",
            "text/plain": [
              "<Figure size 432x288 with 1 Axes>"
            ]
          },
          "metadata": {
            "tags": [],
            "needs_background": "light"
          }
        }
      ]
    },
    {
      "cell_type": "code",
      "metadata": {
        "colab": {
          "base_uri": "https://localhost:8080/",
          "height": 295
        },
        "id": "5DcFDrLokM2G",
        "outputId": "8dcf94a7-4419-4c01-d3a0-85a4040020a1"
      },
      "source": [
        "plt.plot(loss_epoch_arr_PCA_90_MLP)\n",
        "plt.title(\"Loss Curve(PCA (90% variance) +MLP)\")\n",
        "plt.xlabel(\"Epoch\")\n",
        "plt.ylabel(\"Loss\")\n",
        "\n",
        "plt.show()"
      ],
      "execution_count": null,
      "outputs": [
        {
          "output_type": "display_data",
          "data": {
            "image/png": "[encoded data removed]",
            "text/plain": [
              "<Figure size 432x288 with 1 Axes>"
            ]
          },
          "metadata": {
            "tags": [],
            "needs_background": "light"
          }
        }
      ]
    },
    {
      "cell_type": "markdown",
      "metadata": {
        "id": "SMllq14yiGGs"
      },
      "source": [
        "## Train CIFAR10 PCA (95 % Variance ) + MLP"
      ]
    },
    {
      "cell_type": "code",
      "metadata": {
        "id": "jt06ttyZiNlK"
      },
      "source": [
        "import tensorflow as tf\n",
        "from sklearn.decomposition import PCA\n",
        "(x_train, y_train), (x_test, y_test)  = tf.keras.datasets.cifar10.load_data()\n",
        "x_train = x_train.reshape(50000, 32*32*3)\n",
        "x_test = x_test.reshape(10000, 32*32*3)\n",
        "x_train = x_train.astype('float32')\n",
        "x_test = x_test.astype('float32')\n",
        "x_train /= 255\n",
        "x_test /= 255"
      ],
      "execution_count": null,
      "outputs": []
    },
    {
      "cell_type": "code",
      "metadata": {
        "id": "Zq-F9JHwiNlL"
      },
      "source": [
        "pca = PCA(0.95)\n",
        "pca_result = pca.fit(x_train)"
      ],
      "execution_count": null,
      "outputs": []
    },
    {
      "cell_type": "code",
      "metadata": {
        "colab": {
          "base_uri": "https://localhost:8080/"
        },
        "id": "GAwO4QM7iNlL",
        "outputId": "9c8cb1a8-9d94-4a0e-fff0-165330e8b8ca"
      },
      "source": [
        "pca.n_components_"
      ],
      "execution_count": null,
      "outputs": [
        {
          "output_type": "execute_result",
          "data": {
            "text/plain": [
              "217"
            ]
          },
          "metadata": {
            "tags": []
          },
          "execution_count": 220
        }
      ]
    },
    {
      "cell_type": "code",
      "metadata": {
        "id": "5rRkhVjYiNlN"
      },
      "source": [
        "PCA_train = pca.transform(x_train)\n",
        "PCA_test = pca.transform(x_test)"
      ],
      "execution_count": null,
      "outputs": []
    },
    {
      "cell_type": "code",
      "metadata": {
        "id": "uhXy2F2PiNlN"
      },
      "source": [
        "PCA_train = torch.FloatTensor(PCA_train)\n",
        "PCA_test = torch.FloatTensor(PCA_test)\n",
        "y_train = torch.LongTensor(y_train)\n",
        "y_test = torch.LongTensor(y_test)"
      ],
      "execution_count": null,
      "outputs": []
    },
    {
      "cell_type": "code",
      "metadata": {
        "id": "mKv9N8fniNlO"
      },
      "source": [
        "from torch.utils.data import TensorDataset, DataLoader\n",
        "train_dataset = TensorDataset(PCA_train,y_train) # create your datset\n",
        "test_dataset = TensorDataset(PCA_test,y_test) # create your datset\n",
        "trainloader = DataLoader(train_dataset,batch_size= 64) # create your dataloader\n",
        "testloader = DataLoader(test_dataset,batch_size= 64) # create your dataloader"
      ],
      "execution_count": null,
      "outputs": []
    },
    {
      "cell_type": "code",
      "metadata": {
        "id": "8DIhxoeRiNlO"
      },
      "source": [
        "class ANN(nn.Module):\n",
        "  def __init__(self):\n",
        "      super().__init__()\n",
        "      self.fc_model = nn.Sequential(\n",
        "          nn.Linear(pca.n_components_,512),         # (N, 3072*2) -> (N, 512)\n",
        "          nn.ReLU(),\n",
        "          nn.Dropout(0.25),\n",
        "          nn.Linear(512,512),             # (N, 512) -> (N, 512)\n",
        "          nn.ReLU(),\n",
        "          nn.Dropout(0.25),\n",
        "          nn.Linear(512,256),          # (N, 512) -> (N, 256)\n",
        "          nn.Linear(256,10)            # (N, 256)  -> (N, 10)\n",
        "      )\n",
        "      \n",
        "  def forward(self, x):\n",
        "      x = self.fc_model(x)\n",
        "      return x"
      ],
      "execution_count": null,
      "outputs": []
    },
    {
      "cell_type": "code",
      "metadata": {
        "colab": {
          "base_uri": "https://localhost:8080/"
        },
        "id": "i5if98xXiNlP",
        "outputId": "6570ca12-498c-4114-e776-aa7dbe9a151e"
      },
      "source": [
        "net = ANN().to(device)\n",
        "net"
      ],
      "execution_count": null,
      "outputs": [
        {
          "output_type": "execute_result",
          "data": {
            "text/plain": [
              "ANN(\n",
              "  (fc_model): Sequential(\n",
              "    (0): Linear(in_features=217, out_features=512, bias=True)\n",
              "    (1): ReLU()\n",
              "    (2): Dropout(p=0.25, inplace=False)\n",
              "    (3): Linear(in_features=512, out_features=512, bias=True)\n",
              "    (4): ReLU()\n",
              "    (5): Dropout(p=0.25, inplace=False)\n",
              "    (6): Linear(in_features=512, out_features=256, bias=True)\n",
              "    (7): Linear(in_features=256, out_features=10, bias=True)\n",
              "  )\n",
              ")"
            ]
          },
          "metadata": {
            "tags": []
          },
          "execution_count": 225
        }
      ]
    },
    {
      "cell_type": "code",
      "metadata": {
        "id": "1wZU9ogFyERQ"
      },
      "source": [
        "from torchsummary import summary\n",
        "net = Net().to(device)\n",
        "print(summary(net, (3, 32, 32)))\n"
      ],
      "execution_count": null,
      "outputs": []
    },
    {
      "cell_type": "code",
      "metadata": {
        "id": "1c0RSIgqiNlP"
      },
      "source": [
        "loss_fn = nn.CrossEntropyLoss()\n",
        "opt = torch.optim.SGD(net.parameters(), lr=0.01)"
      ],
      "execution_count": null,
      "outputs": []
    },
    {
      "cell_type": "code",
      "metadata": {
        "id": "egRa3VKTiNlQ"
      },
      "source": [
        "def evaluation(dataloader,model):\n",
        "  total , correct = 0,0\n",
        "  for data in dataloader:\n",
        "    inputs,labels = data\n",
        "    inputs,labels = inputs.to(device),labels.to(device)\n",
        "    outputs = model(inputs)\n",
        "    _,pred = torch.max(outputs.data,1)\n",
        "    total += labels.size(0)\n",
        "    # print(\"pred\",pred )\n",
        "    # print(\"labels\",labels.squeeze(1))\n",
        "    correct += (pred == labels.squeeze(1)).sum().item()\n",
        "  return 100 * correct / total\n"
      ],
      "execution_count": null,
      "outputs": []
    },
    {
      "cell_type": "code",
      "metadata": {
        "colab": {
          "base_uri": "https://localhost:8080/"
        },
        "id": "Uw48gIpYiNlQ",
        "outputId": "95a82aad-d1a2-43c4-a312-f9635089e92d"
      },
      "source": [
        "# Training Loop\n",
        "\n",
        "loss_epoch_arr_PCA_95_MLP = []\n",
        "max_epochs = 150\n",
        "train_acc_PCA_95_MLP = []\n",
        "val_acc_PCA_95_MLP = []\n",
        "\n",
        "n_iters = np.ceil(50000/batch_size)\n",
        "\n",
        "for epoch in range(max_epochs):\n",
        "\n",
        "    for i, data in enumerate(trainloader, 0):\n",
        "\n",
        "        inputs, labels = data\n",
        "        inputs, labels = inputs.to(device), labels.to(device)\n",
        "\n",
        "        opt.zero_grad()\n",
        "\n",
        "        outputs = net(inputs)\n",
        "\n",
        "        loss = loss_fn(outputs, labels.squeeze(1))\n",
        "        loss.backward()\n",
        "        opt.step()\n",
        "\n",
        "        \n",
        "        del inputs, labels, outputs\n",
        "        torch.cuda.empty_cache()\n",
        "        \n",
        "        if i % 500 == 0:\n",
        "            print('Iteration: %d/%d, Loss: %0.2f' % (i, n_iters, loss.item()))\n",
        "        \n",
        "    loss_epoch_arr_PCA_95_MLP.append(loss.item())\n",
        "    train_acc_PCA_95_MLP.append(evaluation(trainloader, net))\n",
        "    val_acc_PCA_95_MLP.append(evaluation(testloader, net))\n",
        "\n",
        "        \n",
        "    print('Epoch: %d/%d, Test acc: %0.2f, Train acc: %0.2f' % (\n",
        "        epoch + 1, max_epochs, \n",
        "        evaluation(testloader, net), evaluation(trainloader, net)))"
      ],
      "execution_count": null,
      "outputs": [
        {
          "output_type": "stream",
          "text": [
            "Iteration: 0/782, Loss: 2.31\n",
            "Iteration: 500/782, Loss: 2.14\n",
            "Epoch: 1/150, Test acc: 29.06, Train acc: 28.63\n",
            "Iteration: 0/782, Loss: 2.08\n",
            "Iteration: 500/782, Loss: 1.98\n",
            "Epoch: 2/150, Test acc: 34.62, Train acc: 34.57\n",
            "Iteration: 0/782, Loss: 1.88\n",
            "Iteration: 500/782, Loss: 1.87\n",
            "Epoch: 3/150, Test acc: 38.17, Train acc: 37.64\n",
            "Iteration: 0/782, Loss: 1.76\n",
            "Iteration: 500/782, Loss: 1.79\n",
            "Epoch: 4/150, Test acc: 39.85, Train acc: 39.94\n",
            "Iteration: 0/782, Loss: 1.71\n",
            "Iteration: 500/782, Loss: 1.79\n",
            "Epoch: 5/150, Test acc: 41.97, Train acc: 41.69\n",
            "Iteration: 0/782, Loss: 1.64\n",
            "Iteration: 500/782, Loss: 1.75\n",
            "Epoch: 6/150, Test acc: 42.92, Train acc: 43.38\n",
            "Iteration: 0/782, Loss: 1.62\n",
            "Iteration: 500/782, Loss: 1.75\n",
            "Epoch: 7/150, Test acc: 44.50, Train acc: 44.47\n",
            "Iteration: 0/782, Loss: 1.57\n",
            "Iteration: 500/782, Loss: 1.67\n",
            "Epoch: 8/150, Test acc: 44.88, Train acc: 45.70\n",
            "Iteration: 0/782, Loss: 1.49\n",
            "Iteration: 500/782, Loss: 1.59\n",
            "Epoch: 9/150, Test acc: 45.73, Train acc: 46.76\n",
            "Iteration: 0/782, Loss: 1.56\n",
            "Iteration: 500/782, Loss: 1.67\n",
            "Epoch: 10/150, Test acc: 46.80, Train acc: 47.79\n",
            "Iteration: 0/782, Loss: 1.49\n",
            "Iteration: 500/782, Loss: 1.65\n",
            "Epoch: 11/150, Test acc: 47.25, Train acc: 48.49\n",
            "Iteration: 0/782, Loss: 1.53\n",
            "Iteration: 500/782, Loss: 1.63\n",
            "Epoch: 12/150, Test acc: 47.70, Train acc: 49.13\n",
            "Iteration: 0/782, Loss: 1.52\n",
            "Iteration: 500/782, Loss: 1.52\n",
            "Epoch: 13/150, Test acc: 48.28, Train acc: 50.05\n",
            "Iteration: 0/782, Loss: 1.51\n",
            "Iteration: 500/782, Loss: 1.51\n",
            "Epoch: 14/150, Test acc: 48.62, Train acc: 50.55\n",
            "Iteration: 0/782, Loss: 1.43\n",
            "Iteration: 500/782, Loss: 1.54\n",
            "Epoch: 15/150, Test acc: 49.26, Train acc: 51.42\n",
            "Iteration: 0/782, Loss: 1.37\n",
            "Iteration: 500/782, Loss: 1.49\n",
            "Epoch: 16/150, Test acc: 49.26, Train acc: 51.78\n",
            "Iteration: 0/782, Loss: 1.42\n",
            "Iteration: 500/782, Loss: 1.53\n",
            "Epoch: 17/150, Test acc: 49.00, Train acc: 52.59\n",
            "Iteration: 0/782, Loss: 1.38\n",
            "Iteration: 500/782, Loss: 1.60\n",
            "Epoch: 18/150, Test acc: 50.11, Train acc: 53.14\n",
            "Iteration: 0/782, Loss: 1.42\n",
            "Iteration: 500/782, Loss: 1.56\n",
            "Epoch: 19/150, Test acc: 49.95, Train acc: 53.35\n",
            "Iteration: 0/782, Loss: 1.35\n",
            "Iteration: 500/782, Loss: 1.47\n",
            "Epoch: 20/150, Test acc: 50.02, Train acc: 53.91\n",
            "Iteration: 0/782, Loss: 1.35\n",
            "Iteration: 500/782, Loss: 1.57\n",
            "Epoch: 21/150, Test acc: 50.45, Train acc: 54.38\n",
            "Iteration: 0/782, Loss: 1.35\n",
            "Iteration: 500/782, Loss: 1.39\n",
            "Epoch: 22/150, Test acc: 50.90, Train acc: 54.95\n",
            "Iteration: 0/782, Loss: 1.31\n",
            "Iteration: 500/782, Loss: 1.53\n",
            "Epoch: 23/150, Test acc: 50.72, Train acc: 55.27\n",
            "Iteration: 0/782, Loss: 1.30\n",
            "Iteration: 500/782, Loss: 1.43\n",
            "Epoch: 24/150, Test acc: 51.05, Train acc: 55.55\n",
            "Iteration: 0/782, Loss: 1.34\n",
            "Iteration: 500/782, Loss: 1.44\n",
            "Epoch: 25/150, Test acc: 51.41, Train acc: 56.12\n",
            "Iteration: 0/782, Loss: 1.40\n",
            "Iteration: 500/782, Loss: 1.41\n",
            "Epoch: 26/150, Test acc: 51.24, Train acc: 56.50\n",
            "Iteration: 0/782, Loss: 1.37\n",
            "Iteration: 500/782, Loss: 1.46\n",
            "Epoch: 27/150, Test acc: 51.39, Train acc: 57.03\n",
            "Iteration: 0/782, Loss: 1.27\n",
            "Iteration: 500/782, Loss: 1.33\n",
            "Epoch: 28/150, Test acc: 52.08, Train acc: 57.08\n",
            "Iteration: 0/782, Loss: 1.37\n",
            "Iteration: 500/782, Loss: 1.35\n",
            "Epoch: 29/150, Test acc: 51.53, Train acc: 57.73\n",
            "Iteration: 0/782, Loss: 1.40\n",
            "Iteration: 500/782, Loss: 1.42\n",
            "Epoch: 30/150, Test acc: 52.02, Train acc: 58.23\n",
            "Iteration: 0/782, Loss: 1.31\n",
            "Iteration: 500/782, Loss: 1.34\n",
            "Epoch: 31/150, Test acc: 52.19, Train acc: 58.46\n",
            "Iteration: 0/782, Loss: 1.23\n",
            "Iteration: 500/782, Loss: 1.39\n",
            "Epoch: 32/150, Test acc: 52.29, Train acc: 58.86\n",
            "Iteration: 0/782, Loss: 1.27\n",
            "Iteration: 500/782, Loss: 1.27\n",
            "Epoch: 33/150, Test acc: 53.13, Train acc: 59.43\n",
            "Iteration: 0/782, Loss: 1.28\n",
            "Iteration: 500/782, Loss: 1.29\n",
            "Epoch: 34/150, Test acc: 52.76, Train acc: 59.74\n",
            "Iteration: 0/782, Loss: 1.25\n",
            "Iteration: 500/782, Loss: 1.18\n",
            "Epoch: 35/150, Test acc: 52.69, Train acc: 59.93\n",
            "Iteration: 0/782, Loss: 1.31\n",
            "Iteration: 500/782, Loss: 1.31\n",
            "Epoch: 36/150, Test acc: 52.70, Train acc: 60.27\n",
            "Iteration: 0/782, Loss: 1.12\n",
            "Iteration: 500/782, Loss: 1.23\n",
            "Epoch: 37/150, Test acc: 52.29, Train acc: 60.94\n",
            "Iteration: 0/782, Loss: 1.19\n",
            "Iteration: 500/782, Loss: 1.26\n",
            "Epoch: 38/150, Test acc: 52.78, Train acc: 60.93\n",
            "Iteration: 0/782, Loss: 1.16\n",
            "Iteration: 500/782, Loss: 1.24\n",
            "Epoch: 39/150, Test acc: 52.79, Train acc: 61.78\n",
            "Iteration: 0/782, Loss: 1.24\n",
            "Iteration: 500/782, Loss: 1.32\n",
            "Epoch: 40/150, Test acc: 52.77, Train acc: 61.90\n",
            "Iteration: 0/782, Loss: 1.25\n",
            "Iteration: 500/782, Loss: 1.18\n",
            "Epoch: 41/150, Test acc: 53.30, Train acc: 62.14\n",
            "Iteration: 0/782, Loss: 1.14\n",
            "Iteration: 500/782, Loss: 1.15\n",
            "Epoch: 42/150, Test acc: 53.39, Train acc: 62.50\n",
            "Iteration: 0/782, Loss: 1.10\n",
            "Iteration: 500/782, Loss: 1.21\n",
            "Epoch: 43/150, Test acc: 53.43, Train acc: 62.70\n",
            "Iteration: 0/782, Loss: 1.23\n",
            "Iteration: 500/782, Loss: 1.22\n",
            "Epoch: 44/150, Test acc: 53.38, Train acc: 62.94\n",
            "Iteration: 0/782, Loss: 1.11\n",
            "Iteration: 500/782, Loss: 1.19\n",
            "Epoch: 45/150, Test acc: 52.93, Train acc: 63.41\n",
            "Iteration: 0/782, Loss: 1.05\n",
            "Iteration: 500/782, Loss: 1.23\n",
            "Epoch: 46/150, Test acc: 53.22, Train acc: 63.75\n",
            "Iteration: 0/782, Loss: 1.10\n",
            "Iteration: 500/782, Loss: 1.17\n",
            "Epoch: 47/150, Test acc: 53.32, Train acc: 64.14\n",
            "Iteration: 0/782, Loss: 1.12\n",
            "Iteration: 500/782, Loss: 1.06\n",
            "Epoch: 48/150, Test acc: 53.43, Train acc: 64.28\n",
            "Iteration: 0/782, Loss: 1.08\n",
            "Iteration: 500/782, Loss: 1.26\n",
            "Epoch: 49/150, Test acc: 53.39, Train acc: 64.78\n",
            "Iteration: 0/782, Loss: 1.06\n",
            "Iteration: 500/782, Loss: 1.24\n",
            "Epoch: 50/150, Test acc: 53.67, Train acc: 64.74\n",
            "Iteration: 0/782, Loss: 1.06\n",
            "Iteration: 500/782, Loss: 1.11\n",
            "Epoch: 51/150, Test acc: 53.85, Train acc: 65.35\n",
            "Iteration: 0/782, Loss: 1.01\n",
            "Iteration: 500/782, Loss: 1.14\n",
            "Epoch: 52/150, Test acc: 53.82, Train acc: 65.62\n",
            "Iteration: 0/782, Loss: 1.00\n",
            "Iteration: 500/782, Loss: 1.07\n",
            "Epoch: 53/150, Test acc: 53.45, Train acc: 65.74\n",
            "Iteration: 0/782, Loss: 1.04\n",
            "Iteration: 500/782, Loss: 1.16\n",
            "Epoch: 54/150, Test acc: 53.93, Train acc: 66.31\n",
            "Iteration: 0/782, Loss: 0.95\n",
            "Iteration: 500/782, Loss: 1.10\n",
            "Epoch: 55/150, Test acc: 53.88, Train acc: 66.39\n",
            "Iteration: 0/782, Loss: 0.94\n",
            "Iteration: 500/782, Loss: 1.08\n",
            "Epoch: 56/150, Test acc: 54.13, Train acc: 66.78\n",
            "Iteration: 0/782, Loss: 0.96\n",
            "Iteration: 500/782, Loss: 0.94\n",
            "Epoch: 57/150, Test acc: 53.82, Train acc: 66.95\n",
            "Iteration: 0/782, Loss: 1.07\n",
            "Iteration: 500/782, Loss: 1.07\n",
            "Epoch: 58/150, Test acc: 53.06, Train acc: 66.99\n",
            "Iteration: 0/782, Loss: 0.98\n",
            "Iteration: 500/782, Loss: 1.13\n",
            "Epoch: 59/150, Test acc: 53.87, Train acc: 67.46\n",
            "Iteration: 0/782, Loss: 1.07\n",
            "Iteration: 500/782, Loss: 1.09\n",
            "Epoch: 60/150, Test acc: 54.45, Train acc: 67.93\n",
            "Iteration: 0/782, Loss: 0.95\n",
            "Iteration: 500/782, Loss: 0.98\n",
            "Epoch: 61/150, Test acc: 54.02, Train acc: 68.03\n",
            "Iteration: 0/782, Loss: 0.98\n",
            "Iteration: 500/782, Loss: 1.02\n",
            "Epoch: 62/150, Test acc: 54.36, Train acc: 68.33\n",
            "Iteration: 0/782, Loss: 0.99\n",
            "Iteration: 500/782, Loss: 1.10\n",
            "Epoch: 63/150, Test acc: 54.09, Train acc: 68.58\n",
            "Iteration: 0/782, Loss: 0.92\n",
            "Iteration: 500/782, Loss: 1.04\n",
            "Epoch: 64/150, Test acc: 53.77, Train acc: 68.99\n",
            "Iteration: 0/782, Loss: 1.00\n",
            "Iteration: 500/782, Loss: 1.04\n",
            "Epoch: 65/150, Test acc: 54.79, Train acc: 69.12\n",
            "Iteration: 0/782, Loss: 0.95\n",
            "Iteration: 500/782, Loss: 0.95\n",
            "Epoch: 66/150, Test acc: 54.25, Train acc: 69.38\n",
            "Iteration: 0/782, Loss: 1.01\n",
            "Iteration: 500/782, Loss: 0.90\n",
            "Epoch: 67/150, Test acc: 53.71, Train acc: 69.65\n",
            "Iteration: 0/782, Loss: 0.98\n",
            "Iteration: 500/782, Loss: 0.97\n",
            "Epoch: 68/150, Test acc: 54.20, Train acc: 70.31\n",
            "Iteration: 0/782, Loss: 0.97\n",
            "Iteration: 500/782, Loss: 0.95\n",
            "Epoch: 69/150, Test acc: 53.72, Train acc: 70.06\n",
            "Iteration: 0/782, Loss: 0.85\n",
            "Iteration: 500/782, Loss: 0.96\n",
            "Epoch: 70/150, Test acc: 54.27, Train acc: 70.87\n",
            "Iteration: 0/782, Loss: 0.92\n",
            "Iteration: 500/782, Loss: 0.92\n",
            "Epoch: 71/150, Test acc: 53.84, Train acc: 70.67\n",
            "Iteration: 0/782, Loss: 0.97\n",
            "Iteration: 500/782, Loss: 0.96\n",
            "Epoch: 72/150, Test acc: 54.65, Train acc: 71.16\n",
            "Iteration: 0/782, Loss: 1.00\n",
            "Iteration: 500/782, Loss: 0.94\n",
            "Epoch: 73/150, Test acc: 53.56, Train acc: 71.20\n",
            "Iteration: 0/782, Loss: 0.90\n",
            "Iteration: 500/782, Loss: 0.82\n",
            "Epoch: 74/150, Test acc: 54.26, Train acc: 71.34\n",
            "Iteration: 0/782, Loss: 0.82\n",
            "Iteration: 500/782, Loss: 0.94\n",
            "Epoch: 75/150, Test acc: 53.68, Train acc: 71.58\n",
            "Iteration: 0/782, Loss: 0.98\n",
            "Iteration: 500/782, Loss: 0.90\n",
            "Epoch: 76/150, Test acc: 53.69, Train acc: 72.03\n",
            "Iteration: 0/782, Loss: 1.02\n",
            "Iteration: 500/782, Loss: 0.84\n",
            "Epoch: 77/150, Test acc: 54.78, Train acc: 72.21\n",
            "Iteration: 0/782, Loss: 0.84\n",
            "Iteration: 500/782, Loss: 0.79\n",
            "Epoch: 78/150, Test acc: 54.24, Train acc: 72.67\n",
            "Iteration: 0/782, Loss: 0.81\n",
            "Iteration: 500/782, Loss: 0.73\n",
            "Epoch: 79/150, Test acc: 54.33, Train acc: 72.77\n",
            "Iteration: 0/782, Loss: 0.83\n",
            "Iteration: 500/782, Loss: 0.93\n",
            "Epoch: 80/150, Test acc: 54.02, Train acc: 72.73\n",
            "Iteration: 0/782, Loss: 0.70\n",
            "Iteration: 500/782, Loss: 0.82\n",
            "Epoch: 81/150, Test acc: 54.07, Train acc: 73.38\n",
            "Iteration: 0/782, Loss: 0.77\n",
            "Iteration: 500/782, Loss: 0.93\n",
            "Epoch: 82/150, Test acc: 54.62, Train acc: 73.34\n",
            "Iteration: 0/782, Loss: 0.85\n",
            "Iteration: 500/782, Loss: 0.80\n",
            "Epoch: 83/150, Test acc: 54.71, Train acc: 73.90\n",
            "Iteration: 0/782, Loss: 0.69\n",
            "Iteration: 500/782, Loss: 0.82\n",
            "Epoch: 84/150, Test acc: 54.28, Train acc: 73.56\n",
            "Iteration: 0/782, Loss: 0.82\n",
            "Iteration: 500/782, Loss: 0.79\n",
            "Epoch: 85/150, Test acc: 53.58, Train acc: 74.04\n",
            "Iteration: 0/782, Loss: 0.65\n",
            "Iteration: 500/782, Loss: 0.81\n",
            "Epoch: 86/150, Test acc: 54.37, Train acc: 74.49\n",
            "Iteration: 0/782, Loss: 0.73\n",
            "Iteration: 500/782, Loss: 0.79\n",
            "Epoch: 87/150, Test acc: 53.39, Train acc: 74.32\n",
            "Iteration: 0/782, Loss: 0.76\n",
            "Iteration: 500/782, Loss: 0.81\n",
            "Epoch: 88/150, Test acc: 54.19, Train acc: 74.98\n",
            "Iteration: 0/782, Loss: 0.64\n",
            "Iteration: 500/782, Loss: 0.71\n",
            "Epoch: 89/150, Test acc: 54.31, Train acc: 74.86\n",
            "Iteration: 0/782, Loss: 0.72\n",
            "Iteration: 500/782, Loss: 0.82\n",
            "Epoch: 90/150, Test acc: 53.60, Train acc: 74.96\n",
            "Iteration: 0/782, Loss: 0.82\n",
            "Iteration: 500/782, Loss: 0.65\n",
            "Epoch: 91/150, Test acc: 54.28, Train acc: 75.07\n",
            "Iteration: 0/782, Loss: 0.78\n",
            "Iteration: 500/782, Loss: 0.71\n",
            "Epoch: 92/150, Test acc: 54.34, Train acc: 75.37\n",
            "Iteration: 0/782, Loss: 0.85\n",
            "Iteration: 500/782, Loss: 0.69\n",
            "Epoch: 93/150, Test acc: 54.22, Train acc: 76.01\n",
            "Iteration: 0/782, Loss: 0.68\n",
            "Iteration: 500/782, Loss: 0.65\n",
            "Epoch: 94/150, Test acc: 54.09, Train acc: 76.14\n",
            "Iteration: 0/782, Loss: 0.79\n",
            "Iteration: 500/782, Loss: 0.74\n",
            "Epoch: 95/150, Test acc: 54.88, Train acc: 76.34\n",
            "Iteration: 0/782, Loss: 0.68\n",
            "Iteration: 500/782, Loss: 0.84\n",
            "Epoch: 96/150, Test acc: 54.38, Train acc: 76.32\n",
            "Iteration: 0/782, Loss: 0.71\n",
            "Iteration: 500/782, Loss: 0.71\n",
            "Epoch: 97/150, Test acc: 53.95, Train acc: 76.71\n",
            "Iteration: 0/782, Loss: 0.73\n",
            "Iteration: 500/782, Loss: 0.77\n",
            "Epoch: 98/150, Test acc: 54.68, Train acc: 76.83\n",
            "Iteration: 0/782, Loss: 0.60\n",
            "Iteration: 500/782, Loss: 0.87\n",
            "Epoch: 99/150, Test acc: 53.56, Train acc: 76.56\n",
            "Iteration: 0/782, Loss: 0.64\n",
            "Iteration: 500/782, Loss: 0.76\n",
            "Epoch: 100/150, Test acc: 53.74, Train acc: 77.07\n",
            "Iteration: 0/782, Loss: 0.58\n",
            "Iteration: 500/782, Loss: 0.80\n",
            "Epoch: 101/150, Test acc: 53.96, Train acc: 77.25\n",
            "Iteration: 0/782, Loss: 0.77\n",
            "Iteration: 500/782, Loss: 0.72\n",
            "Epoch: 102/150, Test acc: 54.54, Train acc: 77.05\n",
            "Iteration: 0/782, Loss: 0.65\n",
            "Iteration: 500/782, Loss: 0.66\n",
            "Epoch: 103/150, Test acc: 53.98, Train acc: 78.00\n",
            "Iteration: 0/782, Loss: 0.67\n",
            "Iteration: 500/782, Loss: 0.55\n",
            "Epoch: 104/150, Test acc: 53.84, Train acc: 77.52\n",
            "Iteration: 0/782, Loss: 0.54\n",
            "Iteration: 500/782, Loss: 0.79\n",
            "Epoch: 105/150, Test acc: 53.77, Train acc: 77.95\n",
            "Iteration: 0/782, Loss: 0.70\n",
            "Iteration: 500/782, Loss: 0.71\n",
            "Epoch: 106/150, Test acc: 54.25, Train acc: 78.24\n",
            "Iteration: 0/782, Loss: 0.60\n",
            "Iteration: 500/782, Loss: 0.64\n",
            "Epoch: 107/150, Test acc: 54.00, Train acc: 78.33\n",
            "Iteration: 0/782, Loss: 0.70\n",
            "Iteration: 500/782, Loss: 0.62\n",
            "Epoch: 108/150, Test acc: 53.52, Train acc: 78.17\n",
            "Iteration: 0/782, Loss: 0.52\n",
            "Iteration: 500/782, Loss: 0.67\n",
            "Epoch: 109/150, Test acc: 54.12, Train acc: 78.71\n",
            "Iteration: 0/782, Loss: 0.50\n",
            "Iteration: 500/782, Loss: 0.67\n",
            "Epoch: 110/150, Test acc: 54.15, Train acc: 78.86\n",
            "Iteration: 0/782, Loss: 0.58\n",
            "Iteration: 500/782, Loss: 0.61\n",
            "Epoch: 111/150, Test acc: 53.91, Train acc: 78.95\n",
            "Iteration: 0/782, Loss: 0.58\n",
            "Iteration: 500/782, Loss: 0.56\n",
            "Epoch: 112/150, Test acc: 54.26, Train acc: 79.16\n",
            "Iteration: 0/782, Loss: 0.66\n",
            "Iteration: 500/782, Loss: 0.68\n",
            "Epoch: 113/150, Test acc: 53.85, Train acc: 79.43\n",
            "Iteration: 0/782, Loss: 0.51\n",
            "Iteration: 500/782, Loss: 0.52\n",
            "Epoch: 114/150, Test acc: 53.28, Train acc: 79.52\n",
            "Iteration: 0/782, Loss: 0.74\n",
            "Iteration: 500/782, Loss: 0.50\n",
            "Epoch: 115/150, Test acc: 53.41, Train acc: 79.52\n",
            "Iteration: 0/782, Loss: 0.53\n",
            "Iteration: 500/782, Loss: 0.50\n",
            "Epoch: 116/150, Test acc: 53.60, Train acc: 79.99\n",
            "Iteration: 0/782, Loss: 0.75\n",
            "Iteration: 500/782, Loss: 0.59\n",
            "Epoch: 117/150, Test acc: 54.35, Train acc: 79.98\n",
            "Iteration: 0/782, Loss: 0.58\n",
            "Iteration: 500/782, Loss: 0.57\n",
            "Epoch: 118/150, Test acc: 54.03, Train acc: 79.98\n",
            "Iteration: 0/782, Loss: 0.52\n",
            "Iteration: 500/782, Loss: 0.64\n",
            "Epoch: 119/150, Test acc: 53.71, Train acc: 80.17\n",
            "Iteration: 0/782, Loss: 0.65\n",
            "Iteration: 500/782, Loss: 0.54\n",
            "Epoch: 120/150, Test acc: 53.50, Train acc: 80.20\n",
            "Iteration: 0/782, Loss: 0.60\n",
            "Iteration: 500/782, Loss: 0.51\n",
            "Epoch: 121/150, Test acc: 53.95, Train acc: 80.54\n",
            "Iteration: 0/782, Loss: 0.38\n",
            "Iteration: 500/782, Loss: 0.63\n",
            "Epoch: 122/150, Test acc: 53.01, Train acc: 80.54\n",
            "Iteration: 0/782, Loss: 0.47\n",
            "Iteration: 500/782, Loss: 0.48\n",
            "Epoch: 123/150, Test acc: 54.36, Train acc: 80.80\n",
            "Iteration: 0/782, Loss: 0.57\n",
            "Iteration: 500/782, Loss: 0.44\n",
            "Epoch: 124/150, Test acc: 53.54, Train acc: 80.98\n",
            "Iteration: 0/782, Loss: 0.56\n",
            "Iteration: 500/782, Loss: 0.49\n",
            "Epoch: 125/150, Test acc: 54.25, Train acc: 81.51\n",
            "Iteration: 0/782, Loss: 0.52\n",
            "Iteration: 500/782, Loss: 0.52\n",
            "Epoch: 126/150, Test acc: 53.13, Train acc: 81.46\n",
            "Iteration: 0/782, Loss: 0.46\n",
            "Iteration: 500/782, Loss: 0.47\n",
            "Epoch: 127/150, Test acc: 53.33, Train acc: 81.90\n",
            "Iteration: 0/782, Loss: 0.62\n",
            "Iteration: 500/782, Loss: 0.72\n",
            "Epoch: 128/150, Test acc: 53.77, Train acc: 81.67\n",
            "Iteration: 0/782, Loss: 0.51\n",
            "Iteration: 500/782, Loss: 0.49\n",
            "Epoch: 129/150, Test acc: 53.54, Train acc: 81.70\n",
            "Iteration: 0/782, Loss: 0.41\n",
            "Iteration: 500/782, Loss: 0.64\n",
            "Epoch: 130/150, Test acc: 53.80, Train acc: 81.71\n",
            "Iteration: 0/782, Loss: 0.50\n",
            "Iteration: 500/782, Loss: 0.34\n",
            "Epoch: 131/150, Test acc: 53.41, Train acc: 81.76\n",
            "Iteration: 0/782, Loss: 0.53\n",
            "Iteration: 500/782, Loss: 0.62\n",
            "Epoch: 132/150, Test acc: 53.84, Train acc: 82.02\n",
            "Iteration: 0/782, Loss: 0.65\n",
            "Iteration: 500/782, Loss: 0.46\n",
            "Epoch: 133/150, Test acc: 53.52, Train acc: 82.20\n",
            "Iteration: 0/782, Loss: 0.47\n",
            "Iteration: 500/782, Loss: 0.43\n",
            "Epoch: 134/150, Test acc: 53.74, Train acc: 82.39\n",
            "Iteration: 0/782, Loss: 0.55\n",
            "Iteration: 500/782, Loss: 0.53\n",
            "Epoch: 135/150, Test acc: 53.88, Train acc: 82.35\n",
            "Iteration: 0/782, Loss: 0.46\n",
            "Iteration: 500/782, Loss: 0.45\n",
            "Epoch: 136/150, Test acc: 53.49, Train acc: 82.88\n",
            "Iteration: 0/782, Loss: 0.36\n",
            "Iteration: 500/782, Loss: 0.40\n",
            "Epoch: 137/150, Test acc: 53.78, Train acc: 82.70\n",
            "Iteration: 0/782, Loss: 0.43\n",
            "Iteration: 500/782, Loss: 0.50\n",
            "Epoch: 138/150, Test acc: 53.73, Train acc: 82.65\n",
            "Iteration: 0/782, Loss: 0.40\n",
            "Iteration: 500/782, Loss: 0.63\n",
            "Epoch: 139/150, Test acc: 53.46, Train acc: 82.97\n",
            "Iteration: 0/782, Loss: 0.51\n",
            "Iteration: 500/782, Loss: 0.46\n",
            "Epoch: 140/150, Test acc: 53.81, Train acc: 83.10\n",
            "Iteration: 0/782, Loss: 0.47\n",
            "Iteration: 500/782, Loss: 0.35\n",
            "Epoch: 141/150, Test acc: 53.73, Train acc: 83.08\n",
            "Iteration: 0/782, Loss: 0.51\n",
            "Iteration: 500/782, Loss: 0.63\n",
            "Epoch: 142/150, Test acc: 53.66, Train acc: 83.34\n",
            "Iteration: 0/782, Loss: 0.58\n",
            "Iteration: 500/782, Loss: 0.46\n",
            "Epoch: 143/150, Test acc: 53.47, Train acc: 83.47\n",
            "Iteration: 0/782, Loss: 0.40\n",
            "Iteration: 500/782, Loss: 0.47\n",
            "Epoch: 144/150, Test acc: 53.19, Train acc: 83.35\n",
            "Iteration: 0/782, Loss: 0.54\n",
            "Iteration: 500/782, Loss: 0.42\n",
            "Epoch: 145/150, Test acc: 53.42, Train acc: 83.59\n",
            "Iteration: 0/782, Loss: 0.47\n",
            "Iteration: 500/782, Loss: 0.42\n",
            "Epoch: 146/150, Test acc: 53.38, Train acc: 83.75\n",
            "Iteration: 0/782, Loss: 0.42\n",
            "Iteration: 500/782, Loss: 0.45\n",
            "Epoch: 147/150, Test acc: 53.84, Train acc: 83.73\n",
            "Iteration: 0/782, Loss: 0.45\n",
            "Iteration: 500/782, Loss: 0.51\n",
            "Epoch: 148/150, Test acc: 53.91, Train acc: 84.22\n",
            "Iteration: 0/782, Loss: 0.39\n",
            "Iteration: 500/782, Loss: 0.41\n",
            "Epoch: 149/150, Test acc: 53.25, Train acc: 84.00\n",
            "Iteration: 0/782, Loss: 0.34\n",
            "Iteration: 500/782, Loss: 0.51\n",
            "Epoch: 150/150, Test acc: 54.03, Train acc: 84.22\n"
          ],
          "name": "stdout"
        }
      ]
    },
    {
      "cell_type": "code",
      "metadata": {
        "colab": {
          "base_uri": "https://localhost:8080/",
          "height": 295
        },
        "id": "5HPpT8Naka9J",
        "outputId": "6b9c1054-45c7-4ef2-83c6-aa46c29d5eb6"
      },
      "source": [
        "import matplotlib.pyplot as plt\n",
        "\n",
        "fig, ax = plt.subplots()\n",
        "\n",
        "ax.plot(train_acc_PCA_95_MLP,label='Train')\n",
        "ax.plot(val_acc_PCA_95_MLP, label='Validation')\n",
        "\n",
        "plt.title(\"Accuracy Curves(PCA (95% variance) +MLP)\")\n",
        "plt.xlabel(\"Epoch\")\n",
        "plt.ylabel(\"Accuracy\")\n",
        "leg = ax.legend();\n",
        "\n",
        "plt.savefig(\"Accuracy curves\")"
      ],
      "execution_count": null,
      "outputs": [
        {
          "output_type": "display_data",
          "data": {
            "image/png": "[encoded data removed]",
            "text/plain": [
              "<Figure size 432x288 with 1 Axes>"
            ]
          },
          "metadata": {
            "tags": [],
            "needs_background": "light"
          }
        }
      ]
    },
    {
      "cell_type": "code",
      "metadata": {
        "colab": {
          "base_uri": "https://localhost:8080/",
          "height": 295
        },
        "id": "qZ25rhEtka9L",
        "outputId": "1b11983e-6c30-44d1-b8a9-dd1ba5983966"
      },
      "source": [
        "plt.plot(loss_epoch_arr_PCA_95_MLP)\n",
        "plt.title(\"Loss Curve(PCA (95% variance) +MLP)\")\n",
        "plt.xlabel(\"Epoch\")\n",
        "plt.ylabel(\"Loss\")\n",
        "\n",
        "plt.show()"
      ],
      "execution_count": null,
      "outputs": [
        {
          "output_type": "display_data",
          "data": {
            "image/png": "[encoded data removed]",
            "text/plain": [
              "<Figure size 432x288 with 1 Axes>"
            ]
          },
          "metadata": {
            "tags": [],
            "needs_background": "light"
          }
        }
      ]
    },
    {
      "cell_type": "markdown",
      "metadata": {
        "id": "a_-h5qViiIMb"
      },
      "source": [
        "## Train CIFAR10  PCA (99 % Variance) + MLP"
      ]
    },
    {
      "cell_type": "code",
      "metadata": {
        "id": "uCLgR9GDiPZq"
      },
      "source": [
        "import tensorflow as tf\n",
        "from sklearn.decomposition import PCA\n",
        "(x_train, y_train), (x_test, y_test)  = tf.keras.datasets.cifar10.load_data()\n",
        "x_train = x_train.reshape(50000, 32*32*3)\n",
        "x_test = x_test.reshape(10000, 32*32*3)\n",
        "x_train = x_train.astype('float32')\n",
        "x_test = x_test.astype('float32')\n",
        "x_train /= 255\n",
        "x_test /= 255"
      ],
      "execution_count": null,
      "outputs": []
    },
    {
      "cell_type": "code",
      "metadata": {
        "id": "YKloGl2wiPZq"
      },
      "source": [
        "pca = PCA(0.99)\n",
        "pca_result = pca.fit(x_train)"
      ],
      "execution_count": null,
      "outputs": []
    },
    {
      "cell_type": "code",
      "metadata": {
        "colab": {
          "base_uri": "https://localhost:8080/"
        },
        "id": "yGsY6yYciPZr",
        "outputId": "ce406866-2c87-4bf3-d409-2d6ad7c7b169"
      },
      "source": [
        "pca.n_components_"
      ],
      "execution_count": null,
      "outputs": [
        {
          "output_type": "execute_result",
          "data": {
            "text/plain": [
              "658"
            ]
          },
          "metadata": {
            "tags": []
          },
          "execution_count": 233
        }
      ]
    },
    {
      "cell_type": "code",
      "metadata": {
        "id": "8mbrpWwmiPZr"
      },
      "source": [
        "PCA_train = pca.transform(x_train)\n",
        "PCA_test = pca.transform(x_test)"
      ],
      "execution_count": null,
      "outputs": []
    },
    {
      "cell_type": "code",
      "metadata": {
        "id": "0b8DGHobiPZr"
      },
      "source": [
        "PCA_train = torch.FloatTensor(PCA_train)\n",
        "PCA_test = torch.FloatTensor(PCA_test)\n",
        "y_train = torch.LongTensor(y_train)\n",
        "y_test = torch.LongTensor(y_test)"
      ],
      "execution_count": null,
      "outputs": []
    },
    {
      "cell_type": "code",
      "metadata": {
        "id": "Ps2lR7AoiPZs"
      },
      "source": [
        "from torch.utils.data import TensorDataset, DataLoader\n",
        "train_dataset = TensorDataset(PCA_train,y_train) # create your datset\n",
        "test_dataset = TensorDataset(PCA_test,y_test) # create your datset\n",
        "trainloader = DataLoader(train_dataset,batch_size= 64) # create your dataloader\n",
        "testloader = DataLoader(test_dataset,batch_size= 64) # create your dataloader"
      ],
      "execution_count": null,
      "outputs": []
    },
    {
      "cell_type": "code",
      "metadata": {
        "id": "JF5MuZVMiPZs"
      },
      "source": [
        "class ANN(nn.Module):\n",
        "  def __init__(self):\n",
        "      super().__init__()\n",
        "      self.fc_model = nn.Sequential(\n",
        "          nn.Linear(pca.n_components_,512),         # (N, 3072*2) -> (N, 512)\n",
        "          nn.ReLU(),\n",
        "          nn.Dropout(0.25),\n",
        "          nn.Linear(512,512),             # (N, 512) -> (N, 512)\n",
        "          nn.ReLU(),\n",
        "          nn.Dropout(0.25),\n",
        "          nn.Linear(512,256),          # (N, 512) -> (N, 256)\n",
        "          nn.Linear(256,10)            # (N, 256)  -> (N, 10)\n",
        "      )\n",
        "      \n",
        "  def forward(self, x):\n",
        "      x = self.fc_model(x)\n",
        "      return x"
      ],
      "execution_count": null,
      "outputs": []
    },
    {
      "cell_type": "code",
      "metadata": {
        "colab": {
          "base_uri": "https://localhost:8080/"
        },
        "id": "soGQWRVriPZs",
        "outputId": "cb2a3b15-78c3-485e-c937-2135ba0c1a20"
      },
      "source": [
        "net = ANN().to(device)\n",
        "net"
      ],
      "execution_count": null,
      "outputs": [
        {
          "output_type": "execute_result",
          "data": {
            "text/plain": [
              "ANN(\n",
              "  (fc_model): Sequential(\n",
              "    (0): Linear(in_features=658, out_features=512, bias=True)\n",
              "    (1): ReLU()\n",
              "    (2): Dropout(p=0.25, inplace=False)\n",
              "    (3): Linear(in_features=512, out_features=512, bias=True)\n",
              "    (4): ReLU()\n",
              "    (5): Dropout(p=0.25, inplace=False)\n",
              "    (6): Linear(in_features=512, out_features=256, bias=True)\n",
              "    (7): Linear(in_features=256, out_features=10, bias=True)\n",
              "  )\n",
              ")"
            ]
          },
          "metadata": {
            "tags": []
          },
          "execution_count": 238
        }
      ]
    },
    {
      "cell_type": "code",
      "metadata": {
        "id": "4tPQBszqyMQh"
      },
      "source": [
        "from torchsummary import summary\n",
        "net = Net().to(device)\n",
        "print(summary(net, (3, 32, 32)))\n"
      ],
      "execution_count": null,
      "outputs": []
    },
    {
      "cell_type": "code",
      "metadata": {
        "id": "sdtcDvVZiPZs"
      },
      "source": [
        "loss_fn = nn.CrossEntropyLoss()\n",
        "opt = torch.optim.SGD(net.parameters(), lr=0.01)"
      ],
      "execution_count": null,
      "outputs": []
    },
    {
      "cell_type": "code",
      "metadata": {
        "id": "FakurANPiPZs"
      },
      "source": [
        "def evaluation(dataloader,model):\n",
        "  total , correct = 0,0\n",
        "  for data in dataloader:\n",
        "    inputs,labels = data\n",
        "    inputs,labels = inputs.to(device),labels.to(device)\n",
        "    outputs = model(inputs)\n",
        "    _,pred = torch.max(outputs.data,1)\n",
        "    total += labels.size(0)\n",
        "    # print(\"pred\",pred )\n",
        "    # print(\"labels\",labels.squeeze(1))\n",
        "    correct += (pred == labels.squeeze(1)).sum().item()\n",
        "  return 100 * correct / total\n"
      ],
      "execution_count": null,
      "outputs": []
    },
    {
      "cell_type": "code",
      "metadata": {
        "colab": {
          "base_uri": "https://localhost:8080/"
        },
        "id": "0_yqhu-NiPZt",
        "outputId": "abe514ff-33cf-4762-b459-934088fe544f"
      },
      "source": [
        "# Training Loop\n",
        "\n",
        "loss_epoch_arr_PCA_99_MLP = []\n",
        "max_epochs = 150\n",
        "train_acc_PCA_99_MLP = []\n",
        "val_acc_PCA_99_MLP = []\n",
        "\n",
        "n_iters = np.ceil(50000/batch_size)\n",
        "\n",
        "for epoch in range(max_epochs):\n",
        "\n",
        "    for i, data in enumerate(trainloader, 0):\n",
        "\n",
        "        inputs, labels = data\n",
        "        inputs, labels = inputs.to(device), labels.to(device)\n",
        "\n",
        "        opt.zero_grad()\n",
        "\n",
        "        outputs = net(inputs)\n",
        "\n",
        "        loss = loss_fn(outputs, labels.squeeze(1))\n",
        "        loss.backward()\n",
        "        opt.step()\n",
        "\n",
        "        \n",
        "        del inputs, labels, outputs\n",
        "        torch.cuda.empty_cache()\n",
        "        \n",
        "        if i % 500 == 0:\n",
        "            print('Iteration: %d/%d, Loss: %0.2f' % (i, n_iters, loss.item()))\n",
        "        \n",
        "    loss_epoch_arr_PCA_99_MLP.append(loss.item())\n",
        "    train_acc_PCA_99_MLP.append(evaluation(trainloader, net))\n",
        "    val_acc_PCA_99_MLP.append(evaluation(testloader, net))\n",
        "\n",
        "        \n",
        "    print('Epoch: %d/%d, Test acc: %0.2f, Train acc: %0.2f' % (\n",
        "        epoch + 1, max_epochs, \n",
        "        evaluation(testloader, net), evaluation(trainloader, net)))"
      ],
      "execution_count": null,
      "outputs": [
        {
          "output_type": "stream",
          "text": [
            "Iteration: 0/782, Loss: 2.31\n",
            "Iteration: 500/782, Loss: 2.20\n",
            "Epoch: 1/150, Test acc: 26.31, Train acc: 25.44\n",
            "Iteration: 0/782, Loss: 2.13\n",
            "Iteration: 500/782, Loss: 2.04\n",
            "Epoch: 2/150, Test acc: 31.10, Train acc: 30.85\n",
            "Iteration: 0/782, Loss: 2.01\n",
            "Iteration: 500/782, Loss: 1.94\n",
            "Epoch: 3/150, Test acc: 35.51, Train acc: 35.67\n",
            "Iteration: 0/782, Loss: 1.88\n",
            "Iteration: 500/782, Loss: 1.82\n",
            "Epoch: 4/150, Test acc: 38.69, Train acc: 38.51\n",
            "Iteration: 0/782, Loss: 1.70\n",
            "Iteration: 500/782, Loss: 1.79\n",
            "Epoch: 5/150, Test acc: 40.62, Train acc: 40.83\n",
            "Iteration: 0/782, Loss: 1.63\n",
            "Iteration: 500/782, Loss: 1.70\n",
            "Epoch: 6/150, Test acc: 42.83, Train acc: 42.66\n",
            "Iteration: 0/782, Loss: 1.63\n",
            "Iteration: 500/782, Loss: 1.74\n",
            "Epoch: 7/150, Test acc: 43.89, Train acc: 44.33\n",
            "Iteration: 0/782, Loss: 1.61\n",
            "Iteration: 500/782, Loss: 1.71\n",
            "Epoch: 8/150, Test acc: 44.94, Train acc: 45.66\n",
            "Iteration: 0/782, Loss: 1.55\n",
            "Iteration: 500/782, Loss: 1.60\n",
            "Epoch: 9/150, Test acc: 46.29, Train acc: 47.04\n",
            "Iteration: 0/782, Loss: 1.52\n",
            "Iteration: 500/782, Loss: 1.60\n",
            "Epoch: 10/150, Test acc: 47.00, Train acc: 48.07\n",
            "Iteration: 0/782, Loss: 1.43\n",
            "Iteration: 500/782, Loss: 1.57\n",
            "Epoch: 11/150, Test acc: 47.72, Train acc: 48.98\n",
            "Iteration: 0/782, Loss: 1.44\n",
            "Iteration: 500/782, Loss: 1.62\n",
            "Epoch: 12/150, Test acc: 48.21, Train acc: 50.24\n",
            "Iteration: 0/782, Loss: 1.42\n",
            "Iteration: 500/782, Loss: 1.58\n",
            "Epoch: 13/150, Test acc: 48.69, Train acc: 51.11\n",
            "Iteration: 0/782, Loss: 1.46\n",
            "Iteration: 500/782, Loss: 1.60\n",
            "Epoch: 14/150, Test acc: 49.41, Train acc: 52.06\n",
            "Iteration: 0/782, Loss: 1.39\n",
            "Iteration: 500/782, Loss: 1.54\n",
            "Epoch: 15/150, Test acc: 49.88, Train acc: 52.71\n",
            "Iteration: 0/782, Loss: 1.41\n",
            "Iteration: 500/782, Loss: 1.55\n",
            "Epoch: 16/150, Test acc: 49.91, Train acc: 53.47\n",
            "Iteration: 0/782, Loss: 1.35\n",
            "Iteration: 500/782, Loss: 1.48\n",
            "Epoch: 17/150, Test acc: 50.29, Train acc: 54.06\n",
            "Iteration: 0/782, Loss: 1.37\n",
            "Iteration: 500/782, Loss: 1.44\n",
            "Epoch: 18/150, Test acc: 50.89, Train acc: 55.05\n",
            "Iteration: 0/782, Loss: 1.25\n",
            "Iteration: 500/782, Loss: 1.46\n",
            "Epoch: 19/150, Test acc: 50.66, Train acc: 55.43\n",
            "Iteration: 0/782, Loss: 1.29\n",
            "Iteration: 500/782, Loss: 1.43\n",
            "Epoch: 20/150, Test acc: 51.16, Train acc: 56.31\n",
            "Iteration: 0/782, Loss: 1.28\n",
            "Iteration: 500/782, Loss: 1.47\n",
            "Epoch: 21/150, Test acc: 51.28, Train acc: 57.16\n",
            "Iteration: 0/782, Loss: 1.23\n",
            "Iteration: 500/782, Loss: 1.37\n",
            "Epoch: 22/150, Test acc: 51.48, Train acc: 57.31\n",
            "Iteration: 0/782, Loss: 1.21\n",
            "Iteration: 500/782, Loss: 1.30\n",
            "Epoch: 23/150, Test acc: 51.32, Train acc: 58.16\n",
            "Iteration: 0/782, Loss: 1.22\n",
            "Iteration: 500/782, Loss: 1.41\n",
            "Epoch: 24/150, Test acc: 51.85, Train acc: 58.66\n",
            "Iteration: 0/782, Loss: 1.25\n",
            "Iteration: 500/782, Loss: 1.33\n",
            "Epoch: 25/150, Test acc: 52.32, Train acc: 59.50\n",
            "Iteration: 0/782, Loss: 1.14\n",
            "Iteration: 500/782, Loss: 1.39\n",
            "Epoch: 26/150, Test acc: 52.21, Train acc: 59.69\n",
            "Iteration: 0/782, Loss: 1.16\n",
            "Iteration: 500/782, Loss: 1.24\n",
            "Epoch: 27/150, Test acc: 52.19, Train acc: 60.34\n",
            "Iteration: 0/782, Loss: 1.07\n",
            "Iteration: 500/782, Loss: 1.23\n",
            "Epoch: 28/150, Test acc: 52.87, Train acc: 60.76\n",
            "Iteration: 0/782, Loss: 1.13\n",
            "Iteration: 500/782, Loss: 1.31\n",
            "Epoch: 29/150, Test acc: 52.41, Train acc: 61.24\n",
            "Iteration: 0/782, Loss: 1.15\n",
            "Iteration: 500/782, Loss: 1.27\n",
            "Epoch: 30/150, Test acc: 52.82, Train acc: 61.66\n",
            "Iteration: 0/782, Loss: 1.08\n",
            "Iteration: 500/782, Loss: 1.15\n",
            "Epoch: 31/150, Test acc: 52.86, Train acc: 62.47\n",
            "Iteration: 0/782, Loss: 1.05\n",
            "Iteration: 500/782, Loss: 1.10\n",
            "Epoch: 32/150, Test acc: 53.02, Train acc: 62.94\n",
            "Iteration: 0/782, Loss: 0.97\n",
            "Iteration: 500/782, Loss: 1.20\n",
            "Epoch: 33/150, Test acc: 52.78, Train acc: 63.41\n",
            "Iteration: 0/782, Loss: 0.96\n",
            "Iteration: 500/782, Loss: 1.24\n",
            "Epoch: 34/150, Test acc: 53.33, Train acc: 63.89\n",
            "Iteration: 0/782, Loss: 1.07\n",
            "Iteration: 500/782, Loss: 1.13\n",
            "Epoch: 35/150, Test acc: 52.88, Train acc: 64.31\n",
            "Iteration: 0/782, Loss: 1.06\n",
            "Iteration: 500/782, Loss: 1.28\n",
            "Epoch: 36/150, Test acc: 53.09, Train acc: 65.14\n",
            "Iteration: 0/782, Loss: 1.04\n",
            "Iteration: 500/782, Loss: 1.13\n",
            "Epoch: 37/150, Test acc: 53.75, Train acc: 65.26\n",
            "Iteration: 0/782, Loss: 0.97\n",
            "Iteration: 500/782, Loss: 1.12\n",
            "Epoch: 38/150, Test acc: 53.70, Train acc: 65.88\n",
            "Iteration: 0/782, Loss: 0.84\n",
            "Iteration: 500/782, Loss: 1.21\n",
            "Epoch: 39/150, Test acc: 53.51, Train acc: 66.44\n",
            "Iteration: 0/782, Loss: 0.95\n",
            "Iteration: 500/782, Loss: 1.00\n",
            "Epoch: 40/150, Test acc: 53.23, Train acc: 66.55\n",
            "Iteration: 0/782, Loss: 0.81\n",
            "Iteration: 500/782, Loss: 1.15\n",
            "Epoch: 41/150, Test acc: 52.93, Train acc: 67.30\n",
            "Iteration: 0/782, Loss: 0.84\n",
            "Iteration: 500/782, Loss: 1.07\n",
            "Epoch: 42/150, Test acc: 53.44, Train acc: 67.93\n",
            "Iteration: 0/782, Loss: 0.85\n",
            "Iteration: 500/782, Loss: 1.01\n",
            "Epoch: 43/150, Test acc: 53.45, Train acc: 68.41\n",
            "Iteration: 0/782, Loss: 0.88\n",
            "Iteration: 500/782, Loss: 1.14\n",
            "Epoch: 44/150, Test acc: 53.20, Train acc: 68.27\n",
            "Iteration: 0/782, Loss: 0.84\n",
            "Iteration: 500/782, Loss: 1.02\n",
            "Epoch: 45/150, Test acc: 52.91, Train acc: 68.84\n",
            "Iteration: 0/782, Loss: 0.75\n",
            "Iteration: 500/782, Loss: 0.94\n",
            "Epoch: 46/150, Test acc: 53.32, Train acc: 69.06\n",
            "Iteration: 0/782, Loss: 0.86\n",
            "Iteration: 500/782, Loss: 0.96\n",
            "Epoch: 47/150, Test acc: 53.85, Train acc: 69.95\n",
            "Iteration: 0/782, Loss: 0.78\n",
            "Iteration: 500/782, Loss: 1.00\n",
            "Epoch: 48/150, Test acc: 53.60, Train acc: 70.36\n",
            "Iteration: 0/782, Loss: 0.84\n",
            "Iteration: 500/782, Loss: 1.11\n",
            "Epoch: 49/150, Test acc: 52.69, Train acc: 70.08\n",
            "Iteration: 0/782, Loss: 0.72\n",
            "Iteration: 500/782, Loss: 1.05\n",
            "Epoch: 50/150, Test acc: 52.99, Train acc: 71.07\n",
            "Iteration: 0/782, Loss: 0.93\n",
            "Iteration: 500/782, Loss: 1.00\n",
            "Epoch: 51/150, Test acc: 53.50, Train acc: 71.23\n",
            "Iteration: 0/782, Loss: 0.72\n",
            "Iteration: 500/782, Loss: 1.04\n",
            "Epoch: 52/150, Test acc: 53.80, Train acc: 71.91\n",
            "Iteration: 0/782, Loss: 0.68\n",
            "Iteration: 500/782, Loss: 0.85\n",
            "Epoch: 53/150, Test acc: 53.73, Train acc: 72.24\n",
            "Iteration: 0/782, Loss: 0.83\n",
            "Iteration: 500/782, Loss: 0.88\n",
            "Epoch: 54/150, Test acc: 53.68, Train acc: 72.70\n",
            "Iteration: 0/782, Loss: 0.75\n",
            "Iteration: 500/782, Loss: 0.94\n",
            "Epoch: 55/150, Test acc: 53.17, Train acc: 72.53\n",
            "Iteration: 0/782, Loss: 0.68\n",
            "Iteration: 500/782, Loss: 0.82\n",
            "Epoch: 56/150, Test acc: 53.41, Train acc: 73.32\n",
            "Iteration: 0/782, Loss: 0.63\n",
            "Iteration: 500/782, Loss: 0.85\n",
            "Epoch: 57/150, Test acc: 53.46, Train acc: 73.65\n",
            "Iteration: 0/782, Loss: 0.67\n",
            "Iteration: 500/782, Loss: 0.77\n",
            "Epoch: 58/150, Test acc: 53.17, Train acc: 73.96\n",
            "Iteration: 0/782, Loss: 0.62\n",
            "Iteration: 500/782, Loss: 0.93\n",
            "Epoch: 59/150, Test acc: 53.73, Train acc: 74.08\n",
            "Iteration: 0/782, Loss: 0.52\n",
            "Iteration: 500/782, Loss: 0.75\n",
            "Epoch: 60/150, Test acc: 53.42, Train acc: 75.10\n",
            "Iteration: 0/782, Loss: 0.69\n",
            "Iteration: 500/782, Loss: 0.98\n",
            "Epoch: 61/150, Test acc: 53.51, Train acc: 75.41\n",
            "Iteration: 0/782, Loss: 0.72\n",
            "Iteration: 500/782, Loss: 0.84\n",
            "Epoch: 62/150, Test acc: 53.70, Train acc: 75.28\n",
            "Iteration: 0/782, Loss: 0.57\n",
            "Iteration: 500/782, Loss: 0.86\n",
            "Epoch: 63/150, Test acc: 53.60, Train acc: 75.69\n",
            "Iteration: 0/782, Loss: 0.71\n",
            "Iteration: 500/782, Loss: 0.94\n",
            "Epoch: 64/150, Test acc: 53.46, Train acc: 76.16\n",
            "Iteration: 0/782, Loss: 0.55\n",
            "Iteration: 500/782, Loss: 0.60\n",
            "Epoch: 65/150, Test acc: 52.99, Train acc: 76.37\n",
            "Iteration: 0/782, Loss: 0.51\n",
            "Iteration: 500/782, Loss: 0.82\n",
            "Epoch: 66/150, Test acc: 52.79, Train acc: 76.64\n",
            "Iteration: 0/782, Loss: 0.62\n",
            "Iteration: 500/782, Loss: 0.85\n",
            "Epoch: 67/150, Test acc: 53.35, Train acc: 76.79\n",
            "Iteration: 0/782, Loss: 0.56\n",
            "Iteration: 500/782, Loss: 0.75\n",
            "Epoch: 68/150, Test acc: 52.85, Train acc: 77.13\n",
            "Iteration: 0/782, Loss: 0.59\n",
            "Iteration: 500/782, Loss: 0.79\n",
            "Epoch: 69/150, Test acc: 53.37, Train acc: 77.86\n",
            "Iteration: 0/782, Loss: 0.53\n",
            "Iteration: 500/782, Loss: 0.78\n",
            "Epoch: 70/150, Test acc: 53.05, Train acc: 77.49\n",
            "Iteration: 0/782, Loss: 0.69\n",
            "Iteration: 500/782, Loss: 0.61\n",
            "Epoch: 71/150, Test acc: 53.30, Train acc: 78.22\n",
            "Iteration: 0/782, Loss: 0.56\n",
            "Iteration: 500/782, Loss: 0.72\n",
            "Epoch: 72/150, Test acc: 52.44, Train acc: 77.66\n",
            "Iteration: 0/782, Loss: 0.59\n",
            "Iteration: 500/782, Loss: 0.72\n",
            "Epoch: 73/150, Test acc: 52.73, Train acc: 78.62\n",
            "Iteration: 0/782, Loss: 0.55\n",
            "Iteration: 500/782, Loss: 0.64\n",
            "Epoch: 74/150, Test acc: 53.30, Train acc: 79.13\n",
            "Iteration: 0/782, Loss: 0.53\n",
            "Iteration: 500/782, Loss: 0.67\n",
            "Epoch: 75/150, Test acc: 53.52, Train acc: 78.84\n",
            "Iteration: 0/782, Loss: 0.42\n",
            "Iteration: 500/782, Loss: 0.67\n",
            "Epoch: 76/150, Test acc: 53.18, Train acc: 79.46\n",
            "Iteration: 0/782, Loss: 0.47\n",
            "Iteration: 500/782, Loss: 0.66\n",
            "Epoch: 77/150, Test acc: 53.28, Train acc: 79.94\n",
            "Iteration: 0/782, Loss: 0.56\n",
            "Iteration: 500/782, Loss: 0.69\n",
            "Epoch: 78/150, Test acc: 52.94, Train acc: 79.79\n",
            "Iteration: 0/782, Loss: 0.45\n",
            "Iteration: 500/782, Loss: 0.53\n",
            "Epoch: 79/150, Test acc: 52.79, Train acc: 79.40\n",
            "Iteration: 0/782, Loss: 0.56\n",
            "Iteration: 500/782, Loss: 0.64\n",
            "Epoch: 80/150, Test acc: 52.83, Train acc: 80.71\n",
            "Iteration: 0/782, Loss: 0.44\n",
            "Iteration: 500/782, Loss: 0.70\n",
            "Epoch: 81/150, Test acc: 52.92, Train acc: 80.29\n",
            "Iteration: 0/782, Loss: 0.46\n",
            "Iteration: 500/782, Loss: 0.82\n",
            "Epoch: 82/150, Test acc: 52.42, Train acc: 80.57\n",
            "Iteration: 0/782, Loss: 0.44\n",
            "Iteration: 500/782, Loss: 0.70\n",
            "Epoch: 83/150, Test acc: 53.37, Train acc: 81.25\n",
            "Iteration: 0/782, Loss: 0.49\n",
            "Iteration: 500/782, Loss: 0.60\n",
            "Epoch: 84/150, Test acc: 52.99, Train acc: 81.13\n",
            "Iteration: 0/782, Loss: 0.46\n",
            "Iteration: 500/782, Loss: 0.60\n",
            "Epoch: 85/150, Test acc: 53.05, Train acc: 80.84\n",
            "Iteration: 0/782, Loss: 0.56\n",
            "Iteration: 500/782, Loss: 0.57\n",
            "Epoch: 86/150, Test acc: 53.00, Train acc: 81.69\n",
            "Iteration: 0/782, Loss: 0.39\n",
            "Iteration: 500/782, Loss: 0.62\n",
            "Epoch: 87/150, Test acc: 53.00, Train acc: 81.84\n",
            "Iteration: 0/782, Loss: 0.49\n",
            "Iteration: 500/782, Loss: 0.65\n",
            "Epoch: 88/150, Test acc: 52.46, Train acc: 82.19\n",
            "Iteration: 0/782, Loss: 0.40\n",
            "Iteration: 500/782, Loss: 0.58\n",
            "Epoch: 89/150, Test acc: 53.16, Train acc: 82.90\n",
            "Iteration: 0/782, Loss: 0.50\n",
            "Iteration: 500/782, Loss: 0.54\n",
            "Epoch: 90/150, Test acc: 52.41, Train acc: 82.15\n",
            "Iteration: 0/782, Loss: 0.45\n",
            "Iteration: 500/782, Loss: 0.59\n",
            "Epoch: 91/150, Test acc: 53.15, Train acc: 83.01\n",
            "Iteration: 0/782, Loss: 0.33\n",
            "Iteration: 500/782, Loss: 0.55\n",
            "Epoch: 92/150, Test acc: 52.76, Train acc: 83.45\n",
            "Iteration: 0/782, Loss: 0.43\n",
            "Iteration: 500/782, Loss: 0.64\n",
            "Epoch: 93/150, Test acc: 52.92, Train acc: 82.94\n",
            "Iteration: 0/782, Loss: 0.40\n",
            "Iteration: 500/782, Loss: 0.73\n",
            "Epoch: 94/150, Test acc: 52.65, Train acc: 83.23\n",
            "Iteration: 0/782, Loss: 0.45\n",
            "Iteration: 500/782, Loss: 0.58\n",
            "Epoch: 95/150, Test acc: 53.80, Train acc: 83.67\n",
            "Iteration: 0/782, Loss: 0.26\n",
            "Iteration: 500/782, Loss: 0.57\n",
            "Epoch: 96/150, Test acc: 52.49, Train acc: 83.39\n",
            "Iteration: 0/782, Loss: 0.42\n",
            "Iteration: 500/782, Loss: 0.50\n",
            "Epoch: 97/150, Test acc: 53.22, Train acc: 83.71\n",
            "Iteration: 0/782, Loss: 0.35\n",
            "Iteration: 500/782, Loss: 0.47\n",
            "Epoch: 98/150, Test acc: 53.24, Train acc: 83.98\n",
            "Iteration: 0/782, Loss: 0.36\n",
            "Iteration: 500/782, Loss: 0.60\n",
            "Epoch: 99/150, Test acc: 53.00, Train acc: 84.62\n",
            "Iteration: 0/782, Loss: 0.36\n",
            "Iteration: 500/782, Loss: 0.43\n",
            "Epoch: 100/150, Test acc: 52.94, Train acc: 84.62\n",
            "Iteration: 0/782, Loss: 0.43\n",
            "Iteration: 500/782, Loss: 0.40\n",
            "Epoch: 101/150, Test acc: 53.10, Train acc: 84.90\n",
            "Iteration: 0/782, Loss: 0.52\n",
            "Iteration: 500/782, Loss: 0.59\n",
            "Epoch: 102/150, Test acc: 52.68, Train acc: 84.95\n",
            "Iteration: 0/782, Loss: 0.49\n",
            "Iteration: 500/782, Loss: 0.62\n",
            "Epoch: 103/150, Test acc: 52.69, Train acc: 85.05\n",
            "Iteration: 0/782, Loss: 0.43\n",
            "Iteration: 500/782, Loss: 0.54\n",
            "Epoch: 104/150, Test acc: 52.59, Train acc: 85.28\n",
            "Iteration: 0/782, Loss: 0.35\n",
            "Iteration: 500/782, Loss: 0.43\n",
            "Epoch: 105/150, Test acc: 53.07, Train acc: 85.34\n",
            "Iteration: 0/782, Loss: 0.27\n",
            "Iteration: 500/782, Loss: 0.52\n",
            "Epoch: 106/150, Test acc: 52.98, Train acc: 85.76\n",
            "Iteration: 0/782, Loss: 0.31\n",
            "Iteration: 500/782, Loss: 0.49\n",
            "Epoch: 107/150, Test acc: 53.08, Train acc: 86.02\n",
            "Iteration: 0/782, Loss: 0.32\n",
            "Iteration: 500/782, Loss: 0.54\n",
            "Epoch: 108/150, Test acc: 52.76, Train acc: 85.99\n",
            "Iteration: 0/782, Loss: 0.29\n",
            "Iteration: 500/782, Loss: 0.46\n",
            "Epoch: 109/150, Test acc: 53.34, Train acc: 86.47\n",
            "Iteration: 0/782, Loss: 0.40\n",
            "Iteration: 500/782, Loss: 0.42\n",
            "Epoch: 110/150, Test acc: 52.47, Train acc: 86.09\n",
            "Iteration: 0/782, Loss: 0.45\n",
            "Iteration: 500/782, Loss: 0.33\n",
            "Epoch: 111/150, Test acc: 52.04, Train acc: 86.28\n",
            "Iteration: 0/782, Loss: 0.27\n",
            "Iteration: 500/782, Loss: 0.42\n",
            "Epoch: 112/150, Test acc: 52.60, Train acc: 86.70\n",
            "Iteration: 0/782, Loss: 0.42\n",
            "Iteration: 500/782, Loss: 0.40\n",
            "Epoch: 113/150, Test acc: 52.39, Train acc: 87.34\n",
            "Iteration: 0/782, Loss: 0.51\n",
            "Iteration: 500/782, Loss: 0.39\n",
            "Epoch: 114/150, Test acc: 52.73, Train acc: 86.65\n",
            "Iteration: 0/782, Loss: 0.33\n",
            "Iteration: 500/782, Loss: 0.47\n",
            "Epoch: 115/150, Test acc: 52.51, Train acc: 86.90\n",
            "Iteration: 0/782, Loss: 0.25\n",
            "Iteration: 500/782, Loss: 0.37\n",
            "Epoch: 116/150, Test acc: 52.04, Train acc: 86.94\n",
            "Iteration: 0/782, Loss: 0.20\n",
            "Iteration: 500/782, Loss: 0.53\n",
            "Epoch: 117/150, Test acc: 52.36, Train acc: 87.01\n",
            "Iteration: 0/782, Loss: 0.40\n",
            "Iteration: 500/782, Loss: 0.37\n",
            "Epoch: 118/150, Test acc: 51.66, Train acc: 86.70\n",
            "Iteration: 0/782, Loss: 0.29\n",
            "Iteration: 500/782, Loss: 0.36\n",
            "Epoch: 119/150, Test acc: 51.74, Train acc: 86.26\n",
            "Iteration: 0/782, Loss: 0.30\n",
            "Iteration: 500/782, Loss: 0.35\n",
            "Epoch: 120/150, Test acc: 52.03, Train acc: 87.36\n",
            "Iteration: 0/782, Loss: 0.24\n",
            "Iteration: 500/782, Loss: 0.35\n",
            "Epoch: 121/150, Test acc: 52.95, Train acc: 87.52\n",
            "Iteration: 0/782, Loss: 0.44\n",
            "Iteration: 500/782, Loss: 0.41\n",
            "Epoch: 122/150, Test acc: 52.62, Train acc: 87.88\n",
            "Iteration: 0/782, Loss: 0.20\n",
            "Iteration: 500/782, Loss: 0.54\n",
            "Epoch: 123/150, Test acc: 52.59, Train acc: 88.19\n",
            "Iteration: 0/782, Loss: 0.26\n",
            "Iteration: 500/782, Loss: 0.34\n",
            "Epoch: 124/150, Test acc: 52.79, Train acc: 88.19\n",
            "Iteration: 0/782, Loss: 0.35\n",
            "Iteration: 500/782, Loss: 0.43\n",
            "Epoch: 125/150, Test acc: 53.48, Train acc: 88.20\n",
            "Iteration: 0/782, Loss: 0.34\n",
            "Iteration: 500/782, Loss: 0.52\n",
            "Epoch: 126/150, Test acc: 53.10, Train acc: 88.26\n",
            "Iteration: 0/782, Loss: 0.36\n",
            "Iteration: 500/782, Loss: 0.34\n",
            "Epoch: 127/150, Test acc: 52.17, Train acc: 87.71\n",
            "Iteration: 0/782, Loss: 0.35\n",
            "Iteration: 500/782, Loss: 0.43\n",
            "Epoch: 128/150, Test acc: 52.38, Train acc: 88.71\n",
            "Iteration: 0/782, Loss: 0.18\n",
            "Iteration: 500/782, Loss: 0.45\n",
            "Epoch: 129/150, Test acc: 52.46, Train acc: 88.71\n",
            "Iteration: 0/782, Loss: 0.21\n",
            "Iteration: 500/782, Loss: 0.23\n",
            "Epoch: 130/150, Test acc: 51.74, Train acc: 87.84\n",
            "Iteration: 0/782, Loss: 0.21\n",
            "Iteration: 500/782, Loss: 0.44\n",
            "Epoch: 131/150, Test acc: 52.63, Train acc: 88.25\n",
            "Iteration: 0/782, Loss: 0.24\n",
            "Iteration: 500/782, Loss: 0.29\n",
            "Epoch: 132/150, Test acc: 52.26, Train acc: 88.60\n",
            "Iteration: 0/782, Loss: 0.23\n",
            "Iteration: 500/782, Loss: 0.30\n",
            "Epoch: 133/150, Test acc: 52.52, Train acc: 89.45\n",
            "Iteration: 0/782, Loss: 0.30\n",
            "Iteration: 500/782, Loss: 0.48\n",
            "Epoch: 134/150, Test acc: 52.97, Train acc: 88.82\n",
            "Iteration: 0/782, Loss: 0.16\n",
            "Iteration: 500/782, Loss: 0.35\n",
            "Epoch: 135/150, Test acc: 52.75, Train acc: 89.01\n",
            "Iteration: 0/782, Loss: 0.27\n",
            "Iteration: 500/782, Loss: 0.32\n",
            "Epoch: 136/150, Test acc: 52.20, Train acc: 89.61\n",
            "Iteration: 0/782, Loss: 0.32\n",
            "Iteration: 500/782, Loss: 0.29\n",
            "Epoch: 137/150, Test acc: 52.68, Train acc: 88.83\n",
            "Iteration: 0/782, Loss: 0.21\n",
            "Iteration: 500/782, Loss: 0.30\n",
            "Epoch: 138/150, Test acc: 52.13, Train acc: 89.26\n",
            "Iteration: 0/782, Loss: 0.21\n",
            "Iteration: 500/782, Loss: 0.24\n",
            "Epoch: 139/150, Test acc: 53.21, Train acc: 89.85\n",
            "Iteration: 0/782, Loss: 0.21\n",
            "Iteration: 500/782, Loss: 0.35\n",
            "Epoch: 140/150, Test acc: 52.48, Train acc: 89.48\n",
            "Iteration: 0/782, Loss: 0.39\n",
            "Iteration: 500/782, Loss: 0.35\n",
            "Epoch: 141/150, Test acc: 52.78, Train acc: 89.89\n",
            "Iteration: 0/782, Loss: 0.19\n",
            "Iteration: 500/782, Loss: 0.44\n",
            "Epoch: 142/150, Test acc: 52.62, Train acc: 90.09\n",
            "Iteration: 0/782, Loss: 0.36\n",
            "Iteration: 500/782, Loss: 0.29\n",
            "Epoch: 143/150, Test acc: 52.01, Train acc: 89.64\n",
            "Iteration: 0/782, Loss: 0.16\n",
            "Iteration: 500/782, Loss: 0.22\n",
            "Epoch: 144/150, Test acc: 52.09, Train acc: 88.96\n",
            "Iteration: 0/782, Loss: 0.31\n",
            "Iteration: 500/782, Loss: 0.15\n",
            "Epoch: 145/150, Test acc: 53.00, Train acc: 89.52\n",
            "Iteration: 0/782, Loss: 0.26\n",
            "Iteration: 500/782, Loss: 0.29\n",
            "Epoch: 146/150, Test acc: 52.33, Train acc: 90.03\n",
            "Iteration: 0/782, Loss: 0.37\n",
            "Iteration: 500/782, Loss: 0.36\n",
            "Epoch: 147/150, Test acc: 52.82, Train acc: 89.88\n",
            "Iteration: 0/782, Loss: 0.28\n",
            "Iteration: 500/782, Loss: 0.18\n",
            "Epoch: 148/150, Test acc: 52.39, Train acc: 90.03\n",
            "Iteration: 0/782, Loss: 0.16\n",
            "Iteration: 500/782, Loss: 0.32\n",
            "Epoch: 149/150, Test acc: 52.99, Train acc: 90.35\n",
            "Iteration: 0/782, Loss: 0.16\n",
            "Iteration: 500/782, Loss: 0.25\n",
            "Epoch: 150/150, Test acc: 52.54, Train acc: 90.53\n"
          ],
          "name": "stdout"
        }
      ]
    },
    {
      "cell_type": "code",
      "metadata": {
        "colab": {
          "base_uri": "https://localhost:8080/",
          "height": 295
        },
        "id": "jfvvpJBokfFN",
        "outputId": "466e086c-d6b0-4251-83be-568b6d2de5d6"
      },
      "source": [
        "import matplotlib.pyplot as plt\n",
        "\n",
        "fig, ax = plt.subplots()\n",
        "\n",
        "ax.plot(train_acc_PCA_99_MLP,label='Train')\n",
        "ax.plot(val_acc_PCA_99_MLP, label='Validation')\n",
        "\n",
        "plt.title(\"Accuracy Curves(PCA (99% variance) +MLP)\")\n",
        "plt.xlabel(\"Epoch\")\n",
        "plt.ylabel(\"Accuracy\")\n",
        "leg = ax.legend();\n",
        "\n",
        "plt.savefig(\"Accuracy curves\")"
      ],
      "execution_count": null,
      "outputs": [
        {
          "output_type": "display_data",
          "data": {
            "image/png": "[encoded data removed]",
            "text/plain": [
              "<Figure size 432x288 with 1 Axes>"
            ]
          },
          "metadata": {
            "tags": [],
            "needs_background": "light"
          }
        }
      ]
    },
    {
      "cell_type": "code",
      "metadata": {
        "colab": {
          "base_uri": "https://localhost:8080/",
          "height": 295
        },
        "id": "lIjKRlujkfFO",
        "outputId": "49776b56-411b-4f2b-c08d-f47a2cabeadb"
      },
      "source": [
        "plt.plot(loss_epoch_arr_PCA_99_MLP)\n",
        "plt.title(\"Loss Curve(PCA (99% variance) +MLP)\")\n",
        "plt.xlabel(\"Epoch\")\n",
        "plt.ylabel(\"Loss\")\n",
        "\n",
        "plt.show()"
      ],
      "execution_count": null,
      "outputs": [
        {
          "output_type": "display_data",
          "data": {
            "image/png": "[encoded data removed]",
            "text/plain": [
              "<Figure size 432x288 with 1 Axes>"
            ]
          },
          "metadata": {
            "tags": [],
            "needs_background": "light"
          }
        }
      ]
    },
    {
      "cell_type": "markdown",
      "metadata": {
        "id": "i9yM6IfhuKbA"
      },
      "source": [
        "## Train Accuracy PLot"
      ]
    },
    {
      "cell_type": "code",
      "metadata": {
        "id": "dqyyR8NiuOcz",
        "colab": {
          "base_uri": "https://localhost:8080/",
          "height": 295
        },
        "outputId": "28404c73-d77d-4cd8-e0fd-f4d13c8723de"
      },
      "source": [
        "fig, ax = plt.subplots()\n",
        "\n",
        "ax.plot(train_acc_MLP,label='MLP')\n",
        "#ax.plot(train_acc_CNN_MLP,label='CNN + MLP')\n",
        "ax.plot(train_acc_PCA_90_MLP, label='PCA(90% Variance) + MLP')\n",
        "ax.plot(train_acc_PCA_95_MLP,label='PCA(95% Variance) + MLP')\n",
        "ax.plot(train_acc_PCA_99_MLP, label='PCA(99% Variance) + MLP')\n",
        "\n",
        "plt.title(\"Train Accuracy Curves\")\n",
        "plt.xlabel(\"Epoch\")\n",
        "plt.ylabel(\"Accuracy\")\n",
        "leg = ax.legend();\n",
        "\n",
        "plt.savefig(\"Accuracy curves\")"
      ],
      "execution_count": null,
      "outputs": [
        {
          "output_type": "display_data",
          "data": {
            "image/png": "[encoded data removed]",
            "text/plain": [
              "<Figure size 432x288 with 1 Axes>"
            ]
          },
          "metadata": {
            "tags": [],
            "needs_background": "light"
          }
        }
      ]
    },
    {
      "cell_type": "markdown",
      "metadata": {
        "id": "cmHQjcLevI36"
      },
      "source": [
        "## Test Accuracy Plot"
      ]
    },
    {
      "cell_type": "code",
      "metadata": {
        "id": "a6cTwHJxvCvz",
        "colab": {
          "base_uri": "https://localhost:8080/",
          "height": 295
        },
        "outputId": "2a18e020-731a-4759-930a-9e1a3b4315f9"
      },
      "source": [
        "fig, ax = plt.subplots()\n",
        "\n",
        "ax.plot(val_acc_MLP,label='MLP')\n",
        "#ax.plot(val_acc_CNN_MLP,label='CNN + MLP')\n",
        "ax.plot(val_acc_PCA_90_MLP, label='PCA(90% Variance) + MLP')\n",
        "ax.plot(val_acc_PCA_95_MLP,label='PCA(95% Variance) + MLP')\n",
        "ax.plot(val_acc_PCA_99_MLP, label='PCA(99% Variance) + MLP')\n",
        "\n",
        "plt.title(\"Validation Accuracy Curves\")\n",
        "plt.xlabel(\"Epoch\")\n",
        "plt.ylabel(\"Accuracy\")\n",
        "leg = ax.legend();\n",
        "\n",
        "plt.savefig(\"Accuracy curves\")"
      ],
      "execution_count": null,
      "outputs": [
        {
          "output_type": "display_data",
          "data": {
            "image/png": "[encoded data removed]",
            "text/plain": [
              "<Figure size 432x288 with 1 Axes>"
            ]
          },
          "metadata": {
            "tags": [],
            "needs_background": "light"
          }
        }
      ]
    },
    {
      "cell_type": "markdown",
      "metadata": {
        "id": "3_tsXvEgvm7U"
      },
      "source": [
        "## Loss Curves"
      ]
    },
    {
      "cell_type": "code",
      "metadata": {
        "id": "5NPo5-T6vSBb",
        "colab": {
          "base_uri": "https://localhost:8080/",
          "height": 295
        },
        "outputId": "ad458c33-b070-4bf7-c8b3-2652eedd5aac"
      },
      "source": [
        "fig, ax = plt.subplots()\n",
        "\n",
        "ax.plot(loss_epoch_arr_MLP,label='MLP')\n",
        "#ax.plot(loss_epoch_arr_CNN_MLP,label='CNN + MLP')\n",
        "ax.plot(loss_epoch_arr_PCA_90_MLP, label='PCA(90% Variance) + MLP')\n",
        "ax.plot(loss_epoch_arr_PCA_95_MLP,label='PCA(95% Variance) + MLP')\n",
        "ax.plot(loss_epoch_arr_PCA_99_MLP, label='PCA(99% Variance) + MLP')\n",
        "\n",
        "plt.title(\"Loss Curves\")\n",
        "plt.xlabel(\"Epoch\")\n",
        "plt.ylabel(\"Accuracy\")\n",
        "leg = ax.legend();\n",
        "\n",
        "plt.savefig(\"Accuracy curves\")"
      ],
      "execution_count": null,
      "outputs": [
        {
          "output_type": "display_data",
          "data": {
            "image/png": "[encoded data removed]",
            "text/plain": [
              "<Figure size 432x288 with 1 Axes>"
            ]
          },
          "metadata": {
            "tags": [],
            "needs_background": "light"
          }
        }
      ]
    }
  ]
}