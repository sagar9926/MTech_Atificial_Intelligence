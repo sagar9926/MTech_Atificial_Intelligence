{
  "nbformat": 4,
  "nbformat_minor": 0,
  "metadata": {
    "colab": {
      "name": "Major Project.ipynb",
      "provenance": [],
      "collapsed_sections": [],
      "include_colab_link": true
    },
    "kernelspec": {
      "name": "python3",
      "display_name": "Python 3"
    },
    "accelerator": "GPU",
    "widgets": {
      "application/vnd.jupyter.widget-state+json": {
        "829a7d4000bd4279a2c66f38248d1b6a": {
          "model_module": "@jupyter-widgets/controls",
          "model_name": "HBoxModel",
          "state": {
            "_view_name": "HBoxView",
            "_dom_classes": [],
            "_model_name": "HBoxModel",
            "_view_module": "@jupyter-widgets/controls",
            "_model_module_version": "1.5.0",
            "_view_count": null,
            "_view_module_version": "1.5.0",
            "box_style": "",
            "layout": "IPY_MODEL_b4355fa3f6ba4ae69ec71c04f515b431",
            "_model_module": "@jupyter-widgets/controls",
            "children": [
              "IPY_MODEL_06ef4d9deed54e4c9743d028a2665b43",
              "IPY_MODEL_ca1b0d3da81d4ca09974cf96fbe16aa0"
            ]
          }
        },
        "b4355fa3f6ba4ae69ec71c04f515b431": {
          "model_module": "@jupyter-widgets/base",
          "model_name": "LayoutModel",
          "state": {
            "_view_name": "LayoutView",
            "grid_template_rows": null,
            "right": null,
            "justify_content": null,
            "_view_module": "@jupyter-widgets/base",
            "overflow": null,
            "_model_module_version": "1.2.0",
            "_view_count": null,
            "flex_flow": null,
            "width": null,
            "min_width": null,
            "border": null,
            "align_items": null,
            "bottom": null,
            "_model_module": "@jupyter-widgets/base",
            "top": null,
            "grid_column": null,
            "overflow_y": null,
            "overflow_x": null,
            "grid_auto_flow": null,
            "grid_area": null,
            "grid_template_columns": null,
            "flex": null,
            "_model_name": "LayoutModel",
            "justify_items": null,
            "grid_row": null,
            "max_height": null,
            "align_content": null,
            "visibility": null,
            "align_self": null,
            "height": null,
            "min_height": null,
            "padding": null,
            "grid_auto_rows": null,
            "grid_gap": null,
            "max_width": null,
            "order": null,
            "_view_module_version": "1.2.0",
            "grid_template_areas": null,
            "object_position": null,
            "object_fit": null,
            "grid_auto_columns": null,
            "margin": null,
            "display": null,
            "left": null
          }
        },
        "06ef4d9deed54e4c9743d028a2665b43": {
          "model_module": "@jupyter-widgets/controls",
          "model_name": "FloatProgressModel",
          "state": {
            "_view_name": "ProgressView",
            "style": "IPY_MODEL_2c7cdf220766492783f19db5d2ae69fc",
            "_dom_classes": [],
            "description": "",
            "_model_name": "FloatProgressModel",
            "bar_style": "success",
            "max": 170498071,
            "_view_module": "@jupyter-widgets/controls",
            "_model_module_version": "1.5.0",
            "value": 170498071,
            "_view_count": null,
            "_view_module_version": "1.5.0",
            "orientation": "horizontal",
            "min": 0,
            "description_tooltip": null,
            "_model_module": "@jupyter-widgets/controls",
            "layout": "IPY_MODEL_3c929f1811dc496282b94a90376cb747"
          }
        },
        "ca1b0d3da81d4ca09974cf96fbe16aa0": {
          "model_module": "@jupyter-widgets/controls",
          "model_name": "HTMLModel",
          "state": {
            "_view_name": "HTMLView",
            "style": "IPY_MODEL_6b462a17764d4912a47a2e33a5d54cf9",
            "_dom_classes": [],
            "description": "",
            "_model_name": "HTMLModel",
            "placeholder": "​",
            "_view_module": "@jupyter-widgets/controls",
            "_model_module_version": "1.5.0",
            "value": " 170499072/? [00:05&lt;00:00, 30322960.69it/s]",
            "_view_count": null,
            "_view_module_version": "1.5.0",
            "description_tooltip": null,
            "_model_module": "@jupyter-widgets/controls",
            "layout": "IPY_MODEL_0426cd89e0164d49984aad7448959ec5"
          }
        },
        "2c7cdf220766492783f19db5d2ae69fc": {
          "model_module": "@jupyter-widgets/controls",
          "model_name": "ProgressStyleModel",
          "state": {
            "_view_name": "StyleView",
            "_model_name": "ProgressStyleModel",
            "description_width": "initial",
            "_view_module": "@jupyter-widgets/base",
            "_model_module_version": "1.5.0",
            "_view_count": null,
            "_view_module_version": "1.2.0",
            "bar_color": null,
            "_model_module": "@jupyter-widgets/controls"
          }
        },
        "3c929f1811dc496282b94a90376cb747": {
          "model_module": "@jupyter-widgets/base",
          "model_name": "LayoutModel",
          "state": {
            "_view_name": "LayoutView",
            "grid_template_rows": null,
            "right": null,
            "justify_content": null,
            "_view_module": "@jupyter-widgets/base",
            "overflow": null,
            "_model_module_version": "1.2.0",
            "_view_count": null,
            "flex_flow": null,
            "width": null,
            "min_width": null,
            "border": null,
            "align_items": null,
            "bottom": null,
            "_model_module": "@jupyter-widgets/base",
            "top": null,
            "grid_column": null,
            "overflow_y": null,
            "overflow_x": null,
            "grid_auto_flow": null,
            "grid_area": null,
            "grid_template_columns": null,
            "flex": null,
            "_model_name": "LayoutModel",
            "justify_items": null,
            "grid_row": null,
            "max_height": null,
            "align_content": null,
            "visibility": null,
            "align_self": null,
            "height": null,
            "min_height": null,
            "padding": null,
            "grid_auto_rows": null,
            "grid_gap": null,
            "max_width": null,
            "order": null,
            "_view_module_version": "1.2.0",
            "grid_template_areas": null,
            "object_position": null,
            "object_fit": null,
            "grid_auto_columns": null,
            "margin": null,
            "display": null,
            "left": null
          }
        },
        "6b462a17764d4912a47a2e33a5d54cf9": {
          "model_module": "@jupyter-widgets/controls",
          "model_name": "DescriptionStyleModel",
          "state": {
            "_view_name": "StyleView",
            "_model_name": "DescriptionStyleModel",
            "description_width": "",
            "_view_module": "@jupyter-widgets/base",
            "_model_module_version": "1.5.0",
            "_view_count": null,
            "_view_module_version": "1.2.0",
            "_model_module": "@jupyter-widgets/controls"
          }
        },
        "0426cd89e0164d49984aad7448959ec5": {
          "model_module": "@jupyter-widgets/base",
          "model_name": "LayoutModel",
          "state": {
            "_view_name": "LayoutView",
            "grid_template_rows": null,
            "right": null,
            "justify_content": null,
            "_view_module": "@jupyter-widgets/base",
            "overflow": null,
            "_model_module_version": "1.2.0",
            "_view_count": null,
            "flex_flow": null,
            "width": null,
            "min_width": null,
            "border": null,
            "align_items": null,
            "bottom": null,
            "_model_module": "@jupyter-widgets/base",
            "top": null,
            "grid_column": null,
            "overflow_y": null,
            "overflow_x": null,
            "grid_auto_flow": null,
            "grid_area": null,
            "grid_template_columns": null,
            "flex": null,
            "_model_name": "LayoutModel",
            "justify_items": null,
            "grid_row": null,
            "max_height": null,
            "align_content": null,
            "visibility": null,
            "align_self": null,
            "height": null,
            "min_height": null,
            "padding": null,
            "grid_auto_rows": null,
            "grid_gap": null,
            "max_width": null,
            "order": null,
            "_view_module_version": "1.2.0",
            "grid_template_areas": null,
            "object_position": null,
            "object_fit": null,
            "grid_auto_columns": null,
            "margin": null,
            "display": null,
            "left": null
          }
        }
      }
    }
  },
  "cells": [
    {
      "cell_type": "markdown",
      "metadata": {
        "id": "view-in-github",
        "colab_type": "text"
      },
      "source": [
        "<a href=\"https://colab.research.google.com/github/sagar9926/MTech_Atificial_Intelligence/blob/main/ML1/Fractal3_Assignment/Major_Project.ipynb\" target=\"_parent\"><img src=\"https://colab.research.google.com/assets/colab-badge.svg\" alt=\"Open In Colab\"/></a>"
      ]
    },
    {
      "cell_type": "markdown",
      "metadata": {
        "id": "f2qL_DYjViG9"
      },
      "source": [
        "## Outline\n",
        "\n",
        "1. Loading datasets - Transforming images\n",
        "2. Custom Model Architecture\n",
        "3. Training Cifar 10\n",
        "4. Train Cifar Using VGG16"
      ]
    },
    {
      "cell_type": "code",
      "metadata": {
        "id": "qTPs33yVVlZH"
      },
      "source": [
        "# Importing the libraries\n",
        "import matplotlib.pyplot as plt\n",
        "import numpy as np\n",
        "\n",
        "import torch\n",
        "import torchvision\n",
        "import torchvision.transforms as transforms\n",
        "import torch.nn as nn\n",
        "\n",
        "\n",
        "import torch.nn.functional as F\n",
        "import torch.optim as optim\n",
        "import math\n",
        "import albumentations as A\n",
        "import copy"
      ],
      "execution_count": 5,
      "outputs": []
    },
    {
      "cell_type": "code",
      "metadata": {
        "id": "xRZWVZZNVq0_",
        "colab": {
          "base_uri": "https://localhost:8080/"
        },
        "outputId": "24dc2d7f-431e-4f92-e2d8-59351bc09abd"
      },
      "source": [
        "device = torch.device(\"cuda:0\" if torch.cuda.is_available() else \"cpu\")\n",
        "print(device)"
      ],
      "execution_count": 6,
      "outputs": [
        {
          "output_type": "stream",
          "text": [
            "cuda:0\n"
          ],
          "name": "stdout"
        }
      ]
    },
    {
      "cell_type": "markdown",
      "metadata": {
        "id": "DCjc5GAeWAJP"
      },
      "source": [
        "## Dataset, transforms, and visualisation"
      ]
    },
    {
      "cell_type": "code",
      "metadata": {
        "id": "D25rwHjfWAl2"
      },
      "source": [
        "# Transforming train and test dataset\n",
        "\n",
        "transform_train = transforms.Compose([\n",
        "    transforms.RandomRotation((-14.0, 14.0)),\n",
        "    transforms.ToTensor(),\n",
        "    transforms.Normalize((0.4913997551666284, 0.48215855929893703, 0.4465309133731618), (0.24703225141799082, 0.24348516474564, 0.26158783926049628)),\n",
        "    transforms.RandomErasing(),\n",
        "    ])\n",
        "\n",
        "transform_test = transforms.Compose([\n",
        "    transforms.ToTensor(),\n",
        "    transforms.Normalize((0.4913997551666284, 0.48215855929893703, 0.4465309133731618), (0.24703225141799082, 0.24348516474564, 0.26158783926049628)),\n",
        "    ])"
      ],
      "execution_count": null,
      "outputs": []
    },
    {
      "cell_type": "code",
      "metadata": {
        "id": "W6HJZgHXXF1z",
        "colab": {
          "base_uri": "https://localhost:8080/",
          "height": 119,
          "referenced_widgets": [
            "829a7d4000bd4279a2c66f38248d1b6a",
            "b4355fa3f6ba4ae69ec71c04f515b431",
            "06ef4d9deed54e4c9743d028a2665b43",
            "ca1b0d3da81d4ca09974cf96fbe16aa0",
            "2c7cdf220766492783f19db5d2ae69fc",
            "3c929f1811dc496282b94a90376cb747",
            "6b462a17764d4912a47a2e33a5d54cf9",
            "0426cd89e0164d49984aad7448959ec5"
          ]
        },
        "outputId": "93092e47-3d7f-4f69-d9a5-43a2cfe67aeb"
      },
      "source": [
        "# Downloading the data\n",
        "trainset = torchvision.datasets.CIFAR10(root='./data', train=True, \n",
        "                                        download=True, \n",
        "                                        transform=transform_train)\n",
        "testset = torchvision.datasets.CIFAR10(root='./data', train=False, \n",
        "                                        download=True, \n",
        "                                        transform=transform_test)"
      ],
      "execution_count": null,
      "outputs": [
        {
          "output_type": "stream",
          "text": [
            "Downloading https://www.cs.toronto.edu/~kriz/cifar-10-python.tar.gz to ./data/cifar-10-python.tar.gz\n"
          ],
          "name": "stdout"
        },
        {
          "output_type": "display_data",
          "data": {
            "application/vnd.jupyter.widget-view+json": {
              "model_id": "829a7d4000bd4279a2c66f38248d1b6a",
              "version_minor": 0,
              "version_major": 2
            },
            "text/plain": [
              "HBox(children=(FloatProgress(value=0.0, max=170498071.0), HTML(value='')))"
            ]
          },
          "metadata": {
            "tags": []
          }
        },
        {
          "output_type": "stream",
          "text": [
            "\n",
            "Extracting ./data/cifar-10-python.tar.gz to ./data\n",
            "Files already downloaded and verified\n"
          ],
          "name": "stdout"
        }
      ]
    },
    {
      "cell_type": "code",
      "metadata": {
        "id": "BkRISj_rXGT3"
      },
      "source": [
        "num_classes = 10\n",
        "\n",
        "batch_size = 4\n",
        "\n",
        "trainloader = torch.utils.data.DataLoader(trainset, batch_size=batch_size, shuffle=True)"
      ],
      "execution_count": null,
      "outputs": []
    },
    {
      "cell_type": "code",
      "metadata": {
        "id": "GwORhlamXKdT",
        "colab": {
          "base_uri": "https://localhost:8080/"
        },
        "outputId": "62eba2b8-8cb0-440c-ddc7-ba19eb21853e"
      },
      "source": [
        "dataiter = iter(trainloader)\n",
        "images, labels = dataiter.next()\n",
        "\n",
        "print(images.shape)\n",
        "\n",
        "print(images[1].shape)\n",
        "print(labels[1].item())"
      ],
      "execution_count": null,
      "outputs": [
        {
          "output_type": "stream",
          "text": [
            "torch.Size([4, 3, 32, 32])\n",
            "torch.Size([3, 32, 32])\n",
            "5\n"
          ],
          "name": "stdout"
        }
      ]
    },
    {
      "cell_type": "code",
      "metadata": {
        "id": "nhsRhWAHXPpy"
      },
      "source": [
        "def imshow(img, title):\n",
        "    npimg = img.numpy() / 2 + 0.5 # denormalising the image\n",
        "    plt.figure(figsize=(batch_size*20, 2))\n",
        "    plt.axis('off')\n",
        "    plt.imshow(np.transpose(npimg, (1, 2, 0)))\n",
        "    plt.title(title)\n",
        "    plt.show()"
      ],
      "execution_count": null,
      "outputs": []
    },
    {
      "cell_type": "code",
      "metadata": {
        "id": "yDq09BilXtia"
      },
      "source": [
        "def show_batch_images(dataloader):\n",
        "    images, labels = next(iter(dataloader))\n",
        "    img = torchvision.utils.make_grid(images) # puts together images to form a bigger image\n",
        "    imshow(img, title=[trainset.classes[x.item()] for x in labels])"
      ],
      "execution_count": null,
      "outputs": []
    },
    {
      "cell_type": "code",
      "metadata": {
        "id": "TNRVNTz6Xt_C",
        "colab": {
          "base_uri": "https://localhost:8080/",
          "height": 643
        },
        "outputId": "573683dd-2981-4967-826b-8de982bc4a0a"
      },
      "source": [
        "for i in range(4):\n",
        "    show_batch_images(trainloader)"
      ],
      "execution_count": null,
      "outputs": [
        {
          "output_type": "stream",
          "text": [
            "Clipping input data to the valid range for imshow with RGB data ([0..1] for floats or [0..255] for integers).\n"
          ],
          "name": "stderr"
        },
        {
          "output_type": "display_data",
          "data": {
            "image/png": "[encoded data removed]",
            "text/plain": [
              "<Figure size 5760x144 with 1 Axes>"
            ]
          },
          "metadata": {
            "tags": [],
            "needs_background": "light"
          }
        },
        {
          "output_type": "stream",
          "text": [
            "Clipping input data to the valid range for imshow with RGB data ([0..1] for floats or [0..255] for integers).\n"
          ],
          "name": "stderr"
        },
        {
          "output_type": "display_data",
          "data": {
            "image/png": "[encoded data removed]",
            "text/plain": [
              "<Figure size 5760x144 with 1 Axes>"
            ]
          },
          "metadata": {
            "tags": [],
            "needs_background": "light"
          }
        },
        {
          "output_type": "stream",
          "text": [
            "Clipping input data to the valid range for imshow with RGB data ([0..1] for floats or [0..255] for integers).\n"
          ],
          "name": "stderr"
        },
        {
          "output_type": "display_data",
          "data": {
            "image/png": "[encoded data removed]",
            "text/plain": [
              "<Figure size 5760x144 with 1 Axes>"
            ]
          },
          "metadata": {
            "tags": [],
            "needs_background": "light"
          }
        },
        {
          "output_type": "stream",
          "text": [
            "Clipping input data to the valid range for imshow with RGB data ([0..1] for floats or [0..255] for integers).\n"
          ],
          "name": "stderr"
        },
        {
          "output_type": "display_data",
          "data": {
            "image/png": "[encoded data removed]",
            "text/plain": [
              "<Figure size 5760x144 with 1 Axes>"
            ]
          },
          "metadata": {
            "tags": [],
            "needs_background": "light"
          }
        }
      ]
    },
    {
      "cell_type": "markdown",
      "metadata": {
        "id": "e5nVg6DejCQJ"
      },
      "source": [
        "# Custom Model Architecture"
      ]
    },
    {
      "cell_type": "code",
      "metadata": {
        "id": "r8H9s8-ra-31"
      },
      "source": [
        "class Net(nn.Module):\n",
        "    def __init__(self):\n",
        "        super(Net, self).__init__()\n",
        "        # Input Block\n",
        "        self.convblock1 = nn.Sequential(\n",
        "            nn.Conv2d(in_channels=3, out_channels=48, kernel_size=(3, 3), padding=1, bias=False),\n",
        "            nn.BatchNorm2d(48),   \n",
        "            nn.ReLU()\n",
        "         \n",
        "        ) # output_size = [N , 48 , 32 , 32]\n",
        "\n",
        "        self.convblock2 = nn.Sequential(\n",
        "            nn.Conv2d(in_channels=48, out_channels=48, kernel_size=(3, 3), padding=0, bias=False),\n",
        "            nn.BatchNorm2d(48),   \n",
        "            nn.ReLU()\n",
        "         \n",
        "        ) # output_size = [N , 48 , 30 , 30]\n",
        "\n",
        "        # pooling layer\n",
        "        self.pool1 = nn.MaxPool2d(2, 2) # output_size = [N , 48 , 15 , 15]\n",
        "\n",
        "        self.convblock3 = nn.Sequential(\n",
        "            nn.Dropout(0.25),\n",
        "            nn.Conv2d(in_channels=48, out_channels=96, kernel_size=(3, 3), padding=1, bias=False),\n",
        "            nn.BatchNorm2d(96), \n",
        "            nn.ReLU()\n",
        "        ) # output_size = [N , 96 , 15 , 15]\n",
        "\n",
        "        self.convblock4 = nn.Sequential(\n",
        "            #nn.Dropout(0.25),\n",
        "            nn.Conv2d(in_channels=96, out_channels=96, kernel_size=(3, 3), padding=0, bias=False),\n",
        "            nn.BatchNorm2d(96), \n",
        "            nn.ReLU()\n",
        "        ) # output_size = [N , 96 , 13 , 13]\n",
        "\n",
        "        # pooling layer\n",
        "        self.pool2 = nn.MaxPool2d(2, 2) # output_size = [N , 96 , 6 , 6]\n",
        "\n",
        "        self.convblock5 = nn.Sequential(\n",
        "            nn.Dropout(0.25),\n",
        "            nn.Conv2d(in_channels=96, out_channels=192, kernel_size=(3, 3), padding=1, bias=False),\n",
        "            nn.BatchNorm2d(192),\n",
        "            nn.ReLU()\n",
        "        ) # output_size = [N , 192 , 6 , 6]\n",
        "\n",
        "        self.convblock6 = nn.Sequential(\n",
        "            nn.Conv2d(in_channels=192, out_channels=192, kernel_size=(3, 3), padding=0, bias=False),\n",
        "            nn.BatchNorm2d(192),\n",
        "            nn.ReLU(),\n",
        "            nn.Dropout(0.25)\n",
        "        ) # output_size = [N , 192 , 4 , 4]\n",
        "\n",
        "        self.fc_model = nn.Sequential(\n",
        "            nn.Linear(3072*2,512),         # (N, 3072*2) -> (N, 512)\n",
        "            nn.ReLU(),\n",
        "            nn.Dropout(0.25),\n",
        "            nn.Linear(512,512),             # (N, 512) -> (N, 512)\n",
        "            nn.ReLU(),\n",
        "            nn.Dropout(0.25),\n",
        "            nn.Linear(512,256),          # (N, 512) -> (N, 256)\n",
        "            nn.Linear(256,10)            # (N, 256)  -> (N, 10)\n",
        "        )\n",
        "      \n",
        "\n",
        "    def forward(self, x):\n",
        "        img = copy.deepcopy(x)\n",
        "               \n",
        "        x = self.convblock1(x)\n",
        "        x = self.convblock2(x)\n",
        "        x = self.pool1(x)\n",
        "\n",
        "        \n",
        "        x = self.convblock3(x)\n",
        "        x = self.convblock4(x)\n",
        "        x = self.pool2(x)\n",
        "\n",
        "        x = self.convblock5(x)\n",
        "        x = self.convblock6(x)\n",
        "        x = x.view(x.size(0), -1) # (N, 16, 5, 5) -> (N, 400)\n",
        "        \n",
        "        #Skip connection feeding input image directly into Fully connected layers\n",
        "        x = torch.cat((x,img.reshape(x.size(0),-1)),dim = 1)\n",
        "        \n",
        "        x = self.fc_model(x)\n",
        "\n",
        "        return F.log_softmax(x, dim=-1)\n"
      ],
      "execution_count": null,
      "outputs": []
    },
    {
      "cell_type": "code",
      "metadata": {
        "colab": {
          "base_uri": "https://localhost:8080/"
        },
        "id": "ulSOBGU9hqZv",
        "outputId": "26a9a8df-7e1e-4307-86af-2db9d4b32833"
      },
      "source": [
        "from torchsummary import summary\n",
        "net = Net().to(device)\n",
        "print(summary(net, (3, 32, 32)))\n"
      ],
      "execution_count": null,
      "outputs": [
        {
          "output_type": "stream",
          "text": [
            "----------------------------------------------------------------\n",
            "        Layer (type)               Output Shape         Param #\n",
            "================================================================\n",
            "            Conv2d-1           [-1, 48, 32, 32]           1,296\n",
            "       BatchNorm2d-2           [-1, 48, 32, 32]              96\n",
            "              ReLU-3           [-1, 48, 32, 32]               0\n",
            "            Conv2d-4           [-1, 48, 30, 30]          20,736\n",
            "       BatchNorm2d-5           [-1, 48, 30, 30]              96\n",
            "              ReLU-6           [-1, 48, 30, 30]               0\n",
            "         MaxPool2d-7           [-1, 48, 15, 15]               0\n",
            "           Dropout-8           [-1, 48, 15, 15]               0\n",
            "            Conv2d-9           [-1, 96, 15, 15]          41,472\n",
            "      BatchNorm2d-10           [-1, 96, 15, 15]             192\n",
            "             ReLU-11           [-1, 96, 15, 15]               0\n",
            "           Conv2d-12           [-1, 96, 13, 13]          82,944\n",
            "      BatchNorm2d-13           [-1, 96, 13, 13]             192\n",
            "             ReLU-14           [-1, 96, 13, 13]               0\n",
            "        MaxPool2d-15             [-1, 96, 6, 6]               0\n",
            "          Dropout-16             [-1, 96, 6, 6]               0\n",
            "           Conv2d-17            [-1, 192, 6, 6]         165,888\n",
            "      BatchNorm2d-18            [-1, 192, 6, 6]             384\n",
            "             ReLU-19            [-1, 192, 6, 6]               0\n",
            "           Conv2d-20            [-1, 192, 4, 4]         331,776\n",
            "      BatchNorm2d-21            [-1, 192, 4, 4]             384\n",
            "             ReLU-22            [-1, 192, 4, 4]               0\n",
            "          Dropout-23            [-1, 192, 4, 4]               0\n",
            "           Linear-24                  [-1, 512]       3,146,240\n",
            "             ReLU-25                  [-1, 512]               0\n",
            "          Dropout-26                  [-1, 512]               0\n",
            "           Linear-27                  [-1, 512]         262,656\n",
            "             ReLU-28                  [-1, 512]               0\n",
            "          Dropout-29                  [-1, 512]               0\n",
            "           Linear-30                  [-1, 256]         131,328\n",
            "           Linear-31                   [-1, 10]           2,570\n",
            "================================================================\n",
            "Total params: 4,188,250\n",
            "Trainable params: 4,188,250\n",
            "Non-trainable params: 0\n",
            "----------------------------------------------------------------\n",
            "Input size (MB): 0.01\n",
            "Forward/backward pass size (MB): 3.47\n",
            "Params size (MB): 15.98\n",
            "Estimated Total Size (MB): 19.46\n",
            "----------------------------------------------------------------\n",
            "None\n"
          ],
          "name": "stdout"
        }
      ]
    },
    {
      "cell_type": "markdown",
      "metadata": {
        "id": "XW2JOD0ucQUv"
      },
      "source": [
        "# Train CIFAR10"
      ]
    },
    {
      "cell_type": "code",
      "metadata": {
        "id": "bacgFGD3cQrl"
      },
      "source": [
        "batch_size = 64\n",
        "\n",
        "trainloader = torch.utils.data.DataLoader(trainset,batch_size=batch_size,shuffle = True)\n",
        "testloader = torch.utils.data.DataLoader(testset, batch_size=batch_size, shuffle=False)"
      ],
      "execution_count": null,
      "outputs": []
    },
    {
      "cell_type": "code",
      "metadata": {
        "id": "dKparHasckIz"
      },
      "source": [
        "def evaluation(dataloader,model):\n",
        "  total , correct = 0,0\n",
        "  for data in dataloader:\n",
        "    inputs,labels = data\n",
        "    inputs,labels = inputs.to(device),labels.to(device)\n",
        "    outputs = model(inputs)\n",
        "    _,pred = torch.max(outputs.data,1)\n",
        "    total += labels.size(0)\n",
        "    correct += (pred == labels).sum().item()\n",
        "  return 100 * correct / total\n"
      ],
      "execution_count": null,
      "outputs": []
    },
    {
      "cell_type": "code",
      "metadata": {
        "id": "uwrMAbUxdrFK"
      },
      "source": [
        "# Initialise and move model to Cuda\n",
        "net = Net().to(device)\n",
        "\n",
        "#this takes into consideration that we have to differentiate through softmax layer, given softmax is not applied in our vgg\n",
        "loss_fn = nn.CrossEntropyLoss() \n",
        "opt = optim.SGD(net.parameters(), lr=0.01,momentum = 0.9)\n",
        "scheduler = torch.optim.lr_scheduler.StepLR(opt, step_size=len(trainloader)*10, gamma=0.01)\n"
      ],
      "execution_count": null,
      "outputs": []
    },
    {
      "cell_type": "code",
      "metadata": {
        "id": "NeCHxBL8eMwy",
        "colab": {
          "base_uri": "https://localhost:8080/"
        },
        "outputId": "2f36e994-bd2c-43cc-9329-57f236ec90ac"
      },
      "source": [
        "# Training Loop\n",
        "\n",
        "loss_epoch_arr = []\n",
        "max_epochs = 150\n",
        "train_acc = []\n",
        "val_acc = []\n",
        "\n",
        "n_iters = np.ceil(50000/batch_size)\n",
        "\n",
        "for epoch in range(max_epochs):\n",
        "\n",
        "    for i, data in enumerate(trainloader, 0):\n",
        "\n",
        "        inputs, labels = data\n",
        "        inputs, labels = inputs.to(device), labels.to(device)\n",
        "\n",
        "        opt.zero_grad()\n",
        "\n",
        "        outputs = net(inputs)\n",
        "        loss = loss_fn(outputs, labels)\n",
        "        loss.backward()\n",
        "        opt.step()\n",
        "        scheduler.step()\n",
        "        \n",
        "        del inputs, labels, outputs\n",
        "        torch.cuda.empty_cache()\n",
        "        \n",
        "        if i % 500 == 0:\n",
        "            print('Iteration: %d/%d, Loss: %0.2f' % (i, n_iters, loss.item()))\n",
        "        \n",
        "    loss_epoch_arr.append(loss.item())\n",
        "    train_acc.append(evaluation(trainloader, net))\n",
        "    val_acc.append(evaluation(testloader, net))\n",
        "\n",
        "        \n",
        "    print('Epoch: %d/%d, Test acc: %0.2f, Train acc: %0.2f' % (\n",
        "        epoch + 1, max_epochs, \n",
        "        evaluation(testloader, net), evaluation(trainloader, net)))"
      ],
      "execution_count": null,
      "outputs": [
        {
          "output_type": "stream",
          "text": [
            "Iteration: 0/782, Loss: 2.31\n",
            "Iteration: 500/782, Loss: 1.33\n",
            "Epoch: 1/150, Test acc: 55.67, Train acc: 52.39\n",
            "Iteration: 0/782, Loss: 1.39\n",
            "Iteration: 500/782, Loss: 1.09\n",
            "Epoch: 2/150, Test acc: 63.41, Train acc: 60.21\n",
            "Iteration: 0/782, Loss: 0.93\n",
            "Iteration: 500/782, Loss: 1.07\n",
            "Epoch: 3/150, Test acc: 67.63, Train acc: 64.51\n",
            "Iteration: 0/782, Loss: 1.01\n",
            "Iteration: 500/782, Loss: 0.98\n",
            "Epoch: 4/150, Test acc: 70.73, Train acc: 66.99\n",
            "Iteration: 0/782, Loss: 0.69\n",
            "Iteration: 500/782, Loss: 1.01\n",
            "Epoch: 5/150, Test acc: 71.02, Train acc: 68.14\n",
            "Iteration: 0/782, Loss: 0.79\n",
            "Iteration: 500/782, Loss: 0.78\n",
            "Epoch: 6/150, Test acc: 72.68, Train acc: 69.71\n",
            "Iteration: 0/782, Loss: 0.99\n",
            "Iteration: 500/782, Loss: 0.78\n",
            "Epoch: 7/150, Test acc: 74.06, Train acc: 71.09\n",
            "Iteration: 0/782, Loss: 1.02\n",
            "Iteration: 500/782, Loss: 0.69\n",
            "Epoch: 8/150, Test acc: 75.12, Train acc: 72.86\n",
            "Iteration: 0/782, Loss: 0.73\n",
            "Iteration: 500/782, Loss: 0.66\n",
            "Epoch: 9/150, Test acc: 76.75, Train acc: 74.30\n",
            "Iteration: 0/782, Loss: 0.69\n",
            "Iteration: 500/782, Loss: 0.81\n",
            "Epoch: 10/150, Test acc: 77.38, Train acc: 74.92\n",
            "Iteration: 0/782, Loss: 0.65\n",
            "Iteration: 500/782, Loss: 0.46\n",
            "Epoch: 11/150, Test acc: 77.19, Train acc: 75.54\n",
            "Iteration: 0/782, Loss: 1.10\n",
            "Iteration: 500/782, Loss: 0.60\n",
            "Epoch: 12/150, Test acc: 79.21, Train acc: 77.80\n",
            "Iteration: 0/782, Loss: 0.52\n",
            "Iteration: 500/782, Loss: 0.39\n",
            "Epoch: 13/150, Test acc: 78.10, Train acc: 77.90\n",
            "Iteration: 0/782, Loss: 0.64\n",
            "Iteration: 500/782, Loss: 0.70\n",
            "Epoch: 14/150, Test acc: 78.96, Train acc: 78.19\n",
            "Iteration: 0/782, Loss: 0.57\n",
            "Iteration: 500/782, Loss: 0.69\n",
            "Epoch: 15/150, Test acc: 79.13, Train acc: 78.59\n",
            "Iteration: 0/782, Loss: 0.48\n",
            "Iteration: 500/782, Loss: 1.05\n",
            "Epoch: 16/150, Test acc: 79.19, Train acc: 78.85\n",
            "Iteration: 0/782, Loss: 0.61\n",
            "Iteration: 500/782, Loss: 0.44\n",
            "Epoch: 17/150, Test acc: 78.63, Train acc: 78.60\n",
            "Iteration: 0/782, Loss: 0.60\n",
            "Iteration: 500/782, Loss: 0.79\n",
            "Epoch: 18/150, Test acc: 80.19, Train acc: 80.29\n",
            "Iteration: 0/782, Loss: 0.64\n",
            "Iteration: 500/782, Loss: 0.57\n",
            "Epoch: 19/150, Test acc: 79.88, Train acc: 79.93\n",
            "Iteration: 0/782, Loss: 0.52\n",
            "Iteration: 500/782, Loss: 0.59\n",
            "Epoch: 20/150, Test acc: 80.19, Train acc: 80.39\n",
            "Iteration: 0/782, Loss: 0.77\n",
            "Iteration: 500/782, Loss: 0.59\n",
            "Epoch: 21/150, Test acc: 80.78, Train acc: 81.61\n",
            "Iteration: 0/782, Loss: 0.43\n",
            "Iteration: 500/782, Loss: 0.46\n",
            "Epoch: 22/150, Test acc: 81.28, Train acc: 81.81\n",
            "Iteration: 0/782, Loss: 0.52\n",
            "Iteration: 500/782, Loss: 0.46\n",
            "Epoch: 23/150, Test acc: 80.63, Train acc: 81.86\n",
            "Iteration: 0/782, Loss: 0.69\n",
            "Iteration: 500/782, Loss: 0.46\n",
            "Epoch: 24/150, Test acc: 81.59, Train acc: 82.43\n",
            "Iteration: 0/782, Loss: 0.60\n",
            "Iteration: 500/782, Loss: 0.31\n",
            "Epoch: 25/150, Test acc: 81.68, Train acc: 82.89\n",
            "Iteration: 0/782, Loss: 0.51\n",
            "Iteration: 500/782, Loss: 0.42\n",
            "Epoch: 26/150, Test acc: 81.65, Train acc: 82.95\n",
            "Iteration: 0/782, Loss: 0.35\n",
            "Iteration: 500/782, Loss: 0.45\n",
            "Epoch: 27/150, Test acc: 81.43, Train acc: 83.26\n",
            "Iteration: 0/782, Loss: 0.56\n",
            "Iteration: 500/782, Loss: 0.55\n",
            "Epoch: 28/150, Test acc: 81.81, Train acc: 83.71\n",
            "Iteration: 0/782, Loss: 0.25\n",
            "Iteration: 500/782, Loss: 0.47\n",
            "Epoch: 29/150, Test acc: 82.17, Train acc: 84.16\n",
            "Iteration: 0/782, Loss: 0.40\n",
            "Iteration: 500/782, Loss: 0.47\n",
            "Epoch: 30/150, Test acc: 82.08, Train acc: 84.23\n",
            "Iteration: 0/782, Loss: 0.40\n",
            "Iteration: 500/782, Loss: 0.62\n",
            "Epoch: 31/150, Test acc: 82.26, Train acc: 84.88\n",
            "Iteration: 0/782, Loss: 0.36\n",
            "Iteration: 500/782, Loss: 0.72\n",
            "Epoch: 32/150, Test acc: 82.44, Train acc: 84.37\n",
            "Iteration: 0/782, Loss: 0.36\n",
            "Iteration: 500/782, Loss: 0.25\n",
            "Epoch: 33/150, Test acc: 82.18, Train acc: 84.56\n",
            "Iteration: 0/782, Loss: 0.38\n",
            "Iteration: 500/782, Loss: 0.31\n",
            "Epoch: 34/150, Test acc: 82.70, Train acc: 85.38\n",
            "Iteration: 0/782, Loss: 0.29\n",
            "Iteration: 500/782, Loss: 0.44\n",
            "Epoch: 35/150, Test acc: 83.18, Train acc: 85.21\n",
            "Iteration: 0/782, Loss: 0.29\n",
            "Iteration: 500/782, Loss: 0.32\n",
            "Epoch: 36/150, Test acc: 83.03, Train acc: 85.43\n",
            "Iteration: 0/782, Loss: 0.50\n",
            "Iteration: 500/782, Loss: 0.60\n",
            "Epoch: 37/150, Test acc: 82.15, Train acc: 85.54\n",
            "Iteration: 0/782, Loss: 0.45\n",
            "Iteration: 500/782, Loss: 0.35\n",
            "Epoch: 38/150, Test acc: 82.76, Train acc: 85.76\n",
            "Iteration: 0/782, Loss: 0.39\n",
            "Iteration: 500/782, Loss: 0.31\n",
            "Epoch: 39/150, Test acc: 83.20, Train acc: 86.20\n",
            "Iteration: 0/782, Loss: 0.41\n",
            "Iteration: 500/782, Loss: 0.30\n",
            "Epoch: 40/150, Test acc: 82.76, Train acc: 86.01\n",
            "Iteration: 0/782, Loss: 0.49\n",
            "Iteration: 500/782, Loss: 0.54\n",
            "Epoch: 41/150, Test acc: 83.26, Train acc: 86.65\n",
            "Iteration: 0/782, Loss: 0.33\n",
            "Iteration: 500/782, Loss: 0.43\n",
            "Epoch: 42/150, Test acc: 82.77, Train acc: 86.79\n",
            "Iteration: 0/782, Loss: 0.48\n",
            "Iteration: 500/782, Loss: 0.48\n",
            "Epoch: 43/150, Test acc: 82.72, Train acc: 86.55\n",
            "Iteration: 0/782, Loss: 0.51\n",
            "Iteration: 500/782, Loss: 0.45\n",
            "Epoch: 44/150, Test acc: 82.93, Train acc: 86.80\n",
            "Iteration: 0/782, Loss: 0.20\n",
            "Iteration: 500/782, Loss: 0.40\n",
            "Epoch: 45/150, Test acc: 83.24, Train acc: 87.14\n",
            "Iteration: 0/782, Loss: 0.39\n",
            "Iteration: 500/782, Loss: 0.40\n",
            "Epoch: 46/150, Test acc: 83.17, Train acc: 87.11\n",
            "Iteration: 0/782, Loss: 0.39\n",
            "Iteration: 500/782, Loss: 0.59\n",
            "Epoch: 47/150, Test acc: 83.10, Train acc: 87.19\n",
            "Iteration: 0/782, Loss: 0.35\n",
            "Iteration: 500/782, Loss: 0.38\n",
            "Epoch: 48/150, Test acc: 83.41, Train acc: 87.16\n",
            "Iteration: 0/782, Loss: 0.40\n",
            "Iteration: 500/782, Loss: 0.40\n",
            "Epoch: 49/150, Test acc: 83.12, Train acc: 87.80\n",
            "Iteration: 0/782, Loss: 0.40\n",
            "Iteration: 500/782, Loss: 0.28\n",
            "Epoch: 50/150, Test acc: 83.54, Train acc: 87.61\n",
            "Iteration: 0/782, Loss: 0.38\n",
            "Iteration: 500/782, Loss: 0.44\n",
            "Epoch: 51/150, Test acc: 83.53, Train acc: 88.05\n",
            "Iteration: 0/782, Loss: 0.23\n",
            "Iteration: 500/782, Loss: 0.45\n",
            "Epoch: 52/150, Test acc: 83.21, Train acc: 87.95\n",
            "Iteration: 0/782, Loss: 0.24\n",
            "Iteration: 500/782, Loss: 0.24\n",
            "Epoch: 53/150, Test acc: 83.64, Train acc: 88.15\n",
            "Iteration: 0/782, Loss: 0.22\n",
            "Iteration: 500/782, Loss: 0.47\n",
            "Epoch: 54/150, Test acc: 83.90, Train acc: 88.74\n",
            "Iteration: 0/782, Loss: 0.50\n",
            "Iteration: 500/782, Loss: 0.38\n",
            "Epoch: 55/150, Test acc: 83.10, Train acc: 88.08\n",
            "Iteration: 0/782, Loss: 0.18\n",
            "Iteration: 500/782, Loss: 0.32\n",
            "Epoch: 56/150, Test acc: 83.76, Train acc: 88.81\n",
            "Iteration: 0/782, Loss: 0.20\n",
            "Iteration: 500/782, Loss: 0.21\n",
            "Epoch: 57/150, Test acc: 84.01, Train acc: 88.97\n",
            "Iteration: 0/782, Loss: 0.22\n",
            "Iteration: 500/782, Loss: 0.40\n",
            "Epoch: 58/150, Test acc: 83.65, Train acc: 88.75\n",
            "Iteration: 0/782, Loss: 0.26\n",
            "Iteration: 500/782, Loss: 0.32\n",
            "Epoch: 59/150, Test acc: 83.04, Train acc: 88.83\n",
            "Iteration: 0/782, Loss: 0.26\n",
            "Iteration: 500/782, Loss: 0.28\n",
            "Epoch: 60/150, Test acc: 83.82, Train acc: 88.39\n",
            "Iteration: 0/782, Loss: 0.52\n",
            "Iteration: 500/782, Loss: 0.17\n",
            "Epoch: 61/150, Test acc: 83.89, Train acc: 88.81\n",
            "Iteration: 0/782, Loss: 0.20\n",
            "Iteration: 500/782, Loss: 0.32\n",
            "Epoch: 62/150, Test acc: 83.62, Train acc: 88.84\n",
            "Iteration: 0/782, Loss: 0.28\n",
            "Iteration: 500/782, Loss: 0.26\n",
            "Epoch: 63/150, Test acc: 83.96, Train acc: 89.32\n",
            "Iteration: 0/782, Loss: 0.21\n",
            "Iteration: 500/782, Loss: 0.42\n",
            "Epoch: 64/150, Test acc: 83.84, Train acc: 89.86\n",
            "Iteration: 0/782, Loss: 0.28\n",
            "Iteration: 500/782, Loss: 0.42\n",
            "Epoch: 65/150, Test acc: 83.44, Train acc: 89.15\n",
            "Iteration: 0/782, Loss: 0.30\n",
            "Iteration: 500/782, Loss: 0.24\n",
            "Epoch: 66/150, Test acc: 84.10, Train acc: 89.60\n",
            "Iteration: 0/782, Loss: 0.33\n",
            "Iteration: 500/782, Loss: 0.27\n",
            "Epoch: 67/150, Test acc: 84.13, Train acc: 89.58\n",
            "Iteration: 0/782, Loss: 0.13\n",
            "Iteration: 500/782, Loss: 0.43\n",
            "Epoch: 68/150, Test acc: 83.97, Train acc: 89.44\n",
            "Iteration: 0/782, Loss: 0.19\n",
            "Iteration: 500/782, Loss: 0.26\n",
            "Epoch: 69/150, Test acc: 83.80, Train acc: 89.66\n",
            "Iteration: 0/782, Loss: 0.24\n",
            "Iteration: 500/782, Loss: 0.26\n",
            "Epoch: 70/150, Test acc: 83.98, Train acc: 89.63\n",
            "Iteration: 0/782, Loss: 0.39\n",
            "Iteration: 500/782, Loss: 0.46\n",
            "Epoch: 71/150, Test acc: 83.96, Train acc: 89.84\n",
            "Iteration: 0/782, Loss: 0.61\n",
            "Iteration: 500/782, Loss: 0.20\n",
            "Epoch: 72/150, Test acc: 83.90, Train acc: 90.07\n",
            "Iteration: 0/782, Loss: 0.38\n",
            "Iteration: 500/782, Loss: 0.24\n",
            "Epoch: 73/150, Test acc: 84.25, Train acc: 90.18\n",
            "Iteration: 0/782, Loss: 0.14\n",
            "Iteration: 500/782, Loss: 0.38\n",
            "Epoch: 74/150, Test acc: 84.13, Train acc: 90.31\n",
            "Iteration: 0/782, Loss: 0.32\n",
            "Iteration: 500/782, Loss: 0.37\n",
            "Epoch: 75/150, Test acc: 83.97, Train acc: 89.98\n",
            "Iteration: 0/782, Loss: 0.42\n",
            "Iteration: 500/782, Loss: 0.35\n",
            "Epoch: 76/150, Test acc: 83.99, Train acc: 90.16\n",
            "Iteration: 0/782, Loss: 0.17\n",
            "Iteration: 500/782, Loss: 0.27\n",
            "Epoch: 77/150, Test acc: 84.35, Train acc: 90.21\n",
            "Iteration: 0/782, Loss: 0.15\n",
            "Iteration: 500/782, Loss: 0.28\n",
            "Epoch: 78/150, Test acc: 84.46, Train acc: 90.47\n",
            "Iteration: 0/782, Loss: 0.13\n",
            "Iteration: 500/782, Loss: 0.30\n",
            "Epoch: 79/150, Test acc: 83.96, Train acc: 90.56\n",
            "Iteration: 0/782, Loss: 0.16\n",
            "Iteration: 500/782, Loss: 0.23\n",
            "Epoch: 80/150, Test acc: 84.00, Train acc: 90.27\n",
            "Iteration: 0/782, Loss: 0.30\n",
            "Iteration: 500/782, Loss: 0.26\n",
            "Epoch: 81/150, Test acc: 83.74, Train acc: 90.61\n",
            "Iteration: 0/782, Loss: 0.25\n",
            "Iteration: 500/782, Loss: 0.31\n",
            "Epoch: 82/150, Test acc: 83.87, Train acc: 90.74\n",
            "Iteration: 0/782, Loss: 0.26\n",
            "Iteration: 500/782, Loss: 0.34\n",
            "Epoch: 83/150, Test acc: 84.50, Train acc: 91.15\n",
            "Iteration: 0/782, Loss: 0.43\n",
            "Iteration: 500/782, Loss: 0.57\n",
            "Epoch: 84/150, Test acc: 84.47, Train acc: 90.75\n",
            "Iteration: 0/782, Loss: 0.17\n",
            "Iteration: 500/782, Loss: 0.20\n",
            "Epoch: 85/150, Test acc: 84.18, Train acc: 90.82\n",
            "Iteration: 0/782, Loss: 0.30\n",
            "Iteration: 500/782, Loss: 0.31\n",
            "Epoch: 86/150, Test acc: 83.92, Train acc: 90.92\n",
            "Iteration: 0/782, Loss: 0.35\n",
            "Iteration: 500/782, Loss: 0.53\n",
            "Epoch: 87/150, Test acc: 84.18, Train acc: 91.16\n",
            "Iteration: 0/782, Loss: 0.34\n",
            "Iteration: 500/782, Loss: 0.22\n",
            "Epoch: 88/150, Test acc: 83.90, Train acc: 91.26\n",
            "Iteration: 0/782, Loss: 0.32\n",
            "Iteration: 500/782, Loss: 0.48\n",
            "Epoch: 89/150, Test acc: 83.79, Train acc: 91.07\n",
            "Iteration: 0/782, Loss: 0.18\n",
            "Iteration: 500/782, Loss: 0.25\n",
            "Epoch: 90/150, Test acc: 84.92, Train acc: 91.39\n",
            "Iteration: 0/782, Loss: 0.48\n",
            "Iteration: 500/782, Loss: 0.30\n",
            "Epoch: 91/150, Test acc: 84.66, Train acc: 91.25\n",
            "Iteration: 0/782, Loss: 0.23\n",
            "Iteration: 500/782, Loss: 0.40\n",
            "Epoch: 92/150, Test acc: 84.70, Train acc: 91.35\n",
            "Iteration: 0/782, Loss: 0.25\n",
            "Iteration: 500/782, Loss: 0.15\n",
            "Epoch: 93/150, Test acc: 83.87, Train acc: 91.19\n",
            "Iteration: 0/782, Loss: 0.40\n",
            "Iteration: 500/782, Loss: 0.32\n",
            "Epoch: 94/150, Test acc: 84.44, Train acc: 91.57\n",
            "Iteration: 0/782, Loss: 0.25\n",
            "Iteration: 500/782, Loss: 0.33\n",
            "Epoch: 95/150, Test acc: 83.62, Train acc: 91.03\n",
            "Iteration: 0/782, Loss: 0.14\n",
            "Iteration: 500/782, Loss: 0.25\n",
            "Epoch: 96/150, Test acc: 84.24, Train acc: 91.45\n",
            "Iteration: 0/782, Loss: 0.33\n",
            "Iteration: 500/782, Loss: 0.24\n",
            "Epoch: 97/150, Test acc: 84.15, Train acc: 91.31\n",
            "Iteration: 0/782, Loss: 0.18\n",
            "Iteration: 500/782, Loss: 0.26\n",
            "Epoch: 98/150, Test acc: 84.69, Train acc: 91.39\n",
            "Iteration: 0/782, Loss: 0.32\n",
            "Iteration: 500/782, Loss: 0.22\n",
            "Epoch: 99/150, Test acc: 84.19, Train acc: 91.43\n",
            "Iteration: 0/782, Loss: 0.53\n",
            "Iteration: 500/782, Loss: 0.21\n",
            "Epoch: 100/150, Test acc: 84.15, Train acc: 91.46\n",
            "Iteration: 0/782, Loss: 0.27\n",
            "Iteration: 500/782, Loss: 0.23\n",
            "Epoch: 101/150, Test acc: 83.90, Train acc: 91.65\n",
            "Iteration: 0/782, Loss: 0.12\n",
            "Iteration: 500/782, Loss: 0.08\n",
            "Epoch: 102/150, Test acc: 84.04, Train acc: 91.68\n",
            "Iteration: 0/782, Loss: 0.22\n",
            "Iteration: 500/782, Loss: 0.22\n",
            "Epoch: 103/150, Test acc: 83.87, Train acc: 91.47\n",
            "Iteration: 0/782, Loss: 0.31\n",
            "Iteration: 500/782, Loss: 0.24\n",
            "Epoch: 104/150, Test acc: 84.78, Train acc: 91.53\n",
            "Iteration: 0/782, Loss: 0.35\n",
            "Iteration: 500/782, Loss: 0.12\n",
            "Epoch: 105/150, Test acc: 84.24, Train acc: 91.61\n",
            "Iteration: 0/782, Loss: 0.27\n",
            "Iteration: 500/782, Loss: 0.40\n",
            "Epoch: 106/150, Test acc: 84.29, Train acc: 92.06\n",
            "Iteration: 0/782, Loss: 0.22\n",
            "Iteration: 500/782, Loss: 0.54\n",
            "Epoch: 107/150, Test acc: 84.55, Train acc: 91.68\n",
            "Iteration: 0/782, Loss: 0.30\n",
            "Iteration: 500/782, Loss: 0.25\n",
            "Epoch: 108/150, Test acc: 84.34, Train acc: 92.33\n",
            "Iteration: 0/782, Loss: 0.21\n",
            "Iteration: 500/782, Loss: 0.35\n",
            "Epoch: 109/150, Test acc: 84.55, Train acc: 91.94\n",
            "Iteration: 0/782, Loss: 0.32\n",
            "Iteration: 500/782, Loss: 0.13\n",
            "Epoch: 110/150, Test acc: 84.61, Train acc: 91.74\n",
            "Iteration: 0/782, Loss: 0.21\n",
            "Iteration: 500/782, Loss: 0.20\n",
            "Epoch: 111/150, Test acc: 84.30, Train acc: 92.17\n",
            "Iteration: 0/782, Loss: 0.22\n",
            "Iteration: 500/782, Loss: 0.35\n",
            "Epoch: 112/150, Test acc: 84.18, Train acc: 92.16\n",
            "Iteration: 0/782, Loss: 0.16\n",
            "Iteration: 500/782, Loss: 0.12\n",
            "Epoch: 113/150, Test acc: 84.07, Train acc: 92.02\n",
            "Iteration: 0/782, Loss: 0.16\n",
            "Iteration: 500/782, Loss: 0.23\n",
            "Epoch: 114/150, Test acc: 84.97, Train acc: 92.19\n",
            "Iteration: 0/782, Loss: 0.24\n",
            "Iteration: 500/782, Loss: 0.29\n",
            "Epoch: 115/150, Test acc: 84.38, Train acc: 92.51\n",
            "Iteration: 0/782, Loss: 0.43\n",
            "Iteration: 500/782, Loss: 0.27\n",
            "Epoch: 116/150, Test acc: 84.55, Train acc: 92.24\n",
            "Iteration: 0/782, Loss: 0.32\n",
            "Iteration: 500/782, Loss: 0.05\n",
            "Epoch: 117/150, Test acc: 84.71, Train acc: 92.26\n",
            "Iteration: 0/782, Loss: 0.20\n",
            "Iteration: 500/782, Loss: 0.09\n",
            "Epoch: 118/150, Test acc: 84.48, Train acc: 92.40\n",
            "Iteration: 0/782, Loss: 0.26\n",
            "Iteration: 500/782, Loss: 0.34\n",
            "Epoch: 119/150, Test acc: 84.56, Train acc: 92.54\n",
            "Iteration: 0/782, Loss: 0.13\n",
            "Iteration: 500/782, Loss: 0.30\n",
            "Epoch: 120/150, Test acc: 84.11, Train acc: 92.38\n",
            "Iteration: 0/782, Loss: 0.11\n",
            "Iteration: 500/782, Loss: 0.15\n",
            "Epoch: 121/150, Test acc: 84.89, Train acc: 92.49\n",
            "Iteration: 0/782, Loss: 0.17\n",
            "Iteration: 500/782, Loss: 0.01\n",
            "Epoch: 122/150, Test acc: 84.68, Train acc: 92.48\n",
            "Iteration: 0/782, Loss: 0.23\n",
            "Iteration: 500/782, Loss: 0.24\n",
            "Epoch: 123/150, Test acc: 84.63, Train acc: 92.72\n",
            "Iteration: 0/782, Loss: 0.18\n",
            "Iteration: 500/782, Loss: 0.09\n",
            "Epoch: 124/150, Test acc: 84.75, Train acc: 92.72\n",
            "Iteration: 0/782, Loss: 0.24\n",
            "Iteration: 500/782, Loss: 0.16\n",
            "Epoch: 125/150, Test acc: 84.90, Train acc: 92.66\n",
            "Iteration: 0/782, Loss: 0.24\n",
            "Iteration: 500/782, Loss: 0.17\n",
            "Epoch: 126/150, Test acc: 84.72, Train acc: 92.76\n",
            "Iteration: 0/782, Loss: 0.23\n",
            "Iteration: 500/782, Loss: 0.17\n",
            "Epoch: 127/150, Test acc: 84.68, Train acc: 92.65\n",
            "Iteration: 0/782, Loss: 0.18\n",
            "Iteration: 500/782, Loss: 0.22\n",
            "Epoch: 128/150, Test acc: 85.03, Train acc: 92.76\n",
            "Iteration: 0/782, Loss: 0.26\n",
            "Iteration: 500/782, Loss: 0.28\n",
            "Epoch: 129/150, Test acc: 84.99, Train acc: 92.75\n",
            "Iteration: 0/782, Loss: 0.31\n",
            "Iteration: 500/782, Loss: 0.18\n",
            "Epoch: 130/150, Test acc: 84.20, Train acc: 93.27\n",
            "Iteration: 0/782, Loss: 0.27\n",
            "Iteration: 500/782, Loss: 0.17\n",
            "Epoch: 131/150, Test acc: 84.51, Train acc: 92.76\n",
            "Iteration: 0/782, Loss: 0.29\n",
            "Iteration: 500/782, Loss: 0.19\n",
            "Epoch: 132/150, Test acc: 84.54, Train acc: 92.82\n",
            "Iteration: 0/782, Loss: 0.23\n",
            "Iteration: 500/782, Loss: 0.15\n",
            "Epoch: 133/150, Test acc: 84.25, Train acc: 93.07\n",
            "Iteration: 0/782, Loss: 0.13\n",
            "Iteration: 500/782, Loss: 0.18\n",
            "Epoch: 134/150, Test acc: 84.30, Train acc: 92.52\n",
            "Iteration: 0/782, Loss: 0.48\n",
            "Iteration: 500/782, Loss: 0.26\n",
            "Epoch: 135/150, Test acc: 84.54, Train acc: 92.81\n",
            "Iteration: 0/782, Loss: 0.63\n",
            "Iteration: 500/782, Loss: 0.17\n",
            "Epoch: 136/150, Test acc: 84.47, Train acc: 93.02\n",
            "Iteration: 0/782, Loss: 0.15\n",
            "Iteration: 500/782, Loss: 0.29\n",
            "Epoch: 137/150, Test acc: 84.53, Train acc: 93.03\n",
            "Iteration: 0/782, Loss: 0.23\n",
            "Iteration: 500/782, Loss: 0.21\n",
            "Epoch: 138/150, Test acc: 84.69, Train acc: 92.85\n",
            "Iteration: 0/782, Loss: 0.10\n",
            "Iteration: 500/782, Loss: 0.21\n",
            "Epoch: 139/150, Test acc: 84.90, Train acc: 93.12\n",
            "Iteration: 0/782, Loss: 0.12\n",
            "Iteration: 500/782, Loss: 0.15\n",
            "Epoch: 140/150, Test acc: 84.53, Train acc: 92.96\n",
            "Iteration: 0/782, Loss: 0.14\n",
            "Iteration: 500/782, Loss: 0.17\n",
            "Epoch: 141/150, Test acc: 83.95, Train acc: 93.25\n",
            "Iteration: 0/782, Loss: 0.15\n",
            "Iteration: 500/782, Loss: 0.16\n",
            "Epoch: 142/150, Test acc: 84.29, Train acc: 93.02\n",
            "Iteration: 0/782, Loss: 0.21\n",
            "Iteration: 500/782, Loss: 0.25\n",
            "Epoch: 143/150, Test acc: 84.57, Train acc: 93.02\n",
            "Iteration: 0/782, Loss: 0.18\n",
            "Iteration: 500/782, Loss: 0.20\n",
            "Epoch: 144/150, Test acc: 84.82, Train acc: 93.23\n",
            "Iteration: 0/782, Loss: 0.27\n",
            "Iteration: 500/782, Loss: 0.21\n",
            "Epoch: 145/150, Test acc: 84.52, Train acc: 93.10\n",
            "Iteration: 0/782, Loss: 0.19\n",
            "Iteration: 500/782, Loss: 0.13\n",
            "Epoch: 146/150, Test acc: 84.66, Train acc: 93.22\n",
            "Iteration: 0/782, Loss: 0.21\n",
            "Iteration: 500/782, Loss: 0.21\n",
            "Epoch: 147/150, Test acc: 84.88, Train acc: 93.28\n",
            "Iteration: 0/782, Loss: 0.19\n",
            "Iteration: 500/782, Loss: 0.08\n",
            "Epoch: 148/150, Test acc: 84.78, Train acc: 93.26\n",
            "Iteration: 0/782, Loss: 0.17\n",
            "Iteration: 500/782, Loss: 0.12\n",
            "Epoch: 149/150, Test acc: 84.83, Train acc: 93.20\n",
            "Iteration: 0/782, Loss: 0.25\n",
            "Iteration: 500/782, Loss: 0.28\n",
            "Epoch: 150/150, Test acc: 84.55, Train acc: 93.63\n"
          ],
          "name": "stdout"
        }
      ]
    },
    {
      "cell_type": "markdown",
      "metadata": {
        "id": "EqH_R222HTqB"
      },
      "source": [
        "## Training Last 10 epochs without Random Eraser"
      ]
    },
    {
      "cell_type": "code",
      "metadata": {
        "colab": {
          "base_uri": "https://localhost:8080/"
        },
        "id": "aeWokPRr6Q--",
        "outputId": "939d4c33-9b72-4bf9-df93-d337c6497056"
      },
      "source": [
        "transform_train = transforms.Compose([\n",
        "    transforms.RandomRotation((-14.0, 14.0)),\n",
        "    transforms.ToTensor(),\n",
        "    transforms.Normalize((0.4913997551666284, 0.48215855929893703, 0.4465309133731618), (0.24703225141799082, 0.24348516474564, 0.26158783926049628)),\n",
        "    ])\n",
        "\n",
        "transform_test = transforms.Compose([\n",
        "    transforms.ToTensor(),\n",
        "    transforms.Normalize((0.4913997551666284, 0.48215855929893703, 0.4465309133731618), (0.24703225141799082, 0.24348516474564, 0.26158783926049628)),\n",
        "    ])\n",
        "\n",
        "trainset = torchvision.datasets.CIFAR10(root='./data', train=True, \n",
        "                                        download=True, \n",
        "                                        transform=transform_train)\n",
        "testset = torchvision.datasets.CIFAR10(root='./data', train=False, \n",
        "                                        download=True, \n",
        "                                        transform=transform_test)\n",
        "\n",
        "\n",
        "trainloader = torch.utils.data.DataLoader(trainset,batch_size=batch_size,shuffle = True)\n"
      ],
      "execution_count": null,
      "outputs": [
        {
          "output_type": "stream",
          "text": [
            "Files already downloaded and verified\n",
            "Files already downloaded and verified\n"
          ],
          "name": "stdout"
        }
      ]
    },
    {
      "cell_type": "code",
      "metadata": {
        "colab": {
          "base_uri": "https://localhost:8080/"
        },
        "id": "uUsZOrgr6Q_A",
        "outputId": "e010d0ab-64cd-414b-f685-80440b2428b6"
      },
      "source": [
        "max_epochs = 10\n",
        "\n",
        "n_iters = np.ceil(50000/batch_size)\n",
        "\n",
        "for epoch in range(max_epochs):\n",
        "\n",
        "    for i, data in enumerate(trainloader, 0):\n",
        "\n",
        "        inputs, labels = data\n",
        "        inputs, labels = inputs.to(device), labels.to(device)\n",
        "\n",
        "        opt.zero_grad()\n",
        "\n",
        "        outputs = net(inputs)\n",
        "        loss = loss_fn(outputs, labels)\n",
        "        loss.backward()\n",
        "        opt.step()\n",
        "        #scheduler.step()\n",
        "        \n",
        "        del inputs, labels, outputs\n",
        "        torch.cuda.empty_cache()\n",
        "        \n",
        "        if i % 500 == 0:\n",
        "            print('Iteration: %d/%d, Loss: %0.2f' % (i, n_iters, loss.item()))\n",
        "        \n",
        "    loss_epoch_arr.append(loss.item())\n",
        "    train_acc.append(evaluation(trainloader, net))\n",
        "    val_acc.append(evaluation(testloader, net))\n",
        "\n",
        "        \n",
        "    print('Epoch: %d/%d, Test acc: %0.2f, Train acc: %0.2f' % (\n",
        "        epoch + 1, max_epochs, \n",
        "        evaluation(testloader, net), evaluation(trainloader, net)))\n"
      ],
      "execution_count": null,
      "outputs": [
        {
          "output_type": "stream",
          "text": [
            "Iteration: 0/782, Loss: 0.08\n",
            "Iteration: 500/782, Loss: 0.02\n",
            "Epoch: 1/10, Test acc: 84.69, Train acc: 97.58\n",
            "Iteration: 0/782, Loss: 0.17\n",
            "Iteration: 500/782, Loss: 0.10\n",
            "Epoch: 2/10, Test acc: 84.88, Train acc: 97.48\n",
            "Iteration: 0/782, Loss: 0.08\n",
            "Iteration: 500/782, Loss: 0.10\n",
            "Epoch: 3/10, Test acc: 84.81, Train acc: 97.40\n",
            "Iteration: 0/782, Loss: 0.07\n",
            "Iteration: 500/782, Loss: 0.09\n",
            "Epoch: 4/10, Test acc: 84.39, Train acc: 97.49\n",
            "Iteration: 0/782, Loss: 0.04\n",
            "Iteration: 500/782, Loss: 0.13\n",
            "Epoch: 5/10, Test acc: 85.02, Train acc: 97.80\n",
            "Iteration: 0/782, Loss: 0.04\n",
            "Iteration: 500/782, Loss: 0.05\n",
            "Epoch: 6/10, Test acc: 84.74, Train acc: 97.62\n",
            "Iteration: 0/782, Loss: 0.02\n",
            "Iteration: 500/782, Loss: 0.00\n",
            "Epoch: 7/10, Test acc: 85.05, Train acc: 97.77\n",
            "Iteration: 0/782, Loss: 0.02\n",
            "Iteration: 500/782, Loss: 0.06\n",
            "Epoch: 8/10, Test acc: 84.99, Train acc: 97.80\n",
            "Iteration: 0/782, Loss: 0.02\n",
            "Iteration: 500/782, Loss: 0.05\n",
            "Epoch: 9/10, Test acc: 85.12, Train acc: 97.69\n",
            "Iteration: 0/782, Loss: 0.06\n",
            "Iteration: 500/782, Loss: 0.11\n",
            "Epoch: 10/10, Test acc: 84.84, Train acc: 97.63\n"
          ],
          "name": "stdout"
        }
      ]
    },
    {
      "cell_type": "code",
      "metadata": {
        "colab": {
          "base_uri": "https://localhost:8080/",
          "height": 295
        },
        "id": "6wn_r0PO8sHQ",
        "outputId": "400fa2a4-01e3-4df5-d2c9-0c6182ab1c90"
      },
      "source": [
        "import matplotlib.pyplot as plt\n",
        "\n",
        "fig, ax = plt.subplots()\n",
        "\n",
        "ax.plot(train_acc,label='Train')\n",
        "ax.plot(val_acc, label='Validation')\n",
        "\n",
        "plt.title(\"Accuracy Curves\")\n",
        "plt.xlabel(\"Epoch\")\n",
        "plt.ylabel(\"Accuracy\")\n",
        "leg = ax.legend();\n",
        "\n",
        "plt.savefig(\"Accuracy curves\")"
      ],
      "execution_count": null,
      "outputs": [
        {
          "output_type": "display_data",
          "data": {
            "image/png": "[encoded data removed]",
            "text/plain": [
              "<Figure size 432x288 with 1 Axes>"
            ]
          },
          "metadata": {
            "tags": [],
            "needs_background": "light"
          }
        }
      ]
    },
    {
      "cell_type": "code",
      "metadata": {
        "colab": {
          "base_uri": "https://localhost:8080/",
          "height": 295
        },
        "id": "Qi4FmwCgx7LQ",
        "outputId": "61501b72-9b9b-42dd-eb6b-558db8c614ba"
      },
      "source": [
        "plt.plot(loss_epoch_arr)\n",
        "plt.title(\"Loss Curve\")\n",
        "plt.xlabel(\"Epoch\")\n",
        "plt.ylabel(\"Loss\")\n",
        "\n",
        "plt.show()"
      ],
      "execution_count": null,
      "outputs": [
        {
          "output_type": "display_data",
          "data": {
            "image/png": "[encoded data removed]",
            "text/plain": [
              "<Figure size 432x288 with 1 Axes>"
            ]
          },
          "metadata": {
            "tags": [],
            "needs_background": "light"
          }
        }
      ]
    },
    {
      "cell_type": "markdown",
      "metadata": {
        "id": "Q04WhrlF1LjI"
      },
      "source": [
        "#Testing Model on a random image"
      ]
    },
    {
      "cell_type": "code",
      "metadata": {
        "id": "WflQSEIi3wcB"
      },
      "source": [
        "testloader = torch.utils.data.DataLoader(testset, batch_size = 4, shuffle=True)\n",
        "for data in testloader:\n",
        "  image , label = data\n",
        "  break"
      ],
      "execution_count": null,
      "outputs": []
    },
    {
      "cell_type": "code",
      "metadata": {
        "colab": {
          "base_uri": "https://localhost:8080/",
          "height": 1000
        },
        "id": "6ak2MNDo1QR6",
        "outputId": "dfaa1688-5757-4570-ca23-0d974483236f"
      },
      "source": [
        "\n",
        "for img , label in zip(image , label):\n",
        "  _,prediction = torch.max(net(img.unsqueeze(0)).data,1)\n",
        "  plt.imshow(img.permute(1,2,0))\n",
        "  plt.title(f\"True Label : {trainset.classes[label.item()]} ; Predicted Label : {trainset.classes[prediction]}\")\n",
        "  plt.show()"
      ],
      "execution_count": null,
      "outputs": [
        {
          "output_type": "stream",
          "text": [
            "Clipping input data to the valid range for imshow with RGB data ([0..1] for floats or [0..255] for integers).\n"
          ],
          "name": "stderr"
        },
        {
          "output_type": "display_data",
          "data": {
            "image/png": "[encoded data removed]",
            "text/plain": [
              "<Figure size 432x288 with 1 Axes>"
            ]
          },
          "metadata": {
            "tags": [],
            "needs_background": "light"
          }
        },
        {
          "output_type": "stream",
          "text": [
            "Clipping input data to the valid range for imshow with RGB data ([0..1] for floats or [0..255] for integers).\n"
          ],
          "name": "stderr"
        },
        {
          "output_type": "display_data",
          "data": {
            "image/png": "[encoded data removed]",
            "text/plain": [
              "<Figure size 432x288 with 1 Axes>"
            ]
          },
          "metadata": {
            "tags": [],
            "needs_background": "light"
          }
        },
        {
          "output_type": "stream",
          "text": [
            "Clipping input data to the valid range for imshow with RGB data ([0..1] for floats or [0..255] for integers).\n"
          ],
          "name": "stderr"
        },
        {
          "output_type": "display_data",
          "data": {
            "image/png": "[encoded data removed]",
            "text/plain": [
              "<Figure size 432x288 with 1 Axes>"
            ]
          },
          "metadata": {
            "tags": [],
            "needs_background": "light"
          }
        },
        {
          "output_type": "stream",
          "text": [
            "Clipping input data to the valid range for imshow with RGB data ([0..1] for floats or [0..255] for integers).\n"
          ],
          "name": "stderr"
        },
        {
          "output_type": "display_data",
          "data": {
            "image/png": "[encoded data removed]",
            "text/plain": [
              "<Figure size 432x288 with 1 Axes>"
            ]
          },
          "metadata": {
            "tags": [],
            "needs_background": "light"
          }
        }
      ]
    },
    {
      "cell_type": "code",
      "metadata": {
        "colab": {
          "base_uri": "https://localhost:8080/",
          "height": 35
        },
        "id": "xWIdedxJyNA1",
        "outputId": "a57e0dfc-b3ed-4cee-a898-af6054d811b1"
      },
      "source": [
        "net_cpu = net.to('cpu')\n",
        "_,prediction = torch.max(net(image[11].unsqueeze(0)).data,1)\n",
        "trainset.classes[prediction]"
      ],
      "execution_count": null,
      "outputs": [
        {
          "output_type": "execute_result",
          "data": {
            "application/vnd.google.colaboratory.intrinsic+json": {
              "type": "string"
            },
            "text/plain": [
              "'truck'"
            ]
          },
          "metadata": {
            "tags": []
          },
          "execution_count": 77
        }
      ]
    },
    {
      "cell_type": "code",
      "metadata": {
        "colab": {
          "base_uri": "https://localhost:8080/"
        },
        "id": "Ll-44nWW1Fw8",
        "outputId": "20ea63cc-1de2-41cb-c778-38ca5c0272f5"
      },
      "source": [
        "for img , l in zip(image,label):\n",
        "  print(img.shape , l)"
      ],
      "execution_count": null,
      "outputs": [
        {
          "output_type": "stream",
          "text": [
            "torch.Size([3, 32, 32]) tensor(3)\n",
            "torch.Size([3, 32, 32]) tensor(8)\n",
            "torch.Size([3, 32, 32]) tensor(8)\n",
            "torch.Size([3, 32, 32]) tensor(0)\n"
          ],
          "name": "stdout"
        }
      ]
    },
    {
      "cell_type": "code",
      "metadata": {
        "colab": {
          "base_uri": "https://localhost:8080/"
        },
        "id": "1JyN0iGr3fKl",
        "outputId": "10c791ff-6242-4156-f953-d0c8c073d90f"
      },
      "source": [
        "for l in label:\n",
        "  print(l)"
      ],
      "execution_count": null,
      "outputs": [
        {
          "output_type": "stream",
          "text": [
            "tensor(3)\n",
            "tensor(8)\n",
            "tensor(8)\n",
            "tensor(0)\n"
          ],
          "name": "stdout"
        }
      ]
    },
    {
      "cell_type": "markdown",
      "metadata": {
        "id": "bSL_OBSVkjIS"
      },
      "source": [
        "## Train VGG16 to compare with custom model performance"
      ]
    },
    {
      "cell_type": "code",
      "metadata": {
        "id": "Fb9XObZzYkKO"
      },
      "source": [
        "from torchvision import models"
      ],
      "execution_count": 1,
      "outputs": []
    },
    {
      "cell_type": "code",
      "metadata": {
        "id": "ISwyTZJXYm0F"
      },
      "source": [
        "vgg = models.vgg16_bn().to(device)"
      ],
      "execution_count": 7,
      "outputs": []
    },
    {
      "cell_type": "code",
      "metadata": {
        "id": "mMU__2lMHzvF",
        "outputId": "abde5818-6d80-4862-aa75-233b50789d90",
        "colab": {
          "base_uri": "https://localhost:8080/"
        }
      },
      "source": [
        "from torchsummary import summary\n",
        "\n",
        "print(summary(vgg, (3, 32, 32)))\n"
      ],
      "execution_count": 8,
      "outputs": [
        {
          "output_type": "stream",
          "text": [
            "----------------------------------------------------------------\n",
            "        Layer (type)               Output Shape         Param #\n",
            "================================================================\n",
            "            Conv2d-1           [-1, 64, 32, 32]           1,792\n",
            "       BatchNorm2d-2           [-1, 64, 32, 32]             128\n",
            "              ReLU-3           [-1, 64, 32, 32]               0\n",
            "            Conv2d-4           [-1, 64, 32, 32]          36,928\n",
            "       BatchNorm2d-5           [-1, 64, 32, 32]             128\n",
            "              ReLU-6           [-1, 64, 32, 32]               0\n",
            "         MaxPool2d-7           [-1, 64, 16, 16]               0\n",
            "            Conv2d-8          [-1, 128, 16, 16]          73,856\n",
            "       BatchNorm2d-9          [-1, 128, 16, 16]             256\n",
            "             ReLU-10          [-1, 128, 16, 16]               0\n",
            "           Conv2d-11          [-1, 128, 16, 16]         147,584\n",
            "      BatchNorm2d-12          [-1, 128, 16, 16]             256\n",
            "             ReLU-13          [-1, 128, 16, 16]               0\n",
            "        MaxPool2d-14            [-1, 128, 8, 8]               0\n",
            "           Conv2d-15            [-1, 256, 8, 8]         295,168\n",
            "      BatchNorm2d-16            [-1, 256, 8, 8]             512\n",
            "             ReLU-17            [-1, 256, 8, 8]               0\n",
            "           Conv2d-18            [-1, 256, 8, 8]         590,080\n",
            "      BatchNorm2d-19            [-1, 256, 8, 8]             512\n",
            "             ReLU-20            [-1, 256, 8, 8]               0\n",
            "           Conv2d-21            [-1, 256, 8, 8]         590,080\n",
            "      BatchNorm2d-22            [-1, 256, 8, 8]             512\n",
            "             ReLU-23            [-1, 256, 8, 8]               0\n",
            "        MaxPool2d-24            [-1, 256, 4, 4]               0\n",
            "           Conv2d-25            [-1, 512, 4, 4]       1,180,160\n",
            "      BatchNorm2d-26            [-1, 512, 4, 4]           1,024\n",
            "             ReLU-27            [-1, 512, 4, 4]               0\n",
            "           Conv2d-28            [-1, 512, 4, 4]       2,359,808\n",
            "      BatchNorm2d-29            [-1, 512, 4, 4]           1,024\n",
            "             ReLU-30            [-1, 512, 4, 4]               0\n",
            "           Conv2d-31            [-1, 512, 4, 4]       2,359,808\n",
            "      BatchNorm2d-32            [-1, 512, 4, 4]           1,024\n",
            "             ReLU-33            [-1, 512, 4, 4]               0\n",
            "        MaxPool2d-34            [-1, 512, 2, 2]               0\n",
            "           Conv2d-35            [-1, 512, 2, 2]       2,359,808\n",
            "      BatchNorm2d-36            [-1, 512, 2, 2]           1,024\n",
            "             ReLU-37            [-1, 512, 2, 2]               0\n",
            "           Conv2d-38            [-1, 512, 2, 2]       2,359,808\n",
            "      BatchNorm2d-39            [-1, 512, 2, 2]           1,024\n",
            "             ReLU-40            [-1, 512, 2, 2]               0\n",
            "           Conv2d-41            [-1, 512, 2, 2]       2,359,808\n",
            "      BatchNorm2d-42            [-1, 512, 2, 2]           1,024\n",
            "             ReLU-43            [-1, 512, 2, 2]               0\n",
            "        MaxPool2d-44            [-1, 512, 1, 1]               0\n",
            "AdaptiveAvgPool2d-45            [-1, 512, 7, 7]               0\n",
            "           Linear-46                 [-1, 4096]     102,764,544\n",
            "             ReLU-47                 [-1, 4096]               0\n",
            "          Dropout-48                 [-1, 4096]               0\n",
            "           Linear-49                 [-1, 4096]      16,781,312\n",
            "             ReLU-50                 [-1, 4096]               0\n",
            "          Dropout-51                 [-1, 4096]               0\n",
            "           Linear-52                 [-1, 1000]       4,097,000\n",
            "================================================================\n",
            "Total params: 138,365,992\n",
            "Trainable params: 138,365,992\n",
            "Non-trainable params: 0\n",
            "----------------------------------------------------------------\n",
            "Input size (MB): 0.01\n",
            "Forward/backward pass size (MB): 6.95\n",
            "Params size (MB): 527.82\n",
            "Estimated Total Size (MB): 534.79\n",
            "----------------------------------------------------------------\n",
            "None\n"
          ],
          "name": "stdout"
        }
      ]
    },
    {
      "cell_type": "code",
      "metadata": {
        "id": "-pT_Kh_5ZRLG",
        "colab": {
          "base_uri": "https://localhost:8080/"
        },
        "outputId": "99d1de15-9f6d-4748-8016-bb41ea100ed3"
      },
      "source": [
        "print(vgg)"
      ],
      "execution_count": null,
      "outputs": [
        {
          "output_type": "stream",
          "text": [
            "VGG(\n",
            "  (features): Sequential(\n",
            "    (0): Conv2d(3, 64, kernel_size=(3, 3), stride=(1, 1), padding=(1, 1))\n",
            "    (1): BatchNorm2d(64, eps=1e-05, momentum=0.1, affine=True, track_running_stats=True)\n",
            "    (2): ReLU(inplace=True)\n",
            "    (3): Conv2d(64, 64, kernel_size=(3, 3), stride=(1, 1), padding=(1, 1))\n",
            "    (4): BatchNorm2d(64, eps=1e-05, momentum=0.1, affine=True, track_running_stats=True)\n",
            "    (5): ReLU(inplace=True)\n",
            "    (6): MaxPool2d(kernel_size=2, stride=2, padding=0, dilation=1, ceil_mode=False)\n",
            "    (7): Conv2d(64, 128, kernel_size=(3, 3), stride=(1, 1), padding=(1, 1))\n",
            "    (8): BatchNorm2d(128, eps=1e-05, momentum=0.1, affine=True, track_running_stats=True)\n",
            "    (9): ReLU(inplace=True)\n",
            "    (10): Conv2d(128, 128, kernel_size=(3, 3), stride=(1, 1), padding=(1, 1))\n",
            "    (11): BatchNorm2d(128, eps=1e-05, momentum=0.1, affine=True, track_running_stats=True)\n",
            "    (12): ReLU(inplace=True)\n",
            "    (13): MaxPool2d(kernel_size=2, stride=2, padding=0, dilation=1, ceil_mode=False)\n",
            "    (14): Conv2d(128, 256, kernel_size=(3, 3), stride=(1, 1), padding=(1, 1))\n",
            "    (15): BatchNorm2d(256, eps=1e-05, momentum=0.1, affine=True, track_running_stats=True)\n",
            "    (16): ReLU(inplace=True)\n",
            "    (17): Conv2d(256, 256, kernel_size=(3, 3), stride=(1, 1), padding=(1, 1))\n",
            "    (18): BatchNorm2d(256, eps=1e-05, momentum=0.1, affine=True, track_running_stats=True)\n",
            "    (19): ReLU(inplace=True)\n",
            "    (20): Conv2d(256, 256, kernel_size=(3, 3), stride=(1, 1), padding=(1, 1))\n",
            "    (21): BatchNorm2d(256, eps=1e-05, momentum=0.1, affine=True, track_running_stats=True)\n",
            "    (22): ReLU(inplace=True)\n",
            "    (23): MaxPool2d(kernel_size=2, stride=2, padding=0, dilation=1, ceil_mode=False)\n",
            "    (24): Conv2d(256, 512, kernel_size=(3, 3), stride=(1, 1), padding=(1, 1))\n",
            "    (25): BatchNorm2d(512, eps=1e-05, momentum=0.1, affine=True, track_running_stats=True)\n",
            "    (26): ReLU(inplace=True)\n",
            "    (27): Conv2d(512, 512, kernel_size=(3, 3), stride=(1, 1), padding=(1, 1))\n",
            "    (28): BatchNorm2d(512, eps=1e-05, momentum=0.1, affine=True, track_running_stats=True)\n",
            "    (29): ReLU(inplace=True)\n",
            "    (30): Conv2d(512, 512, kernel_size=(3, 3), stride=(1, 1), padding=(1, 1))\n",
            "    (31): BatchNorm2d(512, eps=1e-05, momentum=0.1, affine=True, track_running_stats=True)\n",
            "    (32): ReLU(inplace=True)\n",
            "    (33): MaxPool2d(kernel_size=2, stride=2, padding=0, dilation=1, ceil_mode=False)\n",
            "    (34): Conv2d(512, 512, kernel_size=(3, 3), stride=(1, 1), padding=(1, 1))\n",
            "    (35): BatchNorm2d(512, eps=1e-05, momentum=0.1, affine=True, track_running_stats=True)\n",
            "    (36): ReLU(inplace=True)\n",
            "    (37): Conv2d(512, 512, kernel_size=(3, 3), stride=(1, 1), padding=(1, 1))\n",
            "    (38): BatchNorm2d(512, eps=1e-05, momentum=0.1, affine=True, track_running_stats=True)\n",
            "    (39): ReLU(inplace=True)\n",
            "    (40): Conv2d(512, 512, kernel_size=(3, 3), stride=(1, 1), padding=(1, 1))\n",
            "    (41): BatchNorm2d(512, eps=1e-05, momentum=0.1, affine=True, track_running_stats=True)\n",
            "    (42): ReLU(inplace=True)\n",
            "    (43): MaxPool2d(kernel_size=2, stride=2, padding=0, dilation=1, ceil_mode=False)\n",
            "  )\n",
            "  (avgpool): AdaptiveAvgPool2d(output_size=(7, 7))\n",
            "  (classifier): Sequential(\n",
            "    (0): Linear(in_features=25088, out_features=4096, bias=True)\n",
            "    (1): ReLU(inplace=True)\n",
            "    (2): Dropout(p=0.5, inplace=False)\n",
            "    (3): Linear(in_features=4096, out_features=4096, bias=True)\n",
            "    (4): ReLU(inplace=True)\n",
            "    (5): Dropout(p=0.5, inplace=False)\n",
            "    (6): Linear(in_features=4096, out_features=1000, bias=True)\n",
            "  )\n",
            ")\n"
          ],
          "name": "stdout"
        }
      ]
    },
    {
      "cell_type": "code",
      "metadata": {
        "id": "Td9RCK80ZdTg",
        "colab": {
          "base_uri": "https://localhost:8080/"
        },
        "outputId": "2276e1e0-6132-47da-af43-c0634c08224f"
      },
      "source": [
        "print(vgg.features[0])"
      ],
      "execution_count": null,
      "outputs": [
        {
          "output_type": "stream",
          "text": [
            "Conv2d(3, 64, kernel_size=(3, 3), stride=(1, 1), padding=(1, 1))\n"
          ],
          "name": "stdout"
        }
      ]
    },
    {
      "cell_type": "code",
      "metadata": {
        "id": "DBBYzV3uaNgz",
        "colab": {
          "base_uri": "https://localhost:8080/"
        },
        "outputId": "a5c0b20d-fad5-4a2e-d730-26cfc37af545"
      },
      "source": [
        "# Another way\n",
        "\n",
        "#  store the last layers input features\n",
        "final_in_features = vgg.classifier[6].in_features\n",
        "\n",
        "# create a modified classifier as containing all the childrens of vgg classifier except the last one\n",
        "\n",
        "modified_classifier = list(vgg.classifier.children())[:-1]\n",
        "\n",
        "#and now extend the modified classifier to add one new layer\n",
        "modified_classifier.extend([nn.Linear(final_in_features,num_classes)])\n",
        "\n",
        "print(modified_classifier)"
      ],
      "execution_count": null,
      "outputs": [
        {
          "output_type": "stream",
          "text": [
            "[Linear(in_features=25088, out_features=4096, bias=True), ReLU(inplace=True), Dropout(p=0.5, inplace=False), Linear(in_features=4096, out_features=4096, bias=True), ReLU(inplace=True), Dropout(p=0.5, inplace=False), Linear(in_features=4096, out_features=10, bias=True)]\n"
          ],
          "name": "stdout"
        }
      ]
    },
    {
      "cell_type": "code",
      "metadata": {
        "id": "mQSQWKOnbnyN",
        "colab": {
          "base_uri": "https://localhost:8080/"
        },
        "outputId": "5f09a2bd-e9c1-4c77-b9f7-0a0c737ecebc"
      },
      "source": [
        "# In VGG classifier the sequential will now corresponds to this new arrangement\n",
        "vgg.classifier = nn.Sequential(*modified_classifier)\n",
        "print(vgg)"
      ],
      "execution_count": null,
      "outputs": [
        {
          "output_type": "stream",
          "text": [
            "VGG(\n",
            "  (features): Sequential(\n",
            "    (0): Conv2d(3, 64, kernel_size=(3, 3), stride=(1, 1), padding=(1, 1))\n",
            "    (1): BatchNorm2d(64, eps=1e-05, momentum=0.1, affine=True, track_running_stats=True)\n",
            "    (2): ReLU(inplace=True)\n",
            "    (3): Conv2d(64, 64, kernel_size=(3, 3), stride=(1, 1), padding=(1, 1))\n",
            "    (4): BatchNorm2d(64, eps=1e-05, momentum=0.1, affine=True, track_running_stats=True)\n",
            "    (5): ReLU(inplace=True)\n",
            "    (6): MaxPool2d(kernel_size=2, stride=2, padding=0, dilation=1, ceil_mode=False)\n",
            "    (7): Conv2d(64, 128, kernel_size=(3, 3), stride=(1, 1), padding=(1, 1))\n",
            "    (8): BatchNorm2d(128, eps=1e-05, momentum=0.1, affine=True, track_running_stats=True)\n",
            "    (9): ReLU(inplace=True)\n",
            "    (10): Conv2d(128, 128, kernel_size=(3, 3), stride=(1, 1), padding=(1, 1))\n",
            "    (11): BatchNorm2d(128, eps=1e-05, momentum=0.1, affine=True, track_running_stats=True)\n",
            "    (12): ReLU(inplace=True)\n",
            "    (13): MaxPool2d(kernel_size=2, stride=2, padding=0, dilation=1, ceil_mode=False)\n",
            "    (14): Conv2d(128, 256, kernel_size=(3, 3), stride=(1, 1), padding=(1, 1))\n",
            "    (15): BatchNorm2d(256, eps=1e-05, momentum=0.1, affine=True, track_running_stats=True)\n",
            "    (16): ReLU(inplace=True)\n",
            "    (17): Conv2d(256, 256, kernel_size=(3, 3), stride=(1, 1), padding=(1, 1))\n",
            "    (18): BatchNorm2d(256, eps=1e-05, momentum=0.1, affine=True, track_running_stats=True)\n",
            "    (19): ReLU(inplace=True)\n",
            "    (20): Conv2d(256, 256, kernel_size=(3, 3), stride=(1, 1), padding=(1, 1))\n",
            "    (21): BatchNorm2d(256, eps=1e-05, momentum=0.1, affine=True, track_running_stats=True)\n",
            "    (22): ReLU(inplace=True)\n",
            "    (23): MaxPool2d(kernel_size=2, stride=2, padding=0, dilation=1, ceil_mode=False)\n",
            "    (24): Conv2d(256, 512, kernel_size=(3, 3), stride=(1, 1), padding=(1, 1))\n",
            "    (25): BatchNorm2d(512, eps=1e-05, momentum=0.1, affine=True, track_running_stats=True)\n",
            "    (26): ReLU(inplace=True)\n",
            "    (27): Conv2d(512, 512, kernel_size=(3, 3), stride=(1, 1), padding=(1, 1))\n",
            "    (28): BatchNorm2d(512, eps=1e-05, momentum=0.1, affine=True, track_running_stats=True)\n",
            "    (29): ReLU(inplace=True)\n",
            "    (30): Conv2d(512, 512, kernel_size=(3, 3), stride=(1, 1), padding=(1, 1))\n",
            "    (31): BatchNorm2d(512, eps=1e-05, momentum=0.1, affine=True, track_running_stats=True)\n",
            "    (32): ReLU(inplace=True)\n",
            "    (33): MaxPool2d(kernel_size=2, stride=2, padding=0, dilation=1, ceil_mode=False)\n",
            "    (34): Conv2d(512, 512, kernel_size=(3, 3), stride=(1, 1), padding=(1, 1))\n",
            "    (35): BatchNorm2d(512, eps=1e-05, momentum=0.1, affine=True, track_running_stats=True)\n",
            "    (36): ReLU(inplace=True)\n",
            "    (37): Conv2d(512, 512, kernel_size=(3, 3), stride=(1, 1), padding=(1, 1))\n",
            "    (38): BatchNorm2d(512, eps=1e-05, momentum=0.1, affine=True, track_running_stats=True)\n",
            "    (39): ReLU(inplace=True)\n",
            "    (40): Conv2d(512, 512, kernel_size=(3, 3), stride=(1, 1), padding=(1, 1))\n",
            "    (41): BatchNorm2d(512, eps=1e-05, momentum=0.1, affine=True, track_running_stats=True)\n",
            "    (42): ReLU(inplace=True)\n",
            "    (43): MaxPool2d(kernel_size=2, stride=2, padding=0, dilation=1, ceil_mode=False)\n",
            "  )\n",
            "  (avgpool): AdaptiveAvgPool2d(output_size=(7, 7))\n",
            "  (classifier): Sequential(\n",
            "    (0): Linear(in_features=25088, out_features=4096, bias=True)\n",
            "    (1): ReLU(inplace=True)\n",
            "    (2): Dropout(p=0.5, inplace=False)\n",
            "    (3): Linear(in_features=4096, out_features=4096, bias=True)\n",
            "    (4): ReLU(inplace=True)\n",
            "    (5): Dropout(p=0.5, inplace=False)\n",
            "    (6): Linear(in_features=4096, out_features=10, bias=True)\n",
            "  )\n",
            ")\n"
          ],
          "name": "stdout"
        }
      ]
    },
    {
      "cell_type": "markdown",
      "metadata": {
        "id": "FePgDBCvkfSo"
      },
      "source": [
        "### Train CIFAR10"
      ]
    },
    {
      "cell_type": "code",
      "metadata": {
        "id": "1haT6Pe0kfSo"
      },
      "source": [
        "batch_size = 64\n",
        "\n",
        "trainloader = torch.utils.data.DataLoader(trainset,batch_size=batch_size,shuffle = True)\n",
        "testloader = torch.utils.data.DataLoader(testset, batch_size=batch_size, shuffle=False)"
      ],
      "execution_count": null,
      "outputs": []
    },
    {
      "cell_type": "code",
      "metadata": {
        "id": "UVKgabJ1kfSo"
      },
      "source": [
        "def evaluation(dataloader,model):\n",
        "  total , correct = 0,0\n",
        "  for data in dataloader:\n",
        "    inputs,labels = data\n",
        "    inputs,labels = inputs.to(device),labels.to(device)\n",
        "    outputs = model(inputs)\n",
        "    _,pred = torch.max(outputs.data,1)\n",
        "    total += labels.size(0)\n",
        "    correct += (pred == labels).sum().item()\n",
        "  return 100 * correct / total\n"
      ],
      "execution_count": null,
      "outputs": []
    },
    {
      "cell_type": "code",
      "metadata": {
        "id": "jilikJWTkfSp"
      },
      "source": [
        "vgg = vgg.to(device)\n",
        "loss_fn = nn.CrossEntropyLoss() #this takes into consideration that we have to differentiate through softmax layer, given softmax is not applied in our vgg\n",
        "opt = optim.SGD(vgg.parameters(), lr=0.05)"
      ],
      "execution_count": null,
      "outputs": []
    },
    {
      "cell_type": "code",
      "metadata": {
        "colab": {
          "base_uri": "https://localhost:8080/"
        },
        "id": "NuzdpZwikfSp",
        "outputId": "6a583a8d-507e-4530-fbcc-0580c47ef119"
      },
      "source": [
        "loss_epoch_arr = []\n",
        "max_epochs = 100\n",
        "train_acc = []\n",
        "val_acc = []\n",
        "batch_size = 64\n",
        "n_iters = np.ceil(50000/batch_size)\n",
        "\n",
        "for epoch in range(max_epochs):\n",
        "\n",
        "    for i, data in enumerate(trainloader, 0):\n",
        "\n",
        "        inputs, labels = data\n",
        "        inputs, labels = inputs.to(device), labels.to(device)\n",
        "\n",
        "        opt.zero_grad()\n",
        "\n",
        "        outputs = vgg(inputs)\n",
        "        loss = loss_fn(outputs, labels)\n",
        "        loss.backward()\n",
        "        opt.step()\n",
        "        #scheduler.step()\n",
        "        \n",
        "        del inputs, labels, outputs\n",
        "        torch.cuda.empty_cache()\n",
        "        \n",
        "        if i % 500 == 0:\n",
        "            print('Iteration: %d/%d, Loss: %0.2f' % (i, n_iters, loss.item()))\n",
        "        \n",
        "    loss_epoch_arr.append(loss.item())\n",
        "    train_acc.append(evaluation(trainloader, vgg))\n",
        "    val_acc.append(evaluation(testloader, vgg))\n",
        "\n",
        "        \n",
        "    print('Epoch: %d/%d, Test acc: %0.2f, Train acc: %0.2f' % (\n",
        "        epoch + 1, max_epochs, \n",
        "        evaluation(testloader, vgg), evaluation(trainloader, vgg)))\n",
        "    \n",
        "#plt.plot(loss_epoch_arr)\n",
        "#plt.show()"
      ],
      "execution_count": null,
      "outputs": [
        {
          "output_type": "stream",
          "text": [
            "Iteration: 0/782, Loss: 2.43\n",
            "Iteration: 500/782, Loss: 1.57\n",
            "Epoch: 1/100, Test acc: 38.72, Train acc: 37.11\n",
            "Iteration: 0/782, Loss: 1.69\n",
            "Iteration: 500/782, Loss: 1.30\n",
            "Epoch: 2/100, Test acc: 46.42, Train acc: 43.88\n",
            "Iteration: 0/782, Loss: 1.88\n",
            "Iteration: 500/782, Loss: 1.10\n",
            "Epoch: 3/100, Test acc: 57.14, Train acc: 54.17\n",
            "Iteration: 0/782, Loss: 1.51\n",
            "Iteration: 500/782, Loss: 1.18\n",
            "Epoch: 4/100, Test acc: 63.48, Train acc: 59.59\n",
            "Iteration: 0/782, Loss: 1.27\n",
            "Iteration: 500/782, Loss: 0.89\n",
            "Epoch: 5/100, Test acc: 71.00, Train acc: 68.15\n",
            "Iteration: 0/782, Loss: 0.91\n",
            "Iteration: 500/782, Loss: 1.01\n",
            "Epoch: 6/100, Test acc: 68.68, Train acc: 65.30\n",
            "Iteration: 0/782, Loss: 0.92\n",
            "Iteration: 500/782, Loss: 0.96\n",
            "Epoch: 7/100, Test acc: 74.35, Train acc: 71.81\n",
            "Iteration: 0/782, Loss: 1.09\n",
            "Iteration: 500/782, Loss: 0.74\n",
            "Epoch: 8/100, Test acc: 69.79, Train acc: 68.48\n",
            "Iteration: 0/782, Loss: 0.82\n",
            "Iteration: 500/782, Loss: 0.68\n",
            "Epoch: 9/100, Test acc: 75.36, Train acc: 74.26\n",
            "Iteration: 0/782, Loss: 0.89\n",
            "Iteration: 500/782, Loss: 0.55\n",
            "Epoch: 10/100, Test acc: 76.18, Train acc: 74.61\n",
            "Iteration: 0/782, Loss: 0.86\n",
            "Iteration: 500/782, Loss: 0.55\n",
            "Epoch: 11/100, Test acc: 79.05, Train acc: 79.05\n",
            "Iteration: 0/782, Loss: 0.69\n",
            "Iteration: 500/782, Loss: 0.78\n",
            "Epoch: 12/100, Test acc: 77.82, Train acc: 78.44\n",
            "Iteration: 0/782, Loss: 0.43\n",
            "Iteration: 500/782, Loss: 0.69\n",
            "Epoch: 13/100, Test acc: 78.73, Train acc: 80.48\n",
            "Iteration: 0/782, Loss: 0.47\n",
            "Iteration: 500/782, Loss: 0.36\n",
            "Epoch: 14/100, Test acc: 80.32, Train acc: 82.41\n",
            "Iteration: 0/782, Loss: 0.40\n",
            "Iteration: 500/782, Loss: 0.63\n",
            "Epoch: 15/100, Test acc: 78.25, Train acc: 80.90\n",
            "Iteration: 0/782, Loss: 0.71\n",
            "Iteration: 500/782, Loss: 0.48\n",
            "Epoch: 16/100, Test acc: 81.87, Train acc: 84.48\n",
            "Iteration: 0/782, Loss: 0.74\n",
            "Iteration: 500/782, Loss: 0.23\n",
            "Epoch: 17/100, Test acc: 82.65, Train acc: 86.61\n",
            "Iteration: 0/782, Loss: 0.48\n",
            "Iteration: 500/782, Loss: 0.39\n",
            "Epoch: 18/100, Test acc: 80.66, Train acc: 83.85\n",
            "Iteration: 0/782, Loss: 0.38\n",
            "Iteration: 500/782, Loss: 0.29\n",
            "Epoch: 19/100, Test acc: 82.28, Train acc: 86.84\n",
            "Iteration: 0/782, Loss: 0.60\n",
            "Iteration: 500/782, Loss: 0.25\n",
            "Epoch: 20/100, Test acc: 81.06, Train acc: 86.16\n",
            "Iteration: 0/782, Loss: 0.47\n",
            "Iteration: 500/782, Loss: 0.26\n",
            "Epoch: 21/100, Test acc: 84.36, Train acc: 90.13\n",
            "Iteration: 0/782, Loss: 0.27\n",
            "Iteration: 500/782, Loss: 0.24\n",
            "Epoch: 22/100, Test acc: 74.13, Train acc: 76.99\n",
            "Iteration: 0/782, Loss: 0.79\n",
            "Iteration: 500/782, Loss: 0.24\n",
            "Epoch: 23/100, Test acc: 82.73, Train acc: 89.01\n",
            "Iteration: 0/782, Loss: 0.19\n",
            "Iteration: 500/782, Loss: 0.37\n",
            "Epoch: 24/100, Test acc: 82.43, Train acc: 89.18\n",
            "Iteration: 0/782, Loss: 0.55\n",
            "Iteration: 500/782, Loss: 0.23\n",
            "Epoch: 25/100, Test acc: 83.44, Train acc: 90.88\n",
            "Iteration: 0/782, Loss: 0.20\n",
            "Iteration: 500/782, Loss: 0.24\n",
            "Epoch: 26/100, Test acc: 82.40, Train acc: 87.42\n",
            "Iteration: 0/782, Loss: 0.35\n",
            "Iteration: 500/782, Loss: 0.56\n",
            "Epoch: 27/100, Test acc: 83.88, Train acc: 90.56\n",
            "Iteration: 0/782, Loss: 0.19\n",
            "Iteration: 500/782, Loss: 0.14\n",
            "Epoch: 28/100, Test acc: 84.05, Train acc: 90.55\n",
            "Iteration: 0/782, Loss: 0.27\n",
            "Iteration: 500/782, Loss: 0.22\n",
            "Epoch: 29/100, Test acc: 81.79, Train acc: 89.04\n",
            "Iteration: 0/782, Loss: 0.37\n",
            "Iteration: 500/782, Loss: 0.13\n",
            "Epoch: 30/100, Test acc: 85.20, Train acc: 93.48\n",
            "Iteration: 0/782, Loss: 0.58\n",
            "Iteration: 500/782, Loss: 0.13\n",
            "Epoch: 31/100, Test acc: 85.14, Train acc: 93.84\n",
            "Iteration: 0/782, Loss: 0.10\n",
            "Iteration: 500/782, Loss: 0.13\n",
            "Epoch: 32/100, Test acc: 84.66, Train acc: 92.67\n",
            "Iteration: 0/782, Loss: 0.27\n",
            "Iteration: 500/782, Loss: 0.15\n",
            "Epoch: 33/100, Test acc: 79.98, Train acc: 87.87\n",
            "Iteration: 0/782, Loss: 0.92\n",
            "Iteration: 500/782, Loss: 0.11\n",
            "Epoch: 34/100, Test acc: 82.80, Train acc: 89.82\n",
            "Iteration: 0/782, Loss: 0.32\n",
            "Iteration: 500/782, Loss: 0.13\n",
            "Epoch: 35/100, Test acc: 82.52, Train acc: 90.93\n",
            "Iteration: 0/782, Loss: 0.37\n",
            "Iteration: 500/782, Loss: 0.18\n",
            "Epoch: 36/100, Test acc: 85.43, Train acc: 94.69\n",
            "Iteration: 0/782, Loss: 0.13\n",
            "Iteration: 500/782, Loss: 0.22\n",
            "Epoch: 37/100, Test acc: 83.85, Train acc: 92.19\n",
            "Iteration: 0/782, Loss: 0.10\n",
            "Iteration: 500/782, Loss: 0.25\n",
            "Epoch: 38/100, Test acc: 85.91, Train acc: 94.95\n",
            "Iteration: 0/782, Loss: 0.21\n",
            "Iteration: 500/782, Loss: 0.22\n",
            "Epoch: 39/100, Test acc: 84.99, Train acc: 93.77\n",
            "Iteration: 0/782, Loss: 0.17\n",
            "Iteration: 500/782, Loss: 0.23\n",
            "Epoch: 40/100, Test acc: 85.79, Train acc: 95.06\n",
            "Iteration: 0/782, Loss: 0.21\n",
            "Iteration: 500/782, Loss: 0.08\n",
            "Epoch: 41/100, Test acc: 85.20, Train acc: 94.85\n",
            "Iteration: 0/782, Loss: 0.23\n",
            "Iteration: 500/782, Loss: 0.07\n",
            "Epoch: 42/100, Test acc: 82.67, Train acc: 91.12\n",
            "Iteration: 0/782, Loss: 0.27\n",
            "Iteration: 500/782, Loss: 0.27\n",
            "Epoch: 43/100, Test acc: 86.13, Train acc: 95.41\n",
            "Iteration: 0/782, Loss: 0.11\n",
            "Iteration: 500/782, Loss: 0.07\n",
            "Epoch: 44/100, Test acc: 85.56, Train acc: 95.34\n",
            "Iteration: 0/782, Loss: 0.28\n",
            "Iteration: 500/782, Loss: 0.03\n",
            "Epoch: 45/100, Test acc: 86.55, Train acc: 95.87\n",
            "Iteration: 0/782, Loss: 0.35\n",
            "Iteration: 500/782, Loss: 0.07\n",
            "Epoch: 46/100, Test acc: 85.46, Train acc: 95.01\n",
            "Iteration: 0/782, Loss: 0.07\n",
            "Iteration: 500/782, Loss: 0.06\n",
            "Epoch: 47/100, Test acc: 86.39, Train acc: 96.17\n",
            "Iteration: 0/782, Loss: 0.05\n",
            "Iteration: 500/782, Loss: 0.17\n",
            "Epoch: 48/100, Test acc: 85.23, Train acc: 95.61\n",
            "Iteration: 0/782, Loss: 0.05\n",
            "Iteration: 500/782, Loss: 0.18\n",
            "Epoch: 49/100, Test acc: 86.13, Train acc: 96.04\n",
            "Iteration: 0/782, Loss: 0.04\n",
            "Iteration: 500/782, Loss: 0.16\n",
            "Epoch: 50/100, Test acc: 85.21, Train acc: 95.32\n",
            "Iteration: 0/782, Loss: 0.13\n",
            "Iteration: 500/782, Loss: 0.12\n",
            "Epoch: 51/100, Test acc: 85.09, Train acc: 94.03\n",
            "Iteration: 0/782, Loss: 0.20\n",
            "Iteration: 500/782, Loss: 0.03\n",
            "Epoch: 52/100, Test acc: 85.98, Train acc: 96.31\n",
            "Iteration: 0/782, Loss: 0.06\n",
            "Iteration: 500/782, Loss: 0.31\n",
            "Epoch: 53/100, Test acc: 86.64, Train acc: 96.56\n",
            "Iteration: 0/782, Loss: 0.07\n",
            "Iteration: 500/782, Loss: 0.13\n",
            "Epoch: 54/100, Test acc: 86.18, Train acc: 96.14\n",
            "Iteration: 0/782, Loss: 0.01\n",
            "Iteration: 500/782, Loss: 0.04\n",
            "Epoch: 55/100, Test acc: 86.62, Train acc: 96.33\n",
            "Iteration: 0/782, Loss: 0.30\n",
            "Iteration: 500/782, Loss: 0.09\n",
            "Epoch: 56/100, Test acc: 86.52, Train acc: 96.76\n",
            "Iteration: 0/782, Loss: 0.11\n",
            "Iteration: 500/782, Loss: 0.09\n",
            "Epoch: 57/100, Test acc: 85.84, Train acc: 96.77\n",
            "Iteration: 0/782, Loss: 0.04\n",
            "Iteration: 500/782, Loss: 0.13\n",
            "Epoch: 58/100, Test acc: 84.67, Train acc: 95.30\n",
            "Iteration: 0/782, Loss: 0.11\n",
            "Iteration: 500/782, Loss: 0.07\n",
            "Epoch: 59/100, Test acc: 86.40, Train acc: 97.04\n",
            "Iteration: 0/782, Loss: 0.22\n",
            "Iteration: 500/782, Loss: 0.07\n",
            "Epoch: 60/100, Test acc: 81.91, Train acc: 91.38\n",
            "Iteration: 0/782, Loss: 0.14\n",
            "Iteration: 500/782, Loss: 0.18\n",
            "Epoch: 61/100, Test acc: 86.74, Train acc: 96.73\n",
            "Iteration: 0/782, Loss: 0.04\n",
            "Iteration: 500/782, Loss: 0.08\n",
            "Epoch: 62/100, Test acc: 85.68, Train acc: 96.20\n",
            "Iteration: 0/782, Loss: 0.04\n",
            "Iteration: 500/782, Loss: 0.10\n",
            "Epoch: 63/100, Test acc: 86.29, Train acc: 96.54\n",
            "Iteration: 0/782, Loss: 0.16\n",
            "Iteration: 500/782, Loss: 0.13\n",
            "Epoch: 64/100, Test acc: 86.99, Train acc: 97.26\n",
            "Iteration: 0/782, Loss: 0.11\n",
            "Iteration: 500/782, Loss: 0.08\n",
            "Epoch: 65/100, Test acc: 85.19, Train acc: 95.98\n",
            "Iteration: 0/782, Loss: 0.14\n",
            "Iteration: 500/782, Loss: 0.11\n",
            "Epoch: 66/100, Test acc: 86.17, Train acc: 96.58\n",
            "Iteration: 0/782, Loss: 0.10\n",
            "Iteration: 500/782, Loss: 0.01\n",
            "Epoch: 67/100, Test acc: 84.67, Train acc: 94.22\n",
            "Iteration: 0/782, Loss: 0.17\n",
            "Iteration: 500/782, Loss: 0.05\n",
            "Epoch: 68/100, Test acc: 85.20, Train acc: 95.89\n",
            "Iteration: 0/782, Loss: 0.04\n",
            "Iteration: 500/782, Loss: 0.09\n",
            "Epoch: 69/100, Test acc: 86.81, Train acc: 97.38\n",
            "Iteration: 0/782, Loss: 0.09\n",
            "Iteration: 500/782, Loss: 0.13\n",
            "Epoch: 70/100, Test acc: 87.05, Train acc: 97.43\n",
            "Iteration: 0/782, Loss: 0.15\n",
            "Iteration: 500/782, Loss: 0.17\n",
            "Epoch: 71/100, Test acc: 87.42, Train acc: 97.67\n",
            "Iteration: 0/782, Loss: 0.04\n",
            "Iteration: 500/782, Loss: 0.08\n",
            "Epoch: 72/100, Test acc: 86.52, Train acc: 97.45\n",
            "Iteration: 0/782, Loss: 0.14\n",
            "Iteration: 500/782, Loss: 0.08\n",
            "Epoch: 73/100, Test acc: 87.31, Train acc: 97.44\n",
            "Iteration: 0/782, Loss: 0.07\n",
            "Iteration: 500/782, Loss: 0.08\n",
            "Epoch: 74/100, Test acc: 86.64, Train acc: 97.17\n",
            "Iteration: 0/782, Loss: 0.07\n",
            "Iteration: 500/782, Loss: 0.05\n",
            "Epoch: 75/100, Test acc: 86.70, Train acc: 97.76\n",
            "Iteration: 0/782, Loss: 0.15\n",
            "Iteration: 500/782, Loss: 0.08\n",
            "Epoch: 76/100, Test acc: 86.49, Train acc: 97.72\n",
            "Iteration: 0/782, Loss: 0.05\n",
            "Iteration: 500/782, Loss: 0.03\n",
            "Epoch: 77/100, Test acc: 86.81, Train acc: 97.78\n",
            "Iteration: 0/782, Loss: 0.09\n",
            "Iteration: 500/782, Loss: 0.12\n",
            "Epoch: 78/100, Test acc: 86.40, Train acc: 97.06\n",
            "Iteration: 0/782, Loss: 0.10\n",
            "Iteration: 500/782, Loss: 0.03\n",
            "Epoch: 79/100, Test acc: 86.52, Train acc: 96.97\n",
            "Iteration: 0/782, Loss: 0.05\n",
            "Iteration: 500/782, Loss: 0.04\n",
            "Epoch: 80/100, Test acc: 86.59, Train acc: 97.76\n",
            "Iteration: 0/782, Loss: 0.06\n",
            "Iteration: 500/782, Loss: 0.11\n",
            "Epoch: 81/100, Test acc: 86.59, Train acc: 97.70\n",
            "Iteration: 0/782, Loss: 0.25\n",
            "Iteration: 500/782, Loss: 0.05\n",
            "Epoch: 82/100, Test acc: 86.79, Train acc: 97.64\n",
            "Iteration: 0/782, Loss: 0.02\n",
            "Iteration: 500/782, Loss: 0.15\n",
            "Epoch: 83/100, Test acc: 84.91, Train acc: 95.67\n",
            "Iteration: 0/782, Loss: 0.02\n",
            "Iteration: 500/782, Loss: 0.08\n",
            "Epoch: 84/100, Test acc: 86.52, Train acc: 97.77\n",
            "Iteration: 0/782, Loss: 0.03\n",
            "Iteration: 500/782, Loss: 0.19\n",
            "Epoch: 85/100, Test acc: 86.95, Train acc: 97.88\n",
            "Iteration: 0/782, Loss: 0.10\n",
            "Iteration: 500/782, Loss: 0.04\n",
            "Epoch: 86/100, Test acc: 87.27, Train acc: 98.00\n",
            "Iteration: 0/782, Loss: 0.04\n",
            "Iteration: 500/782, Loss: 0.09\n",
            "Epoch: 87/100, Test acc: 86.94, Train acc: 98.06\n",
            "Iteration: 0/782, Loss: 0.03\n",
            "Iteration: 500/782, Loss: 0.19\n",
            "Epoch: 88/100, Test acc: 86.59, Train acc: 97.74\n",
            "Iteration: 0/782, Loss: 0.06\n",
            "Iteration: 500/782, Loss: 0.03\n",
            "Epoch: 89/100, Test acc: 86.85, Train acc: 98.00\n",
            "Iteration: 0/782, Loss: 0.01\n",
            "Iteration: 500/782, Loss: 0.06\n",
            "Epoch: 90/100, Test acc: 87.04, Train acc: 98.13\n",
            "Iteration: 0/782, Loss: 0.08\n"
          ],
          "name": "stdout"
        }
      ]
    }
  ]
}