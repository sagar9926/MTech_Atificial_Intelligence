{
  "nbformat": 4,
  "nbformat_minor": 0,
  "metadata": {
    "colab": {
      "name": "ML Fractal3 AssignmentProblem 2.3.ipynb",
      "provenance": [],
      "collapsed_sections": [],
      "include_colab_link": true
    },
    "kernelspec": {
      "name": "python3",
      "display_name": "Python 3"
    },
    "language_info": {
      "name": "python"
    },
    "accelerator": "GPU"
  },
  "cells": [
    {
      "cell_type": "markdown",
      "metadata": {
        "id": "view-in-github",
        "colab_type": "text"
      },
      "source": [
        "<a href=\"https://colab.research.google.com/github/sagar9926/MTech_Atificial_Intelligence/blob/main/ML1/Fractal3_Assignment/ML_Fractal3_AssignmentProblem_2_3.ipynb\" target=\"_parent\"><img src=\"https://colab.research.google.com/assets/colab-badge.svg\" alt=\"Open In Colab\"/></a>"
      ]
    },
    {
      "cell_type": "code",
      "metadata": {
        "id": "UBepk4ocLmNc"
      },
      "source": [
        "import glob\n",
        "import cv2\n",
        "import numpy as np\n",
        "import torch\n",
        "from torch.utils.data import Dataset , DataLoader\n",
        "import torchvision\n",
        "import torch.nn as nn\n",
        "import torch.optim as optim\n",
        "import matplotlib.pyplot as plt\n",
        "import torchvision.transforms as transforms\n",
        "import torch.nn.functional as F\n",
        "import torch.optim as optim\n",
        "import copy"
      ],
      "execution_count": 1,
      "outputs": []
    },
    {
      "cell_type": "code",
      "metadata": {
        "colab": {
          "base_uri": "https://localhost:8080/"
        },
        "id": "pLNY0x5Hh8ic",
        "outputId": "bc03b97a-5642-4584-9089-a102efb8134f"
      },
      "source": [
        "device = torch.device(\"cuda:0\" if torch.cuda.is_available() else \"cpu\")\n",
        "print(device)"
      ],
      "execution_count": 2,
      "outputs": [
        {
          "output_type": "stream",
          "text": [
            "cuda:0\n"
          ],
          "name": "stdout"
        }
      ]
    },
    {
      "cell_type": "code",
      "metadata": {
        "colab": {
          "base_uri": "https://localhost:8080/"
        },
        "id": "D-zj2OdmMcZU",
        "outputId": "894cfb5e-381a-420c-8c72-6f40a49a8d07"
      },
      "source": [
        "from google.colab import drive\n",
        "drive.mount('/content/gdrive')"
      ],
      "execution_count": 3,
      "outputs": [
        {
          "output_type": "stream",
          "text": [
            "Drive already mounted at /content/gdrive; to attempt to forcibly remount, call drive.mount(\"/content/gdrive\", force_remount=True).\n"
          ],
          "name": "stdout"
        }
      ]
    },
    {
      "cell_type": "code",
      "metadata": {
        "id": "y1CAbhwtNGxu"
      },
      "source": [
        "class GurmukhiDataset(Dataset):\n",
        "\n",
        "  def __init__(self,transform=None , train_data = False , val_data = False):\n",
        "    self.transform = transform\n",
        "    if train_data :\n",
        "      self.data_path = \"/content/gdrive/MyDrive/Gurmukhi/GurNum/train/\"\n",
        "    elif val_data :\n",
        "      self.data_path = \"/content/gdrive/MyDrive/Gurmukhi/GurNum/val/\"\n",
        "\n",
        "    image_file_list = glob.glob(self.data_path + \"*\")\n",
        "    self.data = []\n",
        "\n",
        "    for path in image_file_list:\n",
        "      class_name = int(path.split(\"/\")[-1])\n",
        "      for image_path in glob.glob(path + \"/*.*\"):\n",
        "        self.data.append([image_path, class_name])\n",
        "        self.img_dim = (32, 32)\n",
        "\n",
        "  def __len__(self):\n",
        "    return(len(self.data))\n",
        "\n",
        "  def __getitem__(self,idx):\n",
        "    img_path, class_name = self.data[idx]\n",
        "    img = cv2.imread(img_path)\n",
        "    img = cv2.resize(img, self.img_dim)\n",
        "    if self.transform:\n",
        "      img_tensor = self.transform(img)\n",
        "    #img_tensor = torch.from_numpy(img)\n",
        "    #print(img_tensor.shape)\n",
        "    #Torch convolutions require images to be in a channel first format; \n",
        "    #i.e for example a 3 channel image(Red, Green and Blue channels) would be generally represented as: \n",
        "    #(Width, Height, Channels) in numpy, however torch requires us to convert this to: (Channels, Width, Height).\n",
        "    # For this conversion we use the permute function of torch, that allows us to change the ordering of the dimensions of a torch tensor.\n",
        "\n",
        "    #img_tensor = img_tensor.permute(2, 0, 1)\n",
        "    class_name = torch.tensor([class_name],dtype = torch.long)\n",
        "    return img_tensor.float(), class_name\n",
        "\n"
      ],
      "execution_count": 4,
      "outputs": []
    },
    {
      "cell_type": "code",
      "metadata": {
        "id": "gs_BwqBTTYmt"
      },
      "source": [
        "transform_train = transforms.Compose([\n",
        "    transforms.ToPILImage(),\n",
        "    transforms.RandomRotation((-4.0, 4.0)),\n",
        "    #transforms.ToPILImage(),\n",
        "    transforms.ToTensor(),\n",
        "    transforms.Normalize((0.5, 0.5, 0.5), (0.5, 0.5, 0.5)),\n",
        "    ])\n",
        "\n",
        "transform_test = transforms.Compose([\n",
        "    transforms.ToTensor(),\n",
        "    transforms.Normalize((0.5, 0.5, 0.5), (0.5, 0.5, 0.5)),\n",
        "    ])"
      ],
      "execution_count": 5,
      "outputs": []
    },
    {
      "cell_type": "code",
      "metadata": {
        "id": "EUZk05QSNTKo"
      },
      "source": [
        "train_dataset = GurmukhiDataset(transform = transform_train,train_data = True)\n",
        "val_dataset = GurmukhiDataset(transform = transform_test,val_data = True)\n",
        "trainloader = DataLoader(train_dataset, batch_size=4, shuffle=True)\n",
        "valloader = DataLoader(val_dataset, batch_size=4, shuffle=True)\n"
      ],
      "execution_count": 6,
      "outputs": []
    },
    {
      "cell_type": "code",
      "metadata": {
        "id": "im9270A_XE-b"
      },
      "source": [
        "def imshow(img):\n",
        "    npimg = img.numpy()\n",
        "    plt.figure(figsize = (10,10))\n",
        "    plt.imshow(np.transpose(npimg, (1, 2, 0)))\n",
        "    plt.show()"
      ],
      "execution_count": 7,
      "outputs": []
    },
    {
      "cell_type": "code",
      "metadata": {
        "colab": {
          "base_uri": "https://localhost:8080/"
        },
        "id": "4kTlfDhaXma7",
        "outputId": "cf95692e-a3dd-4f73-d574-4bb7fc13b10d"
      },
      "source": [
        "dataiter = iter(trainloader)\n",
        "images, labels = dataiter.next() # this gives us one instance of four images and their corresponding labels\n",
        "\n",
        "torchvision.utils.make_grid(images).shape \n",
        "# This represents the stacked images of the batch with 2 pixel padding (32* 4 + 2*5(black borders) = 138)"
      ],
      "execution_count": 8,
      "outputs": [
        {
          "output_type": "execute_result",
          "data": {
            "text/plain": [
              "torch.Size([3, 36, 138])"
            ]
          },
          "metadata": {
            "tags": []
          },
          "execution_count": 8
        }
      ]
    },
    {
      "cell_type": "code",
      "metadata": {
        "colab": {
          "base_uri": "https://localhost:8080/",
          "height": 230
        },
        "id": "EWVR6tV3XuNT",
        "outputId": "b2695965-a05f-450d-b0d5-d282cd0ea633"
      },
      "source": [
        "imshow(torchvision.utils.make_grid(images)) #To plot the entire batch, stacks up the images in form of long image in which individual image will apper in cells\n",
        "print(\"True Classes : \",' '.join(str(labels[j]) for j in range(4)))"
      ],
      "execution_count": 9,
      "outputs": [
        {
          "output_type": "stream",
          "text": [
            "Clipping input data to the valid range for imshow with RGB data ([0..1] for floats or [0..255] for integers).\n"
          ],
          "name": "stderr"
        },
        {
          "output_type": "display_data",
          "data": {
            "image/png": "[encoded data removed]",
            "text/plain": [
              "<Figure size 720x720 with 1 Axes>"
            ]
          },
          "metadata": {
            "tags": [],
            "needs_background": "light"
          }
        },
        {
          "output_type": "stream",
          "text": [
            "True Classes :  tensor([0]) tensor([0]) tensor([7]) tensor([5])\n"
          ],
          "name": "stdout"
        }
      ]
    },
    {
      "cell_type": "code",
      "metadata": {
        "id": "DFUX-rVgbkh5"
      },
      "source": [
        "train_dataset = GurmukhiDataset(transform = transform_train,train_data = True)\n",
        "val_dataset = GurmukhiDataset(transform = transform_test,val_data = True)\n",
        "trainloader = DataLoader(train_dataset, batch_size=64, shuffle=True)\n",
        "valloader = DataLoader(val_dataset, batch_size=64, shuffle=False)\n"
      ],
      "execution_count": 10,
      "outputs": []
    },
    {
      "cell_type": "code",
      "metadata": {
        "id": "5XE45O01a76E"
      },
      "source": [
        "#Final Version\n",
        "class Net(nn.Module):\n",
        "    def __init__(self):\n",
        "        super(Net, self).__init__()\n",
        "        # Input Block\n",
        "        self.convblock1 = nn.Sequential(\n",
        "            nn.Conv2d(in_channels=3, out_channels=8, kernel_size=(3, 3), padding=0, bias=False),\n",
        "            nn.BatchNorm2d(8),   \n",
        "            nn.ReLU()\n",
        "         \n",
        "        ) # output_size = [N , 8 , 30 , 30]\n",
        "\n",
        "        self.convblock2 = nn.Sequential(\n",
        "            nn.Conv2d(in_channels=8, out_channels=16, kernel_size=(3, 3), padding=0, bias=False),\n",
        "            nn.BatchNorm2d(16),   \n",
        "            nn.ReLU()\n",
        "         \n",
        "        ) # output_size = [N , 16 , 28 , 28]\n",
        "\n",
        "        # pooling layer\n",
        "        self.pool1 = nn.MaxPool2d(2, 2) # output_size = [N , 16 , 14 , 14]\n",
        "\n",
        "        self.convblock3 = nn.Sequential(\n",
        "            nn.Dropout(0.25),\n",
        "            nn.Conv2d(in_channels=16, out_channels=32, kernel_size=(3, 3), padding=0, bias=False),\n",
        "            nn.BatchNorm2d(32), \n",
        "            nn.ReLU()\n",
        "        ) # output_size = [N , 32 , 12 , 12]\n",
        "\n",
        "        self.convblock4 = nn.Sequential(\n",
        "            \n",
        "            nn.Conv2d(in_channels=32, out_channels=48, kernel_size=(3, 3), padding=0, bias=False),\n",
        "            nn.BatchNorm2d(48), \n",
        "            nn.ReLU(),\n",
        "            nn.Dropout(0.25)\n",
        "        ) # output_size = [N , 48 , 10 , 10]\n",
        "\n",
        "        # pooling layer\n",
        "        self.pool2 = nn.MaxPool2d(2, 2) # output_size = [N , 48 , 5 , 5]\n",
        "\n",
        "        self.convblock5 = nn.Sequential(\n",
        "            nn.Dropout(0.25),\n",
        "            nn.Conv2d(in_channels=48, out_channels=96, kernel_size=(3, 3), padding=1, bias=False),\n",
        "            nn.ReLU()\n",
        "        ) # output_size = [N , 192 , 6 , 6]\n",
        "\n",
        " \n",
        "        self.fc_model = nn.Sequential(\n",
        "            nn.Linear(2400,512),         # (N, 400) -> (N, 120)\n",
        "            nn.Dropout(0.25),\n",
        "            nn.ReLU(),\n",
        "            nn.Linear(512,512),          # (N, 120) -> (N, 84)\n",
        "            nn.ReLU(),\n",
        "            nn.Dropout(0.25),\n",
        "            nn.Linear(512,256),          # (N, 120) -> (N, 84)\n",
        "\n",
        "            nn.Linear(256,10)            # (N, 84)  -> (N, 10)\n",
        "        )\n",
        "      \n",
        "\n",
        "    def forward(self, x):\n",
        "        x = self.convblock1(x)\n",
        "        x = self.convblock2(x)\n",
        "        x = self.pool1(x)\n",
        "\n",
        "        \n",
        "        x = self.convblock3(x)\n",
        "        x = self.convblock4(x)\n",
        "        x = self.pool2(x)\n",
        "\n",
        "        x = self.convblock5(x)\n",
        "        #x = self.convblock6(x)\n",
        "        \n",
        "        x = x.view(x.size(0), -1) # (N, 16, 5, 5) -> (N, 400)\n",
        "        x = self.fc_model(x)\n",
        "\n",
        "        return F.log_softmax(x, dim=-1)\n"
      ],
      "execution_count": 11,
      "outputs": []
    },
    {
      "cell_type": "code",
      "metadata": {
        "id": "DN6bjnjXwZed"
      },
      "source": [
        "class Net(nn.Module):\n",
        "    def __init__(self):\n",
        "        super(Net, self).__init__()\n",
        "        # Input Block\n",
        "        self.convblock1 = nn.Sequential(\n",
        "            nn.Conv2d(in_channels=3, out_channels=48, kernel_size=(3, 3), padding=1, bias=False),\n",
        "            nn.BatchNorm2d(48),   \n",
        "            nn.ReLU()\n",
        "         \n",
        "        ) # output_size = [N , 48 , 32 , 32]\n",
        "\n",
        "        self.convblock2 = nn.Sequential(\n",
        "            nn.Conv2d(in_channels=48, out_channels=48, kernel_size=(3, 3), padding=0, bias=False),\n",
        "            nn.BatchNorm2d(48),   \n",
        "            nn.ReLU()\n",
        "         \n",
        "        ) # output_size = [N , 48 , 30 , 30]\n",
        "\n",
        "        # pooling layer\n",
        "        self.pool1 = nn.MaxPool2d(2, 2) # output_size = [N , 48 , 15 , 15]\n",
        "\n",
        "        self.convblock3 = nn.Sequential(\n",
        "            nn.Dropout(0.25),\n",
        "            nn.Conv2d(in_channels=48, out_channels=96, kernel_size=(3, 3), padding=1, bias=False),\n",
        "            nn.BatchNorm2d(96), \n",
        "            nn.ReLU()\n",
        "        ) # output_size = [N , 96 , 15 , 15]\n",
        "\n",
        "        self.convblock4 = nn.Sequential(\n",
        "            #nn.Dropout(0.25),\n",
        "            nn.Conv2d(in_channels=96, out_channels=96, kernel_size=(3, 3), padding=0, bias=False),\n",
        "            nn.BatchNorm2d(96), \n",
        "            nn.ReLU()\n",
        "        ) # output_size = [N , 96 , 13 , 13]\n",
        "\n",
        "        # pooling layer\n",
        "        self.pool2 = nn.MaxPool2d(2, 2) # output_size = [N , 96 , 6 , 6]\n",
        "\n",
        "        self.convblock5 = nn.Sequential(\n",
        "            nn.Dropout(0.25),\n",
        "            nn.Conv2d(in_channels=96, out_channels=192, kernel_size=(3, 3), padding=1, bias=False),\n",
        "            nn.BatchNorm2d(192),\n",
        "            nn.ReLU()\n",
        "        ) # output_size = [N , 192 , 6 , 6]\n",
        "\n",
        "        self.convblock6 = nn.Sequential(\n",
        "            nn.Conv2d(in_channels=192, out_channels=192, kernel_size=(3, 3), padding=0, bias=False),\n",
        "            nn.BatchNorm2d(192),\n",
        "            nn.ReLU(),\n",
        "            nn.Dropout(0.35)\n",
        "        ) # output_size = [N , 192 , 4 , 4]\n",
        "\n",
        "        self.fc_model = nn.Sequential(\n",
        "            nn.Linear(3072*2,512),         # (N, 400) -> (N, 120)\n",
        "            nn.ReLU(),\n",
        "            nn.Dropout(0.35),\n",
        "            nn.Linear(512,512),\n",
        "            nn.ReLU(),\n",
        "            nn.Dropout(0.35),\n",
        "            nn.Linear(512,256),          # (N, 120) -> (N, 84)\n",
        "            nn.Linear(256,10)            # (N, 84)  -> (N, 10)\n",
        "        )\n",
        "      \n",
        "\n",
        "    def forward(self, x):\n",
        "        img = copy.deepcopy(x)\n",
        "               \n",
        "        x = self.convblock1(x)\n",
        "        x = self.convblock2(x)\n",
        "        x = self.pool1(x)\n",
        "\n",
        "        \n",
        "        x = self.convblock3(x)\n",
        "        x = self.convblock4(x)\n",
        "        x = self.pool2(x)\n",
        "\n",
        "        x = self.convblock5(x)\n",
        "        x = self.convblock6(x)\n",
        "        x = x.view(x.size(0), -1) # (N, 16, 5, 5) -> (N, 400)\n",
        "        \n",
        "        x = torch.cat((x,img.reshape(x.size(0),-1)),dim = 1)\n",
        "        \n",
        "        x = self.fc_model(x)\n",
        "\n",
        "        return F.log_softmax(x, dim=-1)\n"
      ],
      "execution_count": 12,
      "outputs": []
    },
    {
      "cell_type": "code",
      "metadata": {
        "id": "Vtf-a1ynb8nU"
      },
      "source": [
        "net = Net().to(device)\n",
        "loss_fn = nn.CrossEntropyLoss() #this takes into consideration that we have to differentiate through softmax layer, given softmax is not applied in our vgg\n",
        "opt = optim.SGD(net.parameters(), lr=0.1)\n",
        "#scheduler = torch.optim.lr_scheduler.StepLR(opt, step_size=len(trainloader)*5, gamma=0.1)\n"
      ],
      "execution_count": 13,
      "outputs": []
    },
    {
      "cell_type": "code",
      "metadata": {
        "colab": {
          "base_uri": "https://localhost:8080/"
        },
        "id": "2b0z0OoOEaFL",
        "outputId": "71b30e33-ed62-4d0d-fde7-ea03540a29c5"
      },
      "source": [
        "from torchsummary import summary\n",
        "\n",
        "#vgg = models.vgg16()\n",
        "summary(net, (3, 32, 32))"
      ],
      "execution_count": 14,
      "outputs": [
        {
          "output_type": "stream",
          "text": [
            "----------------------------------------------------------------\n",
            "        Layer (type)               Output Shape         Param #\n",
            "================================================================\n",
            "            Conv2d-1           [-1, 48, 32, 32]           1,296\n",
            "       BatchNorm2d-2           [-1, 48, 32, 32]              96\n",
            "              ReLU-3           [-1, 48, 32, 32]               0\n",
            "            Conv2d-4           [-1, 48, 30, 30]          20,736\n",
            "       BatchNorm2d-5           [-1, 48, 30, 30]              96\n",
            "              ReLU-6           [-1, 48, 30, 30]               0\n",
            "         MaxPool2d-7           [-1, 48, 15, 15]               0\n",
            "           Dropout-8           [-1, 48, 15, 15]               0\n",
            "            Conv2d-9           [-1, 96, 15, 15]          41,472\n",
            "      BatchNorm2d-10           [-1, 96, 15, 15]             192\n",
            "             ReLU-11           [-1, 96, 15, 15]               0\n",
            "           Conv2d-12           [-1, 96, 13, 13]          82,944\n",
            "      BatchNorm2d-13           [-1, 96, 13, 13]             192\n",
            "             ReLU-14           [-1, 96, 13, 13]               0\n",
            "        MaxPool2d-15             [-1, 96, 6, 6]               0\n",
            "          Dropout-16             [-1, 96, 6, 6]               0\n",
            "           Conv2d-17            [-1, 192, 6, 6]         165,888\n",
            "      BatchNorm2d-18            [-1, 192, 6, 6]             384\n",
            "             ReLU-19            [-1, 192, 6, 6]               0\n",
            "           Conv2d-20            [-1, 192, 4, 4]         331,776\n",
            "      BatchNorm2d-21            [-1, 192, 4, 4]             384\n",
            "             ReLU-22            [-1, 192, 4, 4]               0\n",
            "          Dropout-23            [-1, 192, 4, 4]               0\n",
            "           Linear-24                  [-1, 512]       3,146,240\n",
            "             ReLU-25                  [-1, 512]               0\n",
            "          Dropout-26                  [-1, 512]               0\n",
            "           Linear-27                  [-1, 512]         262,656\n",
            "             ReLU-28                  [-1, 512]               0\n",
            "          Dropout-29                  [-1, 512]               0\n",
            "           Linear-30                  [-1, 256]         131,328\n",
            "           Linear-31                   [-1, 10]           2,570\n",
            "================================================================\n",
            "Total params: 4,188,250\n",
            "Trainable params: 4,188,250\n",
            "Non-trainable params: 0\n",
            "----------------------------------------------------------------\n",
            "Input size (MB): 0.01\n",
            "Forward/backward pass size (MB): 3.47\n",
            "Params size (MB): 15.98\n",
            "Estimated Total Size (MB): 19.46\n",
            "----------------------------------------------------------------\n"
          ],
          "name": "stdout"
        }
      ]
    },
    {
      "cell_type": "code",
      "metadata": {
        "id": "8IQQnQfzb0Fa"
      },
      "source": [
        "def evaluation(dataloader,model): \n",
        "  total , correct = 0,0\n",
        "  for data in dataloader:\n",
        "    inputs,labels = data\n",
        "    inputs,labels = inputs.to(device),labels.to(device)\n",
        "    outputs = model(inputs)\n",
        "    _,pred = torch.max(outputs.data,1)\n",
        "    total += labels.size(0)\n",
        "    correct += (pred == labels.squeeze()).sum().item()\n",
        "  return 100 * correct / total"
      ],
      "execution_count": 15,
      "outputs": []
    },
    {
      "cell_type": "code",
      "metadata": {
        "colab": {
          "base_uri": "https://localhost:8080/"
        },
        "id": "XmqCVE6unG_T",
        "outputId": "2c6a7aa5-3552-4436-b536-8621c7d72e6c"
      },
      "source": [
        "loss_epoch_arr = []\n",
        "max_epochs = 25\n",
        "batch_size = 32\n",
        "min_loss = 1000\n",
        "\n",
        "n_iters = np.ceil(50000/batch_size)\n",
        "\n",
        "for epoch in range(max_epochs):\n",
        "\n",
        "    for i, data in enumerate(trainloader, 0):\n",
        "\n",
        "        inputs, labels = data\n",
        "        inputs, labels = inputs.to(device), labels.to(device)\n",
        "\n",
        "        opt.zero_grad()\n",
        "\n",
        "        outputs = net(inputs)\n",
        "        loss = loss_fn(outputs, labels.squeeze())\n",
        "        loss.backward()\n",
        "        opt.step()\n",
        "        #scheduler.step()\n",
        "        \n",
        "        if min_loss > loss.item():\n",
        "            min_loss = loss.item()\n",
        "            best_model = copy.deepcopy(net.state_dict())\n",
        "            print('Min loss %0.2f' % min_loss)\n",
        "        \n",
        "        if i % 100 == 0:\n",
        "            print('Iteration: %d/%d, Loss: %0.2f' % (i, n_iters, loss.item()))\n",
        "            \n",
        "        del inputs, labels, outputs\n",
        "        torch.cuda.empty_cache()\n",
        "        \n",
        "    loss_epoch_arr.append(loss.item())\n",
        "        \n",
        "    print('Epoch: %d/%d, Test acc: %0.2f, Train acc: %0.2f' % (\n",
        "        epoch, max_epochs, \n",
        "        evaluation(valloader, net), \n",
        "        evaluation(trainloader, net)))"
      ],
      "execution_count": 16,
      "outputs": [
        {
          "output_type": "stream",
          "text": [
            "Min loss 2.32\n",
            "Iteration: 0/1563, Loss: 2.32\n",
            "Min loss 2.29\n",
            "Min loss 2.25\n",
            "Min loss 2.19\n",
            "Min loss 2.13\n",
            "Min loss 2.08\n",
            "Min loss 2.02\n",
            "Min loss 1.88\n",
            "Min loss 1.79\n",
            "Min loss 1.62\n",
            "Min loss 1.53\n",
            "Min loss 1.22\n",
            "Min loss 1.18\n",
            "Min loss 0.72\n",
            "Epoch: 0/25, Test acc: 77.53, Train acc: 82.50\n",
            "Min loss 0.66\n",
            "Iteration: 0/1563, Loss: 0.66\n",
            "Min loss 0.64\n",
            "Min loss 0.64\n",
            "Min loss 0.40\n",
            "Min loss 0.31\n",
            "Min loss 0.26\n",
            "Min loss 0.23\n",
            "Epoch: 1/25, Test acc: 86.52, Train acc: 93.30\n",
            "Iteration: 0/1563, Loss: 0.30\n",
            "Min loss 0.20\n",
            "Min loss 0.17\n",
            "Min loss 0.07\n",
            "Epoch: 2/25, Test acc: 91.57, Train acc: 96.30\n",
            "Iteration: 0/1563, Loss: 0.22\n",
            "Min loss 0.06\n",
            "Min loss 0.05\n",
            "Epoch: 3/25, Test acc: 92.70, Train acc: 97.20\n",
            "Iteration: 0/1563, Loss: 0.12\n",
            "Min loss 0.04\n",
            "Min loss 0.02\n",
            "Min loss 0.01\n",
            "Epoch: 4/25, Test acc: 96.07, Train acc: 99.00\n",
            "Iteration: 0/1563, Loss: 0.04\n",
            "Min loss 0.01\n",
            "Epoch: 5/25, Test acc: 96.07, Train acc: 99.20\n",
            "Iteration: 0/1563, Loss: 0.02\n",
            "Min loss 0.01\n",
            "Epoch: 6/25, Test acc: 94.38, Train acc: 99.10\n",
            "Min loss 0.01\n",
            "Iteration: 0/1563, Loss: 0.01\n",
            "Min loss 0.01\n",
            "Min loss 0.01\n",
            "Epoch: 7/25, Test acc: 95.51, Train acc: 99.30\n",
            "Iteration: 0/1563, Loss: 0.01\n",
            "Min loss 0.00\n",
            "Epoch: 8/25, Test acc: 97.75, Train acc: 99.80\n",
            "Iteration: 0/1563, Loss: 0.01\n",
            "Epoch: 9/25, Test acc: 93.26, Train acc: 99.70\n",
            "Iteration: 0/1563, Loss: 0.02\n",
            "Min loss 0.00\n",
            "Epoch: 10/25, Test acc: 94.94, Train acc: 99.80\n",
            "Iteration: 0/1563, Loss: 0.01\n",
            "Min loss 0.00\n",
            "Min loss 0.00\n",
            "Epoch: 11/25, Test acc: 96.07, Train acc: 99.90\n",
            "Iteration: 0/1563, Loss: 0.00\n",
            "Epoch: 12/25, Test acc: 97.19, Train acc: 99.80\n",
            "Iteration: 0/1563, Loss: 0.01\n",
            "Epoch: 13/25, Test acc: 97.19, Train acc: 99.90\n",
            "Iteration: 0/1563, Loss: 0.00\n",
            "Min loss 0.00\n",
            "Epoch: 14/25, Test acc: 96.63, Train acc: 100.00\n",
            "Iteration: 0/1563, Loss: 0.00\n",
            "Epoch: 15/25, Test acc: 97.75, Train acc: 100.00\n",
            "Iteration: 0/1563, Loss: 0.00\n",
            "Epoch: 16/25, Test acc: 96.07, Train acc: 99.70\n",
            "Iteration: 0/1563, Loss: 0.00\n",
            "Min loss 0.00\n",
            "Epoch: 17/25, Test acc: 96.07, Train acc: 99.90\n",
            "Iteration: 0/1563, Loss: 0.01\n",
            "Epoch: 18/25, Test acc: 97.19, Train acc: 100.00\n",
            "Iteration: 0/1563, Loss: 0.00\n",
            "Epoch: 19/25, Test acc: 94.38, Train acc: 99.90\n",
            "Iteration: 0/1563, Loss: 0.00\n",
            "Min loss 0.00\n",
            "Min loss 0.00\n",
            "Epoch: 20/25, Test acc: 97.19, Train acc: 99.90\n",
            "Iteration: 0/1563, Loss: 0.00\n",
            "Epoch: 21/25, Test acc: 97.19, Train acc: 100.00\n",
            "Iteration: 0/1563, Loss: 0.01\n",
            "Epoch: 22/25, Test acc: 97.19, Train acc: 100.00\n",
            "Iteration: 0/1563, Loss: 0.00\n",
            "Min loss 0.00\n",
            "Epoch: 23/25, Test acc: 97.19, Train acc: 100.00\n",
            "Iteration: 0/1563, Loss: 0.00\n",
            "Epoch: 24/25, Test acc: 95.51, Train acc: 100.00\n"
          ],
          "name": "stdout"
        }
      ]
    },
    {
      "cell_type": "code",
      "metadata": {
        "colab": {
          "base_uri": "https://localhost:8080/"
        },
        "id": "vNbjbEVYofhW",
        "outputId": "1f360d7d-b6b8-416f-8bea-f9e0a3beb10b"
      },
      "source": [
        "net.load_state_dict(best_model)\n",
        "print(evaluation(trainloader, net), evaluation(valloader, net))"
      ],
      "execution_count": 17,
      "outputs": [
        {
          "output_type": "stream",
          "text": [
            "100.0 97.75280898876404\n"
          ],
          "name": "stdout"
        }
      ]
    },
    {
      "cell_type": "code",
      "metadata": {
        "colab": {
          "base_uri": "https://localhost:8080/",
          "height": 295
        },
        "id": "lNFnexOaHcvI",
        "outputId": "a948effe-c3bb-42cd-9dcf-5fe821c0400b"
      },
      "source": [
        "plt.plot(loss_epoch_arr)\n",
        "plt.xlabel('Epochs')\n",
        "plt.ylabel('Loss')\n",
        "plt.title(\"Loss Curve\")\n",
        "plt.show()"
      ],
      "execution_count": 19,
      "outputs": [
        {
          "output_type": "display_data",
          "data": {
            "image/png": "[encoded data removed]",
            "text/plain": [
              "<Figure size 432x288 with 1 Axes>"
            ]
          },
          "metadata": {
            "tags": [],
            "needs_background": "light"
          }
        }
      ]
    },
    {
      "cell_type": "code",
      "metadata": {
        "id": "OxGl5lIEImlv"
      },
      "source": [
        ""
      ],
      "execution_count": null,
      "outputs": []
    }
  ]
}