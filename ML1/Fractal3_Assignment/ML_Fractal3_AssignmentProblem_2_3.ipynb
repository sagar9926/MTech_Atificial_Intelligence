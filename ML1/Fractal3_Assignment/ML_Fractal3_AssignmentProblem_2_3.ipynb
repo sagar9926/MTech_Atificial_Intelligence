{
  "nbformat": 4,
  "nbformat_minor": 0,
  "metadata": {
    "colab": {
      "name": "ML Fractal3 AssignmentProblem 2.3.ipynb",
      "provenance": [],
      "collapsed_sections": [],
      "include_colab_link": true
    },
    "kernelspec": {
      "name": "python3",
      "display_name": "Python 3"
    },
    "language_info": {
      "name": "python"
    },
    "accelerator": "GPU"
  },
  "cells": [
    {
      "cell_type": "markdown",
      "metadata": {
        "id": "view-in-github",
        "colab_type": "text"
      },
      "source": [
        "<a href=\"https://colab.research.google.com/github/sagar9926/MTech_Atificial_Intelligence/blob/main/ML1/Fractal3_Assignment/ML_Fractal3_AssignmentProblem_2_3.ipynb\" target=\"_parent\"><img src=\"https://colab.research.google.com/assets/colab-badge.svg\" alt=\"Open In Colab\"/></a>"
      ]
    },
    {
      "cell_type": "code",
      "metadata": {
        "id": "UBepk4ocLmNc"
      },
      "source": [
        "import glob\n",
        "import cv2\n",
        "import numpy as np\n",
        "import torch\n",
        "from torch.utils.data import Dataset , DataLoader\n",
        "import torchvision\n",
        "import torch.nn as nn\n",
        "import torch.optim as optim\n",
        "import matplotlib.pyplot as plt\n",
        "import torchvision.transforms as transforms\n",
        "import torch.nn.functional as F\n",
        "import torch.optim as optim\n",
        "import copy"
      ],
      "execution_count": 1,
      "outputs": []
    },
    {
      "cell_type": "code",
      "metadata": {
        "colab": {
          "base_uri": "https://localhost:8080/"
        },
        "id": "pLNY0x5Hh8ic",
        "outputId": "9de4409b-3340-4f65-fee7-d2fa0bfd649a"
      },
      "source": [
        "device = torch.device(\"cuda:0\" if torch.cuda.is_available() else \"cpu\")\n",
        "print(device)"
      ],
      "execution_count": 2,
      "outputs": [
        {
          "output_type": "stream",
          "text": [
            "cuda:0\n"
          ],
          "name": "stdout"
        }
      ]
    },
    {
      "cell_type": "code",
      "metadata": {
        "colab": {
          "base_uri": "https://localhost:8080/"
        },
        "id": "D-zj2OdmMcZU",
        "outputId": "c783ced4-a95d-4032-d905-9dc157cf16a1"
      },
      "source": [
        "from google.colab import drive\n",
        "drive.mount('/content/gdrive')"
      ],
      "execution_count": 3,
      "outputs": [
        {
          "output_type": "stream",
          "text": [
            "Mounted at /content/gdrive\n"
          ],
          "name": "stdout"
        }
      ]
    },
    {
      "cell_type": "code",
      "metadata": {
        "id": "y1CAbhwtNGxu"
      },
      "source": [
        "class GurmukhiDataset(Dataset):\n",
        "\n",
        "  def __init__(self,transform=None , train_data = False , val_data = False):\n",
        "    self.transform = transform\n",
        "    if train_data :\n",
        "      self.data_path = \"/content/gdrive/MyDrive/Gurmukhi/GurNum/train/\"\n",
        "    elif val_data :\n",
        "      self.data_path = \"/content/gdrive/MyDrive/Gurmukhi/GurNum/val/\"\n",
        "\n",
        "    image_file_list = glob.glob(self.data_path + \"*\")\n",
        "    self.data = []\n",
        "\n",
        "    for path in image_file_list:\n",
        "      class_name = int(path.split(\"/\")[-1])\n",
        "      for image_path in glob.glob(path + \"/*.*\"):\n",
        "        self.data.append([image_path, class_name])\n",
        "        self.img_dim = (32, 32)\n",
        "\n",
        "  def __len__(self):\n",
        "    return(len(self.data))\n",
        "\n",
        "  def __getitem__(self,idx):\n",
        "    img_path, class_name = self.data[idx]\n",
        "    img = cv2.imread(img_path)\n",
        "    img = cv2.resize(img, self.img_dim)\n",
        "    if self.transform:\n",
        "      img_tensor = self.transform(img)\n",
        "    #img_tensor = torch.from_numpy(img)\n",
        "    #print(img_tensor.shape)\n",
        "    #Torch convolutions require images to be in a channel first format; \n",
        "    #i.e for example a 3 channel image(Red, Green and Blue channels) would be generally represented as: \n",
        "    #(Width, Height, Channels) in numpy, however torch requires us to convert this to: (Channels, Width, Height).\n",
        "    # For this conversion we use the permute function of torch, that allows us to change the ordering of the dimensions of a torch tensor.\n",
        "\n",
        "    #img_tensor = img_tensor.permute(2, 0, 1)\n",
        "    class_name = torch.tensor([class_name],dtype = torch.long)\n",
        "    return img_tensor.float(), class_name\n",
        "\n"
      ],
      "execution_count": 4,
      "outputs": []
    },
    {
      "cell_type": "code",
      "metadata": {
        "id": "gs_BwqBTTYmt"
      },
      "source": [
        "transform_train = transforms.Compose([\n",
        "    transforms.ToPILImage(),\n",
        "    transforms.RandomRotation((-4.0, 4.0)),\n",
        "    #transforms.ToPILImage(),\n",
        "    transforms.ToTensor(),\n",
        "    transforms.Normalize((0.5, 0.5, 0.5), (0.5, 0.5, 0.5)),\n",
        "    ])\n",
        "\n",
        "transform_test = transforms.Compose([\n",
        "    transforms.ToTensor(),\n",
        "    transforms.Normalize((0.5, 0.5, 0.5), (0.5, 0.5, 0.5)),\n",
        "    ])"
      ],
      "execution_count": 5,
      "outputs": []
    },
    {
      "cell_type": "code",
      "metadata": {
        "id": "EUZk05QSNTKo"
      },
      "source": [
        "train_dataset = GurmukhiDataset(transform = transform_train,train_data = True)\n",
        "val_dataset = GurmukhiDataset(transform = transform_test,val_data = True)\n",
        "trainloader = DataLoader(train_dataset, batch_size=4, shuffle=True)\n",
        "valloader = DataLoader(val_dataset, batch_size=4, shuffle=True)\n"
      ],
      "execution_count": 6,
      "outputs": []
    },
    {
      "cell_type": "code",
      "metadata": {
        "id": "im9270A_XE-b"
      },
      "source": [
        "def imshow(img):\n",
        "    npimg = img.numpy()\n",
        "    plt.figure(figsize = (10,10))\n",
        "    plt.imshow(np.transpose(npimg, (1, 2, 0)))\n",
        "    plt.show()"
      ],
      "execution_count": 7,
      "outputs": []
    },
    {
      "cell_type": "code",
      "metadata": {
        "colab": {
          "base_uri": "https://localhost:8080/"
        },
        "id": "4kTlfDhaXma7",
        "outputId": "f3889256-a81e-4832-8172-6e90952648f1"
      },
      "source": [
        "dataiter = iter(trainloader)\n",
        "images, labels = dataiter.next() # this gives us one instance of four images and their corresponding labels\n",
        "\n",
        "torchvision.utils.make_grid(images).shape \n",
        "# This represents the stacked images of the batch with 2 pixel padding (32* 4 + 2*5(black borders) = 138)"
      ],
      "execution_count": 8,
      "outputs": [
        {
          "output_type": "execute_result",
          "data": {
            "text/plain": [
              "torch.Size([3, 36, 138])"
            ]
          },
          "metadata": {
            "tags": []
          },
          "execution_count": 8
        }
      ]
    },
    {
      "cell_type": "code",
      "metadata": {
        "colab": {
          "base_uri": "https://localhost:8080/",
          "height": 230
        },
        "id": "EWVR6tV3XuNT",
        "outputId": "245f9c7e-6103-4239-f927-6a8de4458166"
      },
      "source": [
        "imshow(torchvision.utils.make_grid(images)) #To plot the entire batch, stacks up the images in form of long image in which individual image will apper in cells\n",
        "print(\"True Classes : \",' '.join(str(labels[j]) for j in range(4)))"
      ],
      "execution_count": 9,
      "outputs": [
        {
          "output_type": "stream",
          "text": [
            "Clipping input data to the valid range for imshow with RGB data ([0..1] for floats or [0..255] for integers).\n"
          ],
          "name": "stderr"
        },
        {
          "output_type": "display_data",
          "data": {
            "image/png": "[encoded data removed]",
            "text/plain": [
              "<Figure size 720x720 with 1 Axes>"
            ]
          },
          "metadata": {
            "tags": [],
            "needs_background": "light"
          }
        },
        {
          "output_type": "stream",
          "text": [
            "True Classes :  tensor([4]) tensor([8]) tensor([4]) tensor([4])\n"
          ],
          "name": "stdout"
        }
      ]
    },
    {
      "cell_type": "code",
      "metadata": {
        "id": "DFUX-rVgbkh5"
      },
      "source": [
        "train_dataset = GurmukhiDataset(transform = transform_train,train_data = True)\n",
        "val_dataset = GurmukhiDataset(transform = transform_test,val_data = True)\n",
        "trainloader = DataLoader(train_dataset, batch_size=64, shuffle=True)\n",
        "valloader = DataLoader(val_dataset, batch_size=64, shuffle=False)\n"
      ],
      "execution_count": 10,
      "outputs": []
    },
    {
      "cell_type": "code",
      "metadata": {
        "id": "DN6bjnjXwZed"
      },
      "source": [
        "class Net(nn.Module):\n",
        "    def __init__(self):\n",
        "        super(Net, self).__init__()\n",
        "        # Input Block\n",
        "        self.convblock1 = nn.Sequential(\n",
        "            nn.Conv2d(in_channels=3, out_channels=48, kernel_size=(3, 3), padding=1, bias=False),\n",
        "            nn.BatchNorm2d(48),   \n",
        "            nn.ReLU()\n",
        "         \n",
        "        ) # output_size = [N , 48 , 32 , 32]\n",
        "\n",
        "        self.convblock2 = nn.Sequential(\n",
        "            nn.Conv2d(in_channels=48, out_channels=48, kernel_size=(3, 3), padding=0, bias=False),\n",
        "            nn.BatchNorm2d(48),   \n",
        "            nn.ReLU()\n",
        "         \n",
        "        ) # output_size = [N , 48 , 30 , 30]\n",
        "\n",
        "        # pooling layer\n",
        "        self.pool1 = nn.MaxPool2d(2, 2) # output_size = [N , 48 , 15 , 15]\n",
        "\n",
        "        self.convblock3 = nn.Sequential(\n",
        "            nn.Dropout(0.25),\n",
        "            nn.Conv2d(in_channels=48, out_channels=96, kernel_size=(3, 3), padding=1, bias=False),\n",
        "            nn.BatchNorm2d(96), \n",
        "            nn.ReLU()\n",
        "        ) # output_size = [N , 96 , 15 , 15]\n",
        "\n",
        "        self.convblock4 = nn.Sequential(\n",
        "            #nn.Dropout(0.25),\n",
        "            nn.Conv2d(in_channels=96, out_channels=96, kernel_size=(3, 3), padding=0, bias=False),\n",
        "            nn.BatchNorm2d(96), \n",
        "            nn.ReLU()\n",
        "        ) # output_size = [N , 96 , 13 , 13]\n",
        "\n",
        "        # pooling layer\n",
        "        self.pool2 = nn.MaxPool2d(2, 2) # output_size = [N , 96 , 6 , 6]\n",
        "\n",
        "        self.convblock5 = nn.Sequential(\n",
        "            nn.Dropout(0.25),\n",
        "            nn.Conv2d(in_channels=96, out_channels=192, kernel_size=(3, 3), padding=1, bias=False),\n",
        "            nn.BatchNorm2d(192),\n",
        "            nn.ReLU()\n",
        "        ) # output_size = [N , 192 , 6 , 6]\n",
        "\n",
        "        # self.convblock6 = nn.Sequential(\n",
        "        #     nn.Conv2d(in_channels=192, out_channels=192, kernel_size=(3, 3), padding=0, bias=False),\n",
        "        #     nn.BatchNorm2d(192),\n",
        "        #     nn.ReLU(),\n",
        "        #     nn.Dropout(0.35)\n",
        "        # ) # output_size = [N , 192 , 4 , 4]\n",
        "\n",
        "        self.fc_model = nn.Sequential(\n",
        "            nn.Linear(6912 + 3072,512),         # (N, 400) -> (N, 120)\n",
        "            nn.ReLU(),\n",
        "            nn.Dropout(0.35),\n",
        "            nn.Linear(512,512),\n",
        "            nn.ReLU(),\n",
        "            nn.Dropout(0.35),\n",
        "            nn.Linear(512,256),          # (N, 120) -> (N, 84)\n",
        "            nn.Linear(256,10)            # (N, 84)  -> (N, 10)\n",
        "        )\n",
        "      \n",
        "\n",
        "    def forward(self, x):\n",
        "        img = copy.deepcopy(x)\n",
        "               \n",
        "        x = self.convblock1(x)\n",
        "        x = self.convblock2(x)\n",
        "        x = self.pool1(x)\n",
        "\n",
        "        \n",
        "        x = self.convblock3(x)\n",
        "        x = self.convblock4(x)\n",
        "        x = self.pool2(x)\n",
        "\n",
        "        x = self.convblock5(x)\n",
        "        #x = self.convblock6(x)\n",
        "        x = x.view(x.size(0), -1) # (N, 16, 5, 5) -> (N, 400)\n",
        "        x = torch.cat((x,img.reshape(x.size(0),-1)),dim = 1)\n",
        "        \n",
        "        x = self.fc_model(x)\n",
        "\n",
        "        return F.log_softmax(x, dim=-1)\n"
      ],
      "execution_count": 23,
      "outputs": []
    },
    {
      "cell_type": "code",
      "metadata": {
        "id": "Vtf-a1ynb8nU"
      },
      "source": [
        "net = Net().to(device)\n",
        "loss_fn = nn.CrossEntropyLoss() #this takes into consideration that we have to differentiate through softmax layer, given softmax is not applied in our vgg\n",
        "opt = optim.SGD(net.parameters(), lr=0.1)\n",
        "#scheduler = torch.optim.lr_scheduler.StepLR(opt, step_size=len(trainloader)*5, gamma=0.1)\n"
      ],
      "execution_count": 24,
      "outputs": []
    },
    {
      "cell_type": "code",
      "metadata": {
        "colab": {
          "base_uri": "https://localhost:8080/"
        },
        "id": "2b0z0OoOEaFL",
        "outputId": "9e8911b5-5751-44b4-f301-e051bf064041"
      },
      "source": [
        "from torchsummary import summary\n",
        "\n",
        "#vgg = models.vgg16()\n",
        "summary(net, (3, 32, 32))"
      ],
      "execution_count": 25,
      "outputs": [
        {
          "output_type": "stream",
          "text": [
            "----------------------------------------------------------------\n",
            "        Layer (type)               Output Shape         Param #\n",
            "================================================================\n",
            "            Conv2d-1           [-1, 48, 32, 32]           1,296\n",
            "       BatchNorm2d-2           [-1, 48, 32, 32]              96\n",
            "              ReLU-3           [-1, 48, 32, 32]               0\n",
            "            Conv2d-4           [-1, 48, 30, 30]          20,736\n",
            "       BatchNorm2d-5           [-1, 48, 30, 30]              96\n",
            "              ReLU-6           [-1, 48, 30, 30]               0\n",
            "         MaxPool2d-7           [-1, 48, 15, 15]               0\n",
            "           Dropout-8           [-1, 48, 15, 15]               0\n",
            "            Conv2d-9           [-1, 96, 15, 15]          41,472\n",
            "      BatchNorm2d-10           [-1, 96, 15, 15]             192\n",
            "             ReLU-11           [-1, 96, 15, 15]               0\n",
            "           Conv2d-12           [-1, 96, 13, 13]          82,944\n",
            "      BatchNorm2d-13           [-1, 96, 13, 13]             192\n",
            "             ReLU-14           [-1, 96, 13, 13]               0\n",
            "        MaxPool2d-15             [-1, 96, 6, 6]               0\n",
            "          Dropout-16             [-1, 96, 6, 6]               0\n",
            "           Conv2d-17            [-1, 192, 6, 6]         165,888\n",
            "      BatchNorm2d-18            [-1, 192, 6, 6]             384\n",
            "             ReLU-19            [-1, 192, 6, 6]               0\n",
            "           Linear-20                  [-1, 512]       5,112,320\n",
            "             ReLU-21                  [-1, 512]               0\n",
            "          Dropout-22                  [-1, 512]               0\n",
            "           Linear-23                  [-1, 512]         262,656\n",
            "             ReLU-24                  [-1, 512]               0\n",
            "          Dropout-25                  [-1, 512]               0\n",
            "           Linear-26                  [-1, 256]         131,328\n",
            "           Linear-27                   [-1, 10]           2,570\n",
            "================================================================\n",
            "Total params: 5,822,170\n",
            "Trainable params: 5,822,170\n",
            "Non-trainable params: 0\n",
            "----------------------------------------------------------------\n",
            "Input size (MB): 0.01\n",
            "Forward/backward pass size (MB): 3.38\n",
            "Params size (MB): 22.21\n",
            "Estimated Total Size (MB): 25.60\n",
            "----------------------------------------------------------------\n"
          ],
          "name": "stdout"
        }
      ]
    },
    {
      "cell_type": "code",
      "metadata": {
        "id": "8IQQnQfzb0Fa"
      },
      "source": [
        "def evaluation(dataloader,model): \n",
        "  total , correct = 0,0\n",
        "  for data in dataloader:\n",
        "    inputs,labels = data\n",
        "    inputs,labels = inputs.to(device),labels.to(device)\n",
        "    outputs = model(inputs)\n",
        "    _,pred = torch.max(outputs.data,1)\n",
        "    total += labels.size(0)\n",
        "    correct += (pred == labels.squeeze()).sum().item()\n",
        "  return 100 * correct / total"
      ],
      "execution_count": 26,
      "outputs": []
    },
    {
      "cell_type": "code",
      "metadata": {
        "colab": {
          "base_uri": "https://localhost:8080/"
        },
        "id": "XmqCVE6unG_T",
        "outputId": "a2c542cf-d695-4ed5-c0d6-f188e997d414"
      },
      "source": [
        "loss_epoch_arr = []\n",
        "max_epochs = 25\n",
        "batch_size = 32\n",
        "min_loss = 1000\n",
        "\n",
        "n_iters = np.ceil(50000/batch_size)\n",
        "\n",
        "for epoch in range(max_epochs):\n",
        "\n",
        "    for i, data in enumerate(trainloader, 0):\n",
        "\n",
        "        inputs, labels = data\n",
        "        inputs, labels = inputs.to(device), labels.to(device)\n",
        "\n",
        "        opt.zero_grad()\n",
        "\n",
        "        outputs = net(inputs)\n",
        "        loss = loss_fn(outputs, labels.squeeze())\n",
        "        loss.backward()\n",
        "        opt.step()\n",
        "        #scheduler.step()\n",
        "        \n",
        "        if min_loss > loss.item():\n",
        "            min_loss = loss.item()\n",
        "            best_model = copy.deepcopy(net.state_dict())\n",
        "            print('Min loss %0.2f' % min_loss)\n",
        "        \n",
        "        if i % 100 == 0:\n",
        "            print('Iteration: %d/%d, Loss: %0.2f' % (i, n_iters, loss.item()))\n",
        "            \n",
        "        del inputs, labels, outputs\n",
        "        torch.cuda.empty_cache()\n",
        "        \n",
        "    loss_epoch_arr.append(loss.item())\n",
        "        \n",
        "    print('Epoch: %d/%d, Test acc: %0.2f, Train acc: %0.2f' % (\n",
        "        epoch, max_epochs, \n",
        "        evaluation(valloader, net), \n",
        "        evaluation(trainloader, net)))"
      ],
      "execution_count": 27,
      "outputs": [
        {
          "output_type": "stream",
          "text": [
            "Min loss 2.31\n",
            "Iteration: 0/1563, Loss: 2.31\n",
            "Min loss 2.25\n",
            "Min loss 2.18\n",
            "Min loss 2.05\n",
            "Min loss 2.00\n",
            "Min loss 1.85\n",
            "Min loss 1.82\n",
            "Min loss 1.50\n",
            "Min loss 1.28\n",
            "Min loss 1.05\n",
            "Min loss 0.84\n",
            "Epoch: 0/25, Test acc: 52.81, Train acc: 60.40\n",
            "Iteration: 0/1563, Loss: 1.05\n",
            "Min loss 0.56\n",
            "Min loss 0.42\n",
            "Min loss 0.36\n",
            "Min loss 0.32\n",
            "Min loss 0.27\n",
            "Min loss 0.24\n",
            "Min loss 0.21\n",
            "Min loss 0.15\n",
            "Epoch: 1/25, Test acc: 92.70, Train acc: 95.30\n",
            "Iteration: 0/1563, Loss: 0.19\n",
            "Min loss 0.14\n",
            "Min loss 0.13\n",
            "Min loss 0.10\n",
            "Min loss 0.08\n",
            "Epoch: 2/25, Test acc: 93.26, Train acc: 97.10\n",
            "Min loss 0.07\n",
            "Iteration: 0/1563, Loss: 0.07\n",
            "Min loss 0.06\n",
            "Min loss 0.06\n",
            "Min loss 0.05\n",
            "Min loss 0.02\n",
            "Epoch: 3/25, Test acc: 93.26, Train acc: 96.80\n",
            "Iteration: 0/1563, Loss: 0.03\n",
            "Min loss 0.01\n",
            "Epoch: 4/25, Test acc: 87.08, Train acc: 94.30\n",
            "Iteration: 0/1563, Loss: 0.14\n",
            "Epoch: 5/25, Test acc: 94.94, Train acc: 99.30\n",
            "Iteration: 0/1563, Loss: 0.06\n",
            "Min loss 0.01\n",
            "Epoch: 6/25, Test acc: 96.63, Train acc: 99.10\n",
            "Iteration: 0/1563, Loss: 0.07\n",
            "Min loss 0.00\n",
            "Epoch: 7/25, Test acc: 96.07, Train acc: 99.90\n",
            "Iteration: 0/1563, Loss: 0.03\n",
            "Epoch: 8/25, Test acc: 97.19, Train acc: 99.90\n",
            "Iteration: 0/1563, Loss: 0.04\n",
            "Min loss 0.00\n",
            "Epoch: 9/25, Test acc: 93.26, Train acc: 97.80\n",
            "Iteration: 0/1563, Loss: 0.09\n",
            "Min loss 0.00\n",
            "Epoch: 10/25, Test acc: 96.63, Train acc: 99.70\n",
            "Iteration: 0/1563, Loss: 0.01\n",
            "Min loss 0.00\n",
            "Epoch: 11/25, Test acc: 97.75, Train acc: 99.70\n",
            "Iteration: 0/1563, Loss: 0.01\n",
            "Min loss 0.00\n",
            "Min loss 0.00\n",
            "Epoch: 12/25, Test acc: 97.19, Train acc: 99.90\n",
            "Iteration: 0/1563, Loss: 0.00\n",
            "Epoch: 13/25, Test acc: 96.63, Train acc: 100.00\n",
            "Iteration: 0/1563, Loss: 0.00\n",
            "Min loss 0.00\n",
            "Epoch: 14/25, Test acc: 97.19, Train acc: 100.00\n",
            "Iteration: 0/1563, Loss: 0.01\n",
            "Min loss 0.00\n",
            "Epoch: 15/25, Test acc: 98.31, Train acc: 99.90\n",
            "Iteration: 0/1563, Loss: 0.01\n",
            "Epoch: 16/25, Test acc: 98.31, Train acc: 100.00\n",
            "Iteration: 0/1563, Loss: 0.00\n",
            "Min loss 0.00\n",
            "Epoch: 17/25, Test acc: 96.63, Train acc: 99.20\n",
            "Iteration: 0/1563, Loss: 0.04\n",
            "Epoch: 18/25, Test acc: 95.51, Train acc: 99.90\n",
            "Iteration: 0/1563, Loss: 0.01\n",
            "Epoch: 19/25, Test acc: 97.75, Train acc: 99.90\n",
            "Iteration: 0/1563, Loss: 0.02\n",
            "Epoch: 20/25, Test acc: 97.19, Train acc: 100.00\n",
            "Iteration: 0/1563, Loss: 0.00\n",
            "Epoch: 21/25, Test acc: 97.19, Train acc: 99.90\n",
            "Iteration: 0/1563, Loss: 0.00\n",
            "Min loss 0.00\n",
            "Epoch: 22/25, Test acc: 97.19, Train acc: 100.00\n",
            "Iteration: 0/1563, Loss: 0.00\n",
            "Epoch: 23/25, Test acc: 97.19, Train acc: 100.00\n",
            "Iteration: 0/1563, Loss: 0.01\n",
            "Min loss 0.00\n",
            "Epoch: 24/25, Test acc: 96.07, Train acc: 100.00\n"
          ],
          "name": "stdout"
        }
      ]
    },
    {
      "cell_type": "code",
      "metadata": {
        "colab": {
          "base_uri": "https://localhost:8080/",
          "height": 295
        },
        "id": "lNFnexOaHcvI",
        "outputId": "c99b9249-d217-46cd-8298-635e799f5db2"
      },
      "source": [
        "plt.plot(loss_epoch_arr)\n",
        "plt.xlabel('Epochs')\n",
        "plt.ylabel('Loss')\n",
        "plt.title(\"Loss Curve\")\n",
        "plt.show()"
      ],
      "execution_count": 29,
      "outputs": [
        {
          "output_type": "display_data",
          "data": {
            "image/png": "[encoded data removed]",
            "text/plain": [
              "<Figure size 432x288 with 1 Axes>"
            ]
          },
          "metadata": {
            "tags": [],
            "needs_background": "light"
          }
        }
      ]
    },
    {
      "cell_type": "code",
      "metadata": {
        "id": "OxGl5lIEImlv"
      },
      "source": [
        ""
      ],
      "execution_count": null,
      "outputs": []
    }
  ]
}