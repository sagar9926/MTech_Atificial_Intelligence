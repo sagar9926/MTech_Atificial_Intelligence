{
  "nbformat": 4,
  "nbformat_minor": 0,
  "metadata": {
    "colab": {
      "name": "ML Assignment 2.1 Fractal 3 ",
      "provenance": [],
      "include_colab_link": true
    },
    "kernelspec": {
      "display_name": "Python 2",
      "name": "python2"
    }
  },
  "cells": [
    {
      "cell_type": "markdown",
      "metadata": {
        "id": "view-in-github",
        "colab_type": "text"
      },
      "source": [
        "<a href=\"https://colab.research.google.com/github/sagar9926/MTech_Atificial_Intelligence/blob/main/ML1/Fractal3_Assignment/ML_Assignment_2_1_Fractal_3.ipynb\" target=\"_parent\"><img src=\"https://colab.research.google.com/assets/colab-badge.svg\" alt=\"Open In Colab\"/></a>"
      ]
    },
    {
      "cell_type": "code",
      "metadata": {
        "colab": {
          "base_uri": "https://localhost:8080/"
        },
        "id": "mlLzvhefqDnD",
        "outputId": "a46b28ed-af51-40c4-ce96-fe92063815ce"
      },
      "source": [
        "!git clone https://github.com/mnielsen/neural-networks-and-deep-learning.git"
      ],
      "execution_count": 32,
      "outputs": [
        {
          "output_type": "stream",
          "text": [
            "fatal: destination path 'neural-networks-and-deep-learning' already exists and is not an empty directory.\n"
          ],
          "name": "stdout"
        }
      ]
    },
    {
      "cell_type": "code",
      "metadata": {
        "id": "7FhWHSJHnLa-"
      },
      "source": [
        "# %load mnist_loader.py\n",
        "\"\"\"\n",
        "mnist_loader\n",
        "~~~~~~~~~~~~\n",
        "A library to load the MNIST image data.  For details of the data\n",
        "structures that are returned, see the doc strings for ``load_data``\n",
        "and ``load_data_wrapper``.  In practice, ``load_data_wrapper`` is the\n",
        "function usually called by our neural network code.\n",
        "\"\"\"\n",
        "\n",
        "#### Libraries\n",
        "# Standard library\n",
        "import pickle\n",
        "import gzip\n",
        "\n",
        "# Third-party libraries\n",
        "import numpy as np\n",
        "\n",
        "def load_data():\n",
        "    \"\"\"Return the MNIST data as a tuple containing the training data,\n",
        "    the validation data, and the test data.\n",
        "    The ``training_data`` is returned as a tuple with two entries.\n",
        "    The first entry contains the actual training images.  This is a\n",
        "    numpy ndarray with 50,000 entries.  Each entry is, in turn, a\n",
        "    numpy ndarray with 784 values, representing the 28 * 28 = 784\n",
        "    pixels in a single MNIST image.\n",
        "    The second entry in the ``training_data`` tuple is a numpy ndarray\n",
        "    containing 50,000 entries.  Those entries are just the digit\n",
        "    values (0...9) for the corresponding images contained in the first\n",
        "    entry of the tuple.\n",
        "    The ``validation_data`` and ``test_data`` are similar, except\n",
        "    each contains only 10,000 images.\n",
        "    This is a nice data format, but for use in neural networks it's\n",
        "    helpful to modify the format of the ``training_data`` a little.\n",
        "    That's done in the wrapper function ``load_data_wrapper()``, see\n",
        "    below.\n",
        "    \"\"\"\n",
        "    f = gzip.open('/content/neural-networks-and-deep-learning/data/mnist.pkl.gz', 'rb')\n",
        "    training_data, validation_data, test_data = pickle.load(f)\n",
        "    f.close()\n",
        "    return (training_data, validation_data, test_data)\n",
        "\n",
        "def load_data_wrapper():\n",
        "    \"\"\"Return a tuple containing ``(training_data, validation_data,\n",
        "    test_data)``. Based on ``load_data``, but the format is more\n",
        "    convenient for use in our implementation of neural networks.\n",
        "    In particular, ``training_data`` is a list containing 50,000\n",
        "    2-tuples ``(x, y)``.  ``x`` is a 784-dimensional numpy.ndarray\n",
        "    containing the input image.  ``y`` is a 10-dimensional\n",
        "    numpy.ndarray representing the unit vector corresponding to the\n",
        "    correct digit for ``x``.\n",
        "    ``validation_data`` and ``test_data`` are lists containing 10,000\n",
        "    2-tuples ``(x, y)``.  In each case, ``x`` is a 784-dimensional\n",
        "    numpy.ndarry containing the input image, and ``y`` is the\n",
        "    corresponding classification, i.e., the digit values (integers)\n",
        "    corresponding to ``x``.\n",
        "    Obviously, this means we're using slightly different formats for\n",
        "    the training data and the validation / test data.  These formats\n",
        "    turn out to be the most convenient for use in our neural network\n",
        "    code.\"\"\"\n",
        "    tr_d, va_d, te_d = load_data()\n",
        "    training_inputs = [np.reshape(x, (784, 1)) for x in tr_d[0]]\n",
        "    training_results = [vectorized_result(y) for y in tr_d[1]]\n",
        "    training_data = zip(training_inputs, training_results)\n",
        "    validation_inputs = [np.reshape(x, (784, 1)) for x in va_d[0]]\n",
        "    validation_data = zip(validation_inputs, va_d[1])\n",
        "    test_inputs = [np.reshape(x, (784, 1)) for x in te_d[0]]\n",
        "    test_data = zip(test_inputs, te_d[1])\n",
        "    return (training_data, validation_data, test_data)\n",
        "\n",
        "def vectorized_result(j):\n",
        "    \"\"\"Return a 10-dimensional unit vector with a 1.0 in the jth\n",
        "    position and zeroes elsewhere.  This is used to convert a digit\n",
        "    (0...9) into a corresponding desired output from the neural\n",
        "    network.\"\"\"\n",
        "    e = np.zeros((10, 1))\n",
        "    e[j] = 1.0\n",
        "    return e\n"
      ],
      "execution_count": 33,
      "outputs": []
    },
    {
      "cell_type": "code",
      "metadata": {
        "id": "jf9ToMp7nIFT"
      },
      "source": [
        "import random\n",
        "import numpy as np\n",
        "import pdb\n",
        "\n",
        "class Network(object):\n",
        "\tdef __init__(self,sizes):\n",
        "\t\tself.num_layers=len(sizes)\n",
        "\t\tself.sizes=sizes\n",
        "\t\tself.biases = [np.random.randn(y,1) for y in sizes[1:]]\n",
        "\t\tself.weights = [np.random.randn(y,x) for x, y in zip(sizes[:-1],sizes[1:])]\n",
        "\t\n",
        "\tdef feedforward(self,a):\n",
        "\t\tfor b, w in zip(self.biases, self.weights):\n",
        "\t\t\ta = sigmoid(np.dot(w,a) + b)\n",
        "\t\treturn(a)\n",
        "\n",
        "\tdef SGD(self, training_data, epochs, mini_batch_size,eta,test_data=None):\n",
        "\t\tif test_data:\n",
        "\t\t\tn_test = len(test_data)\n",
        "\t\tn=len(training_data)\n",
        "\t\tfor j in xrange(epochs):\n",
        "\t\t\trandom.shuffle(training_data)\n",
        "\t\t\tmini_batches = [training_data[k:k+mini_batch_size] \n",
        "\t\t\t\t\tfor k in xrange(0,n,mini_batch_size)]\n",
        "\t\t\tfor mini_batch in mini_batches:\n",
        "\t\t\t\tself.update_mini_batch(mini_batch,eta)\n",
        "\t\t\tif test_data:\n",
        "\t\t\t\tprint \"Epoch {0}: {1} / {2}\".format(j,self.evaluate(test_data),n_test)\n",
        "\t\t\telse:\n",
        "\t\t\t\tprint \"Epoch {0} is done\".format(j)\n",
        "\n",
        "\tdef update_mini_batch(self, mini_batch, eta):\n",
        "\t\tnabla_b = [np.zeros(b.shape) for b in self.biases]\n",
        "\t\tnabla_w = [np.zeros(w.shape) for w in self.weights]\n",
        "\t\n",
        "\t\tfor x, y in mini_batch:\n",
        "\t\t\tdelta_nabla_b, delta_nabla_w = self.backprop(x,y)\n",
        "\t\t\tnabla_b = [nb+dnb for nb, dnb in zip(nabla_b, delta_nabla_b)]\n",
        "\t\t\tnabla_w = [nw+dnw for nw, dnw in zip(nabla_w, delta_nabla_w)]\n",
        "                \n",
        "\t\tself.weights = [w - (eta/len(mini_batch))*nw for w, nw in zip(self.weights,nabla_w)]\n",
        "                self.biases = [b - (eta/len(mini_batch))*nb for b, nb in zip(self.biases,nabla_b)]\n",
        "\t\n",
        "\tdef backprop(self,x,y):\n",
        "\t\tnabla_b = [np.zeros(b.shape) for b in self.biases]\n",
        "\t\tnabla_w = [np.zeros(w.shape) for w in self.weights]\n",
        "\n",
        "\t\t#feedforward\n",
        "\t\tactivation = x\n",
        "\t\tactivations =[x]\n",
        "\t\tzs = []\n",
        "\t\tfor b, w in zip(self.biases, self.weights):\n",
        "\t\t\tz= np.dot(w,activation) + b\n",
        "\t\t\tzs.append(z)\n",
        "\t\t\tactivation = sigmoid(z)\n",
        "\t\t\tactivations.append(activation)\n",
        "                # backward pass\n",
        "                delta = self.cost_derivative(activation[-1],y) * sigma_prime(zs[-1])\n",
        "\t\tnabla_b[-1] = delta\n",
        "\t\tnabla_w[-1] = np.dot(delta,activations[-2].transpose())\n",
        "\n",
        "\t\tfor l in xrange(2, self.num_layers):\n",
        "\t\t\tz=zs[-l]\n",
        "\t\t\tsp = sigma_prime(z)\n",
        "\t\t\tdelta = np.dot(self.weights[-l+1].transpose(), delta) * sp\n",
        "                        nabla_b[-l] = delta\n",
        "\t\t\tnabla_w[-l] = np.dot(delta,activations[-l-1].transpose())\n",
        "\n",
        "                return(nabla_b,nabla_w)\n",
        "\n",
        "\tdef cost_derivative(self, output_activation, y):\n",
        "\n",
        "\t\treturn (-1 / output_activation)\n",
        "\n",
        "\tdef evaluate(self, test_data):\n",
        "\t\ttest_results=[(np.argmax(self.feedforward(x)),y) for (x,y) in test_data]\n",
        "                return(sum(int(y1 == y) for (y1,y) in test_results))\n",
        "\n",
        "def sigmoid(z):\n",
        "        return 1.0/(1.0+np.exp(-z))\n",
        "\n",
        "def sigma_prime(z):\n",
        "        return sigmoid(z) * (1 - sigmoid(z))\n",
        "\n"
      ],
      "execution_count": 34,
      "outputs": []
    },
    {
      "cell_type": "code",
      "metadata": {
        "colab": {
          "base_uri": "https://localhost:8080/"
        },
        "id": "yaTwNy9ionNg",
        "outputId": "66f858cf-7ede-4bc0-ce54-408f1f5248f1"
      },
      "source": [
        "\n",
        "training_data, validation_data, test_data = load_data_wrapper()\n",
        "net = Network([784, 30, 10])\n",
        "net.SGD(training_data, 30, 10, 3.0, test_data=test_data)\n"
      ],
      "execution_count": 35,
      "outputs": [
        {
          "output_type": "stream",
          "text": [
            "/usr/local/lib/python2.7/dist-packages/ipykernel_launcher.py:80: RuntimeWarning: overflow encountered in exp\n"
          ],
          "name": "stderr"
        },
        {
          "output_type": "stream",
          "text": [
            "Epoch 0: 1135 / 10000\n",
            "Epoch 1: 1135 / 10000\n",
            "Epoch 2: 1135 / 10000\n",
            "Epoch 3: 1135 / 10000\n",
            "Epoch 4: 1135 / 10000\n",
            "Epoch 5: 1135 / 10000\n",
            "Epoch 6: 1135 / 10000\n",
            "Epoch 7: 1135 / 10000\n",
            "Epoch 8: 1135 / 10000\n",
            "Epoch 9: 1135 / 10000\n",
            "Epoch 10: 1135 / 10000\n",
            "Epoch 11: 1135 / 10000\n",
            "Epoch 12: 1135 / 10000\n",
            "Epoch 13: 1135 / 10000\n",
            "Epoch 14: 1135 / 10000\n",
            "Epoch 15: 1135 / 10000\n",
            "Epoch 16: 1135 / 10000\n",
            "Epoch 17: 1135 / 10000\n",
            "Epoch 18: 1135 / 10000\n",
            "Epoch 19: 1135 / 10000\n",
            "Epoch 20: 1135 / 10000\n",
            "Epoch 21: 1135 / 10000\n",
            "Epoch 22: 1135 / 10000\n",
            "Epoch 23: 1135 / 10000\n",
            "Epoch 24: 1135 / 10000\n",
            "Epoch 25: 1135 / 10000\n",
            "Epoch 26: 1135 / 10000\n",
            "Epoch 27: 1135 / 10000\n",
            "Epoch 28: 1135 / 10000\n",
            "Epoch 29: 1135 / 10000\n"
          ],
          "name": "stdout"
        }
      ]
    },
    {
      "cell_type": "code",
      "metadata": {
        "id": "gfn_tF222lkt",
        "outputId": "1709ca73-97ee-4b65-f7c6-7b67a2f5be7e",
        "colab": {
          "base_uri": "https://localhost:8080/"
        }
      },
      "source": [
        "y"
      ],
      "execution_count": 36,
      "outputs": [
        {
          "output_type": "execute_result",
          "data": {
            "text/plain": [
              "[[0], [0], [1], [0], [0], [0], [0], [0], [0], [0]]"
            ]
          },
          "metadata": {
            "tags": []
          },
          "execution_count": 36
        }
      ]
    },
    {
      "cell_type": "code",
      "metadata": {
        "id": "d_hovoEoCjHk"
      },
      "source": [
        "op = [0.00165921]\n",
        "y = [[0],\n",
        " [0],\n",
        " [1],\n",
        " [0],\n",
        " [0],\n",
        " [0],\n",
        " [0],\n",
        " [0],\n",
        " [0],\n",
        " [0]]"
      ],
      "execution_count": 37,
      "outputs": []
    },
    {
      "cell_type": "code",
      "metadata": {
        "id": "s0qVZozpCzxf"
      },
      "source": [
        ""
      ],
      "execution_count": 37,
      "outputs": []
    }
  ]
}