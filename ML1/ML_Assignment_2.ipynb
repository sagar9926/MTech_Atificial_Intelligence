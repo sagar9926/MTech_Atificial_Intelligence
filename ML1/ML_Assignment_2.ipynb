{
  "nbformat": 4,
  "nbformat_minor": 0,
  "metadata": {
    "colab": {
      "name": "ML_Assignment 2.ipynb",
      "provenance": [],
      "collapsed_sections": [],
      "authorship_tag": "ABX9TyO9KV+1lNbLU4MV0S9M5FWy",
      "include_colab_link": true
    },
    "kernelspec": {
      "name": "python3",
      "display_name": "Python 3"
    },
    "language_info": {
      "name": "python"
    }
  },
  "cells": [
    {
      "cell_type": "markdown",
      "metadata": {
        "id": "view-in-github",
        "colab_type": "text"
      },
      "source": [
        "<a href=\"https://colab.research.google.com/github/sagar9926/MTech_Atificial_Intelligence/blob/main/ML1/ML_Assignment_2.ipynb\" target=\"_parent\"><img src=\"https://colab.research.google.com/assets/colab-badge.svg\" alt=\"Open In Colab\"/></a>"
      ]
    },
    {
      "cell_type": "markdown",
      "metadata": {
        "id": "LOhU-67EqnJy"
      },
      "source": [
        "# Question 1 \n",
        "\n",
        "## Dataset : Iris Dataset\n",
        "\n",
        "Use sklearn library for loading iris dataset.\n",
        "\n",
        "__Aim__: Classification using Naive Bayes classifier\n",
        "\n",
        "```\n",
        "● Apply Naive bayes classifier assuming all features are independent.\n",
        "Do not use any predefined library for classification\n",
        "Report overall accuracy, class wise accuracy, confusion matrix and ROC curve.\n",
        "```"
      ]
    },
    {
      "cell_type": "code",
      "metadata": {
        "id": "szCnGYKNqe-5"
      },
      "source": [
        "from sklearn import datasets\n",
        "import pandas as pd\n",
        "from sklearn.model_selection import train_test_split\n",
        "import numpy as np\n",
        "from functools import reduce"
      ],
      "execution_count": 232,
      "outputs": []
    },
    {
      "cell_type": "markdown",
      "metadata": {
        "id": "7ORqKTDbsaP2"
      },
      "source": [
        "### Loading Dataset"
      ]
    },
    {
      "cell_type": "code",
      "metadata": {
        "id": "p_N1d3ykq8q7"
      },
      "source": [
        "iris = datasets.load_iris()\n",
        "df_iris = pd.DataFrame(iris.data,columns = iris.feature_names)\n",
        "df_iris['target'] = iris.target"
      ],
      "execution_count": 233,
      "outputs": []
    },
    {
      "cell_type": "code",
      "metadata": {
        "colab": {
          "base_uri": "https://localhost:8080/"
        },
        "id": "y34CoChTwfBG",
        "outputId": "21979a8e-26c0-4aa5-e399-16d9b2b035cd"
      },
      "source": [
        "X, y = df_iris.iloc[:, :-1], df_iris.iloc[:, -1]\n",
        "\n",
        "# # split on train and test 0.7/0.3\n",
        "X_train, X_test, y_train, y_test = train_test_split(X, y, test_size=0.50, random_state=1, stratify=y)\n",
        "\n",
        "print(X_train.shape, y_train.shape)\n",
        "print(X_test.shape, y_test.shape)"
      ],
      "execution_count": 234,
      "outputs": [
        {
          "output_type": "stream",
          "text": [
            "(75, 4) (75,)\n",
            "(75, 4) (75,)\n"
          ],
          "name": "stdout"
        }
      ]
    },
    {
      "cell_type": "code",
      "metadata": {
        "colab": {
          "base_uri": "https://localhost:8080/"
        },
        "id": "zvWkNfaXZGRp",
        "outputId": "98c2e3d5-cd61-4ce2-8d4a-5147d9f62c5b"
      },
      "source": [
        "df_iris.target.unique()"
      ],
      "execution_count": 235,
      "outputs": [
        {
          "output_type": "execute_result",
          "data": {
            "text/plain": [
              "array([0, 1, 2])"
            ]
          },
          "metadata": {
            "tags": []
          },
          "execution_count": 235
        }
      ]
    },
    {
      "cell_type": "markdown",
      "metadata": {
        "id": "fpaLpdDQs8qL"
      },
      "source": [
        "### Creating a Naive Bayes class"
      ]
    },
    {
      "cell_type": "code",
      "metadata": {
        "id": "fQfy9cqHsK80"
      },
      "source": [
        "class NaiveBayesClassifier:\n",
        "\n",
        "  \"\"\"\n",
        "  Bayes Theorem : \n",
        "\n",
        "  P(y|X) = (P(X|y)*P(y))/P(X)\n",
        "\n",
        "  where :\n",
        "  X : Input Features\n",
        "  y : Traget Variable\n",
        "  P(y|X) = Posterior Probability\n",
        "  P(X|y) = Liklihood\n",
        "  P(y) = Prior\n",
        "  P(X) = Evidence\n",
        "\n",
        "  \"\"\"\n",
        "\n",
        "  def __init__(self,prior = None):\n",
        "\n",
        "    self.liklihood = {}\n",
        "    self.posteriors = []\n",
        "    self.prediction = []\n",
        "    self.mean = None\n",
        "    self.variance = None \n",
        "    if prior :\n",
        "      self.prior = prior\n",
        "    else :\n",
        "      self.prior = {} \n",
        " \n",
        "  def calculate_prior(self ,target ,classes):\n",
        "    \"\"\"\n",
        "    This function calculates the prior probabilities\n",
        "    \"\"\"\n",
        "    prior = {}\n",
        "    for index in classes:\n",
        "      prior[index] = (target == index).sum()/len(target) \n",
        "    return prior\n",
        "\n",
        "\n",
        "  def feature_statistics(self , features , target):\n",
        "    \"\"\"\n",
        "    This function calculates mean and variance for continuous features\n",
        "    \"\"\"\n",
        "    var = lambda x : np.var(x)  \n",
        "    mean = features.groupby(target).mean().reset_index()\n",
        "    #mean = features.groupby(y_train).agg({'sepal length (cm)' : 'mean',\t'sepal width (cm)': 'mean',\t'petal length (cm)': 'mean',\t'petal width (cm)': 'mean'}).reset_index()\n",
        "    #variance = features.groupby(y_train).agg({'sepal length (cm)' : var,\t'sepal width (cm)': var,\t'petal length (cm)': var,\t'petal width (cm)': var}).reset_index()\n",
        "    variance = features.groupby(target).var(ddof = 0).reset_index()\n",
        "    return mean , variance\n",
        "\n",
        "\n",
        "  def gaussian_probability(self,test_feature,classes, mean, variance):\n",
        "    liklihood_prob = {}\n",
        "    for index in classes:\n",
        "      mean_vector = np.array(mean[mean['target'] == index])[0][1:]\n",
        "      variance_vector = np.array(variance[variance['target'] == index])[0][1:]\n",
        "      mean_diff_square = (np.array(test_feature) - mean_vector)**2\n",
        "      liklihood_prob[index] = (1/np.sqrt(2*np.pi*variance_vector)*np.exp(-1*0.5*mean_diff_square/variance_vector))\n",
        "    return liklihood_prob\n",
        "\n",
        "\n",
        "  def calculate_posterior(self,test_feature,classes):\n",
        "\n",
        "    posteriors = {}\n",
        "    self.liklihood = self.gaussian_probability(test_feature ,classes ,self.mean,self.variance)\n",
        "    for index in classes :\n",
        "      posteriors[index] = reduce(lambda x , y : x*y , self.liklihood[index]) * self.prior[index]\n",
        "    return posteriors\n",
        "\n",
        "\n",
        "  def fit(self, features, target):\n",
        "    self.classes = target.unique()\n",
        "    if self.prior :\n",
        "      pass\n",
        "    else:\n",
        "      self.prior = self.calculate_prior(target , self.classes)\n",
        "\n",
        "    \n",
        "    self.mean , self.variance = self.feature_statistics(features , target)\n",
        "    \n",
        "\n",
        "  def predict(self,test_features):\n",
        "    for i in range(len(test_features)):\n",
        "      self.posteriors.append(self.calculate_posterior(test_features.iloc[i].values,self.classes))\n",
        "      self.prediction.append(sorted(self.posteriors[i].items(),key = lambda x : x[1],reverse = True)[0][0])\n",
        "    #return(self.prediction)\n",
        "\n",
        "  def accuracy(self , target,names):\n",
        "\n",
        "    overall_accuracy = sum(target == self.prediction) / len(target)\n",
        "    print(f\"Overall accuracy of data : {round(overall_accuracy*100,2)}%\")\n",
        "\n",
        "    data = pd.DataFrame({'Actual Class' : target.values,'Predicted Class':self.prediction})\n",
        "    for class_ in target.unique():\n",
        "      temp = data[data['Actual Class'] == class_]\n",
        "      print(f\"{names[class_]} accuracy of data : {round(sum(temp['Actual Class'] == temp['Predicted Class']) / len(temp)*100,2)}%\")\n",
        "\n"
      ],
      "execution_count": 296,
      "outputs": []
    },
    {
      "cell_type": "markdown",
      "metadata": {
        "id": "vmbagMWN_ktb"
      },
      "source": [
        "### Model Training"
      ]
    },
    {
      "cell_type": "code",
      "metadata": {
        "id": "jfFYQZFt-r3G"
      },
      "source": [
        "model = NaiveBayesClassifier()\n",
        "model.fit(X_train, y_train)"
      ],
      "execution_count": 297,
      "outputs": []
    },
    {
      "cell_type": "code",
      "metadata": {
        "colab": {
          "base_uri": "https://localhost:8080/"
        },
        "id": "Hy83k_qAMX7j",
        "outputId": "6d8f74c3-f48a-4eb8-d663-2aeff5f6dc88"
      },
      "source": [
        "model.prior"
      ],
      "execution_count": 298,
      "outputs": [
        {
          "output_type": "execute_result",
          "data": {
            "text/plain": [
              "{0: 0.33707865168539325, 1: 0.39325842696629215, 2: 0.2696629213483146}"
            ]
          },
          "metadata": {
            "tags": []
          },
          "execution_count": 298
        }
      ]
    },
    {
      "cell_type": "markdown",
      "metadata": {
        "id": "-Asyz-T3_qLi"
      },
      "source": [
        "### Making predictions using trained model"
      ]
    },
    {
      "cell_type": "code",
      "metadata": {
        "id": "t_ncSlWssTVX"
      },
      "source": [
        "model.predict(X_test) "
      ],
      "execution_count": 299,
      "outputs": []
    },
    {
      "cell_type": "code",
      "metadata": {
        "colab": {
          "base_uri": "https://localhost:8080/"
        },
        "id": "inFT82lovrSh",
        "outputId": "c57b59f7-260f-4d70-eac5-1af3a925629a"
      },
      "source": [
        "model.accuracy(y_test,iris.target_names)"
      ],
      "execution_count": 300,
      "outputs": [
        {
          "output_type": "stream",
          "text": [
            "Overall accuracy of data : 97.75%\n",
            "virginica accuracy of data : 100.0%\n",
            "versicolor accuracy of data : 97.22%\n",
            "setosa accuracy of data : 96.55%\n"
          ],
          "name": "stdout"
        }
      ]
    },
    {
      "cell_type": "markdown",
      "metadata": {
        "id": "3Z3ANM7b9Zsm"
      },
      "source": [
        "# Question 2 :\n",
        "\n",
        "__Dataset__: Wine dataset (use sklearn library for loading the dataset)\n",
        "\n",
        "__Aim__: Naive Bayes Classification\n",
        "```\n",
        "Shuffle the data with seed value 42 and perform a 70- 30 stratified split of the data into a train and test set.\n",
        "Also, plot the class-wise distribution of data in the train and test set (one for train set and one for test set).\n",
        "\n",
        "Compare the distributions. Now, perform classification as follows:\n",
        "\n",
        "* Train a Gaussian Naive Bayes classifier and report (a) the class priors, (b) mean and variance of\n",
        "each feature per class.\n",
        "\n",
        "* Train another Gaussian Naive Bayes classifier by setting prior probability for the classes. Repeat this\n",
        "experiment by setting priors in the ratios: (a) 40-40-20 and (b) 80-10-10.\n",
        "```"
      ]
    },
    {
      "cell_type": "code",
      "metadata": {
        "id": "rKTASQVvv47L"
      },
      "source": [
        "wine = datasets.load_wine()\n",
        "df_wine = pd.DataFrame(wine.data,columns = wine.feature_names)\n",
        "df_wine['target'] = wine.target"
      ],
      "execution_count": 301,
      "outputs": []
    },
    {
      "cell_type": "code",
      "metadata": {
        "colab": {
          "base_uri": "https://localhost:8080/"
        },
        "id": "2QEuzObr-qsW",
        "outputId": "22374109-0202-4575-c270-e3d70f4023f8"
      },
      "source": [
        "X, y = df_wine.iloc[:, :-1], df_wine.iloc[:, -1]\n",
        "\n",
        "# # split on train and test 0.7/0.3\n",
        "X_train, X_test, y_train, y_test = train_test_split(X, y, test_size=0.50, random_state=1, stratify=y)\n",
        "\n",
        "print(X_train.shape, y_train.shape)\n",
        "print(X_test.shape, y_test.shape)"
      ],
      "execution_count": 302,
      "outputs": [
        {
          "output_type": "stream",
          "text": [
            "(89, 13) (89,)\n",
            "(89, 13) (89,)\n"
          ],
          "name": "stdout"
        }
      ]
    },
    {
      "cell_type": "code",
      "metadata": {
        "colab": {
          "base_uri": "https://localhost:8080/"
        },
        "id": "1t79-MBV-86s",
        "outputId": "9edd4687-3d03-4280-a13e-a21a60dca0c4"
      },
      "source": [
        "df_wine.target.unique()"
      ],
      "execution_count": 303,
      "outputs": [
        {
          "output_type": "execute_result",
          "data": {
            "text/plain": [
              "array([0, 1, 2])"
            ]
          },
          "metadata": {
            "tags": []
          },
          "execution_count": 303
        }
      ]
    },
    {
      "cell_type": "markdown",
      "metadata": {
        "id": "zvyev7y1_81U"
      },
      "source": [
        "### Model Training"
      ]
    },
    {
      "cell_type": "code",
      "metadata": {
        "id": "xyExHW6l_81i"
      },
      "source": [
        "model = NaiveBayesClassifier()\n",
        "model.fit(X_train, y_train)"
      ],
      "execution_count": 304,
      "outputs": []
    },
    {
      "cell_type": "markdown",
      "metadata": {
        "id": "2Jq7rTCJ_81l"
      },
      "source": [
        "### Making predictions using trained model"
      ]
    },
    {
      "cell_type": "code",
      "metadata": {
        "id": "PeIQXhzP_81l"
      },
      "source": [
        "model.predict(X_test) "
      ],
      "execution_count": 305,
      "outputs": []
    },
    {
      "cell_type": "code",
      "metadata": {
        "colab": {
          "base_uri": "https://localhost:8080/"
        },
        "id": "40OUU6VP_81m",
        "outputId": "987bb2c4-e3b5-4f43-864d-b09ffd6a29cc"
      },
      "source": [
        "model.accuracy(y_test,wine.target_names)"
      ],
      "execution_count": 306,
      "outputs": [
        {
          "output_type": "stream",
          "text": [
            "Overall accuracy of data : 97.75%\n",
            "class_2 accuracy of data : 100.0%\n",
            "class_1 accuracy of data : 97.22%\n",
            "class_0 accuracy of data : 96.55%\n"
          ],
          "name": "stdout"
        }
      ]
    },
    {
      "cell_type": "code",
      "metadata": {
        "colab": {
          "base_uri": "https://localhost:8080/"
        },
        "id": "HYOiq-YBDHRr",
        "outputId": "e23a774b-7e2e-4130-fd90-02bc8c218eb1"
      },
      "source": [
        "gnb = GaussianNB()\n",
        "from sklearn.metrics import accuracy_score\n",
        "\n",
        "gnb.fit(X_train, y_train)\n",
        "\n",
        "y_pred = gnb.predict(X_test)\n",
        "\n",
        "print('Accuracy: {:.2f}'.format(accuracy_score(y_test, y_pred)))"
      ],
      "execution_count": 307,
      "outputs": [
        {
          "output_type": "stream",
          "text": [
            "Accuracy: 0.98\n"
          ],
          "name": "stdout"
        }
      ]
    },
    {
      "cell_type": "code",
      "metadata": {
        "colab": {
          "base_uri": "https://localhost:8080/",
          "height": 157
        },
        "id": "81-sB4VgWFG4",
        "outputId": "61d0123b-fb1a-49e7-9ecf-cf1de692c3b2"
      },
      "source": [
        "model.variance"
      ],
      "execution_count": 308,
      "outputs": [
        {
          "output_type": "execute_result",
          "data": {
            "text/html": [
              "<div>\n",
              "<style scoped>\n",
              "    .dataframe tbody tr th:only-of-type {\n",
              "        vertical-align: middle;\n",
              "    }\n",
              "\n",
              "    .dataframe tbody tr th {\n",
              "        vertical-align: top;\n",
              "    }\n",
              "\n",
              "    .dataframe thead th {\n",
              "        text-align: right;\n",
              "    }\n",
              "</style>\n",
              "<table border=\"1\" class=\"dataframe\">\n",
              "  <thead>\n",
              "    <tr style=\"text-align: right;\">\n",
              "      <th></th>\n",
              "      <th>target</th>\n",
              "      <th>alcohol</th>\n",
              "      <th>malic_acid</th>\n",
              "      <th>ash</th>\n",
              "      <th>alcalinity_of_ash</th>\n",
              "      <th>magnesium</th>\n",
              "      <th>total_phenols</th>\n",
              "      <th>flavanoids</th>\n",
              "      <th>nonflavanoid_phenols</th>\n",
              "      <th>proanthocyanins</th>\n",
              "      <th>color_intensity</th>\n",
              "      <th>hue</th>\n",
              "      <th>od280/od315_of_diluted_wines</th>\n",
              "      <th>proline</th>\n",
              "    </tr>\n",
              "  </thead>\n",
              "  <tbody>\n",
              "    <tr>\n",
              "      <th>0</th>\n",
              "      <td>0</td>\n",
              "      <td>0.194333</td>\n",
              "      <td>0.534229</td>\n",
              "      <td>0.043891</td>\n",
              "      <td>5.249122</td>\n",
              "      <td>106.405556</td>\n",
              "      <td>0.131023</td>\n",
              "      <td>0.141888</td>\n",
              "      <td>0.006529</td>\n",
              "      <td>0.186544</td>\n",
              "      <td>1.517809</td>\n",
              "      <td>0.013766</td>\n",
              "      <td>0.095725</td>\n",
              "      <td>43211.666667</td>\n",
              "    </tr>\n",
              "    <tr>\n",
              "      <th>1</th>\n",
              "      <td>1</td>\n",
              "      <td>0.303494</td>\n",
              "      <td>0.946209</td>\n",
              "      <td>0.099845</td>\n",
              "      <td>9.909469</td>\n",
              "      <td>167.848163</td>\n",
              "      <td>0.335842</td>\n",
              "      <td>0.556179</td>\n",
              "      <td>0.012258</td>\n",
              "      <td>0.202225</td>\n",
              "      <td>0.960318</td>\n",
              "      <td>0.045231</td>\n",
              "      <td>0.289007</td>\n",
              "      <td>22835.742041</td>\n",
              "    </tr>\n",
              "    <tr>\n",
              "      <th>2</th>\n",
              "      <td>2</td>\n",
              "      <td>0.209265</td>\n",
              "      <td>1.232503</td>\n",
              "      <td>0.031166</td>\n",
              "      <td>5.631510</td>\n",
              "      <td>145.914931</td>\n",
              "      <td>0.093953</td>\n",
              "      <td>0.092947</td>\n",
              "      <td>0.019675</td>\n",
              "      <td>0.121146</td>\n",
              "      <td>4.726697</td>\n",
              "      <td>0.012591</td>\n",
              "      <td>0.081200</td>\n",
              "      <td>14415.581597</td>\n",
              "    </tr>\n",
              "  </tbody>\n",
              "</table>\n",
              "</div>"
            ],
            "text/plain": [
              "   target   alcohol  ...  od280/od315_of_diluted_wines       proline\n",
              "0       0  0.194333  ...                      0.095725  43211.666667\n",
              "1       1  0.303494  ...                      0.289007  22835.742041\n",
              "2       2  0.209265  ...                      0.081200  14415.581597\n",
              "\n",
              "[3 rows x 14 columns]"
            ]
          },
          "metadata": {
            "tags": []
          },
          "execution_count": 308
        }
      ]
    },
    {
      "cell_type": "code",
      "metadata": {
        "id": "_vLg-hxYWln0"
      },
      "source": [
        ""
      ],
      "execution_count": null,
      "outputs": []
    }
  ]
}